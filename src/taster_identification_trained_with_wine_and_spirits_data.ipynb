{
 "cells": [
  {
   "cell_type": "markdown",
   "metadata": {},
   "source": [
    "# Introduction to the problem\n",
    "The following scenario is purely fictional and is intended to interest people in the problem we are trying to solve.\n",
    "\n",
    "*Assume that you are running a website where people can post reviews of drinks such as wine, beer, and spirits (whiskey, gin etc). As an administrator of the website you want to keep things transparent and the reviews objective, so you only allow the reviewers to taste and review only one kind of drink; some people will specialize only on wine, some only on beer and some only on different spirits. However, you (the administrator) are growing suspicious that there are some reviewers who are cross drinking and posting reviews for other drinks. You want to stop this behaviour but you don't want to piss off your tasters because they are good at their job, so you hire a data scientist to build an ML model to identify tasters who are cross drinking and reviewing other drinks.*\n",
    "\n",
    "The domain we are working on is a corpus of wine and beer reviews collected from a website called [Wine Enthusiast](https://www.winemag.com/). The writers of our corpus are people who review and rate wines, beers and spirits professionally. Some of these tasters specialize on one drink (most of them in wine) and some others embrace cross drinking and delve into other beverage categories.\n",
    "\n",
    "Let's get started!"
   ]
  },
  {
   "cell_type": "markdown",
   "metadata": {},
   "source": [
    "# Problem methodology\n",
    "This notebook will focus on building a machine learning model, trained on wine reviews, to recognize tasters who are cross drinking and reviewing other beverages. The model will be evaluated against a collection of beer reviews where it will try to identify tasters based on their unique style.\n",
    "\n",
    "Based on some thorough inspection of the data, we saw that there 19 wine tasters, 2 beer tasters and 1 spirits taster. The 2 beer tasters also review wines, so they are the people we would like to identify. The problem, then, boils down to a binary classification problem. We will use the wine dataset and the spirits dataset and we will train a model to identify two categories, **wine_taster** and **spirits_taster**."
   ]
  },
  {
   "cell_type": "markdown",
   "metadata": {},
   "source": [
    "# Goal\n",
    "Goal of this project:\n",
    "    1. train a machine learning model on wine and spirits reviews\n",
    "    2. use the model on a completly new dataset from beer reviews to identify tasters who have reviewed wines\n",
    "    3. build an understanding of the features that considered to be important for this task\n",
    "    4. we must know the goodness of predictions"
   ]
  },
  {
   "cell_type": "markdown",
   "metadata": {},
   "source": [
    "# Implementation"
   ]
  },
  {
   "cell_type": "markdown",
   "metadata": {},
   "source": [
    "## 0. Notebook details\n",
    "* Datasets source: We will be using three different datasets that have been collected from the [same website](https://www.winemag.com/) but have been acquired differently. The wine reviews dataset was downloaded from [Kaggle](https://www.kaggle.com/zynicide/wine-reviews) thanks to the user zackthoutt who did all the hard work to scrape the data. The beer and spirits reviews dataset was downloaded using Zack's scrape which can be found on his [github page](https://github.com/zackthoutt/wine-deep-learning).\n",
    "* Metadata: Because the data have been collected the same way, their metadata are similar.\n",
    "    - country: The country that the wine is from, String\n",
    "    - description: A few sentences from a sommelier describing the wine's taste, smell, look, feel. String\n",
    "    * designation: The vineyard within the winery where the grapes that made the wine are from, String\n",
    "    * points: The number of points WineEnthusiast rated the wine on a scale of 1-100 (though they say they only post reviews for wines that score >=80), Numeric\n",
    "    * price: The cost for a bottle of the wine, Numeric\n",
    "    * province: The province or state that the wine is from, String\n",
    "    * region_1: Tthe wine growing area in a province or state (ie Napa), String\n",
    "    * region_2: Sometimes there are more specific regions specified within a wine growing area (ie Rutherford inside the Napa Valley), but this value can sometimes be blank, String\n",
    "    * variety: The type of grapes used to make the wine (ie Pinot Noir), String\n",
    "    * winery: The winery that made the wine, String"
   ]
  },
  {
   "cell_type": "markdown",
   "metadata": {},
   "source": [
    "## 1. Imports"
   ]
  },
  {
   "cell_type": "code",
   "execution_count": 5,
   "metadata": {},
   "outputs": [],
   "source": [
    "import os\n",
    "import nltk\n",
    "import re\n",
    "import pickle\n",
    "import spacy\n",
    "import pandas as pd\n",
    "import numpy as np\n",
    "import matplotlib.pyplot as plt\n",
    "import seaborn as sns\n",
    "\n",
    "from sklearn.feature_extraction.text import TfidfVectorizer\n",
    "from sklearn.feature_extraction.text import CountVectorizer\n",
    "from sklearn.naive_bayes import MultinomialNB\n",
    "from sklearn.svm import SVC, LinearSVC\n",
    "from nltk.corpus import stopwords\n",
    "from nltk.stem.porter import *\n",
    "from sklearn.metrics import classification_report, f1_score, accuracy_score, confusion_matrix\n",
    "from sklearn.pipeline import Pipeline\n",
    "from sklearn.learning_curve import learning_curve\n",
    "from sklearn.model_selection import cross_val_score, train_test_split, GridSearchCV\n",
    "from sklearn.feature_selection import SelectKBest, f_regression, f_classif\n",
    "from sklearn.cross_validation import cross_val_score, KFold\n",
    "from sklearn.linear_model import LinearRegression, LogisticRegression\n",
    "from sklearn.preprocessing import StandardScaler, MinMaxScaler\n",
    "from sklearn import svm\n",
    "from sklearn.ensemble import RandomForestClassifier\n",
    "from nltk.corpus import stopwords\n",
    "\n",
    "sns.set(color_codes=True)\n",
    "nlp = spacy.load('en')\n",
    "%matplotlib inline"
   ]
  },
  {
   "cell_type": "code",
   "execution_count": 6,
   "metadata": {
    "collapsed": true
   },
   "outputs": [],
   "source": [
    "os.chdir('C://Users/vasileios.vyzas/Documents/workspace/Projects/Miscellaneous/wine_critic_recognizer/')"
   ]
  },
  {
   "cell_type": "code",
   "execution_count": 7,
   "metadata": {
    "collapsed": true
   },
   "outputs": [],
   "source": [
    "spirits = pd.read_json('data/raw/spirits.json')\n",
    "wine = pd.read_csv('data/raw/winemag-data-130k-v2.csv')"
   ]
  },
  {
   "cell_type": "markdown",
   "metadata": {},
   "source": [
    "## 2. Preprocessing and feature selection\n",
    "Given that the drinks we are working with are very different, features such as country, points, price, province etc. are not useful. Therefore, we are only interested in the description column which later will give us enough information to identify reviewers."
   ]
  },
  {
   "cell_type": "code",
   "execution_count": 8,
   "metadata": {
    "collapsed": true
   },
   "outputs": [],
   "source": [
    "wine = wine.drop(['Unnamed: 0', 'country', 'points', 'price', 'province', 'title', 'designation', 'region_1', 'region_2', 'taster_twitter_handle', 'variety', 'winery'], axis = 1)\n",
    "spirits = spirits.drop(['country', 'points', 'price', 'province', 'title', 'designation', 'region_1', 'region_2', 'taster_twitter_handle', 'variety', 'winery'], axis = 1)"
   ]
  },
  {
   "cell_type": "code",
   "execution_count": 9,
   "metadata": {
    "collapsed": true
   },
   "outputs": [],
   "source": [
    "# the wine dataset has more than 100000 rows, and using all of them for the classification\n",
    "# will create an imbalanced classification problem. So we are using only 2000 wine reviews\n",
    "wine_less_rows = wine.copy()\n",
    "wine_less_rows = wine_less_rows[:5000]\n",
    "wine_less_rows['label'] = 'wine_taster'\n",
    "spirits['label'] = 'spirits_taster'"
   ]
  },
  {
   "cell_type": "code",
   "execution_count": 10,
   "metadata": {
    "collapsed": true
   },
   "outputs": [],
   "source": [
    "all_drinks = pd.concat([wine_less_rows, spirits])\n",
    "all_drinks.reset_index(inplace=True)\n",
    "all_drinks.drop(['taster_name', 'index'], axis=1, inplace=True)"
   ]
  },
  {
   "cell_type": "code",
   "execution_count": 11,
   "metadata": {},
   "outputs": [
    {
     "data": {
      "text/html": [
       "<div>\n",
       "<style>\n",
       "    .dataframe thead tr:only-child th {\n",
       "        text-align: right;\n",
       "    }\n",
       "\n",
       "    .dataframe thead th {\n",
       "        text-align: left;\n",
       "    }\n",
       "\n",
       "    .dataframe tbody tr th {\n",
       "        vertical-align: top;\n",
       "    }\n",
       "</style>\n",
       "<table border=\"1\" class=\"dataframe\">\n",
       "  <thead>\n",
       "    <tr>\n",
       "      <th></th>\n",
       "      <th colspan=\"4\" halign=\"left\">description</th>\n",
       "    </tr>\n",
       "    <tr>\n",
       "      <th></th>\n",
       "      <th>count</th>\n",
       "      <th>unique</th>\n",
       "      <th>top</th>\n",
       "      <th>freq</th>\n",
       "    </tr>\n",
       "    <tr>\n",
       "      <th>label</th>\n",
       "      <th></th>\n",
       "      <th></th>\n",
       "      <th></th>\n",
       "      <th></th>\n",
       "    </tr>\n",
       "  </thead>\n",
       "  <tbody>\n",
       "    <tr>\n",
       "      <th>spirits_taster</th>\n",
       "      <td>4422</td>\n",
       "      <td>4369</td>\n",
       "      <td>Ideal for martinis and G&amp;Ts;, look for a brisk...</td>\n",
       "      <td>2</td>\n",
       "    </tr>\n",
       "    <tr>\n",
       "      <th>wine_taster</th>\n",
       "      <td>5000</td>\n",
       "      <td>4985</td>\n",
       "      <td>The wine is still young with its crisp red fru...</td>\n",
       "      <td>2</td>\n",
       "    </tr>\n",
       "  </tbody>\n",
       "</table>\n",
       "</div>"
      ],
      "text/plain": [
       "               description         \\\n",
       "                     count unique   \n",
       "label                               \n",
       "spirits_taster        4422   4369   \n",
       "wine_taster           5000   4985   \n",
       "\n",
       "                                                                        \n",
       "                                                              top freq  \n",
       "label                                                                   \n",
       "spirits_taster  Ideal for martinis and G&Ts;, look for a brisk...    2  \n",
       "wine_taster     The wine is still young with its crisp red fru...    2  "
      ]
     },
     "execution_count": 11,
     "metadata": {},
     "output_type": "execute_result"
    }
   ],
   "source": [
    "all_drinks.groupby('label').describe()"
   ]
  },
  {
   "cell_type": "code",
   "execution_count": 12,
   "metadata": {
    "collapsed": true
   },
   "outputs": [],
   "source": [
    "all_drinks.drop_duplicates(subset='description', keep='last', inplace=True)"
   ]
  },
  {
   "cell_type": "markdown",
   "metadata": {},
   "source": [
    "## 3. Feature engineering\n",
    "As we mentioned the description column which is text data will not give us any useful information to recognize authors of wine and spirits reviews. However, we can use the individual descriptions to create features that represent the writing style and linguistic patterns the authors follow."
   ]
  },
  {
   "cell_type": "code",
   "execution_count": 13,
   "metadata": {
    "collapsed": true
   },
   "outputs": [],
   "source": [
    "def normalize(review):\n",
    "    review_letters = re.sub('[^a-zA-Z]', ' ', str(review))\n",
    "    review_letters = review_letters.lower()\n",
    "    return (\" \".join(review_letters.split()))"
   ]
  },
  {
   "cell_type": "code",
   "execution_count": 14,
   "metadata": {
    "collapsed": true
   },
   "outputs": [],
   "source": [
    "def remove_stopwords(review):\n",
    "    stop_words = set(stopwords.words('english'))\n",
    "    ls = [word for word in review.split() if word not in stop_words]\n",
    "    return (\" \".join(ls))"
   ]
  },
  {
   "cell_type": "code",
   "execution_count": 15,
   "metadata": {
    "collapsed": true
   },
   "outputs": [],
   "source": [
    "def stemming(review):\n",
    "    stemmer = PorterStemmer()\n",
    "    stemmed = [stemmer.stem(word) for word in review.split()]\n",
    "    return (\" \".join(stemmed))"
   ]
  },
  {
   "cell_type": "code",
   "execution_count": 16,
   "metadata": {
    "collapsed": true
   },
   "outputs": [],
   "source": [
    "processed_reviews = []\n",
    "reviews = all_drinks['description']\n",
    "for review in reviews:\n",
    "    processed_reviews.append(remove_stopwords(normalize(review)))"
   ]
  },
  {
   "cell_type": "code",
   "execution_count": 17,
   "metadata": {
    "collapsed": true
   },
   "outputs": [],
   "source": [
    "tfidf_vectorizer = TfidfVectorizer(stop_words='english', min_df=5, max_df = 0.95, ngram_range=(1,2))\n",
    "tfidf_matrix = tfidf_vectorizer.fit_transform(processed_reviews)"
   ]
  },
  {
   "cell_type": "code",
   "execution_count": 18,
   "metadata": {
    "collapsed": true
   },
   "outputs": [],
   "source": [
    "# features holds a list of all the words in the tfidf's vocabulary in the same order as the column in the matrix\n",
    "features = tfidf_vectorizer.get_feature_names()"
   ]
  },
  {
   "cell_type": "code",
   "execution_count": 19,
   "metadata": {
    "collapsed": true
   },
   "outputs": [],
   "source": [
    "weights = np.asarray(tfidf_matrix.mean(axis=0)).ravel().tolist()\n",
    "weights_df = pd.DataFrame({'term':features, 'weights':weights})\n",
    "weights_df = weights_df.sort_values(by='weights', ascending=False)"
   ]
  },
  {
   "cell_type": "code",
   "execution_count": 20,
   "metadata": {
    "collapsed": true
   },
   "outputs": [],
   "source": [
    "important_terms = weights_df['term'][:20].tolist()"
   ]
  },
  {
   "cell_type": "code",
   "execution_count": 21,
   "metadata": {
    "collapsed": true
   },
   "outputs": [],
   "source": [
    "def count_of_important_words(review):\n",
    "    count = 0\n",
    "    for word in normalize(review).split():\n",
    "        if word in important_terms:\n",
    "            count+=1\n",
    "    return count"
   ]
  },
  {
   "cell_type": "code",
   "execution_count": 22,
   "metadata": {
    "collapsed": true
   },
   "outputs": [],
   "source": [
    "all_drinks['count_of_important_words'] = all_drinks['description'].map(count_of_important_words)"
   ]
  },
  {
   "cell_type": "code",
   "execution_count": 23,
   "metadata": {
    "collapsed": true
   },
   "outputs": [],
   "source": [
    "def normalize(text):\n",
    "    letters = re.sub(\"[^a-zA-Z0-9]\", \" \", text)\n",
    "    words = letters.lower().strip()\n",
    "    return words"
   ]
  },
  {
   "cell_type": "code",
   "execution_count": 24,
   "metadata": {
    "collapsed": true
   },
   "outputs": [],
   "source": [
    "# count number of words used in a review\n",
    "# normalize a review to remove punctuation in order to count accurately\n",
    "all_drinks['description_length'] = all_drinks['description'].apply(lambda text: len(str(normalize(text)).split()))"
   ]
  },
  {
   "cell_type": "code",
   "execution_count": 25,
   "metadata": {
    "collapsed": true
   },
   "outputs": [],
   "source": [
    "# total count of all words and punctuation used in a description\n",
    "all_drinks['count_of_characters'] = all_drinks['description'].apply(lambda text: len(str(text)))"
   ]
  },
  {
   "cell_type": "code",
   "execution_count": 26,
   "metadata": {
    "collapsed": true
   },
   "outputs": [],
   "source": [
    "all_drinks['average_length_of_words'] = all_drinks['count_of_characters'] / all_drinks['description_length']"
   ]
  },
  {
   "cell_type": "code",
   "execution_count": 27,
   "metadata": {
    "collapsed": true
   },
   "outputs": [],
   "source": [
    "def punctuation_counter(review):\n",
    "    count = 0\n",
    "    doc = nlp(review)\n",
    "    \n",
    "    for token in doc:\n",
    "        if token.is_punct:\n",
    "            count+=1\n",
    "    return count   "
   ]
  },
  {
   "cell_type": "code",
   "execution_count": 28,
   "metadata": {
    "collapsed": true
   },
   "outputs": [],
   "source": [
    "# count of punctuation symbols used\n",
    "all_drinks['number_of_punctuation'] = all_drinks['description'].map(punctuation_counter)"
   ]
  },
  {
   "cell_type": "code",
   "execution_count": 29,
   "metadata": {
    "collapsed": true
   },
   "outputs": [],
   "source": [
    "# function to find and count the number of nouns in a wine review\n",
    "def noun_getter(review):\n",
    "    count = 0\n",
    "    doc = nlp(review)\n",
    "    \n",
    "    for token in doc:\n",
    "        if token.pos_ == 'NOUN':\n",
    "            count+=1\n",
    "    return count        "
   ]
  },
  {
   "cell_type": "code",
   "execution_count": 30,
   "metadata": {
    "collapsed": true
   },
   "outputs": [],
   "source": [
    "all_drinks['number_of_nouns'] = all_drinks['description'].map(noun_getter)"
   ]
  },
  {
   "cell_type": "code",
   "execution_count": 31,
   "metadata": {
    "collapsed": true
   },
   "outputs": [],
   "source": [
    "def noun_chunks_getter(review):\n",
    "    count = 0\n",
    "    doc = nlp(str(review))\n",
    "    \n",
    "    for token in doc.noun_chunks:\n",
    "        if len(str(token.text).split()) > 1:\n",
    "            count+=1\n",
    "    return count"
   ]
  },
  {
   "cell_type": "code",
   "execution_count": 32,
   "metadata": {
    "collapsed": true
   },
   "outputs": [],
   "source": [
    "all_drinks['number_of_noun_phrases'] = all_drinks['description'].map(noun_chunks_getter)"
   ]
  },
  {
   "cell_type": "code",
   "execution_count": 33,
   "metadata": {
    "collapsed": true
   },
   "outputs": [],
   "source": [
    "# function to find and count the number of verbs in a wine review\n",
    "def verb_getter(review):\n",
    "    count = 0\n",
    "    doc = nlp(review)\n",
    "    \n",
    "    for token in doc:\n",
    "        if token.pos_ == 'VERB':\n",
    "            count+=1\n",
    "    return count        "
   ]
  },
  {
   "cell_type": "code",
   "execution_count": 34,
   "metadata": {
    "collapsed": true
   },
   "outputs": [],
   "source": [
    "all_drinks['number_of_verbs'] = all_drinks['description'].map(verb_getter)"
   ]
  },
  {
   "cell_type": "code",
   "execution_count": 35,
   "metadata": {
    "collapsed": true
   },
   "outputs": [],
   "source": [
    "# function to find and count the number of adjective in a wine review\n",
    "def adj_getter(review):\n",
    "    count = 0\n",
    "    doc = nlp(review)\n",
    "    \n",
    "    for token in doc:\n",
    "        if token.pos_ == 'ADJ':\n",
    "            count+=1\n",
    "    return count        "
   ]
  },
  {
   "cell_type": "code",
   "execution_count": 36,
   "metadata": {
    "collapsed": true
   },
   "outputs": [],
   "source": [
    "all_drinks['number_of_adj'] = all_drinks['description'].map(adj_getter)"
   ]
  },
  {
   "cell_type": "code",
   "execution_count": 37,
   "metadata": {
    "collapsed": true
   },
   "outputs": [],
   "source": [
    "def count_sentences(review):\n",
    "    doc = nlp(review)\n",
    "    return (len([sentence for sentence in doc.sents]))"
   ]
  },
  {
   "cell_type": "code",
   "execution_count": 38,
   "metadata": {
    "collapsed": true
   },
   "outputs": [],
   "source": [
    "all_drinks['count_of_sentences'] = all_drinks['description'].map(count_sentences)"
   ]
  },
  {
   "cell_type": "code",
   "execution_count": 39,
   "metadata": {
    "collapsed": true
   },
   "outputs": [],
   "source": [
    "def find_sentence_length_with_pos_tags(review):\n",
    "    doc = nlp(review)\n",
    "    pos_tags_dict = dict()\n",
    "    for sentence in doc.sents:\n",
    "        doc1 = nlp(str(sentence)) \n",
    "        pos_tags_dict[len(doc1)] = (noun_getter(str(sentence)), verb_getter(str(sentence)), adj_getter(str(sentence)))\n",
    "    return pos_tags_dict"
   ]
  },
  {
   "cell_type": "code",
   "execution_count": 40,
   "metadata": {
    "collapsed": true
   },
   "outputs": [],
   "source": [
    "max_length_list = []\n",
    "min_length_list = []\n",
    "nouns_list = []\n",
    "verb_list = []\n",
    "adj_list = []\n",
    "\n",
    "for review in all_drinks['description']:\n",
    "    d = find_sentence_length_with_pos_tags(review)\n",
    "    max_length = ((max(k for k, v in d.items())))\n",
    "    min_length_list.append((min(k for k, v in d.items())))\n",
    "    noun_count, verb_count, adj_count = d[max_length]\n",
    "    \n",
    "    max_length_list.append(max_length)\n",
    "    nouns_list.append(noun_count)\n",
    "    verb_list.append(verb_count)\n",
    "    adj_list.append(adj_count)"
   ]
  },
  {
   "cell_type": "code",
   "execution_count": 41,
   "metadata": {
    "collapsed": true
   },
   "outputs": [],
   "source": [
    "all_drinks['number_of_characters_in_largest_sentence'] = max_length_list\n",
    "all_drinks['number_of_characters_in_smallest_sentence'] = min_length_list\n",
    "all_drinks['number_of_nouns_in_largest_sentence'] = nouns_list\n",
    "all_drinks['number_of_verbs_in_largest_sentence'] = verb_list\n",
    "all_drinks['number_of_adjectives_in_largest_sentence'] = adj_list"
   ]
  },
  {
   "cell_type": "code",
   "execution_count": 42,
   "metadata": {
    "collapsed": true
   },
   "outputs": [],
   "source": [
    "stop_words = set(stopwords.words('english'))\n",
    "all_drinks['count_of_stopwords'] = all_drinks['description'].apply(lambda x: len([w for w in str(x).lower().split() if w in stop_words]) )"
   ]
  },
  {
   "cell_type": "code",
   "execution_count": 43,
   "metadata": {
    "collapsed": true
   },
   "outputs": [],
   "source": [
    "all_drinks['count_of_upper_case_words'] = all_drinks['description'].apply(lambda x: len([w for w in str(x).replace('I','i').replace('A','a').split() if w.isupper() == True]) )"
   ]
  },
  {
   "cell_type": "code",
   "execution_count": 44,
   "metadata": {
    "collapsed": true
   },
   "outputs": [],
   "source": [
    "all_drinks['count_title_case_words'] = all_drinks['description'].apply(lambda x: len([w for w in str(x).replace('I','i').replace('A','a').split() if w.istitle() == True]) )"
   ]
  },
  {
   "cell_type": "code",
   "execution_count": 45,
   "metadata": {
    "collapsed": true
   },
   "outputs": [],
   "source": [
    "# feature engineering operations take to long to complete\n",
    "# saving the dataframe to save time in future reads\n",
    "all_drinks.to_csv('data/modified/wine_and_spirits_reviews_with_generated_features.csv', encoding='utf-8', index = False)"
   ]
  },
  {
   "cell_type": "markdown",
   "metadata": {},
   "source": [
    "## 4. Data exploration & visualization"
   ]
  },
  {
   "cell_type": "code",
   "execution_count": 46,
   "metadata": {
    "collapsed": true
   },
   "outputs": [],
   "source": [
    "all_drinks = pd.read_csv('data/modified/wine_and_spirits_reviews_with_generated_features.csv')"
   ]
  },
  {
   "cell_type": "code",
   "execution_count": 47,
   "metadata": {},
   "outputs": [
    {
     "data": {
      "image/png": "[encoded data removed]",
      "text/plain": [
       "<matplotlib.figure.Figure at 0x16aaab68128>"
      ]
     },
     "metadata": {},
     "output_type": "display_data"
    }
   ],
   "source": [
    "all_drinks.hist(column='description_length', by='label', bins=50, figsize=(10, 6));"
   ]
  },
  {
   "cell_type": "markdown",
   "metadata": {},
   "source": [
    "It seems that there is a lot of variety in the length of the reviews by the spirits taster comparing to the length of the reviews for the wine tasters. This is also validated by the statistics for the *description_length* feature, as can be seen below:"
   ]
  },
  {
   "cell_type": "code",
   "execution_count": 48,
   "metadata": {},
   "outputs": [
    {
     "data": {
      "text/html": [
       "<div>\n",
       "<style>\n",
       "    .dataframe thead tr:only-child th {\n",
       "        text-align: right;\n",
       "    }\n",
       "\n",
       "    .dataframe thead th {\n",
       "        text-align: left;\n",
       "    }\n",
       "\n",
       "    .dataframe tbody tr th {\n",
       "        vertical-align: top;\n",
       "    }\n",
       "</style>\n",
       "<table border=\"1\" class=\"dataframe\">\n",
       "  <thead>\n",
       "    <tr style=\"text-align: right;\">\n",
       "      <th></th>\n",
       "      <th>count</th>\n",
       "      <th>mean</th>\n",
       "      <th>std</th>\n",
       "      <th>min</th>\n",
       "      <th>25%</th>\n",
       "      <th>50%</th>\n",
       "      <th>75%</th>\n",
       "      <th>max</th>\n",
       "    </tr>\n",
       "    <tr>\n",
       "      <th>label</th>\n",
       "      <th></th>\n",
       "      <th></th>\n",
       "      <th></th>\n",
       "      <th></th>\n",
       "      <th></th>\n",
       "      <th></th>\n",
       "      <th></th>\n",
       "      <th></th>\n",
       "    </tr>\n",
       "  </thead>\n",
       "  <tbody>\n",
       "    <tr>\n",
       "      <th>spirits_taster</th>\n",
       "      <td>4369.0</td>\n",
       "      <td>48.296864</td>\n",
       "      <td>13.194116</td>\n",
       "      <td>14.0</td>\n",
       "      <td>39.0</td>\n",
       "      <td>48.0</td>\n",
       "      <td>56.0</td>\n",
       "      <td>106.0</td>\n",
       "    </tr>\n",
       "    <tr>\n",
       "      <th>wine_taster</th>\n",
       "      <td>4985.0</td>\n",
       "      <td>40.691274</td>\n",
       "      <td>11.120310</td>\n",
       "      <td>8.0</td>\n",
       "      <td>33.0</td>\n",
       "      <td>40.0</td>\n",
       "      <td>47.0</td>\n",
       "      <td>115.0</td>\n",
       "    </tr>\n",
       "  </tbody>\n",
       "</table>\n",
       "</div>"
      ],
      "text/plain": [
       "                 count       mean        std   min   25%   50%   75%    max\n",
       "label                                                                      \n",
       "spirits_taster  4369.0  48.296864  13.194116  14.0  39.0  48.0  56.0  106.0\n",
       "wine_taster     4985.0  40.691274  11.120310   8.0  33.0  40.0  47.0  115.0"
      ]
     },
     "execution_count": 48,
     "metadata": {},
     "output_type": "execute_result"
    }
   ],
   "source": [
    "all_drinks.groupby('label')['description_length'].describe()"
   ]
  },
  {
   "cell_type": "code",
   "execution_count": 49,
   "metadata": {},
   "outputs": [
    {
     "data": {
      "image/png": "[encoded data removed]",
      "text/plain": [
       "<matplotlib.figure.Figure at 0x16aaab93fd0>"
      ]
     },
     "metadata": {},
     "output_type": "display_data"
    }
   ],
   "source": [
    "all_drinks.hist(column='number_of_punctuation', by='label', bins=20, figsize=(10, 6));"
   ]
  },
  {
   "cell_type": "code",
   "execution_count": 50,
   "metadata": {},
   "outputs": [
    {
     "data": {
      "image/png": "[encoded data removed]",
      "text/plain": [
       "<matplotlib.figure.Figure at 0x16aa66b5ac8>"
      ]
     },
     "metadata": {},
     "output_type": "display_data"
    }
   ],
   "source": [
    "all_drinks.hist(column='number_of_nouns', by='label', bins=30, figsize=(10, 6));"
   ]
  },
  {
   "cell_type": "markdown",
   "metadata": {},
   "source": [
    "# Model building & evaluation"
   ]
  },
  {
   "cell_type": "code",
   "execution_count": 51,
   "metadata": {
    "collapsed": true
   },
   "outputs": [],
   "source": [
    "drinks = pd.read_csv('data/modified/wine_and_spirits_reviews_with_generated_features.csv')"
   ]
  },
  {
   "cell_type": "code",
   "execution_count": 52,
   "metadata": {
    "collapsed": true
   },
   "outputs": [],
   "source": [
    "# will drop temporarily these features and will build a model including those later\n",
    "drinks = drinks.drop(['description', 'count_of_upper_case_words'], axis = 1)"
   ]
  },
  {
   "cell_type": "code",
   "execution_count": 53,
   "metadata": {
    "collapsed": true
   },
   "outputs": [],
   "source": [
    "drinks['label'] = drinks['label'].map({'wine_taster': 1, 'spirits_taster': 0})"
   ]
  },
  {
   "cell_type": "code",
   "execution_count": 54,
   "metadata": {
    "collapsed": true
   },
   "outputs": [],
   "source": [
    "# function found here: https://medium.com/@dimitrisspathis/exploring-linguistic-patterns-in-best-selling-book-series-100290c94242\n",
    "def automated_readability_index(characters, words, sentences):\n",
    "    ati = 4.71 * (characters/words) + 0.5 * (words/sentences) - 21.43\n",
    "    return ati"
   ]
  },
  {
   "cell_type": "code",
   "execution_count": 55,
   "metadata": {
    "collapsed": true
   },
   "outputs": [],
   "source": [
    "drinks['automated_readability_index'] = drinks.apply(lambda x: automated_readability_index(x['count_of_characters'], x['description_length'], x['count_of_sentences']), axis = 1)"
   ]
  },
  {
   "cell_type": "code",
   "execution_count": 56,
   "metadata": {
    "collapsed": true
   },
   "outputs": [],
   "source": [
    "# function to find and count the number of adjective in a wine review\n",
    "def adv_getter(review):\n",
    "    count = 0\n",
    "    doc = nlp(review)\n",
    "    \n",
    "    for token in doc:\n",
    "        if token.pos_ == 'ADV':\n",
    "            count+=1\n",
    "    return count        "
   ]
  },
  {
   "cell_type": "code",
   "execution_count": 57,
   "metadata": {
    "collapsed": true
   },
   "outputs": [],
   "source": [
    "drinks['count_of_adverbs'] = all_drinks['description'].map(adv_getter)"
   ]
  },
  {
   "cell_type": "code",
   "execution_count": 58,
   "metadata": {
    "collapsed": true
   },
   "outputs": [],
   "source": [
    "def lexical_density(nouns, verbs, adjectives, adverbs, words):\n",
    "    ld = ((nouns + verbs + adjectives + adverbs) / words) * 100\n",
    "    return ld"
   ]
  },
  {
   "cell_type": "code",
   "execution_count": 59,
   "metadata": {
    "collapsed": true
   },
   "outputs": [],
   "source": [
    "drinks['lexical_density'] = drinks.apply(lambda x: lexical_density(x['number_of_nouns'], x['number_of_verbs'], x['number_of_adj'], x['count_of_adverbs'], x['description_length']), axis = 1)"
   ]
  },
  {
   "cell_type": "code",
   "execution_count": 60,
   "metadata": {},
   "outputs": [
    {
     "data": {
      "text/html": [
       "<div>\n",
       "<style>\n",
       "    .dataframe thead tr:only-child th {\n",
       "        text-align: right;\n",
       "    }\n",
       "\n",
       "    .dataframe thead th {\n",
       "        text-align: left;\n",
       "    }\n",
       "\n",
       "    .dataframe tbody tr th {\n",
       "        vertical-align: top;\n",
       "    }\n",
       "</style>\n",
       "<table border=\"1\" class=\"dataframe\">\n",
       "  <thead>\n",
       "    <tr style=\"text-align: right;\">\n",
       "      <th></th>\n",
       "      <th>label</th>\n",
       "      <th>count_of_important_words</th>\n",
       "      <th>description_length</th>\n",
       "      <th>count_of_characters</th>\n",
       "      <th>average_length_of_words</th>\n",
       "      <th>number_of_punctuation</th>\n",
       "      <th>number_of_nouns</th>\n",
       "      <th>number_of_noun_phrases</th>\n",
       "      <th>number_of_verbs</th>\n",
       "      <th>number_of_adj</th>\n",
       "      <th>...</th>\n",
       "      <th>number_of_characters_in_largest_sentence</th>\n",
       "      <th>number_of_characters_in_smallest_sentence</th>\n",
       "      <th>number_of_nouns_in_largest_sentence</th>\n",
       "      <th>number_of_verbs_in_largest_sentence</th>\n",
       "      <th>number_of_adjectives_in_largest_sentence</th>\n",
       "      <th>count_of_stopwords</th>\n",
       "      <th>count_title_case_words</th>\n",
       "      <th>automated_readability_index</th>\n",
       "      <th>count_of_adverbs</th>\n",
       "      <th>lexical_density</th>\n",
       "    </tr>\n",
       "  </thead>\n",
       "  <tbody>\n",
       "    <tr>\n",
       "      <th>0</th>\n",
       "      <td>1</td>\n",
       "      <td>4</td>\n",
       "      <td>25</td>\n",
       "      <td>172</td>\n",
       "      <td>6.880000</td>\n",
       "      <td>6</td>\n",
       "      <td>10</td>\n",
       "      <td>6</td>\n",
       "      <td>5</td>\n",
       "      <td>4</td>\n",
       "      <td>...</td>\n",
       "      <td>19</td>\n",
       "      <td>12</td>\n",
       "      <td>5</td>\n",
       "      <td>3</td>\n",
       "      <td>3</td>\n",
       "      <td>3</td>\n",
       "      <td>1</td>\n",
       "      <td>17.224800</td>\n",
       "      <td>2</td>\n",
       "      <td>84.000000</td>\n",
       "    </tr>\n",
       "    <tr>\n",
       "      <th>1</th>\n",
       "      <td>1</td>\n",
       "      <td>3</td>\n",
       "      <td>39</td>\n",
       "      <td>227</td>\n",
       "      <td>5.820513</td>\n",
       "      <td>5</td>\n",
       "      <td>7</td>\n",
       "      <td>3</td>\n",
       "      <td>9</td>\n",
       "      <td>7</td>\n",
       "      <td>...</td>\n",
       "      <td>15</td>\n",
       "      <td>15</td>\n",
       "      <td>0</td>\n",
       "      <td>3</td>\n",
       "      <td>2</td>\n",
       "      <td>16</td>\n",
       "      <td>2</td>\n",
       "      <td>12.484615</td>\n",
       "      <td>3</td>\n",
       "      <td>66.666667</td>\n",
       "    </tr>\n",
       "    <tr>\n",
       "      <th>2</th>\n",
       "      <td>1</td>\n",
       "      <td>4</td>\n",
       "      <td>29</td>\n",
       "      <td>186</td>\n",
       "      <td>6.413793</td>\n",
       "      <td>6</td>\n",
       "      <td>10</td>\n",
       "      <td>6</td>\n",
       "      <td>4</td>\n",
       "      <td>4</td>\n",
       "      <td>...</td>\n",
       "      <td>13</td>\n",
       "      <td>9</td>\n",
       "      <td>3</td>\n",
       "      <td>2</td>\n",
       "      <td>2</td>\n",
       "      <td>10</td>\n",
       "      <td>3</td>\n",
       "      <td>13.612299</td>\n",
       "      <td>0</td>\n",
       "      <td>62.068966</td>\n",
       "    </tr>\n",
       "    <tr>\n",
       "      <th>3</th>\n",
       "      <td>1</td>\n",
       "      <td>4</td>\n",
       "      <td>34</td>\n",
       "      <td>199</td>\n",
       "      <td>5.852941</td>\n",
       "      <td>6</td>\n",
       "      <td>13</td>\n",
       "      <td>7</td>\n",
       "      <td>4</td>\n",
       "      <td>5</td>\n",
       "      <td>...</td>\n",
       "      <td>27</td>\n",
       "      <td>13</td>\n",
       "      <td>8</td>\n",
       "      <td>3</td>\n",
       "      <td>3</td>\n",
       "      <td>12</td>\n",
       "      <td>2</td>\n",
       "      <td>14.637353</td>\n",
       "      <td>2</td>\n",
       "      <td>70.588235</td>\n",
       "    </tr>\n",
       "    <tr>\n",
       "      <th>4</th>\n",
       "      <td>1</td>\n",
       "      <td>2</td>\n",
       "      <td>42</td>\n",
       "      <td>249</td>\n",
       "      <td>5.928571</td>\n",
       "      <td>8</td>\n",
       "      <td>7</td>\n",
       "      <td>5</td>\n",
       "      <td>3</td>\n",
       "      <td>9</td>\n",
       "      <td>...</td>\n",
       "      <td>25</td>\n",
       "      <td>25</td>\n",
       "      <td>5</td>\n",
       "      <td>2</td>\n",
       "      <td>3</td>\n",
       "      <td>15</td>\n",
       "      <td>2</td>\n",
       "      <td>16.993571</td>\n",
       "      <td>4</td>\n",
       "      <td>54.761905</td>\n",
       "    </tr>\n",
       "  </tbody>\n",
       "</table>\n",
       "<p>5 rows × 21 columns</p>\n",
       "</div>"
      ],
      "text/plain": [
       "   label  count_of_important_words  description_length  count_of_characters  \\\n",
       "0      1                         4                  25                  172   \n",
       "1      1                         3                  39                  227   \n",
       "2      1                         4                  29                  186   \n",
       "3      1                         4                  34                  199   \n",
       "4      1                         2                  42                  249   \n",
       "\n",
       "   average_length_of_words  number_of_punctuation  number_of_nouns  \\\n",
       "0                 6.880000                      6               10   \n",
       "1                 5.820513                      5                7   \n",
       "2                 6.413793                      6               10   \n",
       "3                 5.852941                      6               13   \n",
       "4                 5.928571                      8                7   \n",
       "\n",
       "   number_of_noun_phrases  number_of_verbs  number_of_adj       ...         \\\n",
       "0                       6                5              4       ...          \n",
       "1                       3                9              7       ...          \n",
       "2                       6                4              4       ...          \n",
       "3                       7                4              5       ...          \n",
       "4                       5                3              9       ...          \n",
       "\n",
       "   number_of_characters_in_largest_sentence  \\\n",
       "0                                        19   \n",
       "1                                        15   \n",
       "2                                        13   \n",
       "3                                        27   \n",
       "4                                        25   \n",
       "\n",
       "   number_of_characters_in_smallest_sentence  \\\n",
       "0                                         12   \n",
       "1                                         15   \n",
       "2                                          9   \n",
       "3                                         13   \n",
       "4                                         25   \n",
       "\n",
       "   number_of_nouns_in_largest_sentence  number_of_verbs_in_largest_sentence  \\\n",
       "0                                    5                                    3   \n",
       "1                                    0                                    3   \n",
       "2                                    3                                    2   \n",
       "3                                    8                                    3   \n",
       "4                                    5                                    2   \n",
       "\n",
       "   number_of_adjectives_in_largest_sentence  count_of_stopwords  \\\n",
       "0                                         3                   3   \n",
       "1                                         2                  16   \n",
       "2                                         2                  10   \n",
       "3                                         3                  12   \n",
       "4                                         3                  15   \n",
       "\n",
       "   count_title_case_words  automated_readability_index  count_of_adverbs  \\\n",
       "0                       1                    17.224800                 2   \n",
       "1                       2                    12.484615                 3   \n",
       "2                       3                    13.612299                 0   \n",
       "3                       2                    14.637353                 2   \n",
       "4                       2                    16.993571                 4   \n",
       "\n",
       "   lexical_density  \n",
       "0        84.000000  \n",
       "1        66.666667  \n",
       "2        62.068966  \n",
       "3        70.588235  \n",
       "4        54.761905  \n",
       "\n",
       "[5 rows x 21 columns]"
      ]
     },
     "execution_count": 60,
     "metadata": {},
     "output_type": "execute_result"
    }
   ],
   "source": [
    "drinks.head()"
   ]
  },
  {
   "cell_type": "code",
   "execution_count": 61,
   "metadata": {
    "collapsed": true
   },
   "outputs": [],
   "source": [
    "X, y = drinks.loc[:, drinks.columns != 'label'], drinks.loc[:,'label']"
   ]
  },
  {
   "cell_type": "code",
   "execution_count": 62,
   "metadata": {
    "collapsed": true
   },
   "outputs": [],
   "source": [
    "X_train, X_test, y_train, y_test = train_test_split(X, y, test_size=0.2, random_state=42)"
   ]
  },
  {
   "cell_type": "markdown",
   "metadata": {},
   "source": [
    "## Experimenting with cross validation"
   ]
  },
  {
   "cell_type": "markdown",
   "metadata": {},
   "source": [
    "SelectKBest selects the top k features that have maximum relevance with the target variable. It takes two parameters as input arguments, \"k\" (obviously) and the score function to rate the relevance of every feature with the target variable. For example, for a regression problem, you can supply \"feature_selection.f_regression\" and for a classification problem, you can supply \"feature_selection.f_classif\".\n",
    "\n",
    "You can use SelectKBest and GridSearchCV together using a Pipeline with an estimator as the second step. The pipeline applies the first step by choosing the best k features and transforms the input data to have only these features. After transformation, this is then fit with your estimator. The GridSearchCV helps you to tune the \"number of features to be selected\" and the hyperparameter of the estimator, by selecting the parameters that give the best score on validation data."
   ]
  },
  {
   "cell_type": "code",
   "execution_count": 64,
   "metadata": {},
   "outputs": [
    {
     "data": {
      "text/plain": [
       "GridSearchCV(cv=5, error_score='raise',\n",
       "       estimator=Pipeline(memory=None,\n",
       "     steps=[('stdScaler', StandardScaler(copy=True, with_mean=True, with_std=True)), ('kbest', SelectKBest(k=10, score_func=<function f_classif at 0x0000016AA1A898C8>)), ('lr', LogisticRegression(C=1.0, class_weight=None, dual=False, fit_intercept=True,\n",
       "          intercept_scaling=1, max_iter=100, multi_class='ovr', n_jobs=1,\n",
       "          penalty='l2', random_state=None, solver='liblinear', tol=0.0001,\n",
       "          verbose=0, warm_start=False))]),\n",
       "       fit_params=None, iid=True, n_jobs=1,\n",
       "       param_grid={'kbest__k': [1, 2, 3, 4, 5, 6, 7, 8, 9, 10, 11, 12, 13, 14, 15, 16, 17, 18, 19, 20], 'lr__C': [0.001, 0.01, 0.1, 1, 10, 100, 1000]},\n",
       "       pre_dispatch='2*n_jobs', refit=True, return_train_score='warn',\n",
       "       scoring=None, verbose=0)"
      ]
     },
     "execution_count": 64,
     "metadata": {},
     "output_type": "execute_result"
    }
   ],
   "source": [
    "kbest = SelectKBest(f_classif)\n",
    "stdScaler = StandardScaler()\n",
    "minmax = MinMaxScaler()\n",
    "pipeline = Pipeline([('stdScaler', stdScaler), ('kbest', kbest), ('lr', LogisticRegression())])\n",
    "grid_search = GridSearchCV(pipeline, {'kbest__k': [1,2,3,4,5, 6,7,8, 9, 10, 11, 12, 13, 14, 15, 16, 17, 18, 19, 20], 'lr__C': [0.001,0.01,0.1,1,10,100,1000]}, cv = 5)\n",
    "grid_search.fit(X_train, y_train)"
   ]
  },
  {
   "cell_type": "code",
   "execution_count": 65,
   "metadata": {},
   "outputs": [
    {
     "name": "stdout",
     "output_type": "stream",
     "text": [
      "Best parameters set found on development set:\n",
      "\n",
      "{'kbest__k': 20, 'lr__C': 10}\n",
      "\n",
      "Grid scores on development set:\n",
      "\n",
      "0.693 (+/-0.021) for {'kbest__k': 1, 'lr__C': 0.001}\n",
      "0.693 (+/-0.021) for {'kbest__k': 1, 'lr__C': 0.01}\n",
      "0.693 (+/-0.021) for {'kbest__k': 1, 'lr__C': 0.1}\n",
      "0.693 (+/-0.021) for {'kbest__k': 1, 'lr__C': 1}\n",
      "0.693 (+/-0.021) for {'kbest__k': 1, 'lr__C': 10}\n",
      "0.693 (+/-0.021) for {'kbest__k': 1, 'lr__C': 100}\n",
      "0.693 (+/-0.021) for {'kbest__k': 1, 'lr__C': 1000}\n",
      "0.698 (+/-0.010) for {'kbest__k': 2, 'lr__C': 0.001}\n",
      "0.698 (+/-0.013) for {'kbest__k': 2, 'lr__C': 0.01}\n",
      "0.699 (+/-0.015) for {'kbest__k': 2, 'lr__C': 0.1}\n",
      "0.699 (+/-0.015) for {'kbest__k': 2, 'lr__C': 1}\n",
      "0.699 (+/-0.015) for {'kbest__k': 2, 'lr__C': 10}\n",
      "0.699 (+/-0.015) for {'kbest__k': 2, 'lr__C': 100}\n",
      "0.699 (+/-0.015) for {'kbest__k': 2, 'lr__C': 1000}\n",
      "0.694 (+/-0.009) for {'kbest__k': 3, 'lr__C': 0.001}\n",
      "0.698 (+/-0.009) for {'kbest__k': 3, 'lr__C': 0.01}\n",
      "0.698 (+/-0.009) for {'kbest__k': 3, 'lr__C': 0.1}\n",
      "0.698 (+/-0.010) for {'kbest__k': 3, 'lr__C': 1}\n",
      "0.699 (+/-0.011) for {'kbest__k': 3, 'lr__C': 10}\n",
      "0.698 (+/-0.011) for {'kbest__k': 3, 'lr__C': 100}\n",
      "0.698 (+/-0.011) for {'kbest__k': 3, 'lr__C': 1000}\n",
      "0.698 (+/-0.007) for {'kbest__k': 4, 'lr__C': 0.001}\n",
      "0.702 (+/-0.012) for {'kbest__k': 4, 'lr__C': 0.01}\n",
      "0.703 (+/-0.010) for {'kbest__k': 4, 'lr__C': 0.1}\n",
      "0.703 (+/-0.010) for {'kbest__k': 4, 'lr__C': 1}\n",
      "0.704 (+/-0.010) for {'kbest__k': 4, 'lr__C': 10}\n",
      "0.703 (+/-0.010) for {'kbest__k': 4, 'lr__C': 100}\n",
      "0.703 (+/-0.010) for {'kbest__k': 4, 'lr__C': 1000}\n",
      "0.701 (+/-0.014) for {'kbest__k': 5, 'lr__C': 0.001}\n",
      "0.705 (+/-0.011) for {'kbest__k': 5, 'lr__C': 0.01}\n",
      "0.705 (+/-0.013) for {'kbest__k': 5, 'lr__C': 0.1}\n",
      "0.705 (+/-0.013) for {'kbest__k': 5, 'lr__C': 1}\n",
      "0.705 (+/-0.012) for {'kbest__k': 5, 'lr__C': 10}\n",
      "0.705 (+/-0.012) for {'kbest__k': 5, 'lr__C': 100}\n",
      "0.705 (+/-0.013) for {'kbest__k': 5, 'lr__C': 1000}\n",
      "0.701 (+/-0.013) for {'kbest__k': 6, 'lr__C': 0.001}\n",
      "0.711 (+/-0.017) for {'kbest__k': 6, 'lr__C': 0.01}\n",
      "0.714 (+/-0.012) for {'kbest__k': 6, 'lr__C': 0.1}\n",
      "0.715 (+/-0.012) for {'kbest__k': 6, 'lr__C': 1}\n",
      "0.715 (+/-0.011) for {'kbest__k': 6, 'lr__C': 10}\n",
      "0.715 (+/-0.011) for {'kbest__k': 6, 'lr__C': 100}\n",
      "0.715 (+/-0.011) for {'kbest__k': 6, 'lr__C': 1000}\n",
      "0.719 (+/-0.009) for {'kbest__k': 7, 'lr__C': 0.001}\n",
      "0.723 (+/-0.012) for {'kbest__k': 7, 'lr__C': 0.01}\n",
      "0.724 (+/-0.013) for {'kbest__k': 7, 'lr__C': 0.1}\n",
      "0.722 (+/-0.009) for {'kbest__k': 7, 'lr__C': 1}\n",
      "0.722 (+/-0.008) for {'kbest__k': 7, 'lr__C': 10}\n",
      "0.722 (+/-0.009) for {'kbest__k': 7, 'lr__C': 100}\n",
      "0.722 (+/-0.009) for {'kbest__k': 7, 'lr__C': 1000}\n",
      "0.718 (+/-0.014) for {'kbest__k': 8, 'lr__C': 0.001}\n",
      "0.722 (+/-0.012) for {'kbest__k': 8, 'lr__C': 0.01}\n",
      "0.723 (+/-0.013) for {'kbest__k': 8, 'lr__C': 0.1}\n",
      "0.722 (+/-0.010) for {'kbest__k': 8, 'lr__C': 1}\n",
      "0.721 (+/-0.011) for {'kbest__k': 8, 'lr__C': 10}\n",
      "0.721 (+/-0.011) for {'kbest__k': 8, 'lr__C': 100}\n",
      "0.721 (+/-0.011) for {'kbest__k': 8, 'lr__C': 1000}\n",
      "0.716 (+/-0.007) for {'kbest__k': 9, 'lr__C': 0.001}\n",
      "0.722 (+/-0.013) for {'kbest__k': 9, 'lr__C': 0.01}\n",
      "0.723 (+/-0.013) for {'kbest__k': 9, 'lr__C': 0.1}\n",
      "0.723 (+/-0.011) for {'kbest__k': 9, 'lr__C': 1}\n",
      "0.722 (+/-0.011) for {'kbest__k': 9, 'lr__C': 10}\n",
      "0.722 (+/-0.011) for {'kbest__k': 9, 'lr__C': 100}\n",
      "0.722 (+/-0.011) for {'kbest__k': 9, 'lr__C': 1000}\n",
      "0.723 (+/-0.009) for {'kbest__k': 10, 'lr__C': 0.001}\n",
      "0.724 (+/-0.007) for {'kbest__k': 10, 'lr__C': 0.01}\n",
      "0.725 (+/-0.015) for {'kbest__k': 10, 'lr__C': 0.1}\n",
      "0.725 (+/-0.014) for {'kbest__k': 10, 'lr__C': 1}\n",
      "0.726 (+/-0.015) for {'kbest__k': 10, 'lr__C': 10}\n",
      "0.726 (+/-0.015) for {'kbest__k': 10, 'lr__C': 100}\n",
      "0.726 (+/-0.015) for {'kbest__k': 10, 'lr__C': 1000}\n",
      "0.722 (+/-0.009) for {'kbest__k': 11, 'lr__C': 0.001}\n",
      "0.728 (+/-0.006) for {'kbest__k': 11, 'lr__C': 0.01}\n",
      "0.727 (+/-0.015) for {'kbest__k': 11, 'lr__C': 0.1}\n",
      "0.727 (+/-0.014) for {'kbest__k': 11, 'lr__C': 1}\n",
      "0.727 (+/-0.016) for {'kbest__k': 11, 'lr__C': 10}\n",
      "0.727 (+/-0.015) for {'kbest__k': 11, 'lr__C': 100}\n",
      "0.727 (+/-0.015) for {'kbest__k': 11, 'lr__C': 1000}\n",
      "0.723 (+/-0.006) for {'kbest__k': 12, 'lr__C': 0.001}\n",
      "0.730 (+/-0.005) for {'kbest__k': 12, 'lr__C': 0.01}\n",
      "0.731 (+/-0.007) for {'kbest__k': 12, 'lr__C': 0.1}\n",
      "0.730 (+/-0.008) for {'kbest__k': 12, 'lr__C': 1}\n",
      "0.730 (+/-0.008) for {'kbest__k': 12, 'lr__C': 10}\n",
      "0.730 (+/-0.008) for {'kbest__k': 12, 'lr__C': 100}\n",
      "0.730 (+/-0.008) for {'kbest__k': 12, 'lr__C': 1000}\n",
      "0.724 (+/-0.005) for {'kbest__k': 13, 'lr__C': 0.001}\n",
      "0.730 (+/-0.005) for {'kbest__k': 13, 'lr__C': 0.01}\n",
      "0.730 (+/-0.006) for {'kbest__k': 13, 'lr__C': 0.1}\n",
      "0.730 (+/-0.006) for {'kbest__k': 13, 'lr__C': 1}\n",
      "0.730 (+/-0.006) for {'kbest__k': 13, 'lr__C': 10}\n",
      "0.730 (+/-0.007) for {'kbest__k': 13, 'lr__C': 100}\n",
      "0.730 (+/-0.007) for {'kbest__k': 13, 'lr__C': 1000}\n",
      "0.723 (+/-0.007) for {'kbest__k': 14, 'lr__C': 0.001}\n",
      "0.730 (+/-0.003) for {'kbest__k': 14, 'lr__C': 0.01}\n",
      "0.732 (+/-0.005) for {'kbest__k': 14, 'lr__C': 0.1}\n",
      "0.731 (+/-0.005) for {'kbest__k': 14, 'lr__C': 1}\n",
      "0.730 (+/-0.006) for {'kbest__k': 14, 'lr__C': 10}\n",
      "0.730 (+/-0.006) for {'kbest__k': 14, 'lr__C': 100}\n",
      "0.730 (+/-0.006) for {'kbest__k': 14, 'lr__C': 1000}\n",
      "0.723 (+/-0.006) for {'kbest__k': 15, 'lr__C': 0.001}\n",
      "0.730 (+/-0.003) for {'kbest__k': 15, 'lr__C': 0.01}\n",
      "0.730 (+/-0.008) for {'kbest__k': 15, 'lr__C': 0.1}\n",
      "0.731 (+/-0.010) for {'kbest__k': 15, 'lr__C': 1}\n",
      "0.730 (+/-0.009) for {'kbest__k': 15, 'lr__C': 10}\n",
      "0.730 (+/-0.008) for {'kbest__k': 15, 'lr__C': 100}\n",
      "0.730 (+/-0.008) for {'kbest__k': 15, 'lr__C': 1000}\n",
      "0.723 (+/-0.006) for {'kbest__k': 16, 'lr__C': 0.001}\n",
      "0.730 (+/-0.004) for {'kbest__k': 16, 'lr__C': 0.01}\n",
      "0.731 (+/-0.009) for {'kbest__k': 16, 'lr__C': 0.1}\n",
      "0.731 (+/-0.009) for {'kbest__k': 16, 'lr__C': 1}\n",
      "0.730 (+/-0.009) for {'kbest__k': 16, 'lr__C': 10}\n",
      "0.730 (+/-0.008) for {'kbest__k': 16, 'lr__C': 100}\n",
      "0.730 (+/-0.008) for {'kbest__k': 16, 'lr__C': 1000}\n",
      "0.721 (+/-0.005) for {'kbest__k': 17, 'lr__C': 0.001}\n",
      "0.730 (+/-0.006) for {'kbest__k': 17, 'lr__C': 0.01}\n",
      "0.730 (+/-0.009) for {'kbest__k': 17, 'lr__C': 0.1}\n",
      "0.731 (+/-0.010) for {'kbest__k': 17, 'lr__C': 1}\n",
      "0.730 (+/-0.008) for {'kbest__k': 17, 'lr__C': 10}\n",
      "0.730 (+/-0.008) for {'kbest__k': 17, 'lr__C': 100}\n",
      "0.730 (+/-0.008) for {'kbest__k': 17, 'lr__C': 1000}\n",
      "0.721 (+/-0.003) for {'kbest__k': 18, 'lr__C': 0.001}\n",
      "0.730 (+/-0.005) for {'kbest__k': 18, 'lr__C': 0.01}\n",
      "0.731 (+/-0.011) for {'kbest__k': 18, 'lr__C': 0.1}\n",
      "0.731 (+/-0.011) for {'kbest__k': 18, 'lr__C': 1}\n",
      "0.730 (+/-0.008) for {'kbest__k': 18, 'lr__C': 10}\n",
      "0.729 (+/-0.009) for {'kbest__k': 18, 'lr__C': 100}\n",
      "0.729 (+/-0.009) for {'kbest__k': 18, 'lr__C': 1000}\n",
      "0.732 (+/-0.019) for {'kbest__k': 19, 'lr__C': 0.001}\n",
      "0.741 (+/-0.023) for {'kbest__k': 19, 'lr__C': 0.01}\n",
      "0.742 (+/-0.028) for {'kbest__k': 19, 'lr__C': 0.1}\n",
      "0.742 (+/-0.028) for {'kbest__k': 19, 'lr__C': 1}\n",
      "0.742 (+/-0.026) for {'kbest__k': 19, 'lr__C': 10}\n",
      "0.741 (+/-0.026) for {'kbest__k': 19, 'lr__C': 100}\n",
      "0.741 (+/-0.026) for {'kbest__k': 19, 'lr__C': 1000}\n",
      "0.737 (+/-0.008) for {'kbest__k': 20, 'lr__C': 0.001}\n",
      "0.744 (+/-0.007) for {'kbest__k': 20, 'lr__C': 0.01}\n",
      "0.746 (+/-0.010) for {'kbest__k': 20, 'lr__C': 0.1}\n",
      "0.747 (+/-0.009) for {'kbest__k': 20, 'lr__C': 1}\n",
      "0.748 (+/-0.009) for {'kbest__k': 20, 'lr__C': 10}\n",
      "0.748 (+/-0.008) for {'kbest__k': 20, 'lr__C': 100}\n",
      "0.748 (+/-0.008) for {'kbest__k': 20, 'lr__C': 1000}\n",
      "\n",
      "Detailed classification report:\n",
      "\n",
      "The model is trained on the full development set.\n",
      "The scores are computed on the full evaluation set.\n",
      "\n",
      "             precision    recall  f1-score   support\n",
      "\n",
      "          0       0.76      0.68      0.72       867\n",
      "          1       0.75      0.82      0.78      1004\n",
      "\n",
      "avg / total       0.75      0.75      0.75      1871\n",
      "\n",
      "[[587 280]\n",
      " [181 823]]\n",
      "\n"
     ]
    }
   ],
   "source": [
    "print(\"Best parameters set found on development set:\")\n",
    "print()\n",
    "print(grid_search.best_params_)\n",
    "print()\n",
    "print(\"Grid scores on development set:\")\n",
    "print()\n",
    "means = grid_search.cv_results_['mean_test_score']\n",
    "stds = grid_search.cv_results_['std_test_score']\n",
    "for mean, std, params in zip(means, stds, grid_search.cv_results_['params']):\n",
    "    print(\"%0.3f (+/-%0.03f) for %r\"% (mean, std * 2, params))\n",
    "print()\n",
    "\n",
    "print(\"Detailed classification report:\")\n",
    "print()\n",
    "print(\"The model is trained on the full development set.\")\n",
    "print(\"The scores are computed on the full evaluation set.\")\n",
    "print()\n",
    "y_true, y_pred = y_test, grid_search.predict(X_test)\n",
    "print(classification_report(y_true, y_pred))\n",
    "print(confusion_matrix(y_true, y_pred))\n",
    "print()"
   ]
  },
  {
   "cell_type": "markdown",
   "metadata": {},
   "source": [
    "By scaling the data using the StandardScaler, the accuracy increased."
   ]
  },
  {
   "cell_type": "code",
   "execution_count": 66,
   "metadata": {},
   "outputs": [
    {
     "data": {
      "text/plain": [
       "GridSearchCV(cv=5, error_score='raise',\n",
       "       estimator=Pipeline(memory=None,\n",
       "     steps=[('stdScaler', StandardScaler(copy=True, with_mean=True, with_std=True)), ('kbest', SelectKBest(k=10, score_func=<function f_classif at 0x0000016AA1A898C8>)), ('clf', RandomForestClassifier(bootstrap=True, class_weight=None, criterion='gini',\n",
       "            max_depth=None, max_features='auto', ma...n_jobs=1,\n",
       "            oob_score=False, random_state=None, verbose=0,\n",
       "            warm_start=False))]),\n",
       "       fit_params=None, iid=True, n_jobs=1,\n",
       "       param_grid={'kbest__k': [1, 2, 3, 4, 5, 6, 7, 8, 9, 10, 11, 12, 13, 14, 15, 16, 17, 18, 19, 20], 'clf__n_estimators': [5, 40, 42, 100], 'clf__max_depth': [5, 6], 'clf__min_samples_split': [5, 10], 'clf__min_samples_leaf': [3, 5], 'clf__max_leaf_nodes': [14, 15]},\n",
       "       pre_dispatch='2*n_jobs', refit=True, return_train_score='warn',\n",
       "       scoring=None, verbose=0)"
      ]
     },
     "execution_count": 66,
     "metadata": {},
     "output_type": "execute_result"
    }
   ],
   "source": [
    "kbest = SelectKBest(f_classif)\n",
    "stdScaler = StandardScaler()\n",
    "pipeline = Pipeline([('stdScaler', stdScaler), ('kbest', kbest), ('clf', RandomForestClassifier())])\n",
    "grid_search = GridSearchCV(pipeline, {'kbest__k': [1,2,3,4,5, 6,7,8, 9, 10, 11, 12, 13, 14, 15, 16, 17, 18, 19, 20], 'clf__n_estimators': [5, 40, 42, 100], \"clf__max_depth\": [5, 6],\n",
    "              \"clf__min_samples_split\": [5, 10],\n",
    "              \"clf__min_samples_leaf\": [3, 5],\n",
    "              \"clf__max_leaf_nodes\": [14, 15]}, cv = 5)\n",
    "grid_search.fit(X_train, y_train)"
   ]
  },
  {
   "cell_type": "code",
   "execution_count": 67,
   "metadata": {},
   "outputs": [
    {
     "name": "stdout",
     "output_type": "stream",
     "text": [
      "Best parameters set found on development set:\n",
      "\n",
      "{'clf__max_depth': 5, 'clf__max_leaf_nodes': 15, 'clf__min_samples_leaf': 5, 'clf__min_samples_split': 5, 'clf__n_estimators': 40, 'kbest__k': 20}\n",
      "\n",
      "Grid scores on development set:\n",
      "\n",
      "0.691 (+/-0.019) for {'clf__max_depth': 5, 'clf__max_leaf_nodes': 14, 'clf__min_samples_leaf': 3, 'clf__min_samples_split': 5, 'clf__n_estimators': 5, 'kbest__k': 1}\n",
      "0.693 (+/-0.009) for {'clf__max_depth': 5, 'clf__max_leaf_nodes': 14, 'clf__min_samples_leaf': 3, 'clf__min_samples_split': 5, 'clf__n_estimators': 5, 'kbest__k': 2}\n",
      "0.693 (+/-0.009) for {'clf__max_depth': 5, 'clf__max_leaf_nodes': 14, 'clf__min_samples_leaf': 3, 'clf__min_samples_split': 5, 'clf__n_estimators': 5, 'kbest__k': 3}\n",
      "0.690 (+/-0.010) for {'clf__max_depth': 5, 'clf__max_leaf_nodes': 14, 'clf__min_samples_leaf': 3, 'clf__min_samples_split': 5, 'clf__n_estimators': 5, 'kbest__k': 4}\n",
      "0.702 (+/-0.012) for {'clf__max_depth': 5, 'clf__max_leaf_nodes': 14, 'clf__min_samples_leaf': 3, 'clf__min_samples_split': 5, 'clf__n_estimators': 5, 'kbest__k': 5}\n",
      "0.698 (+/-0.019) for {'clf__max_depth': 5, 'clf__max_leaf_nodes': 14, 'clf__min_samples_leaf': 3, 'clf__min_samples_split': 5, 'clf__n_estimators': 5, 'kbest__k': 6}\n",
      "0.718 (+/-0.008) for {'clf__max_depth': 5, 'clf__max_leaf_nodes': 14, 'clf__min_samples_leaf': 3, 'clf__min_samples_split': 5, 'clf__n_estimators': 5, 'kbest__k': 7}\n",
      "0.719 (+/-0.006) for {'clf__max_depth': 5, 'clf__max_leaf_nodes': 14, 'clf__min_samples_leaf': 3, 'clf__min_samples_split': 5, 'clf__n_estimators': 5, 'kbest__k': 8}\n",
      "0.719 (+/-0.008) for {'clf__max_depth': 5, 'clf__max_leaf_nodes': 14, 'clf__min_samples_leaf': 3, 'clf__min_samples_split': 5, 'clf__n_estimators': 5, 'kbest__k': 9}\n",
      "0.719 (+/-0.017) for {'clf__max_depth': 5, 'clf__max_leaf_nodes': 14, 'clf__min_samples_leaf': 3, 'clf__min_samples_split': 5, 'clf__n_estimators': 5, 'kbest__k': 10}\n",
      "0.715 (+/-0.014) for {'clf__max_depth': 5, 'clf__max_leaf_nodes': 14, 'clf__min_samples_leaf': 3, 'clf__min_samples_split': 5, 'clf__n_estimators': 5, 'kbest__k': 11}\n",
      "0.717 (+/-0.024) for {'clf__max_depth': 5, 'clf__max_leaf_nodes': 14, 'clf__min_samples_leaf': 3, 'clf__min_samples_split': 5, 'clf__n_estimators': 5, 'kbest__k': 12}\n",
      "0.718 (+/-0.017) for {'clf__max_depth': 5, 'clf__max_leaf_nodes': 14, 'clf__min_samples_leaf': 3, 'clf__min_samples_split': 5, 'clf__n_estimators': 5, 'kbest__k': 13}\n",
      "0.718 (+/-0.011) for {'clf__max_depth': 5, 'clf__max_leaf_nodes': 14, 'clf__min_samples_leaf': 3, 'clf__min_samples_split': 5, 'clf__n_estimators': 5, 'kbest__k': 14}\n",
      "0.718 (+/-0.005) for {'clf__max_depth': 5, 'clf__max_leaf_nodes': 14, 'clf__min_samples_leaf': 3, 'clf__min_samples_split': 5, 'clf__n_estimators': 5, 'kbest__k': 15}\n",
      "0.721 (+/-0.011) for {'clf__max_depth': 5, 'clf__max_leaf_nodes': 14, 'clf__min_samples_leaf': 3, 'clf__min_samples_split': 5, 'clf__n_estimators': 5, 'kbest__k': 16}\n",
      "0.719 (+/-0.016) for {'clf__max_depth': 5, 'clf__max_leaf_nodes': 14, 'clf__min_samples_leaf': 3, 'clf__min_samples_split': 5, 'clf__n_estimators': 5, 'kbest__k': 17}\n",
      "0.716 (+/-0.011) for {'clf__max_depth': 5, 'clf__max_leaf_nodes': 14, 'clf__min_samples_leaf': 3, 'clf__min_samples_split': 5, 'clf__n_estimators': 5, 'kbest__k': 18}\n",
      "0.719 (+/-0.013) for {'clf__max_depth': 5, 'clf__max_leaf_nodes': 14, 'clf__min_samples_leaf': 3, 'clf__min_samples_split': 5, 'clf__n_estimators': 5, 'kbest__k': 19}\n",
      "0.717 (+/-0.011) for {'clf__max_depth': 5, 'clf__max_leaf_nodes': 14, 'clf__min_samples_leaf': 3, 'clf__min_samples_split': 5, 'clf__n_estimators': 5, 'kbest__k': 20}\n",
      "0.693 (+/-0.021) for {'clf__max_depth': 5, 'clf__max_leaf_nodes': 14, 'clf__min_samples_leaf': 3, 'clf__min_samples_split': 5, 'clf__n_estimators': 40, 'kbest__k': 1}\n",
      "0.697 (+/-0.010) for {'clf__max_depth': 5, 'clf__max_leaf_nodes': 14, 'clf__min_samples_leaf': 3, 'clf__min_samples_split': 5, 'clf__n_estimators': 40, 'kbest__k': 2}\n",
      "0.694 (+/-0.009) for {'clf__max_depth': 5, 'clf__max_leaf_nodes': 14, 'clf__min_samples_leaf': 3, 'clf__min_samples_split': 5, 'clf__n_estimators': 40, 'kbest__k': 3}\n",
      "0.697 (+/-0.011) for {'clf__max_depth': 5, 'clf__max_leaf_nodes': 14, 'clf__min_samples_leaf': 3, 'clf__min_samples_split': 5, 'clf__n_estimators': 40, 'kbest__k': 4}\n",
      "0.701 (+/-0.014) for {'clf__max_depth': 5, 'clf__max_leaf_nodes': 14, 'clf__min_samples_leaf': 3, 'clf__min_samples_split': 5, 'clf__n_estimators': 40, 'kbest__k': 5}\n",
      "0.705 (+/-0.011) for {'clf__max_depth': 5, 'clf__max_leaf_nodes': 14, 'clf__min_samples_leaf': 3, 'clf__min_samples_split': 5, 'clf__n_estimators': 40, 'kbest__k': 6}\n",
      "0.720 (+/-0.014) for {'clf__max_depth': 5, 'clf__max_leaf_nodes': 14, 'clf__min_samples_leaf': 3, 'clf__min_samples_split': 5, 'clf__n_estimators': 40, 'kbest__k': 7}\n",
      "0.721 (+/-0.007) for {'clf__max_depth': 5, 'clf__max_leaf_nodes': 14, 'clf__min_samples_leaf': 3, 'clf__min_samples_split': 5, 'clf__n_estimators': 40, 'kbest__k': 8}\n",
      "0.727 (+/-0.001) for {'clf__max_depth': 5, 'clf__max_leaf_nodes': 14, 'clf__min_samples_leaf': 3, 'clf__min_samples_split': 5, 'clf__n_estimators': 40, 'kbest__k': 9}\n",
      "0.726 (+/-0.007) for {'clf__max_depth': 5, 'clf__max_leaf_nodes': 14, 'clf__min_samples_leaf': 3, 'clf__min_samples_split': 5, 'clf__n_estimators': 40, 'kbest__k': 10}\n",
      "0.728 (+/-0.006) for {'clf__max_depth': 5, 'clf__max_leaf_nodes': 14, 'clf__min_samples_leaf': 3, 'clf__min_samples_split': 5, 'clf__n_estimators': 40, 'kbest__k': 11}\n",
      "0.725 (+/-0.012) for {'clf__max_depth': 5, 'clf__max_leaf_nodes': 14, 'clf__min_samples_leaf': 3, 'clf__min_samples_split': 5, 'clf__n_estimators': 40, 'kbest__k': 12}\n",
      "0.729 (+/-0.009) for {'clf__max_depth': 5, 'clf__max_leaf_nodes': 14, 'clf__min_samples_leaf': 3, 'clf__min_samples_split': 5, 'clf__n_estimators': 40, 'kbest__k': 13}\n",
      "0.725 (+/-0.008) for {'clf__max_depth': 5, 'clf__max_leaf_nodes': 14, 'clf__min_samples_leaf': 3, 'clf__min_samples_split': 5, 'clf__n_estimators': 40, 'kbest__k': 14}\n",
      "0.726 (+/-0.010) for {'clf__max_depth': 5, 'clf__max_leaf_nodes': 14, 'clf__min_samples_leaf': 3, 'clf__min_samples_split': 5, 'clf__n_estimators': 40, 'kbest__k': 15}\n",
      "0.728 (+/-0.008) for {'clf__max_depth': 5, 'clf__max_leaf_nodes': 14, 'clf__min_samples_leaf': 3, 'clf__min_samples_split': 5, 'clf__n_estimators': 40, 'kbest__k': 16}\n",
      "0.724 (+/-0.006) for {'clf__max_depth': 5, 'clf__max_leaf_nodes': 14, 'clf__min_samples_leaf': 3, 'clf__min_samples_split': 5, 'clf__n_estimators': 40, 'kbest__k': 17}\n",
      "0.727 (+/-0.007) for {'clf__max_depth': 5, 'clf__max_leaf_nodes': 14, 'clf__min_samples_leaf': 3, 'clf__min_samples_split': 5, 'clf__n_estimators': 40, 'kbest__k': 18}\n",
      "0.730 (+/-0.009) for {'clf__max_depth': 5, 'clf__max_leaf_nodes': 14, 'clf__min_samples_leaf': 3, 'clf__min_samples_split': 5, 'clf__n_estimators': 40, 'kbest__k': 19}\n",
      "0.730 (+/-0.011) for {'clf__max_depth': 5, 'clf__max_leaf_nodes': 14, 'clf__min_samples_leaf': 3, 'clf__min_samples_split': 5, 'clf__n_estimators': 40, 'kbest__k': 20}\n",
      "0.691 (+/-0.019) for {'clf__max_depth': 5, 'clf__max_leaf_nodes': 14, 'clf__min_samples_leaf': 3, 'clf__min_samples_split': 5, 'clf__n_estimators': 42, 'kbest__k': 1}\n",
      "0.697 (+/-0.009) for {'clf__max_depth': 5, 'clf__max_leaf_nodes': 14, 'clf__min_samples_leaf': 3, 'clf__min_samples_split': 5, 'clf__n_estimators': 42, 'kbest__k': 2}\n",
      "0.695 (+/-0.006) for {'clf__max_depth': 5, 'clf__max_leaf_nodes': 14, 'clf__min_samples_leaf': 3, 'clf__min_samples_split': 5, 'clf__n_estimators': 42, 'kbest__k': 3}\n",
      "0.699 (+/-0.008) for {'clf__max_depth': 5, 'clf__max_leaf_nodes': 14, 'clf__min_samples_leaf': 3, 'clf__min_samples_split': 5, 'clf__n_estimators': 42, 'kbest__k': 4}\n",
      "0.702 (+/-0.010) for {'clf__max_depth': 5, 'clf__max_leaf_nodes': 14, 'clf__min_samples_leaf': 3, 'clf__min_samples_split': 5, 'clf__n_estimators': 42, 'kbest__k': 5}\n",
      "0.705 (+/-0.012) for {'clf__max_depth': 5, 'clf__max_leaf_nodes': 14, 'clf__min_samples_leaf': 3, 'clf__min_samples_split': 5, 'clf__n_estimators': 42, 'kbest__k': 6}\n",
      "0.722 (+/-0.009) for {'clf__max_depth': 5, 'clf__max_leaf_nodes': 14, 'clf__min_samples_leaf': 3, 'clf__min_samples_split': 5, 'clf__n_estimators': 42, 'kbest__k': 7}\n"
     ]
    },
    {
     "name": "stdout",
     "output_type": "stream",
     "text": [
      "0.724 (+/-0.013) for {'clf__max_depth': 5, 'clf__max_leaf_nodes': 14, 'clf__min_samples_leaf': 3, 'clf__min_samples_split': 5, 'clf__n_estimators': 42, 'kbest__k': 8}\n",
      "0.727 (+/-0.005) for {'clf__max_depth': 5, 'clf__max_leaf_nodes': 14, 'clf__min_samples_leaf': 3, 'clf__min_samples_split': 5, 'clf__n_estimators': 42, 'kbest__k': 9}\n",
      "0.730 (+/-0.009) for {'clf__max_depth': 5, 'clf__max_leaf_nodes': 14, 'clf__min_samples_leaf': 3, 'clf__min_samples_split': 5, 'clf__n_estimators': 42, 'kbest__k': 10}\n",
      "0.725 (+/-0.011) for {'clf__max_depth': 5, 'clf__max_leaf_nodes': 14, 'clf__min_samples_leaf': 3, 'clf__min_samples_split': 5, 'clf__n_estimators': 42, 'kbest__k': 11}\n",
      "0.727 (+/-0.011) for {'clf__max_depth': 5, 'clf__max_leaf_nodes': 14, 'clf__min_samples_leaf': 3, 'clf__min_samples_split': 5, 'clf__n_estimators': 42, 'kbest__k': 12}\n",
      "0.723 (+/-0.008) for {'clf__max_depth': 5, 'clf__max_leaf_nodes': 14, 'clf__min_samples_leaf': 3, 'clf__min_samples_split': 5, 'clf__n_estimators': 42, 'kbest__k': 13}\n",
      "0.728 (+/-0.007) for {'clf__max_depth': 5, 'clf__max_leaf_nodes': 14, 'clf__min_samples_leaf': 3, 'clf__min_samples_split': 5, 'clf__n_estimators': 42, 'kbest__k': 14}\n",
      "0.723 (+/-0.009) for {'clf__max_depth': 5, 'clf__max_leaf_nodes': 14, 'clf__min_samples_leaf': 3, 'clf__min_samples_split': 5, 'clf__n_estimators': 42, 'kbest__k': 15}\n",
      "0.726 (+/-0.007) for {'clf__max_depth': 5, 'clf__max_leaf_nodes': 14, 'clf__min_samples_leaf': 3, 'clf__min_samples_split': 5, 'clf__n_estimators': 42, 'kbest__k': 16}\n",
      "0.729 (+/-0.012) for {'clf__max_depth': 5, 'clf__max_leaf_nodes': 14, 'clf__min_samples_leaf': 3, 'clf__min_samples_split': 5, 'clf__n_estimators': 42, 'kbest__k': 17}\n",
      "0.725 (+/-0.007) for {'clf__max_depth': 5, 'clf__max_leaf_nodes': 14, 'clf__min_samples_leaf': 3, 'clf__min_samples_split': 5, 'clf__n_estimators': 42, 'kbest__k': 18}\n",
      "0.727 (+/-0.007) for {'clf__max_depth': 5, 'clf__max_leaf_nodes': 14, 'clf__min_samples_leaf': 3, 'clf__min_samples_split': 5, 'clf__n_estimators': 42, 'kbest__k': 19}\n",
      "0.728 (+/-0.006) for {'clf__max_depth': 5, 'clf__max_leaf_nodes': 14, 'clf__min_samples_leaf': 3, 'clf__min_samples_split': 5, 'clf__n_estimators': 42, 'kbest__k': 20}\n",
      "0.691 (+/-0.019) for {'clf__max_depth': 5, 'clf__max_leaf_nodes': 14, 'clf__min_samples_leaf': 3, 'clf__min_samples_split': 5, 'clf__n_estimators': 100, 'kbest__k': 1}\n",
      "0.695 (+/-0.004) for {'clf__max_depth': 5, 'clf__max_leaf_nodes': 14, 'clf__min_samples_leaf': 3, 'clf__min_samples_split': 5, 'clf__n_estimators': 100, 'kbest__k': 2}\n",
      "0.695 (+/-0.010) for {'clf__max_depth': 5, 'clf__max_leaf_nodes': 14, 'clf__min_samples_leaf': 3, 'clf__min_samples_split': 5, 'clf__n_estimators': 100, 'kbest__k': 3}\n",
      "0.698 (+/-0.010) for {'clf__max_depth': 5, 'clf__max_leaf_nodes': 14, 'clf__min_samples_leaf': 3, 'clf__min_samples_split': 5, 'clf__n_estimators': 100, 'kbest__k': 4}\n",
      "0.701 (+/-0.014) for {'clf__max_depth': 5, 'clf__max_leaf_nodes': 14, 'clf__min_samples_leaf': 3, 'clf__min_samples_split': 5, 'clf__n_estimators': 100, 'kbest__k': 5}\n",
      "0.701 (+/-0.011) for {'clf__max_depth': 5, 'clf__max_leaf_nodes': 14, 'clf__min_samples_leaf': 3, 'clf__min_samples_split': 5, 'clf__n_estimators': 100, 'kbest__k': 6}\n",
      "0.720 (+/-0.008) for {'clf__max_depth': 5, 'clf__max_leaf_nodes': 14, 'clf__min_samples_leaf': 3, 'clf__min_samples_split': 5, 'clf__n_estimators': 100, 'kbest__k': 7}\n",
      "0.726 (+/-0.006) for {'clf__max_depth': 5, 'clf__max_leaf_nodes': 14, 'clf__min_samples_leaf': 3, 'clf__min_samples_split': 5, 'clf__n_estimators': 100, 'kbest__k': 8}\n",
      "0.728 (+/-0.009) for {'clf__max_depth': 5, 'clf__max_leaf_nodes': 14, 'clf__min_samples_leaf': 3, 'clf__min_samples_split': 5, 'clf__n_estimators': 100, 'kbest__k': 9}\n",
      "0.729 (+/-0.008) for {'clf__max_depth': 5, 'clf__max_leaf_nodes': 14, 'clf__min_samples_leaf': 3, 'clf__min_samples_split': 5, 'clf__n_estimators': 100, 'kbest__k': 10}\n",
      "0.724 (+/-0.010) for {'clf__max_depth': 5, 'clf__max_leaf_nodes': 14, 'clf__min_samples_leaf': 3, 'clf__min_samples_split': 5, 'clf__n_estimators': 100, 'kbest__k': 11}\n",
      "0.727 (+/-0.006) for {'clf__max_depth': 5, 'clf__max_leaf_nodes': 14, 'clf__min_samples_leaf': 3, 'clf__min_samples_split': 5, 'clf__n_estimators': 100, 'kbest__k': 12}\n",
      "0.726 (+/-0.005) for {'clf__max_depth': 5, 'clf__max_leaf_nodes': 14, 'clf__min_samples_leaf': 3, 'clf__min_samples_split': 5, 'clf__n_estimators': 100, 'kbest__k': 13}\n",
      "0.725 (+/-0.007) for {'clf__max_depth': 5, 'clf__max_leaf_nodes': 14, 'clf__min_samples_leaf': 3, 'clf__min_samples_split': 5, 'clf__n_estimators': 100, 'kbest__k': 14}\n",
      "0.726 (+/-0.007) for {'clf__max_depth': 5, 'clf__max_leaf_nodes': 14, 'clf__min_samples_leaf': 3, 'clf__min_samples_split': 5, 'clf__n_estimators': 100, 'kbest__k': 15}\n",
      "0.728 (+/-0.005) for {'clf__max_depth': 5, 'clf__max_leaf_nodes': 14, 'clf__min_samples_leaf': 3, 'clf__min_samples_split': 5, 'clf__n_estimators': 100, 'kbest__k': 16}\n",
      "0.727 (+/-0.004) for {'clf__max_depth': 5, 'clf__max_leaf_nodes': 14, 'clf__min_samples_leaf': 3, 'clf__min_samples_split': 5, 'clf__n_estimators': 100, 'kbest__k': 17}\n",
      "0.725 (+/-0.007) for {'clf__max_depth': 5, 'clf__max_leaf_nodes': 14, 'clf__min_samples_leaf': 3, 'clf__min_samples_split': 5, 'clf__n_estimators': 100, 'kbest__k': 18}\n",
      "0.728 (+/-0.008) for {'clf__max_depth': 5, 'clf__max_leaf_nodes': 14, 'clf__min_samples_leaf': 3, 'clf__min_samples_split': 5, 'clf__n_estimators': 100, 'kbest__k': 19}\n",
      "0.729 (+/-0.006) for {'clf__max_depth': 5, 'clf__max_leaf_nodes': 14, 'clf__min_samples_leaf': 3, 'clf__min_samples_split': 5, 'clf__n_estimators': 100, 'kbest__k': 20}\n",
      "0.691 (+/-0.019) for {'clf__max_depth': 5, 'clf__max_leaf_nodes': 14, 'clf__min_samples_leaf': 3, 'clf__min_samples_split': 10, 'clf__n_estimators': 5, 'kbest__k': 1}\n",
      "0.696 (+/-0.013) for {'clf__max_depth': 5, 'clf__max_leaf_nodes': 14, 'clf__min_samples_leaf': 3, 'clf__min_samples_split': 10, 'clf__n_estimators': 5, 'kbest__k': 2}\n",
      "0.690 (+/-0.010) for {'clf__max_depth': 5, 'clf__max_leaf_nodes': 14, 'clf__min_samples_leaf': 3, 'clf__min_samples_split': 10, 'clf__n_estimators': 5, 'kbest__k': 3}\n",
      "0.694 (+/-0.017) for {'clf__max_depth': 5, 'clf__max_leaf_nodes': 14, 'clf__min_samples_leaf': 3, 'clf__min_samples_split': 10, 'clf__n_estimators': 5, 'kbest__k': 4}\n",
      "0.698 (+/-0.012) for {'clf__max_depth': 5, 'clf__max_leaf_nodes': 14, 'clf__min_samples_leaf': 3, 'clf__min_samples_split': 10, 'clf__n_estimators': 5, 'kbest__k': 5}\n",
      "0.703 (+/-0.010) for {'clf__max_depth': 5, 'clf__max_leaf_nodes': 14, 'clf__min_samples_leaf': 3, 'clf__min_samples_split': 10, 'clf__n_estimators': 5, 'kbest__k': 6}\n",
      "0.712 (+/-0.005) for {'clf__max_depth': 5, 'clf__max_leaf_nodes': 14, 'clf__min_samples_leaf': 3, 'clf__min_samples_split': 10, 'clf__n_estimators': 5, 'kbest__k': 7}\n",
      "0.713 (+/-0.014) for {'clf__max_depth': 5, 'clf__max_leaf_nodes': 14, 'clf__min_samples_leaf': 3, 'clf__min_samples_split': 10, 'clf__n_estimators': 5, 'kbest__k': 8}\n",
      "0.717 (+/-0.017) for {'clf__max_depth': 5, 'clf__max_leaf_nodes': 14, 'clf__min_samples_leaf': 3, 'clf__min_samples_split': 10, 'clf__n_estimators': 5, 'kbest__k': 9}\n",
      "0.722 (+/-0.008) for {'clf__max_depth': 5, 'clf__max_leaf_nodes': 14, 'clf__min_samples_leaf': 3, 'clf__min_samples_split': 10, 'clf__n_estimators': 5, 'kbest__k': 10}\n",
      "0.715 (+/-0.016) for {'clf__max_depth': 5, 'clf__max_leaf_nodes': 14, 'clf__min_samples_leaf': 3, 'clf__min_samples_split': 10, 'clf__n_estimators': 5, 'kbest__k': 11}\n",
      "0.714 (+/-0.013) for {'clf__max_depth': 5, 'clf__max_leaf_nodes': 14, 'clf__min_samples_leaf': 3, 'clf__min_samples_split': 10, 'clf__n_estimators': 5, 'kbest__k': 12}\n",
      "0.717 (+/-0.008) for {'clf__max_depth': 5, 'clf__max_leaf_nodes': 14, 'clf__min_samples_leaf': 3, 'clf__min_samples_split': 10, 'clf__n_estimators': 5, 'kbest__k': 13}\n",
      "0.719 (+/-0.017) for {'clf__max_depth': 5, 'clf__max_leaf_nodes': 14, 'clf__min_samples_leaf': 3, 'clf__min_samples_split': 10, 'clf__n_estimators': 5, 'kbest__k': 14}\n",
      "0.718 (+/-0.012) for {'clf__max_depth': 5, 'clf__max_leaf_nodes': 14, 'clf__min_samples_leaf': 3, 'clf__min_samples_split': 10, 'clf__n_estimators': 5, 'kbest__k': 15}\n"
     ]
    },
    {
     "name": "stdout",
     "output_type": "stream",
     "text": [
      "0.719 (+/-0.017) for {'clf__max_depth': 5, 'clf__max_leaf_nodes': 14, 'clf__min_samples_leaf': 3, 'clf__min_samples_split': 10, 'clf__n_estimators': 5, 'kbest__k': 16}\n",
      "0.725 (+/-0.015) for {'clf__max_depth': 5, 'clf__max_leaf_nodes': 14, 'clf__min_samples_leaf': 3, 'clf__min_samples_split': 10, 'clf__n_estimators': 5, 'kbest__k': 17}\n",
      "0.716 (+/-0.012) for {'clf__max_depth': 5, 'clf__max_leaf_nodes': 14, 'clf__min_samples_leaf': 3, 'clf__min_samples_split': 10, 'clf__n_estimators': 5, 'kbest__k': 18}\n",
      "0.720 (+/-0.012) for {'clf__max_depth': 5, 'clf__max_leaf_nodes': 14, 'clf__min_samples_leaf': 3, 'clf__min_samples_split': 10, 'clf__n_estimators': 5, 'kbest__k': 19}\n",
      "0.726 (+/-0.008) for {'clf__max_depth': 5, 'clf__max_leaf_nodes': 14, 'clf__min_samples_leaf': 3, 'clf__min_samples_split': 10, 'clf__n_estimators': 5, 'kbest__k': 20}\n",
      "0.690 (+/-0.016) for {'clf__max_depth': 5, 'clf__max_leaf_nodes': 14, 'clf__min_samples_leaf': 3, 'clf__min_samples_split': 10, 'clf__n_estimators': 40, 'kbest__k': 1}\n",
      "0.696 (+/-0.011) for {'clf__max_depth': 5, 'clf__max_leaf_nodes': 14, 'clf__min_samples_leaf': 3, 'clf__min_samples_split': 10, 'clf__n_estimators': 40, 'kbest__k': 2}\n",
      "0.695 (+/-0.012) for {'clf__max_depth': 5, 'clf__max_leaf_nodes': 14, 'clf__min_samples_leaf': 3, 'clf__min_samples_split': 10, 'clf__n_estimators': 40, 'kbest__k': 3}\n",
      "0.699 (+/-0.012) for {'clf__max_depth': 5, 'clf__max_leaf_nodes': 14, 'clf__min_samples_leaf': 3, 'clf__min_samples_split': 10, 'clf__n_estimators': 40, 'kbest__k': 4}\n",
      "0.701 (+/-0.013) for {'clf__max_depth': 5, 'clf__max_leaf_nodes': 14, 'clf__min_samples_leaf': 3, 'clf__min_samples_split': 10, 'clf__n_estimators': 40, 'kbest__k': 5}\n",
      "0.700 (+/-0.010) for {'clf__max_depth': 5, 'clf__max_leaf_nodes': 14, 'clf__min_samples_leaf': 3, 'clf__min_samples_split': 10, 'clf__n_estimators': 40, 'kbest__k': 6}\n",
      "0.722 (+/-0.008) for {'clf__max_depth': 5, 'clf__max_leaf_nodes': 14, 'clf__min_samples_leaf': 3, 'clf__min_samples_split': 10, 'clf__n_estimators': 40, 'kbest__k': 7}\n",
      "0.722 (+/-0.008) for {'clf__max_depth': 5, 'clf__max_leaf_nodes': 14, 'clf__min_samples_leaf': 3, 'clf__min_samples_split': 10, 'clf__n_estimators': 40, 'kbest__k': 8}\n",
      "0.726 (+/-0.007) for {'clf__max_depth': 5, 'clf__max_leaf_nodes': 14, 'clf__min_samples_leaf': 3, 'clf__min_samples_split': 10, 'clf__n_estimators': 40, 'kbest__k': 9}\n",
      "0.730 (+/-0.006) for {'clf__max_depth': 5, 'clf__max_leaf_nodes': 14, 'clf__min_samples_leaf': 3, 'clf__min_samples_split': 10, 'clf__n_estimators': 40, 'kbest__k': 10}\n",
      "0.727 (+/-0.007) for {'clf__max_depth': 5, 'clf__max_leaf_nodes': 14, 'clf__min_samples_leaf': 3, 'clf__min_samples_split': 10, 'clf__n_estimators': 40, 'kbest__k': 11}\n",
      "0.728 (+/-0.007) for {'clf__max_depth': 5, 'clf__max_leaf_nodes': 14, 'clf__min_samples_leaf': 3, 'clf__min_samples_split': 10, 'clf__n_estimators': 40, 'kbest__k': 12}\n",
      "0.726 (+/-0.006) for {'clf__max_depth': 5, 'clf__max_leaf_nodes': 14, 'clf__min_samples_leaf': 3, 'clf__min_samples_split': 10, 'clf__n_estimators': 40, 'kbest__k': 13}\n",
      "0.725 (+/-0.006) for {'clf__max_depth': 5, 'clf__max_leaf_nodes': 14, 'clf__min_samples_leaf': 3, 'clf__min_samples_split': 10, 'clf__n_estimators': 40, 'kbest__k': 14}\n",
      "0.723 (+/-0.008) for {'clf__max_depth': 5, 'clf__max_leaf_nodes': 14, 'clf__min_samples_leaf': 3, 'clf__min_samples_split': 10, 'clf__n_estimators': 40, 'kbest__k': 15}\n",
      "0.727 (+/-0.010) for {'clf__max_depth': 5, 'clf__max_leaf_nodes': 14, 'clf__min_samples_leaf': 3, 'clf__min_samples_split': 10, 'clf__n_estimators': 40, 'kbest__k': 16}\n",
      "0.726 (+/-0.011) for {'clf__max_depth': 5, 'clf__max_leaf_nodes': 14, 'clf__min_samples_leaf': 3, 'clf__min_samples_split': 10, 'clf__n_estimators': 40, 'kbest__k': 17}\n",
      "0.724 (+/-0.005) for {'clf__max_depth': 5, 'clf__max_leaf_nodes': 14, 'clf__min_samples_leaf': 3, 'clf__min_samples_split': 10, 'clf__n_estimators': 40, 'kbest__k': 18}\n",
      "0.728 (+/-0.005) for {'clf__max_depth': 5, 'clf__max_leaf_nodes': 14, 'clf__min_samples_leaf': 3, 'clf__min_samples_split': 10, 'clf__n_estimators': 40, 'kbest__k': 19}\n",
      "0.731 (+/-0.008) for {'clf__max_depth': 5, 'clf__max_leaf_nodes': 14, 'clf__min_samples_leaf': 3, 'clf__min_samples_split': 10, 'clf__n_estimators': 40, 'kbest__k': 20}\n",
      "0.691 (+/-0.019) for {'clf__max_depth': 5, 'clf__max_leaf_nodes': 14, 'clf__min_samples_leaf': 3, 'clf__min_samples_split': 10, 'clf__n_estimators': 42, 'kbest__k': 1}\n",
      "0.695 (+/-0.007) for {'clf__max_depth': 5, 'clf__max_leaf_nodes': 14, 'clf__min_samples_leaf': 3, 'clf__min_samples_split': 10, 'clf__n_estimators': 42, 'kbest__k': 2}\n",
      "0.693 (+/-0.009) for {'clf__max_depth': 5, 'clf__max_leaf_nodes': 14, 'clf__min_samples_leaf': 3, 'clf__min_samples_split': 10, 'clf__n_estimators': 42, 'kbest__k': 3}\n",
      "0.699 (+/-0.008) for {'clf__max_depth': 5, 'clf__max_leaf_nodes': 14, 'clf__min_samples_leaf': 3, 'clf__min_samples_split': 10, 'clf__n_estimators': 42, 'kbest__k': 4}\n",
      "0.704 (+/-0.012) for {'clf__max_depth': 5, 'clf__max_leaf_nodes': 14, 'clf__min_samples_leaf': 3, 'clf__min_samples_split': 10, 'clf__n_estimators': 42, 'kbest__k': 5}\n",
      "0.701 (+/-0.005) for {'clf__max_depth': 5, 'clf__max_leaf_nodes': 14, 'clf__min_samples_leaf': 3, 'clf__min_samples_split': 10, 'clf__n_estimators': 42, 'kbest__k': 6}\n",
      "0.721 (+/-0.007) for {'clf__max_depth': 5, 'clf__max_leaf_nodes': 14, 'clf__min_samples_leaf': 3, 'clf__min_samples_split': 10, 'clf__n_estimators': 42, 'kbest__k': 7}\n",
      "0.725 (+/-0.010) for {'clf__max_depth': 5, 'clf__max_leaf_nodes': 14, 'clf__min_samples_leaf': 3, 'clf__min_samples_split': 10, 'clf__n_estimators': 42, 'kbest__k': 8}\n",
      "0.726 (+/-0.003) for {'clf__max_depth': 5, 'clf__max_leaf_nodes': 14, 'clf__min_samples_leaf': 3, 'clf__min_samples_split': 10, 'clf__n_estimators': 42, 'kbest__k': 9}\n",
      "0.728 (+/-0.006) for {'clf__max_depth': 5, 'clf__max_leaf_nodes': 14, 'clf__min_samples_leaf': 3, 'clf__min_samples_split': 10, 'clf__n_estimators': 42, 'kbest__k': 10}\n",
      "0.726 (+/-0.002) for {'clf__max_depth': 5, 'clf__max_leaf_nodes': 14, 'clf__min_samples_leaf': 3, 'clf__min_samples_split': 10, 'clf__n_estimators': 42, 'kbest__k': 11}\n",
      "0.725 (+/-0.008) for {'clf__max_depth': 5, 'clf__max_leaf_nodes': 14, 'clf__min_samples_leaf': 3, 'clf__min_samples_split': 10, 'clf__n_estimators': 42, 'kbest__k': 12}\n",
      "0.726 (+/-0.004) for {'clf__max_depth': 5, 'clf__max_leaf_nodes': 14, 'clf__min_samples_leaf': 3, 'clf__min_samples_split': 10, 'clf__n_estimators': 42, 'kbest__k': 13}\n",
      "0.726 (+/-0.010) for {'clf__max_depth': 5, 'clf__max_leaf_nodes': 14, 'clf__min_samples_leaf': 3, 'clf__min_samples_split': 10, 'clf__n_estimators': 42, 'kbest__k': 14}\n",
      "0.728 (+/-0.007) for {'clf__max_depth': 5, 'clf__max_leaf_nodes': 14, 'clf__min_samples_leaf': 3, 'clf__min_samples_split': 10, 'clf__n_estimators': 42, 'kbest__k': 15}\n",
      "0.724 (+/-0.009) for {'clf__max_depth': 5, 'clf__max_leaf_nodes': 14, 'clf__min_samples_leaf': 3, 'clf__min_samples_split': 10, 'clf__n_estimators': 42, 'kbest__k': 16}\n",
      "0.727 (+/-0.004) for {'clf__max_depth': 5, 'clf__max_leaf_nodes': 14, 'clf__min_samples_leaf': 3, 'clf__min_samples_split': 10, 'clf__n_estimators': 42, 'kbest__k': 17}\n",
      "0.728 (+/-0.007) for {'clf__max_depth': 5, 'clf__max_leaf_nodes': 14, 'clf__min_samples_leaf': 3, 'clf__min_samples_split': 10, 'clf__n_estimators': 42, 'kbest__k': 18}\n",
      "0.729 (+/-0.008) for {'clf__max_depth': 5, 'clf__max_leaf_nodes': 14, 'clf__min_samples_leaf': 3, 'clf__min_samples_split': 10, 'clf__n_estimators': 42, 'kbest__k': 19}\n",
      "0.731 (+/-0.015) for {'clf__max_depth': 5, 'clf__max_leaf_nodes': 14, 'clf__min_samples_leaf': 3, 'clf__min_samples_split': 10, 'clf__n_estimators': 42, 'kbest__k': 20}\n",
      "0.693 (+/-0.021) for {'clf__max_depth': 5, 'clf__max_leaf_nodes': 14, 'clf__min_samples_leaf': 3, 'clf__min_samples_split': 10, 'clf__n_estimators': 100, 'kbest__k': 1}\n",
      "0.695 (+/-0.007) for {'clf__max_depth': 5, 'clf__max_leaf_nodes': 14, 'clf__min_samples_leaf': 3, 'clf__min_samples_split': 10, 'clf__n_estimators': 100, 'kbest__k': 2}\n",
      "0.695 (+/-0.009) for {'clf__max_depth': 5, 'clf__max_leaf_nodes': 14, 'clf__min_samples_leaf': 3, 'clf__min_samples_split': 10, 'clf__n_estimators': 100, 'kbest__k': 3}\n"
     ]
    },
    {
     "name": "stdout",
     "output_type": "stream",
     "text": [
      "0.698 (+/-0.011) for {'clf__max_depth': 5, 'clf__max_leaf_nodes': 14, 'clf__min_samples_leaf': 3, 'clf__min_samples_split': 10, 'clf__n_estimators': 100, 'kbest__k': 4}\n",
      "0.700 (+/-0.012) for {'clf__max_depth': 5, 'clf__max_leaf_nodes': 14, 'clf__min_samples_leaf': 3, 'clf__min_samples_split': 10, 'clf__n_estimators': 100, 'kbest__k': 5}\n",
      "0.700 (+/-0.017) for {'clf__max_depth': 5, 'clf__max_leaf_nodes': 14, 'clf__min_samples_leaf': 3, 'clf__min_samples_split': 10, 'clf__n_estimators': 100, 'kbest__k': 6}\n",
      "0.721 (+/-0.004) for {'clf__max_depth': 5, 'clf__max_leaf_nodes': 14, 'clf__min_samples_leaf': 3, 'clf__min_samples_split': 10, 'clf__n_estimators': 100, 'kbest__k': 7}\n",
      "0.724 (+/-0.007) for {'clf__max_depth': 5, 'clf__max_leaf_nodes': 14, 'clf__min_samples_leaf': 3, 'clf__min_samples_split': 10, 'clf__n_estimators': 100, 'kbest__k': 8}\n",
      "0.728 (+/-0.007) for {'clf__max_depth': 5, 'clf__max_leaf_nodes': 14, 'clf__min_samples_leaf': 3, 'clf__min_samples_split': 10, 'clf__n_estimators': 100, 'kbest__k': 9}\n",
      "0.728 (+/-0.007) for {'clf__max_depth': 5, 'clf__max_leaf_nodes': 14, 'clf__min_samples_leaf': 3, 'clf__min_samples_split': 10, 'clf__n_estimators': 100, 'kbest__k': 10}\n",
      "0.728 (+/-0.004) for {'clf__max_depth': 5, 'clf__max_leaf_nodes': 14, 'clf__min_samples_leaf': 3, 'clf__min_samples_split': 10, 'clf__n_estimators': 100, 'kbest__k': 11}\n",
      "0.728 (+/-0.007) for {'clf__max_depth': 5, 'clf__max_leaf_nodes': 14, 'clf__min_samples_leaf': 3, 'clf__min_samples_split': 10, 'clf__n_estimators': 100, 'kbest__k': 12}\n",
      "0.727 (+/-0.003) for {'clf__max_depth': 5, 'clf__max_leaf_nodes': 14, 'clf__min_samples_leaf': 3, 'clf__min_samples_split': 10, 'clf__n_estimators': 100, 'kbest__k': 13}\n",
      "0.728 (+/-0.006) for {'clf__max_depth': 5, 'clf__max_leaf_nodes': 14, 'clf__min_samples_leaf': 3, 'clf__min_samples_split': 10, 'clf__n_estimators': 100, 'kbest__k': 14}\n",
      "0.728 (+/-0.006) for {'clf__max_depth': 5, 'clf__max_leaf_nodes': 14, 'clf__min_samples_leaf': 3, 'clf__min_samples_split': 10, 'clf__n_estimators': 100, 'kbest__k': 15}\n",
      "0.726 (+/-0.009) for {'clf__max_depth': 5, 'clf__max_leaf_nodes': 14, 'clf__min_samples_leaf': 3, 'clf__min_samples_split': 10, 'clf__n_estimators': 100, 'kbest__k': 16}\n",
      "0.729 (+/-0.011) for {'clf__max_depth': 5, 'clf__max_leaf_nodes': 14, 'clf__min_samples_leaf': 3, 'clf__min_samples_split': 10, 'clf__n_estimators': 100, 'kbest__k': 17}\n",
      "0.729 (+/-0.003) for {'clf__max_depth': 5, 'clf__max_leaf_nodes': 14, 'clf__min_samples_leaf': 3, 'clf__min_samples_split': 10, 'clf__n_estimators': 100, 'kbest__k': 18}\n",
      "0.728 (+/-0.006) for {'clf__max_depth': 5, 'clf__max_leaf_nodes': 14, 'clf__min_samples_leaf': 3, 'clf__min_samples_split': 10, 'clf__n_estimators': 100, 'kbest__k': 19}\n",
      "0.729 (+/-0.010) for {'clf__max_depth': 5, 'clf__max_leaf_nodes': 14, 'clf__min_samples_leaf': 3, 'clf__min_samples_split': 10, 'clf__n_estimators': 100, 'kbest__k': 20}\n",
      "0.691 (+/-0.019) for {'clf__max_depth': 5, 'clf__max_leaf_nodes': 14, 'clf__min_samples_leaf': 5, 'clf__min_samples_split': 5, 'clf__n_estimators': 5, 'kbest__k': 1}\n",
      "0.691 (+/-0.008) for {'clf__max_depth': 5, 'clf__max_leaf_nodes': 14, 'clf__min_samples_leaf': 5, 'clf__min_samples_split': 5, 'clf__n_estimators': 5, 'kbest__k': 2}\n",
      "0.693 (+/-0.011) for {'clf__max_depth': 5, 'clf__max_leaf_nodes': 14, 'clf__min_samples_leaf': 5, 'clf__min_samples_split': 5, 'clf__n_estimators': 5, 'kbest__k': 3}\n",
      "0.695 (+/-0.008) for {'clf__max_depth': 5, 'clf__max_leaf_nodes': 14, 'clf__min_samples_leaf': 5, 'clf__min_samples_split': 5, 'clf__n_estimators': 5, 'kbest__k': 4}\n",
      "0.701 (+/-0.010) for {'clf__max_depth': 5, 'clf__max_leaf_nodes': 14, 'clf__min_samples_leaf': 5, 'clf__min_samples_split': 5, 'clf__n_estimators': 5, 'kbest__k': 5}\n",
      "0.694 (+/-0.011) for {'clf__max_depth': 5, 'clf__max_leaf_nodes': 14, 'clf__min_samples_leaf': 5, 'clf__min_samples_split': 5, 'clf__n_estimators': 5, 'kbest__k': 6}\n",
      "0.711 (+/-0.017) for {'clf__max_depth': 5, 'clf__max_leaf_nodes': 14, 'clf__min_samples_leaf': 5, 'clf__min_samples_split': 5, 'clf__n_estimators': 5, 'kbest__k': 7}\n",
      "0.717 (+/-0.014) for {'clf__max_depth': 5, 'clf__max_leaf_nodes': 14, 'clf__min_samples_leaf': 5, 'clf__min_samples_split': 5, 'clf__n_estimators': 5, 'kbest__k': 8}\n",
      "0.713 (+/-0.012) for {'clf__max_depth': 5, 'clf__max_leaf_nodes': 14, 'clf__min_samples_leaf': 5, 'clf__min_samples_split': 5, 'clf__n_estimators': 5, 'kbest__k': 9}\n",
      "0.716 (+/-0.022) for {'clf__max_depth': 5, 'clf__max_leaf_nodes': 14, 'clf__min_samples_leaf': 5, 'clf__min_samples_split': 5, 'clf__n_estimators': 5, 'kbest__k': 10}\n",
      "0.720 (+/-0.011) for {'clf__max_depth': 5, 'clf__max_leaf_nodes': 14, 'clf__min_samples_leaf': 5, 'clf__min_samples_split': 5, 'clf__n_estimators': 5, 'kbest__k': 11}\n",
      "0.717 (+/-0.009) for {'clf__max_depth': 5, 'clf__max_leaf_nodes': 14, 'clf__min_samples_leaf': 5, 'clf__min_samples_split': 5, 'clf__n_estimators': 5, 'kbest__k': 12}\n",
      "0.720 (+/-0.012) for {'clf__max_depth': 5, 'clf__max_leaf_nodes': 14, 'clf__min_samples_leaf': 5, 'clf__min_samples_split': 5, 'clf__n_estimators': 5, 'kbest__k': 13}\n",
      "0.719 (+/-0.009) for {'clf__max_depth': 5, 'clf__max_leaf_nodes': 14, 'clf__min_samples_leaf': 5, 'clf__min_samples_split': 5, 'clf__n_estimators': 5, 'kbest__k': 14}\n",
      "0.717 (+/-0.007) for {'clf__max_depth': 5, 'clf__max_leaf_nodes': 14, 'clf__min_samples_leaf': 5, 'clf__min_samples_split': 5, 'clf__n_estimators': 5, 'kbest__k': 15}\n",
      "0.722 (+/-0.011) for {'clf__max_depth': 5, 'clf__max_leaf_nodes': 14, 'clf__min_samples_leaf': 5, 'clf__min_samples_split': 5, 'clf__n_estimators': 5, 'kbest__k': 16}\n",
      "0.721 (+/-0.012) for {'clf__max_depth': 5, 'clf__max_leaf_nodes': 14, 'clf__min_samples_leaf': 5, 'clf__min_samples_split': 5, 'clf__n_estimators': 5, 'kbest__k': 17}\n",
      "0.717 (+/-0.012) for {'clf__max_depth': 5, 'clf__max_leaf_nodes': 14, 'clf__min_samples_leaf': 5, 'clf__min_samples_split': 5, 'clf__n_estimators': 5, 'kbest__k': 18}\n",
      "0.716 (+/-0.007) for {'clf__max_depth': 5, 'clf__max_leaf_nodes': 14, 'clf__min_samples_leaf': 5, 'clf__min_samples_split': 5, 'clf__n_estimators': 5, 'kbest__k': 19}\n",
      "0.721 (+/-0.017) for {'clf__max_depth': 5, 'clf__max_leaf_nodes': 14, 'clf__min_samples_leaf': 5, 'clf__min_samples_split': 5, 'clf__n_estimators': 5, 'kbest__k': 20}\n",
      "0.690 (+/-0.016) for {'clf__max_depth': 5, 'clf__max_leaf_nodes': 14, 'clf__min_samples_leaf': 5, 'clf__min_samples_split': 5, 'clf__n_estimators': 40, 'kbest__k': 1}\n",
      "0.697 (+/-0.006) for {'clf__max_depth': 5, 'clf__max_leaf_nodes': 14, 'clf__min_samples_leaf': 5, 'clf__min_samples_split': 5, 'clf__n_estimators': 40, 'kbest__k': 2}\n",
      "0.696 (+/-0.008) for {'clf__max_depth': 5, 'clf__max_leaf_nodes': 14, 'clf__min_samples_leaf': 5, 'clf__min_samples_split': 5, 'clf__n_estimators': 40, 'kbest__k': 3}\n",
      "0.696 (+/-0.007) for {'clf__max_depth': 5, 'clf__max_leaf_nodes': 14, 'clf__min_samples_leaf': 5, 'clf__min_samples_split': 5, 'clf__n_estimators': 40, 'kbest__k': 4}\n",
      "0.702 (+/-0.009) for {'clf__max_depth': 5, 'clf__max_leaf_nodes': 14, 'clf__min_samples_leaf': 5, 'clf__min_samples_split': 5, 'clf__n_estimators': 40, 'kbest__k': 5}\n",
      "0.701 (+/-0.010) for {'clf__max_depth': 5, 'clf__max_leaf_nodes': 14, 'clf__min_samples_leaf': 5, 'clf__min_samples_split': 5, 'clf__n_estimators': 40, 'kbest__k': 6}\n",
      "0.721 (+/-0.011) for {'clf__max_depth': 5, 'clf__max_leaf_nodes': 14, 'clf__min_samples_leaf': 5, 'clf__min_samples_split': 5, 'clf__n_estimators': 40, 'kbest__k': 7}\n",
      "0.720 (+/-0.007) for {'clf__max_depth': 5, 'clf__max_leaf_nodes': 14, 'clf__min_samples_leaf': 5, 'clf__min_samples_split': 5, 'clf__n_estimators': 40, 'kbest__k': 8}\n",
      "0.729 (+/-0.010) for {'clf__max_depth': 5, 'clf__max_leaf_nodes': 14, 'clf__min_samples_leaf': 5, 'clf__min_samples_split': 5, 'clf__n_estimators': 40, 'kbest__k': 9}\n",
      "0.729 (+/-0.003) for {'clf__max_depth': 5, 'clf__max_leaf_nodes': 14, 'clf__min_samples_leaf': 5, 'clf__min_samples_split': 5, 'clf__n_estimators': 40, 'kbest__k': 10}\n",
      "0.726 (+/-0.007) for {'clf__max_depth': 5, 'clf__max_leaf_nodes': 14, 'clf__min_samples_leaf': 5, 'clf__min_samples_split': 5, 'clf__n_estimators': 40, 'kbest__k': 11}\n"
     ]
    },
    {
     "name": "stdout",
     "output_type": "stream",
     "text": [
      "0.725 (+/-0.003) for {'clf__max_depth': 5, 'clf__max_leaf_nodes': 14, 'clf__min_samples_leaf': 5, 'clf__min_samples_split': 5, 'clf__n_estimators': 40, 'kbest__k': 12}\n",
      "0.724 (+/-0.006) for {'clf__max_depth': 5, 'clf__max_leaf_nodes': 14, 'clf__min_samples_leaf': 5, 'clf__min_samples_split': 5, 'clf__n_estimators': 40, 'kbest__k': 13}\n",
      "0.725 (+/-0.011) for {'clf__max_depth': 5, 'clf__max_leaf_nodes': 14, 'clf__min_samples_leaf': 5, 'clf__min_samples_split': 5, 'clf__n_estimators': 40, 'kbest__k': 14}\n",
      "0.725 (+/-0.010) for {'clf__max_depth': 5, 'clf__max_leaf_nodes': 14, 'clf__min_samples_leaf': 5, 'clf__min_samples_split': 5, 'clf__n_estimators': 40, 'kbest__k': 15}\n",
      "0.727 (+/-0.005) for {'clf__max_depth': 5, 'clf__max_leaf_nodes': 14, 'clf__min_samples_leaf': 5, 'clf__min_samples_split': 5, 'clf__n_estimators': 40, 'kbest__k': 16}\n",
      "0.727 (+/-0.007) for {'clf__max_depth': 5, 'clf__max_leaf_nodes': 14, 'clf__min_samples_leaf': 5, 'clf__min_samples_split': 5, 'clf__n_estimators': 40, 'kbest__k': 17}\n",
      "0.728 (+/-0.008) for {'clf__max_depth': 5, 'clf__max_leaf_nodes': 14, 'clf__min_samples_leaf': 5, 'clf__min_samples_split': 5, 'clf__n_estimators': 40, 'kbest__k': 18}\n",
      "0.731 (+/-0.008) for {'clf__max_depth': 5, 'clf__max_leaf_nodes': 14, 'clf__min_samples_leaf': 5, 'clf__min_samples_split': 5, 'clf__n_estimators': 40, 'kbest__k': 19}\n",
      "0.732 (+/-0.011) for {'clf__max_depth': 5, 'clf__max_leaf_nodes': 14, 'clf__min_samples_leaf': 5, 'clf__min_samples_split': 5, 'clf__n_estimators': 40, 'kbest__k': 20}\n",
      "0.690 (+/-0.018) for {'clf__max_depth': 5, 'clf__max_leaf_nodes': 14, 'clf__min_samples_leaf': 5, 'clf__min_samples_split': 5, 'clf__n_estimators': 42, 'kbest__k': 1}\n",
      "0.695 (+/-0.008) for {'clf__max_depth': 5, 'clf__max_leaf_nodes': 14, 'clf__min_samples_leaf': 5, 'clf__min_samples_split': 5, 'clf__n_estimators': 42, 'kbest__k': 2}\n",
      "0.693 (+/-0.004) for {'clf__max_depth': 5, 'clf__max_leaf_nodes': 14, 'clf__min_samples_leaf': 5, 'clf__min_samples_split': 5, 'clf__n_estimators': 42, 'kbest__k': 3}\n",
      "0.696 (+/-0.007) for {'clf__max_depth': 5, 'clf__max_leaf_nodes': 14, 'clf__min_samples_leaf': 5, 'clf__min_samples_split': 5, 'clf__n_estimators': 42, 'kbest__k': 4}\n",
      "0.700 (+/-0.015) for {'clf__max_depth': 5, 'clf__max_leaf_nodes': 14, 'clf__min_samples_leaf': 5, 'clf__min_samples_split': 5, 'clf__n_estimators': 42, 'kbest__k': 5}\n",
      "0.703 (+/-0.009) for {'clf__max_depth': 5, 'clf__max_leaf_nodes': 14, 'clf__min_samples_leaf': 5, 'clf__min_samples_split': 5, 'clf__n_estimators': 42, 'kbest__k': 6}\n",
      "0.722 (+/-0.010) for {'clf__max_depth': 5, 'clf__max_leaf_nodes': 14, 'clf__min_samples_leaf': 5, 'clf__min_samples_split': 5, 'clf__n_estimators': 42, 'kbest__k': 7}\n",
      "0.723 (+/-0.006) for {'clf__max_depth': 5, 'clf__max_leaf_nodes': 14, 'clf__min_samples_leaf': 5, 'clf__min_samples_split': 5, 'clf__n_estimators': 42, 'kbest__k': 8}\n",
      "0.726 (+/-0.009) for {'clf__max_depth': 5, 'clf__max_leaf_nodes': 14, 'clf__min_samples_leaf': 5, 'clf__min_samples_split': 5, 'clf__n_estimators': 42, 'kbest__k': 9}\n",
      "0.727 (+/-0.010) for {'clf__max_depth': 5, 'clf__max_leaf_nodes': 14, 'clf__min_samples_leaf': 5, 'clf__min_samples_split': 5, 'clf__n_estimators': 42, 'kbest__k': 10}\n",
      "0.726 (+/-0.009) for {'clf__max_depth': 5, 'clf__max_leaf_nodes': 14, 'clf__min_samples_leaf': 5, 'clf__min_samples_split': 5, 'clf__n_estimators': 42, 'kbest__k': 11}\n",
      "0.727 (+/-0.013) for {'clf__max_depth': 5, 'clf__max_leaf_nodes': 14, 'clf__min_samples_leaf': 5, 'clf__min_samples_split': 5, 'clf__n_estimators': 42, 'kbest__k': 12}\n",
      "0.724 (+/-0.008) for {'clf__max_depth': 5, 'clf__max_leaf_nodes': 14, 'clf__min_samples_leaf': 5, 'clf__min_samples_split': 5, 'clf__n_estimators': 42, 'kbest__k': 13}\n",
      "0.723 (+/-0.008) for {'clf__max_depth': 5, 'clf__max_leaf_nodes': 14, 'clf__min_samples_leaf': 5, 'clf__min_samples_split': 5, 'clf__n_estimators': 42, 'kbest__k': 14}\n",
      "0.726 (+/-0.008) for {'clf__max_depth': 5, 'clf__max_leaf_nodes': 14, 'clf__min_samples_leaf': 5, 'clf__min_samples_split': 5, 'clf__n_estimators': 42, 'kbest__k': 15}\n",
      "0.731 (+/-0.008) for {'clf__max_depth': 5, 'clf__max_leaf_nodes': 14, 'clf__min_samples_leaf': 5, 'clf__min_samples_split': 5, 'clf__n_estimators': 42, 'kbest__k': 16}\n",
      "0.727 (+/-0.008) for {'clf__max_depth': 5, 'clf__max_leaf_nodes': 14, 'clf__min_samples_leaf': 5, 'clf__min_samples_split': 5, 'clf__n_estimators': 42, 'kbest__k': 17}\n",
      "0.726 (+/-0.007) for {'clf__max_depth': 5, 'clf__max_leaf_nodes': 14, 'clf__min_samples_leaf': 5, 'clf__min_samples_split': 5, 'clf__n_estimators': 42, 'kbest__k': 18}\n",
      "0.728 (+/-0.008) for {'clf__max_depth': 5, 'clf__max_leaf_nodes': 14, 'clf__min_samples_leaf': 5, 'clf__min_samples_split': 5, 'clf__n_estimators': 42, 'kbest__k': 19}\n",
      "0.730 (+/-0.015) for {'clf__max_depth': 5, 'clf__max_leaf_nodes': 14, 'clf__min_samples_leaf': 5, 'clf__min_samples_split': 5, 'clf__n_estimators': 42, 'kbest__k': 20}\n",
      "0.693 (+/-0.021) for {'clf__max_depth': 5, 'clf__max_leaf_nodes': 14, 'clf__min_samples_leaf': 5, 'clf__min_samples_split': 5, 'clf__n_estimators': 100, 'kbest__k': 1}\n",
      "0.696 (+/-0.007) for {'clf__max_depth': 5, 'clf__max_leaf_nodes': 14, 'clf__min_samples_leaf': 5, 'clf__min_samples_split': 5, 'clf__n_estimators': 100, 'kbest__k': 2}\n",
      "0.694 (+/-0.011) for {'clf__max_depth': 5, 'clf__max_leaf_nodes': 14, 'clf__min_samples_leaf': 5, 'clf__min_samples_split': 5, 'clf__n_estimators': 100, 'kbest__k': 3}\n",
      "0.698 (+/-0.013) for {'clf__max_depth': 5, 'clf__max_leaf_nodes': 14, 'clf__min_samples_leaf': 5, 'clf__min_samples_split': 5, 'clf__n_estimators': 100, 'kbest__k': 4}\n",
      "0.700 (+/-0.014) for {'clf__max_depth': 5, 'clf__max_leaf_nodes': 14, 'clf__min_samples_leaf': 5, 'clf__min_samples_split': 5, 'clf__n_estimators': 100, 'kbest__k': 5}\n",
      "0.702 (+/-0.010) for {'clf__max_depth': 5, 'clf__max_leaf_nodes': 14, 'clf__min_samples_leaf': 5, 'clf__min_samples_split': 5, 'clf__n_estimators': 100, 'kbest__k': 6}\n",
      "0.721 (+/-0.008) for {'clf__max_depth': 5, 'clf__max_leaf_nodes': 14, 'clf__min_samples_leaf': 5, 'clf__min_samples_split': 5, 'clf__n_estimators': 100, 'kbest__k': 7}\n",
      "0.722 (+/-0.007) for {'clf__max_depth': 5, 'clf__max_leaf_nodes': 14, 'clf__min_samples_leaf': 5, 'clf__min_samples_split': 5, 'clf__n_estimators': 100, 'kbest__k': 8}\n",
      "0.726 (+/-0.009) for {'clf__max_depth': 5, 'clf__max_leaf_nodes': 14, 'clf__min_samples_leaf': 5, 'clf__min_samples_split': 5, 'clf__n_estimators': 100, 'kbest__k': 9}\n",
      "0.727 (+/-0.009) for {'clf__max_depth': 5, 'clf__max_leaf_nodes': 14, 'clf__min_samples_leaf': 5, 'clf__min_samples_split': 5, 'clf__n_estimators': 100, 'kbest__k': 10}\n",
      "0.726 (+/-0.006) for {'clf__max_depth': 5, 'clf__max_leaf_nodes': 14, 'clf__min_samples_leaf': 5, 'clf__min_samples_split': 5, 'clf__n_estimators': 100, 'kbest__k': 11}\n",
      "0.728 (+/-0.004) for {'clf__max_depth': 5, 'clf__max_leaf_nodes': 14, 'clf__min_samples_leaf': 5, 'clf__min_samples_split': 5, 'clf__n_estimators': 100, 'kbest__k': 12}\n",
      "0.725 (+/-0.007) for {'clf__max_depth': 5, 'clf__max_leaf_nodes': 14, 'clf__min_samples_leaf': 5, 'clf__min_samples_split': 5, 'clf__n_estimators': 100, 'kbest__k': 13}\n",
      "0.726 (+/-0.011) for {'clf__max_depth': 5, 'clf__max_leaf_nodes': 14, 'clf__min_samples_leaf': 5, 'clf__min_samples_split': 5, 'clf__n_estimators': 100, 'kbest__k': 14}\n",
      "0.724 (+/-0.007) for {'clf__max_depth': 5, 'clf__max_leaf_nodes': 14, 'clf__min_samples_leaf': 5, 'clf__min_samples_split': 5, 'clf__n_estimators': 100, 'kbest__k': 15}\n",
      "0.729 (+/-0.006) for {'clf__max_depth': 5, 'clf__max_leaf_nodes': 14, 'clf__min_samples_leaf': 5, 'clf__min_samples_split': 5, 'clf__n_estimators': 100, 'kbest__k': 16}\n",
      "0.728 (+/-0.012) for {'clf__max_depth': 5, 'clf__max_leaf_nodes': 14, 'clf__min_samples_leaf': 5, 'clf__min_samples_split': 5, 'clf__n_estimators': 100, 'kbest__k': 17}\n",
      "0.730 (+/-0.006) for {'clf__max_depth': 5, 'clf__max_leaf_nodes': 14, 'clf__min_samples_leaf': 5, 'clf__min_samples_split': 5, 'clf__n_estimators': 100, 'kbest__k': 18}\n",
      "0.729 (+/-0.005) for {'clf__max_depth': 5, 'clf__max_leaf_nodes': 14, 'clf__min_samples_leaf': 5, 'clf__min_samples_split': 5, 'clf__n_estimators': 100, 'kbest__k': 19}\n"
     ]
    },
    {
     "name": "stdout",
     "output_type": "stream",
     "text": [
      "0.731 (+/-0.005) for {'clf__max_depth': 5, 'clf__max_leaf_nodes': 14, 'clf__min_samples_leaf': 5, 'clf__min_samples_split': 5, 'clf__n_estimators': 100, 'kbest__k': 20}\n",
      "0.690 (+/-0.018) for {'clf__max_depth': 5, 'clf__max_leaf_nodes': 14, 'clf__min_samples_leaf': 5, 'clf__min_samples_split': 10, 'clf__n_estimators': 5, 'kbest__k': 1}\n",
      "0.695 (+/-0.012) for {'clf__max_depth': 5, 'clf__max_leaf_nodes': 14, 'clf__min_samples_leaf': 5, 'clf__min_samples_split': 10, 'clf__n_estimators': 5, 'kbest__k': 2}\n",
      "0.694 (+/-0.008) for {'clf__max_depth': 5, 'clf__max_leaf_nodes': 14, 'clf__min_samples_leaf': 5, 'clf__min_samples_split': 10, 'clf__n_estimators': 5, 'kbest__k': 3}\n",
      "0.698 (+/-0.012) for {'clf__max_depth': 5, 'clf__max_leaf_nodes': 14, 'clf__min_samples_leaf': 5, 'clf__min_samples_split': 10, 'clf__n_estimators': 5, 'kbest__k': 4}\n",
      "0.697 (+/-0.008) for {'clf__max_depth': 5, 'clf__max_leaf_nodes': 14, 'clf__min_samples_leaf': 5, 'clf__min_samples_split': 10, 'clf__n_estimators': 5, 'kbest__k': 5}\n",
      "0.702 (+/-0.008) for {'clf__max_depth': 5, 'clf__max_leaf_nodes': 14, 'clf__min_samples_leaf': 5, 'clf__min_samples_split': 10, 'clf__n_estimators': 5, 'kbest__k': 6}\n",
      "0.714 (+/-0.013) for {'clf__max_depth': 5, 'clf__max_leaf_nodes': 14, 'clf__min_samples_leaf': 5, 'clf__min_samples_split': 10, 'clf__n_estimators': 5, 'kbest__k': 7}\n",
      "0.718 (+/-0.022) for {'clf__max_depth': 5, 'clf__max_leaf_nodes': 14, 'clf__min_samples_leaf': 5, 'clf__min_samples_split': 10, 'clf__n_estimators': 5, 'kbest__k': 8}\n",
      "0.715 (+/-0.018) for {'clf__max_depth': 5, 'clf__max_leaf_nodes': 14, 'clf__min_samples_leaf': 5, 'clf__min_samples_split': 10, 'clf__n_estimators': 5, 'kbest__k': 9}\n",
      "0.717 (+/-0.006) for {'clf__max_depth': 5, 'clf__max_leaf_nodes': 14, 'clf__min_samples_leaf': 5, 'clf__min_samples_split': 10, 'clf__n_estimators': 5, 'kbest__k': 10}\n",
      "0.721 (+/-0.015) for {'clf__max_depth': 5, 'clf__max_leaf_nodes': 14, 'clf__min_samples_leaf': 5, 'clf__min_samples_split': 10, 'clf__n_estimators': 5, 'kbest__k': 11}\n",
      "0.715 (+/-0.013) for {'clf__max_depth': 5, 'clf__max_leaf_nodes': 14, 'clf__min_samples_leaf': 5, 'clf__min_samples_split': 10, 'clf__n_estimators': 5, 'kbest__k': 12}\n",
      "0.719 (+/-0.008) for {'clf__max_depth': 5, 'clf__max_leaf_nodes': 14, 'clf__min_samples_leaf': 5, 'clf__min_samples_split': 10, 'clf__n_estimators': 5, 'kbest__k': 13}\n",
      "0.715 (+/-0.011) for {'clf__max_depth': 5, 'clf__max_leaf_nodes': 14, 'clf__min_samples_leaf': 5, 'clf__min_samples_split': 10, 'clf__n_estimators': 5, 'kbest__k': 14}\n",
      "0.712 (+/-0.011) for {'clf__max_depth': 5, 'clf__max_leaf_nodes': 14, 'clf__min_samples_leaf': 5, 'clf__min_samples_split': 10, 'clf__n_estimators': 5, 'kbest__k': 15}\n",
      "0.718 (+/-0.003) for {'clf__max_depth': 5, 'clf__max_leaf_nodes': 14, 'clf__min_samples_leaf': 5, 'clf__min_samples_split': 10, 'clf__n_estimators': 5, 'kbest__k': 16}\n",
      "0.715 (+/-0.020) for {'clf__max_depth': 5, 'clf__max_leaf_nodes': 14, 'clf__min_samples_leaf': 5, 'clf__min_samples_split': 10, 'clf__n_estimators': 5, 'kbest__k': 17}\n",
      "0.720 (+/-0.011) for {'clf__max_depth': 5, 'clf__max_leaf_nodes': 14, 'clf__min_samples_leaf': 5, 'clf__min_samples_split': 10, 'clf__n_estimators': 5, 'kbest__k': 18}\n",
      "0.723 (+/-0.008) for {'clf__max_depth': 5, 'clf__max_leaf_nodes': 14, 'clf__min_samples_leaf': 5, 'clf__min_samples_split': 10, 'clf__n_estimators': 5, 'kbest__k': 19}\n",
      "0.717 (+/-0.010) for {'clf__max_depth': 5, 'clf__max_leaf_nodes': 14, 'clf__min_samples_leaf': 5, 'clf__min_samples_split': 10, 'clf__n_estimators': 5, 'kbest__k': 20}\n",
      "0.690 (+/-0.016) for {'clf__max_depth': 5, 'clf__max_leaf_nodes': 14, 'clf__min_samples_leaf': 5, 'clf__min_samples_split': 10, 'clf__n_estimators': 40, 'kbest__k': 1}\n",
      "0.695 (+/-0.007) for {'clf__max_depth': 5, 'clf__max_leaf_nodes': 14, 'clf__min_samples_leaf': 5, 'clf__min_samples_split': 10, 'clf__n_estimators': 40, 'kbest__k': 2}\n",
      "0.694 (+/-0.006) for {'clf__max_depth': 5, 'clf__max_leaf_nodes': 14, 'clf__min_samples_leaf': 5, 'clf__min_samples_split': 10, 'clf__n_estimators': 40, 'kbest__k': 3}\n",
      "0.697 (+/-0.010) for {'clf__max_depth': 5, 'clf__max_leaf_nodes': 14, 'clf__min_samples_leaf': 5, 'clf__min_samples_split': 10, 'clf__n_estimators': 40, 'kbest__k': 4}\n",
      "0.700 (+/-0.007) for {'clf__max_depth': 5, 'clf__max_leaf_nodes': 14, 'clf__min_samples_leaf': 5, 'clf__min_samples_split': 10, 'clf__n_estimators': 40, 'kbest__k': 5}\n",
      "0.703 (+/-0.018) for {'clf__max_depth': 5, 'clf__max_leaf_nodes': 14, 'clf__min_samples_leaf': 5, 'clf__min_samples_split': 10, 'clf__n_estimators': 40, 'kbest__k': 6}\n",
      "0.717 (+/-0.009) for {'clf__max_depth': 5, 'clf__max_leaf_nodes': 14, 'clf__min_samples_leaf': 5, 'clf__min_samples_split': 10, 'clf__n_estimators': 40, 'kbest__k': 7}\n",
      "0.722 (+/-0.006) for {'clf__max_depth': 5, 'clf__max_leaf_nodes': 14, 'clf__min_samples_leaf': 5, 'clf__min_samples_split': 10, 'clf__n_estimators': 40, 'kbest__k': 8}\n",
      "0.724 (+/-0.009) for {'clf__max_depth': 5, 'clf__max_leaf_nodes': 14, 'clf__min_samples_leaf': 5, 'clf__min_samples_split': 10, 'clf__n_estimators': 40, 'kbest__k': 9}\n",
      "0.726 (+/-0.008) for {'clf__max_depth': 5, 'clf__max_leaf_nodes': 14, 'clf__min_samples_leaf': 5, 'clf__min_samples_split': 10, 'clf__n_estimators': 40, 'kbest__k': 10}\n",
      "0.728 (+/-0.004) for {'clf__max_depth': 5, 'clf__max_leaf_nodes': 14, 'clf__min_samples_leaf': 5, 'clf__min_samples_split': 10, 'clf__n_estimators': 40, 'kbest__k': 11}\n",
      "0.725 (+/-0.004) for {'clf__max_depth': 5, 'clf__max_leaf_nodes': 14, 'clf__min_samples_leaf': 5, 'clf__min_samples_split': 10, 'clf__n_estimators': 40, 'kbest__k': 12}\n",
      "0.728 (+/-0.010) for {'clf__max_depth': 5, 'clf__max_leaf_nodes': 14, 'clf__min_samples_leaf': 5, 'clf__min_samples_split': 10, 'clf__n_estimators': 40, 'kbest__k': 13}\n",
      "0.727 (+/-0.010) for {'clf__max_depth': 5, 'clf__max_leaf_nodes': 14, 'clf__min_samples_leaf': 5, 'clf__min_samples_split': 10, 'clf__n_estimators': 40, 'kbest__k': 14}\n",
      "0.725 (+/-0.006) for {'clf__max_depth': 5, 'clf__max_leaf_nodes': 14, 'clf__min_samples_leaf': 5, 'clf__min_samples_split': 10, 'clf__n_estimators': 40, 'kbest__k': 15}\n",
      "0.727 (+/-0.010) for {'clf__max_depth': 5, 'clf__max_leaf_nodes': 14, 'clf__min_samples_leaf': 5, 'clf__min_samples_split': 10, 'clf__n_estimators': 40, 'kbest__k': 16}\n",
      "0.726 (+/-0.007) for {'clf__max_depth': 5, 'clf__max_leaf_nodes': 14, 'clf__min_samples_leaf': 5, 'clf__min_samples_split': 10, 'clf__n_estimators': 40, 'kbest__k': 17}\n",
      "0.726 (+/-0.006) for {'clf__max_depth': 5, 'clf__max_leaf_nodes': 14, 'clf__min_samples_leaf': 5, 'clf__min_samples_split': 10, 'clf__n_estimators': 40, 'kbest__k': 18}\n",
      "0.729 (+/-0.004) for {'clf__max_depth': 5, 'clf__max_leaf_nodes': 14, 'clf__min_samples_leaf': 5, 'clf__min_samples_split': 10, 'clf__n_estimators': 40, 'kbest__k': 19}\n",
      "0.733 (+/-0.010) for {'clf__max_depth': 5, 'clf__max_leaf_nodes': 14, 'clf__min_samples_leaf': 5, 'clf__min_samples_split': 10, 'clf__n_estimators': 40, 'kbest__k': 20}\n",
      "0.693 (+/-0.021) for {'clf__max_depth': 5, 'clf__max_leaf_nodes': 14, 'clf__min_samples_leaf': 5, 'clf__min_samples_split': 10, 'clf__n_estimators': 42, 'kbest__k': 1}\n",
      "0.696 (+/-0.008) for {'clf__max_depth': 5, 'clf__max_leaf_nodes': 14, 'clf__min_samples_leaf': 5, 'clf__min_samples_split': 10, 'clf__n_estimators': 42, 'kbest__k': 2}\n",
      "0.693 (+/-0.011) for {'clf__max_depth': 5, 'clf__max_leaf_nodes': 14, 'clf__min_samples_leaf': 5, 'clf__min_samples_split': 10, 'clf__n_estimators': 42, 'kbest__k': 3}\n",
      "0.696 (+/-0.010) for {'clf__max_depth': 5, 'clf__max_leaf_nodes': 14, 'clf__min_samples_leaf': 5, 'clf__min_samples_split': 10, 'clf__n_estimators': 42, 'kbest__k': 4}\n",
      "0.699 (+/-0.017) for {'clf__max_depth': 5, 'clf__max_leaf_nodes': 14, 'clf__min_samples_leaf': 5, 'clf__min_samples_split': 10, 'clf__n_estimators': 42, 'kbest__k': 5}\n",
      "0.705 (+/-0.011) for {'clf__max_depth': 5, 'clf__max_leaf_nodes': 14, 'clf__min_samples_leaf': 5, 'clf__min_samples_split': 10, 'clf__n_estimators': 42, 'kbest__k': 6}\n",
      "0.720 (+/-0.013) for {'clf__max_depth': 5, 'clf__max_leaf_nodes': 14, 'clf__min_samples_leaf': 5, 'clf__min_samples_split': 10, 'clf__n_estimators': 42, 'kbest__k': 7}\n"
     ]
    },
    {
     "name": "stdout",
     "output_type": "stream",
     "text": [
      "0.720 (+/-0.006) for {'clf__max_depth': 5, 'clf__max_leaf_nodes': 14, 'clf__min_samples_leaf': 5, 'clf__min_samples_split': 10, 'clf__n_estimators': 42, 'kbest__k': 8}\n",
      "0.729 (+/-0.007) for {'clf__max_depth': 5, 'clf__max_leaf_nodes': 14, 'clf__min_samples_leaf': 5, 'clf__min_samples_split': 10, 'clf__n_estimators': 42, 'kbest__k': 9}\n",
      "0.730 (+/-0.009) for {'clf__max_depth': 5, 'clf__max_leaf_nodes': 14, 'clf__min_samples_leaf': 5, 'clf__min_samples_split': 10, 'clf__n_estimators': 42, 'kbest__k': 10}\n",
      "0.727 (+/-0.005) for {'clf__max_depth': 5, 'clf__max_leaf_nodes': 14, 'clf__min_samples_leaf': 5, 'clf__min_samples_split': 10, 'clf__n_estimators': 42, 'kbest__k': 11}\n",
      "0.730 (+/-0.008) for {'clf__max_depth': 5, 'clf__max_leaf_nodes': 14, 'clf__min_samples_leaf': 5, 'clf__min_samples_split': 10, 'clf__n_estimators': 42, 'kbest__k': 12}\n",
      "0.726 (+/-0.005) for {'clf__max_depth': 5, 'clf__max_leaf_nodes': 14, 'clf__min_samples_leaf': 5, 'clf__min_samples_split': 10, 'clf__n_estimators': 42, 'kbest__k': 13}\n",
      "0.729 (+/-0.010) for {'clf__max_depth': 5, 'clf__max_leaf_nodes': 14, 'clf__min_samples_leaf': 5, 'clf__min_samples_split': 10, 'clf__n_estimators': 42, 'kbest__k': 14}\n",
      "0.728 (+/-0.008) for {'clf__max_depth': 5, 'clf__max_leaf_nodes': 14, 'clf__min_samples_leaf': 5, 'clf__min_samples_split': 10, 'clf__n_estimators': 42, 'kbest__k': 15}\n",
      "0.729 (+/-0.004) for {'clf__max_depth': 5, 'clf__max_leaf_nodes': 14, 'clf__min_samples_leaf': 5, 'clf__min_samples_split': 10, 'clf__n_estimators': 42, 'kbest__k': 16}\n",
      "0.726 (+/-0.006) for {'clf__max_depth': 5, 'clf__max_leaf_nodes': 14, 'clf__min_samples_leaf': 5, 'clf__min_samples_split': 10, 'clf__n_estimators': 42, 'kbest__k': 17}\n",
      "0.728 (+/-0.010) for {'clf__max_depth': 5, 'clf__max_leaf_nodes': 14, 'clf__min_samples_leaf': 5, 'clf__min_samples_split': 10, 'clf__n_estimators': 42, 'kbest__k': 18}\n",
      "0.726 (+/-0.007) for {'clf__max_depth': 5, 'clf__max_leaf_nodes': 14, 'clf__min_samples_leaf': 5, 'clf__min_samples_split': 10, 'clf__n_estimators': 42, 'kbest__k': 19}\n",
      "0.732 (+/-0.013) for {'clf__max_depth': 5, 'clf__max_leaf_nodes': 14, 'clf__min_samples_leaf': 5, 'clf__min_samples_split': 10, 'clf__n_estimators': 42, 'kbest__k': 20}\n",
      "0.693 (+/-0.021) for {'clf__max_depth': 5, 'clf__max_leaf_nodes': 14, 'clf__min_samples_leaf': 5, 'clf__min_samples_split': 10, 'clf__n_estimators': 100, 'kbest__k': 1}\n",
      "0.695 (+/-0.008) for {'clf__max_depth': 5, 'clf__max_leaf_nodes': 14, 'clf__min_samples_leaf': 5, 'clf__min_samples_split': 10, 'clf__n_estimators': 100, 'kbest__k': 2}\n",
      "0.696 (+/-0.011) for {'clf__max_depth': 5, 'clf__max_leaf_nodes': 14, 'clf__min_samples_leaf': 5, 'clf__min_samples_split': 10, 'clf__n_estimators': 100, 'kbest__k': 3}\n",
      "0.697 (+/-0.011) for {'clf__max_depth': 5, 'clf__max_leaf_nodes': 14, 'clf__min_samples_leaf': 5, 'clf__min_samples_split': 10, 'clf__n_estimators': 100, 'kbest__k': 4}\n",
      "0.702 (+/-0.010) for {'clf__max_depth': 5, 'clf__max_leaf_nodes': 14, 'clf__min_samples_leaf': 5, 'clf__min_samples_split': 10, 'clf__n_estimators': 100, 'kbest__k': 5}\n",
      "0.702 (+/-0.016) for {'clf__max_depth': 5, 'clf__max_leaf_nodes': 14, 'clf__min_samples_leaf': 5, 'clf__min_samples_split': 10, 'clf__n_estimators': 100, 'kbest__k': 6}\n",
      "0.722 (+/-0.010) for {'clf__max_depth': 5, 'clf__max_leaf_nodes': 14, 'clf__min_samples_leaf': 5, 'clf__min_samples_split': 10, 'clf__n_estimators': 100, 'kbest__k': 7}\n",
      "0.723 (+/-0.008) for {'clf__max_depth': 5, 'clf__max_leaf_nodes': 14, 'clf__min_samples_leaf': 5, 'clf__min_samples_split': 10, 'clf__n_estimators': 100, 'kbest__k': 8}\n",
      "0.728 (+/-0.003) for {'clf__max_depth': 5, 'clf__max_leaf_nodes': 14, 'clf__min_samples_leaf': 5, 'clf__min_samples_split': 10, 'clf__n_estimators': 100, 'kbest__k': 9}\n",
      "0.729 (+/-0.005) for {'clf__max_depth': 5, 'clf__max_leaf_nodes': 14, 'clf__min_samples_leaf': 5, 'clf__min_samples_split': 10, 'clf__n_estimators': 100, 'kbest__k': 10}\n",
      "0.727 (+/-0.006) for {'clf__max_depth': 5, 'clf__max_leaf_nodes': 14, 'clf__min_samples_leaf': 5, 'clf__min_samples_split': 10, 'clf__n_estimators': 100, 'kbest__k': 11}\n",
      "0.727 (+/-0.008) for {'clf__max_depth': 5, 'clf__max_leaf_nodes': 14, 'clf__min_samples_leaf': 5, 'clf__min_samples_split': 10, 'clf__n_estimators': 100, 'kbest__k': 12}\n",
      "0.725 (+/-0.004) for {'clf__max_depth': 5, 'clf__max_leaf_nodes': 14, 'clf__min_samples_leaf': 5, 'clf__min_samples_split': 10, 'clf__n_estimators': 100, 'kbest__k': 13}\n",
      "0.726 (+/-0.009) for {'clf__max_depth': 5, 'clf__max_leaf_nodes': 14, 'clf__min_samples_leaf': 5, 'clf__min_samples_split': 10, 'clf__n_estimators': 100, 'kbest__k': 14}\n",
      "0.726 (+/-0.006) for {'clf__max_depth': 5, 'clf__max_leaf_nodes': 14, 'clf__min_samples_leaf': 5, 'clf__min_samples_split': 10, 'clf__n_estimators': 100, 'kbest__k': 15}\n",
      "0.728 (+/-0.007) for {'clf__max_depth': 5, 'clf__max_leaf_nodes': 14, 'clf__min_samples_leaf': 5, 'clf__min_samples_split': 10, 'clf__n_estimators': 100, 'kbest__k': 16}\n",
      "0.727 (+/-0.004) for {'clf__max_depth': 5, 'clf__max_leaf_nodes': 14, 'clf__min_samples_leaf': 5, 'clf__min_samples_split': 10, 'clf__n_estimators': 100, 'kbest__k': 17}\n",
      "0.728 (+/-0.005) for {'clf__max_depth': 5, 'clf__max_leaf_nodes': 14, 'clf__min_samples_leaf': 5, 'clf__min_samples_split': 10, 'clf__n_estimators': 100, 'kbest__k': 18}\n",
      "0.732 (+/-0.008) for {'clf__max_depth': 5, 'clf__max_leaf_nodes': 14, 'clf__min_samples_leaf': 5, 'clf__min_samples_split': 10, 'clf__n_estimators': 100, 'kbest__k': 19}\n",
      "0.731 (+/-0.006) for {'clf__max_depth': 5, 'clf__max_leaf_nodes': 14, 'clf__min_samples_leaf': 5, 'clf__min_samples_split': 10, 'clf__n_estimators': 100, 'kbest__k': 20}\n",
      "0.692 (+/-0.021) for {'clf__max_depth': 5, 'clf__max_leaf_nodes': 15, 'clf__min_samples_leaf': 3, 'clf__min_samples_split': 5, 'clf__n_estimators': 5, 'kbest__k': 1}\n",
      "0.694 (+/-0.015) for {'clf__max_depth': 5, 'clf__max_leaf_nodes': 15, 'clf__min_samples_leaf': 3, 'clf__min_samples_split': 5, 'clf__n_estimators': 5, 'kbest__k': 2}\n",
      "0.696 (+/-0.011) for {'clf__max_depth': 5, 'clf__max_leaf_nodes': 15, 'clf__min_samples_leaf': 3, 'clf__min_samples_split': 5, 'clf__n_estimators': 5, 'kbest__k': 3}\n",
      "0.691 (+/-0.011) for {'clf__max_depth': 5, 'clf__max_leaf_nodes': 15, 'clf__min_samples_leaf': 3, 'clf__min_samples_split': 5, 'clf__n_estimators': 5, 'kbest__k': 4}\n",
      "0.699 (+/-0.015) for {'clf__max_depth': 5, 'clf__max_leaf_nodes': 15, 'clf__min_samples_leaf': 3, 'clf__min_samples_split': 5, 'clf__n_estimators': 5, 'kbest__k': 5}\n",
      "0.696 (+/-0.016) for {'clf__max_depth': 5, 'clf__max_leaf_nodes': 15, 'clf__min_samples_leaf': 3, 'clf__min_samples_split': 5, 'clf__n_estimators': 5, 'kbest__k': 6}\n",
      "0.711 (+/-0.018) for {'clf__max_depth': 5, 'clf__max_leaf_nodes': 15, 'clf__min_samples_leaf': 3, 'clf__min_samples_split': 5, 'clf__n_estimators': 5, 'kbest__k': 7}\n",
      "0.714 (+/-0.015) for {'clf__max_depth': 5, 'clf__max_leaf_nodes': 15, 'clf__min_samples_leaf': 3, 'clf__min_samples_split': 5, 'clf__n_estimators': 5, 'kbest__k': 8}\n",
      "0.720 (+/-0.005) for {'clf__max_depth': 5, 'clf__max_leaf_nodes': 15, 'clf__min_samples_leaf': 3, 'clf__min_samples_split': 5, 'clf__n_estimators': 5, 'kbest__k': 9}\n",
      "0.714 (+/-0.018) for {'clf__max_depth': 5, 'clf__max_leaf_nodes': 15, 'clf__min_samples_leaf': 3, 'clf__min_samples_split': 5, 'clf__n_estimators': 5, 'kbest__k': 10}\n",
      "0.718 (+/-0.008) for {'clf__max_depth': 5, 'clf__max_leaf_nodes': 15, 'clf__min_samples_leaf': 3, 'clf__min_samples_split': 5, 'clf__n_estimators': 5, 'kbest__k': 11}\n",
      "0.725 (+/-0.014) for {'clf__max_depth': 5, 'clf__max_leaf_nodes': 15, 'clf__min_samples_leaf': 3, 'clf__min_samples_split': 5, 'clf__n_estimators': 5, 'kbest__k': 12}\n",
      "0.713 (+/-0.014) for {'clf__max_depth': 5, 'clf__max_leaf_nodes': 15, 'clf__min_samples_leaf': 3, 'clf__min_samples_split': 5, 'clf__n_estimators': 5, 'kbest__k': 13}\n",
      "0.718 (+/-0.006) for {'clf__max_depth': 5, 'clf__max_leaf_nodes': 15, 'clf__min_samples_leaf': 3, 'clf__min_samples_split': 5, 'clf__n_estimators': 5, 'kbest__k': 14}\n",
      "0.712 (+/-0.019) for {'clf__max_depth': 5, 'clf__max_leaf_nodes': 15, 'clf__min_samples_leaf': 3, 'clf__min_samples_split': 5, 'clf__n_estimators': 5, 'kbest__k': 15}\n"
     ]
    },
    {
     "name": "stdout",
     "output_type": "stream",
     "text": [
      "0.718 (+/-0.012) for {'clf__max_depth': 5, 'clf__max_leaf_nodes': 15, 'clf__min_samples_leaf': 3, 'clf__min_samples_split': 5, 'clf__n_estimators': 5, 'kbest__k': 16}\n",
      "0.721 (+/-0.010) for {'clf__max_depth': 5, 'clf__max_leaf_nodes': 15, 'clf__min_samples_leaf': 3, 'clf__min_samples_split': 5, 'clf__n_estimators': 5, 'kbest__k': 17}\n",
      "0.714 (+/-0.013) for {'clf__max_depth': 5, 'clf__max_leaf_nodes': 15, 'clf__min_samples_leaf': 3, 'clf__min_samples_split': 5, 'clf__n_estimators': 5, 'kbest__k': 18}\n",
      "0.718 (+/-0.016) for {'clf__max_depth': 5, 'clf__max_leaf_nodes': 15, 'clf__min_samples_leaf': 3, 'clf__min_samples_split': 5, 'clf__n_estimators': 5, 'kbest__k': 19}\n",
      "0.723 (+/-0.014) for {'clf__max_depth': 5, 'clf__max_leaf_nodes': 15, 'clf__min_samples_leaf': 3, 'clf__min_samples_split': 5, 'clf__n_estimators': 5, 'kbest__k': 20}\n",
      "0.691 (+/-0.019) for {'clf__max_depth': 5, 'clf__max_leaf_nodes': 15, 'clf__min_samples_leaf': 3, 'clf__min_samples_split': 5, 'clf__n_estimators': 40, 'kbest__k': 1}\n",
      "0.695 (+/-0.005) for {'clf__max_depth': 5, 'clf__max_leaf_nodes': 15, 'clf__min_samples_leaf': 3, 'clf__min_samples_split': 5, 'clf__n_estimators': 40, 'kbest__k': 2}\n",
      "0.695 (+/-0.011) for {'clf__max_depth': 5, 'clf__max_leaf_nodes': 15, 'clf__min_samples_leaf': 3, 'clf__min_samples_split': 5, 'clf__n_estimators': 40, 'kbest__k': 3}\n",
      "0.698 (+/-0.013) for {'clf__max_depth': 5, 'clf__max_leaf_nodes': 15, 'clf__min_samples_leaf': 3, 'clf__min_samples_split': 5, 'clf__n_estimators': 40, 'kbest__k': 4}\n",
      "0.700 (+/-0.010) for {'clf__max_depth': 5, 'clf__max_leaf_nodes': 15, 'clf__min_samples_leaf': 3, 'clf__min_samples_split': 5, 'clf__n_estimators': 40, 'kbest__k': 5}\n",
      "0.704 (+/-0.011) for {'clf__max_depth': 5, 'clf__max_leaf_nodes': 15, 'clf__min_samples_leaf': 3, 'clf__min_samples_split': 5, 'clf__n_estimators': 40, 'kbest__k': 6}\n",
      "0.721 (+/-0.015) for {'clf__max_depth': 5, 'clf__max_leaf_nodes': 15, 'clf__min_samples_leaf': 3, 'clf__min_samples_split': 5, 'clf__n_estimators': 40, 'kbest__k': 7}\n",
      "0.724 (+/-0.009) for {'clf__max_depth': 5, 'clf__max_leaf_nodes': 15, 'clf__min_samples_leaf': 3, 'clf__min_samples_split': 5, 'clf__n_estimators': 40, 'kbest__k': 8}\n",
      "0.730 (+/-0.004) for {'clf__max_depth': 5, 'clf__max_leaf_nodes': 15, 'clf__min_samples_leaf': 3, 'clf__min_samples_split': 5, 'clf__n_estimators': 40, 'kbest__k': 9}\n",
      "0.728 (+/-0.007) for {'clf__max_depth': 5, 'clf__max_leaf_nodes': 15, 'clf__min_samples_leaf': 3, 'clf__min_samples_split': 5, 'clf__n_estimators': 40, 'kbest__k': 10}\n",
      "0.724 (+/-0.008) for {'clf__max_depth': 5, 'clf__max_leaf_nodes': 15, 'clf__min_samples_leaf': 3, 'clf__min_samples_split': 5, 'clf__n_estimators': 40, 'kbest__k': 11}\n",
      "0.726 (+/-0.006) for {'clf__max_depth': 5, 'clf__max_leaf_nodes': 15, 'clf__min_samples_leaf': 3, 'clf__min_samples_split': 5, 'clf__n_estimators': 40, 'kbest__k': 12}\n",
      "0.728 (+/-0.008) for {'clf__max_depth': 5, 'clf__max_leaf_nodes': 15, 'clf__min_samples_leaf': 3, 'clf__min_samples_split': 5, 'clf__n_estimators': 40, 'kbest__k': 13}\n",
      "0.728 (+/-0.008) for {'clf__max_depth': 5, 'clf__max_leaf_nodes': 15, 'clf__min_samples_leaf': 3, 'clf__min_samples_split': 5, 'clf__n_estimators': 40, 'kbest__k': 14}\n",
      "0.727 (+/-0.012) for {'clf__max_depth': 5, 'clf__max_leaf_nodes': 15, 'clf__min_samples_leaf': 3, 'clf__min_samples_split': 5, 'clf__n_estimators': 40, 'kbest__k': 15}\n",
      "0.729 (+/-0.007) for {'clf__max_depth': 5, 'clf__max_leaf_nodes': 15, 'clf__min_samples_leaf': 3, 'clf__min_samples_split': 5, 'clf__n_estimators': 40, 'kbest__k': 16}\n",
      "0.726 (+/-0.006) for {'clf__max_depth': 5, 'clf__max_leaf_nodes': 15, 'clf__min_samples_leaf': 3, 'clf__min_samples_split': 5, 'clf__n_estimators': 40, 'kbest__k': 17}\n",
      "0.728 (+/-0.004) for {'clf__max_depth': 5, 'clf__max_leaf_nodes': 15, 'clf__min_samples_leaf': 3, 'clf__min_samples_split': 5, 'clf__n_estimators': 40, 'kbest__k': 18}\n",
      "0.732 (+/-0.007) for {'clf__max_depth': 5, 'clf__max_leaf_nodes': 15, 'clf__min_samples_leaf': 3, 'clf__min_samples_split': 5, 'clf__n_estimators': 40, 'kbest__k': 19}\n",
      "0.732 (+/-0.008) for {'clf__max_depth': 5, 'clf__max_leaf_nodes': 15, 'clf__min_samples_leaf': 3, 'clf__min_samples_split': 5, 'clf__n_estimators': 40, 'kbest__k': 20}\n",
      "0.691 (+/-0.019) for {'clf__max_depth': 5, 'clf__max_leaf_nodes': 15, 'clf__min_samples_leaf': 3, 'clf__min_samples_split': 5, 'clf__n_estimators': 42, 'kbest__k': 1}\n",
      "0.694 (+/-0.009) for {'clf__max_depth': 5, 'clf__max_leaf_nodes': 15, 'clf__min_samples_leaf': 3, 'clf__min_samples_split': 5, 'clf__n_estimators': 42, 'kbest__k': 2}\n",
      "0.695 (+/-0.008) for {'clf__max_depth': 5, 'clf__max_leaf_nodes': 15, 'clf__min_samples_leaf': 3, 'clf__min_samples_split': 5, 'clf__n_estimators': 42, 'kbest__k': 3}\n",
      "0.697 (+/-0.009) for {'clf__max_depth': 5, 'clf__max_leaf_nodes': 15, 'clf__min_samples_leaf': 3, 'clf__min_samples_split': 5, 'clf__n_estimators': 42, 'kbest__k': 4}\n",
      "0.702 (+/-0.012) for {'clf__max_depth': 5, 'clf__max_leaf_nodes': 15, 'clf__min_samples_leaf': 3, 'clf__min_samples_split': 5, 'clf__n_estimators': 42, 'kbest__k': 5}\n",
      "0.704 (+/-0.013) for {'clf__max_depth': 5, 'clf__max_leaf_nodes': 15, 'clf__min_samples_leaf': 3, 'clf__min_samples_split': 5, 'clf__n_estimators': 42, 'kbest__k': 6}\n",
      "0.722 (+/-0.008) for {'clf__max_depth': 5, 'clf__max_leaf_nodes': 15, 'clf__min_samples_leaf': 3, 'clf__min_samples_split': 5, 'clf__n_estimators': 42, 'kbest__k': 7}\n",
      "0.725 (+/-0.005) for {'clf__max_depth': 5, 'clf__max_leaf_nodes': 15, 'clf__min_samples_leaf': 3, 'clf__min_samples_split': 5, 'clf__n_estimators': 42, 'kbest__k': 8}\n",
      "0.728 (+/-0.004) for {'clf__max_depth': 5, 'clf__max_leaf_nodes': 15, 'clf__min_samples_leaf': 3, 'clf__min_samples_split': 5, 'clf__n_estimators': 42, 'kbest__k': 9}\n",
      "0.728 (+/-0.009) for {'clf__max_depth': 5, 'clf__max_leaf_nodes': 15, 'clf__min_samples_leaf': 3, 'clf__min_samples_split': 5, 'clf__n_estimators': 42, 'kbest__k': 10}\n",
      "0.726 (+/-0.007) for {'clf__max_depth': 5, 'clf__max_leaf_nodes': 15, 'clf__min_samples_leaf': 3, 'clf__min_samples_split': 5, 'clf__n_estimators': 42, 'kbest__k': 11}\n",
      "0.728 (+/-0.006) for {'clf__max_depth': 5, 'clf__max_leaf_nodes': 15, 'clf__min_samples_leaf': 3, 'clf__min_samples_split': 5, 'clf__n_estimators': 42, 'kbest__k': 12}\n",
      "0.725 (+/-0.008) for {'clf__max_depth': 5, 'clf__max_leaf_nodes': 15, 'clf__min_samples_leaf': 3, 'clf__min_samples_split': 5, 'clf__n_estimators': 42, 'kbest__k': 13}\n",
      "0.729 (+/-0.009) for {'clf__max_depth': 5, 'clf__max_leaf_nodes': 15, 'clf__min_samples_leaf': 3, 'clf__min_samples_split': 5, 'clf__n_estimators': 42, 'kbest__k': 14}\n",
      "0.726 (+/-0.006) for {'clf__max_depth': 5, 'clf__max_leaf_nodes': 15, 'clf__min_samples_leaf': 3, 'clf__min_samples_split': 5, 'clf__n_estimators': 42, 'kbest__k': 15}\n",
      "0.726 (+/-0.008) for {'clf__max_depth': 5, 'clf__max_leaf_nodes': 15, 'clf__min_samples_leaf': 3, 'clf__min_samples_split': 5, 'clf__n_estimators': 42, 'kbest__k': 16}\n",
      "0.728 (+/-0.007) for {'clf__max_depth': 5, 'clf__max_leaf_nodes': 15, 'clf__min_samples_leaf': 3, 'clf__min_samples_split': 5, 'clf__n_estimators': 42, 'kbest__k': 17}\n",
      "0.729 (+/-0.011) for {'clf__max_depth': 5, 'clf__max_leaf_nodes': 15, 'clf__min_samples_leaf': 3, 'clf__min_samples_split': 5, 'clf__n_estimators': 42, 'kbest__k': 18}\n",
      "0.731 (+/-0.009) for {'clf__max_depth': 5, 'clf__max_leaf_nodes': 15, 'clf__min_samples_leaf': 3, 'clf__min_samples_split': 5, 'clf__n_estimators': 42, 'kbest__k': 19}\n",
      "0.732 (+/-0.008) for {'clf__max_depth': 5, 'clf__max_leaf_nodes': 15, 'clf__min_samples_leaf': 3, 'clf__min_samples_split': 5, 'clf__n_estimators': 42, 'kbest__k': 20}\n",
      "0.691 (+/-0.019) for {'clf__max_depth': 5, 'clf__max_leaf_nodes': 15, 'clf__min_samples_leaf': 3, 'clf__min_samples_split': 5, 'clf__n_estimators': 100, 'kbest__k': 1}\n",
      "0.695 (+/-0.006) for {'clf__max_depth': 5, 'clf__max_leaf_nodes': 15, 'clf__min_samples_leaf': 3, 'clf__min_samples_split': 5, 'clf__n_estimators': 100, 'kbest__k': 2}\n",
      "0.694 (+/-0.006) for {'clf__max_depth': 5, 'clf__max_leaf_nodes': 15, 'clf__min_samples_leaf': 3, 'clf__min_samples_split': 5, 'clf__n_estimators': 100, 'kbest__k': 3}\n"
     ]
    },
    {
     "name": "stdout",
     "output_type": "stream",
     "text": [
      "0.699 (+/-0.015) for {'clf__max_depth': 5, 'clf__max_leaf_nodes': 15, 'clf__min_samples_leaf': 3, 'clf__min_samples_split': 5, 'clf__n_estimators': 100, 'kbest__k': 4}\n",
      "0.702 (+/-0.014) for {'clf__max_depth': 5, 'clf__max_leaf_nodes': 15, 'clf__min_samples_leaf': 3, 'clf__min_samples_split': 5, 'clf__n_estimators': 100, 'kbest__k': 5}\n",
      "0.701 (+/-0.015) for {'clf__max_depth': 5, 'clf__max_leaf_nodes': 15, 'clf__min_samples_leaf': 3, 'clf__min_samples_split': 5, 'clf__n_estimators': 100, 'kbest__k': 6}\n",
      "0.723 (+/-0.009) for {'clf__max_depth': 5, 'clf__max_leaf_nodes': 15, 'clf__min_samples_leaf': 3, 'clf__min_samples_split': 5, 'clf__n_estimators': 100, 'kbest__k': 7}\n",
      "0.724 (+/-0.012) for {'clf__max_depth': 5, 'clf__max_leaf_nodes': 15, 'clf__min_samples_leaf': 3, 'clf__min_samples_split': 5, 'clf__n_estimators': 100, 'kbest__k': 8}\n",
      "0.728 (+/-0.007) for {'clf__max_depth': 5, 'clf__max_leaf_nodes': 15, 'clf__min_samples_leaf': 3, 'clf__min_samples_split': 5, 'clf__n_estimators': 100, 'kbest__k': 9}\n",
      "0.730 (+/-0.005) for {'clf__max_depth': 5, 'clf__max_leaf_nodes': 15, 'clf__min_samples_leaf': 3, 'clf__min_samples_split': 5, 'clf__n_estimators': 100, 'kbest__k': 10}\n",
      "0.727 (+/-0.007) for {'clf__max_depth': 5, 'clf__max_leaf_nodes': 15, 'clf__min_samples_leaf': 3, 'clf__min_samples_split': 5, 'clf__n_estimators': 100, 'kbest__k': 11}\n",
      "0.727 (+/-0.008) for {'clf__max_depth': 5, 'clf__max_leaf_nodes': 15, 'clf__min_samples_leaf': 3, 'clf__min_samples_split': 5, 'clf__n_estimators': 100, 'kbest__k': 12}\n",
      "0.727 (+/-0.005) for {'clf__max_depth': 5, 'clf__max_leaf_nodes': 15, 'clf__min_samples_leaf': 3, 'clf__min_samples_split': 5, 'clf__n_estimators': 100, 'kbest__k': 13}\n",
      "0.729 (+/-0.008) for {'clf__max_depth': 5, 'clf__max_leaf_nodes': 15, 'clf__min_samples_leaf': 3, 'clf__min_samples_split': 5, 'clf__n_estimators': 100, 'kbest__k': 14}\n",
      "0.727 (+/-0.013) for {'clf__max_depth': 5, 'clf__max_leaf_nodes': 15, 'clf__min_samples_leaf': 3, 'clf__min_samples_split': 5, 'clf__n_estimators': 100, 'kbest__k': 15}\n",
      "0.728 (+/-0.007) for {'clf__max_depth': 5, 'clf__max_leaf_nodes': 15, 'clf__min_samples_leaf': 3, 'clf__min_samples_split': 5, 'clf__n_estimators': 100, 'kbest__k': 16}\n",
      "0.726 (+/-0.007) for {'clf__max_depth': 5, 'clf__max_leaf_nodes': 15, 'clf__min_samples_leaf': 3, 'clf__min_samples_split': 5, 'clf__n_estimators': 100, 'kbest__k': 17}\n",
      "0.728 (+/-0.005) for {'clf__max_depth': 5, 'clf__max_leaf_nodes': 15, 'clf__min_samples_leaf': 3, 'clf__min_samples_split': 5, 'clf__n_estimators': 100, 'kbest__k': 18}\n",
      "0.732 (+/-0.005) for {'clf__max_depth': 5, 'clf__max_leaf_nodes': 15, 'clf__min_samples_leaf': 3, 'clf__min_samples_split': 5, 'clf__n_estimators': 100, 'kbest__k': 19}\n",
      "0.734 (+/-0.009) for {'clf__max_depth': 5, 'clf__max_leaf_nodes': 15, 'clf__min_samples_leaf': 3, 'clf__min_samples_split': 5, 'clf__n_estimators': 100, 'kbest__k': 20}\n",
      "0.691 (+/-0.019) for {'clf__max_depth': 5, 'clf__max_leaf_nodes': 15, 'clf__min_samples_leaf': 3, 'clf__min_samples_split': 10, 'clf__n_estimators': 5, 'kbest__k': 1}\n",
      "0.693 (+/-0.015) for {'clf__max_depth': 5, 'clf__max_leaf_nodes': 15, 'clf__min_samples_leaf': 3, 'clf__min_samples_split': 10, 'clf__n_estimators': 5, 'kbest__k': 2}\n",
      "0.692 (+/-0.013) for {'clf__max_depth': 5, 'clf__max_leaf_nodes': 15, 'clf__min_samples_leaf': 3, 'clf__min_samples_split': 10, 'clf__n_estimators': 5, 'kbest__k': 3}\n",
      "0.693 (+/-0.006) for {'clf__max_depth': 5, 'clf__max_leaf_nodes': 15, 'clf__min_samples_leaf': 3, 'clf__min_samples_split': 10, 'clf__n_estimators': 5, 'kbest__k': 4}\n",
      "0.700 (+/-0.010) for {'clf__max_depth': 5, 'clf__max_leaf_nodes': 15, 'clf__min_samples_leaf': 3, 'clf__min_samples_split': 10, 'clf__n_estimators': 5, 'kbest__k': 5}\n",
      "0.703 (+/-0.016) for {'clf__max_depth': 5, 'clf__max_leaf_nodes': 15, 'clf__min_samples_leaf': 3, 'clf__min_samples_split': 10, 'clf__n_estimators': 5, 'kbest__k': 6}\n",
      "0.722 (+/-0.008) for {'clf__max_depth': 5, 'clf__max_leaf_nodes': 15, 'clf__min_samples_leaf': 3, 'clf__min_samples_split': 10, 'clf__n_estimators': 5, 'kbest__k': 7}\n",
      "0.720 (+/-0.012) for {'clf__max_depth': 5, 'clf__max_leaf_nodes': 15, 'clf__min_samples_leaf': 3, 'clf__min_samples_split': 10, 'clf__n_estimators': 5, 'kbest__k': 8}\n",
      "0.719 (+/-0.014) for {'clf__max_depth': 5, 'clf__max_leaf_nodes': 15, 'clf__min_samples_leaf': 3, 'clf__min_samples_split': 10, 'clf__n_estimators': 5, 'kbest__k': 9}\n",
      "0.722 (+/-0.005) for {'clf__max_depth': 5, 'clf__max_leaf_nodes': 15, 'clf__min_samples_leaf': 3, 'clf__min_samples_split': 10, 'clf__n_estimators': 5, 'kbest__k': 10}\n",
      "0.719 (+/-0.018) for {'clf__max_depth': 5, 'clf__max_leaf_nodes': 15, 'clf__min_samples_leaf': 3, 'clf__min_samples_split': 10, 'clf__n_estimators': 5, 'kbest__k': 11}\n",
      "0.721 (+/-0.008) for {'clf__max_depth': 5, 'clf__max_leaf_nodes': 15, 'clf__min_samples_leaf': 3, 'clf__min_samples_split': 10, 'clf__n_estimators': 5, 'kbest__k': 12}\n",
      "0.712 (+/-0.009) for {'clf__max_depth': 5, 'clf__max_leaf_nodes': 15, 'clf__min_samples_leaf': 3, 'clf__min_samples_split': 10, 'clf__n_estimators': 5, 'kbest__k': 13}\n",
      "0.719 (+/-0.011) for {'clf__max_depth': 5, 'clf__max_leaf_nodes': 15, 'clf__min_samples_leaf': 3, 'clf__min_samples_split': 10, 'clf__n_estimators': 5, 'kbest__k': 14}\n",
      "0.717 (+/-0.013) for {'clf__max_depth': 5, 'clf__max_leaf_nodes': 15, 'clf__min_samples_leaf': 3, 'clf__min_samples_split': 10, 'clf__n_estimators': 5, 'kbest__k': 15}\n",
      "0.719 (+/-0.017) for {'clf__max_depth': 5, 'clf__max_leaf_nodes': 15, 'clf__min_samples_leaf': 3, 'clf__min_samples_split': 10, 'clf__n_estimators': 5, 'kbest__k': 16}\n",
      "0.722 (+/-0.021) for {'clf__max_depth': 5, 'clf__max_leaf_nodes': 15, 'clf__min_samples_leaf': 3, 'clf__min_samples_split': 10, 'clf__n_estimators': 5, 'kbest__k': 17}\n",
      "0.714 (+/-0.012) for {'clf__max_depth': 5, 'clf__max_leaf_nodes': 15, 'clf__min_samples_leaf': 3, 'clf__min_samples_split': 10, 'clf__n_estimators': 5, 'kbest__k': 18}\n",
      "0.720 (+/-0.012) for {'clf__max_depth': 5, 'clf__max_leaf_nodes': 15, 'clf__min_samples_leaf': 3, 'clf__min_samples_split': 10, 'clf__n_estimators': 5, 'kbest__k': 19}\n",
      "0.719 (+/-0.011) for {'clf__max_depth': 5, 'clf__max_leaf_nodes': 15, 'clf__min_samples_leaf': 3, 'clf__min_samples_split': 10, 'clf__n_estimators': 5, 'kbest__k': 20}\n",
      "0.693 (+/-0.021) for {'clf__max_depth': 5, 'clf__max_leaf_nodes': 15, 'clf__min_samples_leaf': 3, 'clf__min_samples_split': 10, 'clf__n_estimators': 40, 'kbest__k': 1}\n",
      "0.696 (+/-0.006) for {'clf__max_depth': 5, 'clf__max_leaf_nodes': 15, 'clf__min_samples_leaf': 3, 'clf__min_samples_split': 10, 'clf__n_estimators': 40, 'kbest__k': 2}\n",
      "0.695 (+/-0.008) for {'clf__max_depth': 5, 'clf__max_leaf_nodes': 15, 'clf__min_samples_leaf': 3, 'clf__min_samples_split': 10, 'clf__n_estimators': 40, 'kbest__k': 3}\n",
      "0.698 (+/-0.010) for {'clf__max_depth': 5, 'clf__max_leaf_nodes': 15, 'clf__min_samples_leaf': 3, 'clf__min_samples_split': 10, 'clf__n_estimators': 40, 'kbest__k': 4}\n",
      "0.703 (+/-0.008) for {'clf__max_depth': 5, 'clf__max_leaf_nodes': 15, 'clf__min_samples_leaf': 3, 'clf__min_samples_split': 10, 'clf__n_estimators': 40, 'kbest__k': 5}\n",
      "0.703 (+/-0.008) for {'clf__max_depth': 5, 'clf__max_leaf_nodes': 15, 'clf__min_samples_leaf': 3, 'clf__min_samples_split': 10, 'clf__n_estimators': 40, 'kbest__k': 6}\n",
      "0.722 (+/-0.013) for {'clf__max_depth': 5, 'clf__max_leaf_nodes': 15, 'clf__min_samples_leaf': 3, 'clf__min_samples_split': 10, 'clf__n_estimators': 40, 'kbest__k': 7}\n",
      "0.722 (+/-0.012) for {'clf__max_depth': 5, 'clf__max_leaf_nodes': 15, 'clf__min_samples_leaf': 3, 'clf__min_samples_split': 10, 'clf__n_estimators': 40, 'kbest__k': 8}\n",
      "0.728 (+/-0.004) for {'clf__max_depth': 5, 'clf__max_leaf_nodes': 15, 'clf__min_samples_leaf': 3, 'clf__min_samples_split': 10, 'clf__n_estimators': 40, 'kbest__k': 9}\n",
      "0.732 (+/-0.012) for {'clf__max_depth': 5, 'clf__max_leaf_nodes': 15, 'clf__min_samples_leaf': 3, 'clf__min_samples_split': 10, 'clf__n_estimators': 40, 'kbest__k': 10}\n",
      "0.726 (+/-0.011) for {'clf__max_depth': 5, 'clf__max_leaf_nodes': 15, 'clf__min_samples_leaf': 3, 'clf__min_samples_split': 10, 'clf__n_estimators': 40, 'kbest__k': 11}\n"
     ]
    },
    {
     "name": "stdout",
     "output_type": "stream",
     "text": [
      "0.728 (+/-0.005) for {'clf__max_depth': 5, 'clf__max_leaf_nodes': 15, 'clf__min_samples_leaf': 3, 'clf__min_samples_split': 10, 'clf__n_estimators': 40, 'kbest__k': 12}\n",
      "0.730 (+/-0.010) for {'clf__max_depth': 5, 'clf__max_leaf_nodes': 15, 'clf__min_samples_leaf': 3, 'clf__min_samples_split': 10, 'clf__n_estimators': 40, 'kbest__k': 13}\n",
      "0.726 (+/-0.013) for {'clf__max_depth': 5, 'clf__max_leaf_nodes': 15, 'clf__min_samples_leaf': 3, 'clf__min_samples_split': 10, 'clf__n_estimators': 40, 'kbest__k': 14}\n",
      "0.724 (+/-0.010) for {'clf__max_depth': 5, 'clf__max_leaf_nodes': 15, 'clf__min_samples_leaf': 3, 'clf__min_samples_split': 10, 'clf__n_estimators': 40, 'kbest__k': 15}\n",
      "0.728 (+/-0.009) for {'clf__max_depth': 5, 'clf__max_leaf_nodes': 15, 'clf__min_samples_leaf': 3, 'clf__min_samples_split': 10, 'clf__n_estimators': 40, 'kbest__k': 16}\n",
      "0.728 (+/-0.008) for {'clf__max_depth': 5, 'clf__max_leaf_nodes': 15, 'clf__min_samples_leaf': 3, 'clf__min_samples_split': 10, 'clf__n_estimators': 40, 'kbest__k': 17}\n",
      "0.729 (+/-0.003) for {'clf__max_depth': 5, 'clf__max_leaf_nodes': 15, 'clf__min_samples_leaf': 3, 'clf__min_samples_split': 10, 'clf__n_estimators': 40, 'kbest__k': 18}\n",
      "0.732 (+/-0.008) for {'clf__max_depth': 5, 'clf__max_leaf_nodes': 15, 'clf__min_samples_leaf': 3, 'clf__min_samples_split': 10, 'clf__n_estimators': 40, 'kbest__k': 19}\n",
      "0.732 (+/-0.005) for {'clf__max_depth': 5, 'clf__max_leaf_nodes': 15, 'clf__min_samples_leaf': 3, 'clf__min_samples_split': 10, 'clf__n_estimators': 40, 'kbest__k': 20}\n",
      "0.690 (+/-0.016) for {'clf__max_depth': 5, 'clf__max_leaf_nodes': 15, 'clf__min_samples_leaf': 3, 'clf__min_samples_split': 10, 'clf__n_estimators': 42, 'kbest__k': 1}\n",
      "0.694 (+/-0.006) for {'clf__max_depth': 5, 'clf__max_leaf_nodes': 15, 'clf__min_samples_leaf': 3, 'clf__min_samples_split': 10, 'clf__n_estimators': 42, 'kbest__k': 2}\n",
      "0.695 (+/-0.008) for {'clf__max_depth': 5, 'clf__max_leaf_nodes': 15, 'clf__min_samples_leaf': 3, 'clf__min_samples_split': 10, 'clf__n_estimators': 42, 'kbest__k': 3}\n",
      "0.699 (+/-0.007) for {'clf__max_depth': 5, 'clf__max_leaf_nodes': 15, 'clf__min_samples_leaf': 3, 'clf__min_samples_split': 10, 'clf__n_estimators': 42, 'kbest__k': 4}\n",
      "0.703 (+/-0.015) for {'clf__max_depth': 5, 'clf__max_leaf_nodes': 15, 'clf__min_samples_leaf': 3, 'clf__min_samples_split': 10, 'clf__n_estimators': 42, 'kbest__k': 5}\n",
      "0.702 (+/-0.012) for {'clf__max_depth': 5, 'clf__max_leaf_nodes': 15, 'clf__min_samples_leaf': 3, 'clf__min_samples_split': 10, 'clf__n_estimators': 42, 'kbest__k': 6}\n",
      "0.720 (+/-0.018) for {'clf__max_depth': 5, 'clf__max_leaf_nodes': 15, 'clf__min_samples_leaf': 3, 'clf__min_samples_split': 10, 'clf__n_estimators': 42, 'kbest__k': 7}\n",
      "0.724 (+/-0.008) for {'clf__max_depth': 5, 'clf__max_leaf_nodes': 15, 'clf__min_samples_leaf': 3, 'clf__min_samples_split': 10, 'clf__n_estimators': 42, 'kbest__k': 8}\n",
      "0.727 (+/-0.009) for {'clf__max_depth': 5, 'clf__max_leaf_nodes': 15, 'clf__min_samples_leaf': 3, 'clf__min_samples_split': 10, 'clf__n_estimators': 42, 'kbest__k': 9}\n",
      "0.727 (+/-0.004) for {'clf__max_depth': 5, 'clf__max_leaf_nodes': 15, 'clf__min_samples_leaf': 3, 'clf__min_samples_split': 10, 'clf__n_estimators': 42, 'kbest__k': 10}\n",
      "0.726 (+/-0.008) for {'clf__max_depth': 5, 'clf__max_leaf_nodes': 15, 'clf__min_samples_leaf': 3, 'clf__min_samples_split': 10, 'clf__n_estimators': 42, 'kbest__k': 11}\n",
      "0.726 (+/-0.006) for {'clf__max_depth': 5, 'clf__max_leaf_nodes': 15, 'clf__min_samples_leaf': 3, 'clf__min_samples_split': 10, 'clf__n_estimators': 42, 'kbest__k': 12}\n",
      "0.727 (+/-0.010) for {'clf__max_depth': 5, 'clf__max_leaf_nodes': 15, 'clf__min_samples_leaf': 3, 'clf__min_samples_split': 10, 'clf__n_estimators': 42, 'kbest__k': 13}\n",
      "0.722 (+/-0.007) for {'clf__max_depth': 5, 'clf__max_leaf_nodes': 15, 'clf__min_samples_leaf': 3, 'clf__min_samples_split': 10, 'clf__n_estimators': 42, 'kbest__k': 14}\n",
      "0.724 (+/-0.008) for {'clf__max_depth': 5, 'clf__max_leaf_nodes': 15, 'clf__min_samples_leaf': 3, 'clf__min_samples_split': 10, 'clf__n_estimators': 42, 'kbest__k': 15}\n",
      "0.727 (+/-0.004) for {'clf__max_depth': 5, 'clf__max_leaf_nodes': 15, 'clf__min_samples_leaf': 3, 'clf__min_samples_split': 10, 'clf__n_estimators': 42, 'kbest__k': 16}\n",
      "0.727 (+/-0.008) for {'clf__max_depth': 5, 'clf__max_leaf_nodes': 15, 'clf__min_samples_leaf': 3, 'clf__min_samples_split': 10, 'clf__n_estimators': 42, 'kbest__k': 17}\n",
      "0.730 (+/-0.005) for {'clf__max_depth': 5, 'clf__max_leaf_nodes': 15, 'clf__min_samples_leaf': 3, 'clf__min_samples_split': 10, 'clf__n_estimators': 42, 'kbest__k': 18}\n",
      "0.727 (+/-0.006) for {'clf__max_depth': 5, 'clf__max_leaf_nodes': 15, 'clf__min_samples_leaf': 3, 'clf__min_samples_split': 10, 'clf__n_estimators': 42, 'kbest__k': 19}\n",
      "0.729 (+/-0.007) for {'clf__max_depth': 5, 'clf__max_leaf_nodes': 15, 'clf__min_samples_leaf': 3, 'clf__min_samples_split': 10, 'clf__n_estimators': 42, 'kbest__k': 20}\n",
      "0.693 (+/-0.021) for {'clf__max_depth': 5, 'clf__max_leaf_nodes': 15, 'clf__min_samples_leaf': 3, 'clf__min_samples_split': 10, 'clf__n_estimators': 100, 'kbest__k': 1}\n",
      "0.695 (+/-0.008) for {'clf__max_depth': 5, 'clf__max_leaf_nodes': 15, 'clf__min_samples_leaf': 3, 'clf__min_samples_split': 10, 'clf__n_estimators': 100, 'kbest__k': 2}\n",
      "0.696 (+/-0.010) for {'clf__max_depth': 5, 'clf__max_leaf_nodes': 15, 'clf__min_samples_leaf': 3, 'clf__min_samples_split': 10, 'clf__n_estimators': 100, 'kbest__k': 3}\n",
      "0.699 (+/-0.011) for {'clf__max_depth': 5, 'clf__max_leaf_nodes': 15, 'clf__min_samples_leaf': 3, 'clf__min_samples_split': 10, 'clf__n_estimators': 100, 'kbest__k': 4}\n",
      "0.702 (+/-0.016) for {'clf__max_depth': 5, 'clf__max_leaf_nodes': 15, 'clf__min_samples_leaf': 3, 'clf__min_samples_split': 10, 'clf__n_estimators': 100, 'kbest__k': 5}\n",
      "0.704 (+/-0.017) for {'clf__max_depth': 5, 'clf__max_leaf_nodes': 15, 'clf__min_samples_leaf': 3, 'clf__min_samples_split': 10, 'clf__n_estimators': 100, 'kbest__k': 6}\n",
      "0.723 (+/-0.006) for {'clf__max_depth': 5, 'clf__max_leaf_nodes': 15, 'clf__min_samples_leaf': 3, 'clf__min_samples_split': 10, 'clf__n_estimators': 100, 'kbest__k': 7}\n",
      "0.723 (+/-0.008) for {'clf__max_depth': 5, 'clf__max_leaf_nodes': 15, 'clf__min_samples_leaf': 3, 'clf__min_samples_split': 10, 'clf__n_estimators': 100, 'kbest__k': 8}\n",
      "0.728 (+/-0.008) for {'clf__max_depth': 5, 'clf__max_leaf_nodes': 15, 'clf__min_samples_leaf': 3, 'clf__min_samples_split': 10, 'clf__n_estimators': 100, 'kbest__k': 9}\n",
      "0.728 (+/-0.006) for {'clf__max_depth': 5, 'clf__max_leaf_nodes': 15, 'clf__min_samples_leaf': 3, 'clf__min_samples_split': 10, 'clf__n_estimators': 100, 'kbest__k': 10}\n",
      "0.728 (+/-0.004) for {'clf__max_depth': 5, 'clf__max_leaf_nodes': 15, 'clf__min_samples_leaf': 3, 'clf__min_samples_split': 10, 'clf__n_estimators': 100, 'kbest__k': 11}\n",
      "0.728 (+/-0.009) for {'clf__max_depth': 5, 'clf__max_leaf_nodes': 15, 'clf__min_samples_leaf': 3, 'clf__min_samples_split': 10, 'clf__n_estimators': 100, 'kbest__k': 12}\n",
      "0.727 (+/-0.011) for {'clf__max_depth': 5, 'clf__max_leaf_nodes': 15, 'clf__min_samples_leaf': 3, 'clf__min_samples_split': 10, 'clf__n_estimators': 100, 'kbest__k': 13}\n",
      "0.725 (+/-0.013) for {'clf__max_depth': 5, 'clf__max_leaf_nodes': 15, 'clf__min_samples_leaf': 3, 'clf__min_samples_split': 10, 'clf__n_estimators': 100, 'kbest__k': 14}\n",
      "0.727 (+/-0.012) for {'clf__max_depth': 5, 'clf__max_leaf_nodes': 15, 'clf__min_samples_leaf': 3, 'clf__min_samples_split': 10, 'clf__n_estimators': 100, 'kbest__k': 15}\n",
      "0.728 (+/-0.009) for {'clf__max_depth': 5, 'clf__max_leaf_nodes': 15, 'clf__min_samples_leaf': 3, 'clf__min_samples_split': 10, 'clf__n_estimators': 100, 'kbest__k': 16}\n",
      "0.728 (+/-0.009) for {'clf__max_depth': 5, 'clf__max_leaf_nodes': 15, 'clf__min_samples_leaf': 3, 'clf__min_samples_split': 10, 'clf__n_estimators': 100, 'kbest__k': 17}\n",
      "0.731 (+/-0.002) for {'clf__max_depth': 5, 'clf__max_leaf_nodes': 15, 'clf__min_samples_leaf': 3, 'clf__min_samples_split': 10, 'clf__n_estimators': 100, 'kbest__k': 18}\n",
      "0.729 (+/-0.009) for {'clf__max_depth': 5, 'clf__max_leaf_nodes': 15, 'clf__min_samples_leaf': 3, 'clf__min_samples_split': 10, 'clf__n_estimators': 100, 'kbest__k': 19}\n"
     ]
    },
    {
     "name": "stdout",
     "output_type": "stream",
     "text": [
      "0.734 (+/-0.010) for {'clf__max_depth': 5, 'clf__max_leaf_nodes': 15, 'clf__min_samples_leaf': 3, 'clf__min_samples_split': 10, 'clf__n_estimators': 100, 'kbest__k': 20}\n",
      "0.690 (+/-0.016) for {'clf__max_depth': 5, 'clf__max_leaf_nodes': 15, 'clf__min_samples_leaf': 5, 'clf__min_samples_split': 5, 'clf__n_estimators': 5, 'kbest__k': 1}\n",
      "0.694 (+/-0.013) for {'clf__max_depth': 5, 'clf__max_leaf_nodes': 15, 'clf__min_samples_leaf': 5, 'clf__min_samples_split': 5, 'clf__n_estimators': 5, 'kbest__k': 2}\n",
      "0.688 (+/-0.012) for {'clf__max_depth': 5, 'clf__max_leaf_nodes': 15, 'clf__min_samples_leaf': 5, 'clf__min_samples_split': 5, 'clf__n_estimators': 5, 'kbest__k': 3}\n",
      "0.696 (+/-0.019) for {'clf__max_depth': 5, 'clf__max_leaf_nodes': 15, 'clf__min_samples_leaf': 5, 'clf__min_samples_split': 5, 'clf__n_estimators': 5, 'kbest__k': 4}\n",
      "0.695 (+/-0.011) for {'clf__max_depth': 5, 'clf__max_leaf_nodes': 15, 'clf__min_samples_leaf': 5, 'clf__min_samples_split': 5, 'clf__n_estimators': 5, 'kbest__k': 5}\n",
      "0.700 (+/-0.008) for {'clf__max_depth': 5, 'clf__max_leaf_nodes': 15, 'clf__min_samples_leaf': 5, 'clf__min_samples_split': 5, 'clf__n_estimators': 5, 'kbest__k': 6}\n",
      "0.714 (+/-0.006) for {'clf__max_depth': 5, 'clf__max_leaf_nodes': 15, 'clf__min_samples_leaf': 5, 'clf__min_samples_split': 5, 'clf__n_estimators': 5, 'kbest__k': 7}\n",
      "0.709 (+/-0.005) for {'clf__max_depth': 5, 'clf__max_leaf_nodes': 15, 'clf__min_samples_leaf': 5, 'clf__min_samples_split': 5, 'clf__n_estimators': 5, 'kbest__k': 8}\n",
      "0.718 (+/-0.011) for {'clf__max_depth': 5, 'clf__max_leaf_nodes': 15, 'clf__min_samples_leaf': 5, 'clf__min_samples_split': 5, 'clf__n_estimators': 5, 'kbest__k': 9}\n",
      "0.724 (+/-0.015) for {'clf__max_depth': 5, 'clf__max_leaf_nodes': 15, 'clf__min_samples_leaf': 5, 'clf__min_samples_split': 5, 'clf__n_estimators': 5, 'kbest__k': 10}\n",
      "0.717 (+/-0.015) for {'clf__max_depth': 5, 'clf__max_leaf_nodes': 15, 'clf__min_samples_leaf': 5, 'clf__min_samples_split': 5, 'clf__n_estimators': 5, 'kbest__k': 11}\n",
      "0.714 (+/-0.012) for {'clf__max_depth': 5, 'clf__max_leaf_nodes': 15, 'clf__min_samples_leaf': 5, 'clf__min_samples_split': 5, 'clf__n_estimators': 5, 'kbest__k': 12}\n",
      "0.714 (+/-0.013) for {'clf__max_depth': 5, 'clf__max_leaf_nodes': 15, 'clf__min_samples_leaf': 5, 'clf__min_samples_split': 5, 'clf__n_estimators': 5, 'kbest__k': 13}\n",
      "0.720 (+/-0.014) for {'clf__max_depth': 5, 'clf__max_leaf_nodes': 15, 'clf__min_samples_leaf': 5, 'clf__min_samples_split': 5, 'clf__n_estimators': 5, 'kbest__k': 14}\n",
      "0.717 (+/-0.005) for {'clf__max_depth': 5, 'clf__max_leaf_nodes': 15, 'clf__min_samples_leaf': 5, 'clf__min_samples_split': 5, 'clf__n_estimators': 5, 'kbest__k': 15}\n",
      "0.721 (+/-0.018) for {'clf__max_depth': 5, 'clf__max_leaf_nodes': 15, 'clf__min_samples_leaf': 5, 'clf__min_samples_split': 5, 'clf__n_estimators': 5, 'kbest__k': 16}\n",
      "0.725 (+/-0.008) for {'clf__max_depth': 5, 'clf__max_leaf_nodes': 15, 'clf__min_samples_leaf': 5, 'clf__min_samples_split': 5, 'clf__n_estimators': 5, 'kbest__k': 17}\n",
      "0.718 (+/-0.008) for {'clf__max_depth': 5, 'clf__max_leaf_nodes': 15, 'clf__min_samples_leaf': 5, 'clf__min_samples_split': 5, 'clf__n_estimators': 5, 'kbest__k': 18}\n",
      "0.722 (+/-0.021) for {'clf__max_depth': 5, 'clf__max_leaf_nodes': 15, 'clf__min_samples_leaf': 5, 'clf__min_samples_split': 5, 'clf__n_estimators': 5, 'kbest__k': 19}\n",
      "0.724 (+/-0.010) for {'clf__max_depth': 5, 'clf__max_leaf_nodes': 15, 'clf__min_samples_leaf': 5, 'clf__min_samples_split': 5, 'clf__n_estimators': 5, 'kbest__k': 20}\n",
      "0.693 (+/-0.021) for {'clf__max_depth': 5, 'clf__max_leaf_nodes': 15, 'clf__min_samples_leaf': 5, 'clf__min_samples_split': 5, 'clf__n_estimators': 40, 'kbest__k': 1}\n",
      "0.694 (+/-0.004) for {'clf__max_depth': 5, 'clf__max_leaf_nodes': 15, 'clf__min_samples_leaf': 5, 'clf__min_samples_split': 5, 'clf__n_estimators': 40, 'kbest__k': 2}\n",
      "0.695 (+/-0.009) for {'clf__max_depth': 5, 'clf__max_leaf_nodes': 15, 'clf__min_samples_leaf': 5, 'clf__min_samples_split': 5, 'clf__n_estimators': 40, 'kbest__k': 3}\n",
      "0.698 (+/-0.010) for {'clf__max_depth': 5, 'clf__max_leaf_nodes': 15, 'clf__min_samples_leaf': 5, 'clf__min_samples_split': 5, 'clf__n_estimators': 40, 'kbest__k': 4}\n",
      "0.699 (+/-0.015) for {'clf__max_depth': 5, 'clf__max_leaf_nodes': 15, 'clf__min_samples_leaf': 5, 'clf__min_samples_split': 5, 'clf__n_estimators': 40, 'kbest__k': 5}\n",
      "0.703 (+/-0.012) for {'clf__max_depth': 5, 'clf__max_leaf_nodes': 15, 'clf__min_samples_leaf': 5, 'clf__min_samples_split': 5, 'clf__n_estimators': 40, 'kbest__k': 6}\n",
      "0.719 (+/-0.007) for {'clf__max_depth': 5, 'clf__max_leaf_nodes': 15, 'clf__min_samples_leaf': 5, 'clf__min_samples_split': 5, 'clf__n_estimators': 40, 'kbest__k': 7}\n",
      "0.726 (+/-0.011) for {'clf__max_depth': 5, 'clf__max_leaf_nodes': 15, 'clf__min_samples_leaf': 5, 'clf__min_samples_split': 5, 'clf__n_estimators': 40, 'kbest__k': 8}\n",
      "0.727 (+/-0.004) for {'clf__max_depth': 5, 'clf__max_leaf_nodes': 15, 'clf__min_samples_leaf': 5, 'clf__min_samples_split': 5, 'clf__n_estimators': 40, 'kbest__k': 9}\n",
      "0.728 (+/-0.006) for {'clf__max_depth': 5, 'clf__max_leaf_nodes': 15, 'clf__min_samples_leaf': 5, 'clf__min_samples_split': 5, 'clf__n_estimators': 40, 'kbest__k': 10}\n",
      "0.723 (+/-0.010) for {'clf__max_depth': 5, 'clf__max_leaf_nodes': 15, 'clf__min_samples_leaf': 5, 'clf__min_samples_split': 5, 'clf__n_estimators': 40, 'kbest__k': 11}\n",
      "0.726 (+/-0.011) for {'clf__max_depth': 5, 'clf__max_leaf_nodes': 15, 'clf__min_samples_leaf': 5, 'clf__min_samples_split': 5, 'clf__n_estimators': 40, 'kbest__k': 12}\n",
      "0.724 (+/-0.005) for {'clf__max_depth': 5, 'clf__max_leaf_nodes': 15, 'clf__min_samples_leaf': 5, 'clf__min_samples_split': 5, 'clf__n_estimators': 40, 'kbest__k': 13}\n",
      "0.726 (+/-0.010) for {'clf__max_depth': 5, 'clf__max_leaf_nodes': 15, 'clf__min_samples_leaf': 5, 'clf__min_samples_split': 5, 'clf__n_estimators': 40, 'kbest__k': 14}\n",
      "0.729 (+/-0.006) for {'clf__max_depth': 5, 'clf__max_leaf_nodes': 15, 'clf__min_samples_leaf': 5, 'clf__min_samples_split': 5, 'clf__n_estimators': 40, 'kbest__k': 15}\n",
      "0.727 (+/-0.011) for {'clf__max_depth': 5, 'clf__max_leaf_nodes': 15, 'clf__min_samples_leaf': 5, 'clf__min_samples_split': 5, 'clf__n_estimators': 40, 'kbest__k': 16}\n",
      "0.730 (+/-0.010) for {'clf__max_depth': 5, 'clf__max_leaf_nodes': 15, 'clf__min_samples_leaf': 5, 'clf__min_samples_split': 5, 'clf__n_estimators': 40, 'kbest__k': 17}\n",
      "0.728 (+/-0.004) for {'clf__max_depth': 5, 'clf__max_leaf_nodes': 15, 'clf__min_samples_leaf': 5, 'clf__min_samples_split': 5, 'clf__n_estimators': 40, 'kbest__k': 18}\n",
      "0.728 (+/-0.012) for {'clf__max_depth': 5, 'clf__max_leaf_nodes': 15, 'clf__min_samples_leaf': 5, 'clf__min_samples_split': 5, 'clf__n_estimators': 40, 'kbest__k': 19}\n",
      "0.736 (+/-0.005) for {'clf__max_depth': 5, 'clf__max_leaf_nodes': 15, 'clf__min_samples_leaf': 5, 'clf__min_samples_split': 5, 'clf__n_estimators': 40, 'kbest__k': 20}\n",
      "0.691 (+/-0.019) for {'clf__max_depth': 5, 'clf__max_leaf_nodes': 15, 'clf__min_samples_leaf': 5, 'clf__min_samples_split': 5, 'clf__n_estimators': 42, 'kbest__k': 1}\n",
      "0.697 (+/-0.012) for {'clf__max_depth': 5, 'clf__max_leaf_nodes': 15, 'clf__min_samples_leaf': 5, 'clf__min_samples_split': 5, 'clf__n_estimators': 42, 'kbest__k': 2}\n",
      "0.695 (+/-0.008) for {'clf__max_depth': 5, 'clf__max_leaf_nodes': 15, 'clf__min_samples_leaf': 5, 'clf__min_samples_split': 5, 'clf__n_estimators': 42, 'kbest__k': 3}\n",
      "0.698 (+/-0.012) for {'clf__max_depth': 5, 'clf__max_leaf_nodes': 15, 'clf__min_samples_leaf': 5, 'clf__min_samples_split': 5, 'clf__n_estimators': 42, 'kbest__k': 4}\n",
      "0.701 (+/-0.015) for {'clf__max_depth': 5, 'clf__max_leaf_nodes': 15, 'clf__min_samples_leaf': 5, 'clf__min_samples_split': 5, 'clf__n_estimators': 42, 'kbest__k': 5}\n",
      "0.703 (+/-0.011) for {'clf__max_depth': 5, 'clf__max_leaf_nodes': 15, 'clf__min_samples_leaf': 5, 'clf__min_samples_split': 5, 'clf__n_estimators': 42, 'kbest__k': 6}\n",
      "0.721 (+/-0.012) for {'clf__max_depth': 5, 'clf__max_leaf_nodes': 15, 'clf__min_samples_leaf': 5, 'clf__min_samples_split': 5, 'clf__n_estimators': 42, 'kbest__k': 7}\n",
      "0.726 (+/-0.006) for {'clf__max_depth': 5, 'clf__max_leaf_nodes': 15, 'clf__min_samples_leaf': 5, 'clf__min_samples_split': 5, 'clf__n_estimators': 42, 'kbest__k': 8}\n"
     ]
    },
    {
     "name": "stdout",
     "output_type": "stream",
     "text": [
      "0.726 (+/-0.011) for {'clf__max_depth': 5, 'clf__max_leaf_nodes': 15, 'clf__min_samples_leaf': 5, 'clf__min_samples_split': 5, 'clf__n_estimators': 42, 'kbest__k': 9}\n",
      "0.729 (+/-0.010) for {'clf__max_depth': 5, 'clf__max_leaf_nodes': 15, 'clf__min_samples_leaf': 5, 'clf__min_samples_split': 5, 'clf__n_estimators': 42, 'kbest__k': 10}\n",
      "0.727 (+/-0.008) for {'clf__max_depth': 5, 'clf__max_leaf_nodes': 15, 'clf__min_samples_leaf': 5, 'clf__min_samples_split': 5, 'clf__n_estimators': 42, 'kbest__k': 11}\n",
      "0.728 (+/-0.016) for {'clf__max_depth': 5, 'clf__max_leaf_nodes': 15, 'clf__min_samples_leaf': 5, 'clf__min_samples_split': 5, 'clf__n_estimators': 42, 'kbest__k': 12}\n",
      "0.726 (+/-0.010) for {'clf__max_depth': 5, 'clf__max_leaf_nodes': 15, 'clf__min_samples_leaf': 5, 'clf__min_samples_split': 5, 'clf__n_estimators': 42, 'kbest__k': 13}\n",
      "0.726 (+/-0.004) for {'clf__max_depth': 5, 'clf__max_leaf_nodes': 15, 'clf__min_samples_leaf': 5, 'clf__min_samples_split': 5, 'clf__n_estimators': 42, 'kbest__k': 14}\n",
      "0.726 (+/-0.011) for {'clf__max_depth': 5, 'clf__max_leaf_nodes': 15, 'clf__min_samples_leaf': 5, 'clf__min_samples_split': 5, 'clf__n_estimators': 42, 'kbest__k': 15}\n",
      "0.728 (+/-0.007) for {'clf__max_depth': 5, 'clf__max_leaf_nodes': 15, 'clf__min_samples_leaf': 5, 'clf__min_samples_split': 5, 'clf__n_estimators': 42, 'kbest__k': 16}\n",
      "0.728 (+/-0.004) for {'clf__max_depth': 5, 'clf__max_leaf_nodes': 15, 'clf__min_samples_leaf': 5, 'clf__min_samples_split': 5, 'clf__n_estimators': 42, 'kbest__k': 17}\n",
      "0.731 (+/-0.007) for {'clf__max_depth': 5, 'clf__max_leaf_nodes': 15, 'clf__min_samples_leaf': 5, 'clf__min_samples_split': 5, 'clf__n_estimators': 42, 'kbest__k': 18}\n",
      "0.730 (+/-0.009) for {'clf__max_depth': 5, 'clf__max_leaf_nodes': 15, 'clf__min_samples_leaf': 5, 'clf__min_samples_split': 5, 'clf__n_estimators': 42, 'kbest__k': 19}\n",
      "0.731 (+/-0.008) for {'clf__max_depth': 5, 'clf__max_leaf_nodes': 15, 'clf__min_samples_leaf': 5, 'clf__min_samples_split': 5, 'clf__n_estimators': 42, 'kbest__k': 20}\n",
      "0.691 (+/-0.019) for {'clf__max_depth': 5, 'clf__max_leaf_nodes': 15, 'clf__min_samples_leaf': 5, 'clf__min_samples_split': 5, 'clf__n_estimators': 100, 'kbest__k': 1}\n",
      "0.695 (+/-0.010) for {'clf__max_depth': 5, 'clf__max_leaf_nodes': 15, 'clf__min_samples_leaf': 5, 'clf__min_samples_split': 5, 'clf__n_estimators': 100, 'kbest__k': 2}\n",
      "0.695 (+/-0.009) for {'clf__max_depth': 5, 'clf__max_leaf_nodes': 15, 'clf__min_samples_leaf': 5, 'clf__min_samples_split': 5, 'clf__n_estimators': 100, 'kbest__k': 3}\n",
      "0.698 (+/-0.011) for {'clf__max_depth': 5, 'clf__max_leaf_nodes': 15, 'clf__min_samples_leaf': 5, 'clf__min_samples_split': 5, 'clf__n_estimators': 100, 'kbest__k': 4}\n",
      "0.702 (+/-0.011) for {'clf__max_depth': 5, 'clf__max_leaf_nodes': 15, 'clf__min_samples_leaf': 5, 'clf__min_samples_split': 5, 'clf__n_estimators': 100, 'kbest__k': 5}\n",
      "0.703 (+/-0.011) for {'clf__max_depth': 5, 'clf__max_leaf_nodes': 15, 'clf__min_samples_leaf': 5, 'clf__min_samples_split': 5, 'clf__n_estimators': 100, 'kbest__k': 6}\n",
      "0.723 (+/-0.008) for {'clf__max_depth': 5, 'clf__max_leaf_nodes': 15, 'clf__min_samples_leaf': 5, 'clf__min_samples_split': 5, 'clf__n_estimators': 100, 'kbest__k': 7}\n",
      "0.723 (+/-0.006) for {'clf__max_depth': 5, 'clf__max_leaf_nodes': 15, 'clf__min_samples_leaf': 5, 'clf__min_samples_split': 5, 'clf__n_estimators': 100, 'kbest__k': 8}\n",
      "0.731 (+/-0.006) for {'clf__max_depth': 5, 'clf__max_leaf_nodes': 15, 'clf__min_samples_leaf': 5, 'clf__min_samples_split': 5, 'clf__n_estimators': 100, 'kbest__k': 9}\n",
      "0.728 (+/-0.011) for {'clf__max_depth': 5, 'clf__max_leaf_nodes': 15, 'clf__min_samples_leaf': 5, 'clf__min_samples_split': 5, 'clf__n_estimators': 100, 'kbest__k': 10}\n",
      "0.728 (+/-0.012) for {'clf__max_depth': 5, 'clf__max_leaf_nodes': 15, 'clf__min_samples_leaf': 5, 'clf__min_samples_split': 5, 'clf__n_estimators': 100, 'kbest__k': 11}\n",
      "0.728 (+/-0.006) for {'clf__max_depth': 5, 'clf__max_leaf_nodes': 15, 'clf__min_samples_leaf': 5, 'clf__min_samples_split': 5, 'clf__n_estimators': 100, 'kbest__k': 12}\n",
      "0.728 (+/-0.006) for {'clf__max_depth': 5, 'clf__max_leaf_nodes': 15, 'clf__min_samples_leaf': 5, 'clf__min_samples_split': 5, 'clf__n_estimators': 100, 'kbest__k': 13}\n",
      "0.730 (+/-0.010) for {'clf__max_depth': 5, 'clf__max_leaf_nodes': 15, 'clf__min_samples_leaf': 5, 'clf__min_samples_split': 5, 'clf__n_estimators': 100, 'kbest__k': 14}\n",
      "0.728 (+/-0.010) for {'clf__max_depth': 5, 'clf__max_leaf_nodes': 15, 'clf__min_samples_leaf': 5, 'clf__min_samples_split': 5, 'clf__n_estimators': 100, 'kbest__k': 15}\n",
      "0.731 (+/-0.004) for {'clf__max_depth': 5, 'clf__max_leaf_nodes': 15, 'clf__min_samples_leaf': 5, 'clf__min_samples_split': 5, 'clf__n_estimators': 100, 'kbest__k': 16}\n",
      "0.728 (+/-0.007) for {'clf__max_depth': 5, 'clf__max_leaf_nodes': 15, 'clf__min_samples_leaf': 5, 'clf__min_samples_split': 5, 'clf__n_estimators': 100, 'kbest__k': 17}\n",
      "0.730 (+/-0.007) for {'clf__max_depth': 5, 'clf__max_leaf_nodes': 15, 'clf__min_samples_leaf': 5, 'clf__min_samples_split': 5, 'clf__n_estimators': 100, 'kbest__k': 18}\n",
      "0.731 (+/-0.008) for {'clf__max_depth': 5, 'clf__max_leaf_nodes': 15, 'clf__min_samples_leaf': 5, 'clf__min_samples_split': 5, 'clf__n_estimators': 100, 'kbest__k': 19}\n",
      "0.732 (+/-0.012) for {'clf__max_depth': 5, 'clf__max_leaf_nodes': 15, 'clf__min_samples_leaf': 5, 'clf__min_samples_split': 5, 'clf__n_estimators': 100, 'kbest__k': 20}\n",
      "0.692 (+/-0.021) for {'clf__max_depth': 5, 'clf__max_leaf_nodes': 15, 'clf__min_samples_leaf': 5, 'clf__min_samples_split': 10, 'clf__n_estimators': 5, 'kbest__k': 1}\n",
      "0.697 (+/-0.011) for {'clf__max_depth': 5, 'clf__max_leaf_nodes': 15, 'clf__min_samples_leaf': 5, 'clf__min_samples_split': 10, 'clf__n_estimators': 5, 'kbest__k': 2}\n",
      "0.691 (+/-0.009) for {'clf__max_depth': 5, 'clf__max_leaf_nodes': 15, 'clf__min_samples_leaf': 5, 'clf__min_samples_split': 10, 'clf__n_estimators': 5, 'kbest__k': 3}\n",
      "0.693 (+/-0.006) for {'clf__max_depth': 5, 'clf__max_leaf_nodes': 15, 'clf__min_samples_leaf': 5, 'clf__min_samples_split': 10, 'clf__n_estimators': 5, 'kbest__k': 4}\n",
      "0.700 (+/-0.010) for {'clf__max_depth': 5, 'clf__max_leaf_nodes': 15, 'clf__min_samples_leaf': 5, 'clf__min_samples_split': 10, 'clf__n_estimators': 5, 'kbest__k': 5}\n",
      "0.701 (+/-0.017) for {'clf__max_depth': 5, 'clf__max_leaf_nodes': 15, 'clf__min_samples_leaf': 5, 'clf__min_samples_split': 10, 'clf__n_estimators': 5, 'kbest__k': 6}\n",
      "0.715 (+/-0.011) for {'clf__max_depth': 5, 'clf__max_leaf_nodes': 15, 'clf__min_samples_leaf': 5, 'clf__min_samples_split': 10, 'clf__n_estimators': 5, 'kbest__k': 7}\n",
      "0.718 (+/-0.019) for {'clf__max_depth': 5, 'clf__max_leaf_nodes': 15, 'clf__min_samples_leaf': 5, 'clf__min_samples_split': 10, 'clf__n_estimators': 5, 'kbest__k': 8}\n",
      "0.722 (+/-0.010) for {'clf__max_depth': 5, 'clf__max_leaf_nodes': 15, 'clf__min_samples_leaf': 5, 'clf__min_samples_split': 10, 'clf__n_estimators': 5, 'kbest__k': 9}\n",
      "0.718 (+/-0.015) for {'clf__max_depth': 5, 'clf__max_leaf_nodes': 15, 'clf__min_samples_leaf': 5, 'clf__min_samples_split': 10, 'clf__n_estimators': 5, 'kbest__k': 10}\n",
      "0.717 (+/-0.013) for {'clf__max_depth': 5, 'clf__max_leaf_nodes': 15, 'clf__min_samples_leaf': 5, 'clf__min_samples_split': 10, 'clf__n_estimators': 5, 'kbest__k': 11}\n",
      "0.719 (+/-0.016) for {'clf__max_depth': 5, 'clf__max_leaf_nodes': 15, 'clf__min_samples_leaf': 5, 'clf__min_samples_split': 10, 'clf__n_estimators': 5, 'kbest__k': 12}\n",
      "0.721 (+/-0.012) for {'clf__max_depth': 5, 'clf__max_leaf_nodes': 15, 'clf__min_samples_leaf': 5, 'clf__min_samples_split': 10, 'clf__n_estimators': 5, 'kbest__k': 13}\n",
      "0.715 (+/-0.015) for {'clf__max_depth': 5, 'clf__max_leaf_nodes': 15, 'clf__min_samples_leaf': 5, 'clf__min_samples_split': 10, 'clf__n_estimators': 5, 'kbest__k': 14}\n",
      "0.715 (+/-0.009) for {'clf__max_depth': 5, 'clf__max_leaf_nodes': 15, 'clf__min_samples_leaf': 5, 'clf__min_samples_split': 10, 'clf__n_estimators': 5, 'kbest__k': 15}\n",
      "0.719 (+/-0.014) for {'clf__max_depth': 5, 'clf__max_leaf_nodes': 15, 'clf__min_samples_leaf': 5, 'clf__min_samples_split': 10, 'clf__n_estimators': 5, 'kbest__k': 16}\n"
     ]
    },
    {
     "name": "stdout",
     "output_type": "stream",
     "text": [
      "0.720 (+/-0.009) for {'clf__max_depth': 5, 'clf__max_leaf_nodes': 15, 'clf__min_samples_leaf': 5, 'clf__min_samples_split': 10, 'clf__n_estimators': 5, 'kbest__k': 17}\n",
      "0.718 (+/-0.010) for {'clf__max_depth': 5, 'clf__max_leaf_nodes': 15, 'clf__min_samples_leaf': 5, 'clf__min_samples_split': 10, 'clf__n_estimators': 5, 'kbest__k': 18}\n",
      "0.717 (+/-0.005) for {'clf__max_depth': 5, 'clf__max_leaf_nodes': 15, 'clf__min_samples_leaf': 5, 'clf__min_samples_split': 10, 'clf__n_estimators': 5, 'kbest__k': 19}\n",
      "0.721 (+/-0.016) for {'clf__max_depth': 5, 'clf__max_leaf_nodes': 15, 'clf__min_samples_leaf': 5, 'clf__min_samples_split': 10, 'clf__n_estimators': 5, 'kbest__k': 20}\n",
      "0.691 (+/-0.019) for {'clf__max_depth': 5, 'clf__max_leaf_nodes': 15, 'clf__min_samples_leaf': 5, 'clf__min_samples_split': 10, 'clf__n_estimators': 40, 'kbest__k': 1}\n",
      "0.697 (+/-0.010) for {'clf__max_depth': 5, 'clf__max_leaf_nodes': 15, 'clf__min_samples_leaf': 5, 'clf__min_samples_split': 10, 'clf__n_estimators': 40, 'kbest__k': 2}\n",
      "0.692 (+/-0.011) for {'clf__max_depth': 5, 'clf__max_leaf_nodes': 15, 'clf__min_samples_leaf': 5, 'clf__min_samples_split': 10, 'clf__n_estimators': 40, 'kbest__k': 3}\n",
      "0.697 (+/-0.012) for {'clf__max_depth': 5, 'clf__max_leaf_nodes': 15, 'clf__min_samples_leaf': 5, 'clf__min_samples_split': 10, 'clf__n_estimators': 40, 'kbest__k': 4}\n",
      "0.704 (+/-0.013) for {'clf__max_depth': 5, 'clf__max_leaf_nodes': 15, 'clf__min_samples_leaf': 5, 'clf__min_samples_split': 10, 'clf__n_estimators': 40, 'kbest__k': 5}\n",
      "0.703 (+/-0.014) for {'clf__max_depth': 5, 'clf__max_leaf_nodes': 15, 'clf__min_samples_leaf': 5, 'clf__min_samples_split': 10, 'clf__n_estimators': 40, 'kbest__k': 6}\n",
      "0.723 (+/-0.011) for {'clf__max_depth': 5, 'clf__max_leaf_nodes': 15, 'clf__min_samples_leaf': 5, 'clf__min_samples_split': 10, 'clf__n_estimators': 40, 'kbest__k': 7}\n",
      "0.722 (+/-0.004) for {'clf__max_depth': 5, 'clf__max_leaf_nodes': 15, 'clf__min_samples_leaf': 5, 'clf__min_samples_split': 10, 'clf__n_estimators': 40, 'kbest__k': 8}\n",
      "0.728 (+/-0.009) for {'clf__max_depth': 5, 'clf__max_leaf_nodes': 15, 'clf__min_samples_leaf': 5, 'clf__min_samples_split': 10, 'clf__n_estimators': 40, 'kbest__k': 9}\n",
      "0.727 (+/-0.005) for {'clf__max_depth': 5, 'clf__max_leaf_nodes': 15, 'clf__min_samples_leaf': 5, 'clf__min_samples_split': 10, 'clf__n_estimators': 40, 'kbest__k': 10}\n",
      "0.729 (+/-0.013) for {'clf__max_depth': 5, 'clf__max_leaf_nodes': 15, 'clf__min_samples_leaf': 5, 'clf__min_samples_split': 10, 'clf__n_estimators': 40, 'kbest__k': 11}\n",
      "0.726 (+/-0.007) for {'clf__max_depth': 5, 'clf__max_leaf_nodes': 15, 'clf__min_samples_leaf': 5, 'clf__min_samples_split': 10, 'clf__n_estimators': 40, 'kbest__k': 12}\n",
      "0.729 (+/-0.006) for {'clf__max_depth': 5, 'clf__max_leaf_nodes': 15, 'clf__min_samples_leaf': 5, 'clf__min_samples_split': 10, 'clf__n_estimators': 40, 'kbest__k': 13}\n",
      "0.724 (+/-0.010) for {'clf__max_depth': 5, 'clf__max_leaf_nodes': 15, 'clf__min_samples_leaf': 5, 'clf__min_samples_split': 10, 'clf__n_estimators': 40, 'kbest__k': 14}\n",
      "0.727 (+/-0.011) for {'clf__max_depth': 5, 'clf__max_leaf_nodes': 15, 'clf__min_samples_leaf': 5, 'clf__min_samples_split': 10, 'clf__n_estimators': 40, 'kbest__k': 15}\n",
      "0.730 (+/-0.006) for {'clf__max_depth': 5, 'clf__max_leaf_nodes': 15, 'clf__min_samples_leaf': 5, 'clf__min_samples_split': 10, 'clf__n_estimators': 40, 'kbest__k': 16}\n",
      "0.727 (+/-0.012) for {'clf__max_depth': 5, 'clf__max_leaf_nodes': 15, 'clf__min_samples_leaf': 5, 'clf__min_samples_split': 10, 'clf__n_estimators': 40, 'kbest__k': 17}\n",
      "0.727 (+/-0.007) for {'clf__max_depth': 5, 'clf__max_leaf_nodes': 15, 'clf__min_samples_leaf': 5, 'clf__min_samples_split': 10, 'clf__n_estimators': 40, 'kbest__k': 18}\n",
      "0.727 (+/-0.017) for {'clf__max_depth': 5, 'clf__max_leaf_nodes': 15, 'clf__min_samples_leaf': 5, 'clf__min_samples_split': 10, 'clf__n_estimators': 40, 'kbest__k': 19}\n",
      "0.728 (+/-0.009) for {'clf__max_depth': 5, 'clf__max_leaf_nodes': 15, 'clf__min_samples_leaf': 5, 'clf__min_samples_split': 10, 'clf__n_estimators': 40, 'kbest__k': 20}\n",
      "0.690 (+/-0.016) for {'clf__max_depth': 5, 'clf__max_leaf_nodes': 15, 'clf__min_samples_leaf': 5, 'clf__min_samples_split': 10, 'clf__n_estimators': 42, 'kbest__k': 1}\n",
      "0.695 (+/-0.007) for {'clf__max_depth': 5, 'clf__max_leaf_nodes': 15, 'clf__min_samples_leaf': 5, 'clf__min_samples_split': 10, 'clf__n_estimators': 42, 'kbest__k': 2}\n",
      "0.690 (+/-0.009) for {'clf__max_depth': 5, 'clf__max_leaf_nodes': 15, 'clf__min_samples_leaf': 5, 'clf__min_samples_split': 10, 'clf__n_estimators': 42, 'kbest__k': 3}\n",
      "0.697 (+/-0.011) for {'clf__max_depth': 5, 'clf__max_leaf_nodes': 15, 'clf__min_samples_leaf': 5, 'clf__min_samples_split': 10, 'clf__n_estimators': 42, 'kbest__k': 4}\n",
      "0.700 (+/-0.015) for {'clf__max_depth': 5, 'clf__max_leaf_nodes': 15, 'clf__min_samples_leaf': 5, 'clf__min_samples_split': 10, 'clf__n_estimators': 42, 'kbest__k': 5}\n",
      "0.703 (+/-0.017) for {'clf__max_depth': 5, 'clf__max_leaf_nodes': 15, 'clf__min_samples_leaf': 5, 'clf__min_samples_split': 10, 'clf__n_estimators': 42, 'kbest__k': 6}\n",
      "0.722 (+/-0.007) for {'clf__max_depth': 5, 'clf__max_leaf_nodes': 15, 'clf__min_samples_leaf': 5, 'clf__min_samples_split': 10, 'clf__n_estimators': 42, 'kbest__k': 7}\n",
      "0.720 (+/-0.010) for {'clf__max_depth': 5, 'clf__max_leaf_nodes': 15, 'clf__min_samples_leaf': 5, 'clf__min_samples_split': 10, 'clf__n_estimators': 42, 'kbest__k': 8}\n",
      "0.728 (+/-0.010) for {'clf__max_depth': 5, 'clf__max_leaf_nodes': 15, 'clf__min_samples_leaf': 5, 'clf__min_samples_split': 10, 'clf__n_estimators': 42, 'kbest__k': 9}\n",
      "0.725 (+/-0.006) for {'clf__max_depth': 5, 'clf__max_leaf_nodes': 15, 'clf__min_samples_leaf': 5, 'clf__min_samples_split': 10, 'clf__n_estimators': 42, 'kbest__k': 10}\n",
      "0.730 (+/-0.006) for {'clf__max_depth': 5, 'clf__max_leaf_nodes': 15, 'clf__min_samples_leaf': 5, 'clf__min_samples_split': 10, 'clf__n_estimators': 42, 'kbest__k': 11}\n",
      "0.727 (+/-0.004) for {'clf__max_depth': 5, 'clf__max_leaf_nodes': 15, 'clf__min_samples_leaf': 5, 'clf__min_samples_split': 10, 'clf__n_estimators': 42, 'kbest__k': 12}\n",
      "0.726 (+/-0.011) for {'clf__max_depth': 5, 'clf__max_leaf_nodes': 15, 'clf__min_samples_leaf': 5, 'clf__min_samples_split': 10, 'clf__n_estimators': 42, 'kbest__k': 13}\n",
      "0.727 (+/-0.004) for {'clf__max_depth': 5, 'clf__max_leaf_nodes': 15, 'clf__min_samples_leaf': 5, 'clf__min_samples_split': 10, 'clf__n_estimators': 42, 'kbest__k': 14}\n",
      "0.728 (+/-0.009) for {'clf__max_depth': 5, 'clf__max_leaf_nodes': 15, 'clf__min_samples_leaf': 5, 'clf__min_samples_split': 10, 'clf__n_estimators': 42, 'kbest__k': 15}\n",
      "0.727 (+/-0.010) for {'clf__max_depth': 5, 'clf__max_leaf_nodes': 15, 'clf__min_samples_leaf': 5, 'clf__min_samples_split': 10, 'clf__n_estimators': 42, 'kbest__k': 16}\n",
      "0.725 (+/-0.009) for {'clf__max_depth': 5, 'clf__max_leaf_nodes': 15, 'clf__min_samples_leaf': 5, 'clf__min_samples_split': 10, 'clf__n_estimators': 42, 'kbest__k': 17}\n",
      "0.731 (+/-0.013) for {'clf__max_depth': 5, 'clf__max_leaf_nodes': 15, 'clf__min_samples_leaf': 5, 'clf__min_samples_split': 10, 'clf__n_estimators': 42, 'kbest__k': 18}\n",
      "0.730 (+/-0.004) for {'clf__max_depth': 5, 'clf__max_leaf_nodes': 15, 'clf__min_samples_leaf': 5, 'clf__min_samples_split': 10, 'clf__n_estimators': 42, 'kbest__k': 19}\n",
      "0.731 (+/-0.007) for {'clf__max_depth': 5, 'clf__max_leaf_nodes': 15, 'clf__min_samples_leaf': 5, 'clf__min_samples_split': 10, 'clf__n_estimators': 42, 'kbest__k': 20}\n",
      "0.691 (+/-0.019) for {'clf__max_depth': 5, 'clf__max_leaf_nodes': 15, 'clf__min_samples_leaf': 5, 'clf__min_samples_split': 10, 'clf__n_estimators': 100, 'kbest__k': 1}\n",
      "0.695 (+/-0.011) for {'clf__max_depth': 5, 'clf__max_leaf_nodes': 15, 'clf__min_samples_leaf': 5, 'clf__min_samples_split': 10, 'clf__n_estimators': 100, 'kbest__k': 2}\n",
      "0.695 (+/-0.010) for {'clf__max_depth': 5, 'clf__max_leaf_nodes': 15, 'clf__min_samples_leaf': 5, 'clf__min_samples_split': 10, 'clf__n_estimators': 100, 'kbest__k': 3}\n",
      "0.698 (+/-0.012) for {'clf__max_depth': 5, 'clf__max_leaf_nodes': 15, 'clf__min_samples_leaf': 5, 'clf__min_samples_split': 10, 'clf__n_estimators': 100, 'kbest__k': 4}\n"
     ]
    },
    {
     "name": "stdout",
     "output_type": "stream",
     "text": [
      "0.702 (+/-0.019) for {'clf__max_depth': 5, 'clf__max_leaf_nodes': 15, 'clf__min_samples_leaf': 5, 'clf__min_samples_split': 10, 'clf__n_estimators': 100, 'kbest__k': 5}\n",
      "0.706 (+/-0.013) for {'clf__max_depth': 5, 'clf__max_leaf_nodes': 15, 'clf__min_samples_leaf': 5, 'clf__min_samples_split': 10, 'clf__n_estimators': 100, 'kbest__k': 6}\n",
      "0.722 (+/-0.007) for {'clf__max_depth': 5, 'clf__max_leaf_nodes': 15, 'clf__min_samples_leaf': 5, 'clf__min_samples_split': 10, 'clf__n_estimators': 100, 'kbest__k': 7}\n",
      "0.723 (+/-0.007) for {'clf__max_depth': 5, 'clf__max_leaf_nodes': 15, 'clf__min_samples_leaf': 5, 'clf__min_samples_split': 10, 'clf__n_estimators': 100, 'kbest__k': 8}\n",
      "0.730 (+/-0.007) for {'clf__max_depth': 5, 'clf__max_leaf_nodes': 15, 'clf__min_samples_leaf': 5, 'clf__min_samples_split': 10, 'clf__n_estimators': 100, 'kbest__k': 9}\n",
      "0.730 (+/-0.007) for {'clf__max_depth': 5, 'clf__max_leaf_nodes': 15, 'clf__min_samples_leaf': 5, 'clf__min_samples_split': 10, 'clf__n_estimators': 100, 'kbest__k': 10}\n",
      "0.729 (+/-0.009) for {'clf__max_depth': 5, 'clf__max_leaf_nodes': 15, 'clf__min_samples_leaf': 5, 'clf__min_samples_split': 10, 'clf__n_estimators': 100, 'kbest__k': 11}\n",
      "0.727 (+/-0.008) for {'clf__max_depth': 5, 'clf__max_leaf_nodes': 15, 'clf__min_samples_leaf': 5, 'clf__min_samples_split': 10, 'clf__n_estimators': 100, 'kbest__k': 12}\n",
      "0.726 (+/-0.008) for {'clf__max_depth': 5, 'clf__max_leaf_nodes': 15, 'clf__min_samples_leaf': 5, 'clf__min_samples_split': 10, 'clf__n_estimators': 100, 'kbest__k': 13}\n",
      "0.727 (+/-0.006) for {'clf__max_depth': 5, 'clf__max_leaf_nodes': 15, 'clf__min_samples_leaf': 5, 'clf__min_samples_split': 10, 'clf__n_estimators': 100, 'kbest__k': 14}\n",
      "0.724 (+/-0.010) for {'clf__max_depth': 5, 'clf__max_leaf_nodes': 15, 'clf__min_samples_leaf': 5, 'clf__min_samples_split': 10, 'clf__n_estimators': 100, 'kbest__k': 15}\n",
      "0.728 (+/-0.005) for {'clf__max_depth': 5, 'clf__max_leaf_nodes': 15, 'clf__min_samples_leaf': 5, 'clf__min_samples_split': 10, 'clf__n_estimators': 100, 'kbest__k': 16}\n",
      "0.728 (+/-0.009) for {'clf__max_depth': 5, 'clf__max_leaf_nodes': 15, 'clf__min_samples_leaf': 5, 'clf__min_samples_split': 10, 'clf__n_estimators': 100, 'kbest__k': 17}\n",
      "0.728 (+/-0.005) for {'clf__max_depth': 5, 'clf__max_leaf_nodes': 15, 'clf__min_samples_leaf': 5, 'clf__min_samples_split': 10, 'clf__n_estimators': 100, 'kbest__k': 18}\n",
      "0.731 (+/-0.010) for {'clf__max_depth': 5, 'clf__max_leaf_nodes': 15, 'clf__min_samples_leaf': 5, 'clf__min_samples_split': 10, 'clf__n_estimators': 100, 'kbest__k': 19}\n",
      "0.733 (+/-0.007) for {'clf__max_depth': 5, 'clf__max_leaf_nodes': 15, 'clf__min_samples_leaf': 5, 'clf__min_samples_split': 10, 'clf__n_estimators': 100, 'kbest__k': 20}\n",
      "0.693 (+/-0.021) for {'clf__max_depth': 6, 'clf__max_leaf_nodes': 14, 'clf__min_samples_leaf': 3, 'clf__min_samples_split': 5, 'clf__n_estimators': 5, 'kbest__k': 1}\n",
      "0.693 (+/-0.010) for {'clf__max_depth': 6, 'clf__max_leaf_nodes': 14, 'clf__min_samples_leaf': 3, 'clf__min_samples_split': 5, 'clf__n_estimators': 5, 'kbest__k': 2}\n",
      "0.688 (+/-0.017) for {'clf__max_depth': 6, 'clf__max_leaf_nodes': 14, 'clf__min_samples_leaf': 3, 'clf__min_samples_split': 5, 'clf__n_estimators': 5, 'kbest__k': 3}\n",
      "0.694 (+/-0.016) for {'clf__max_depth': 6, 'clf__max_leaf_nodes': 14, 'clf__min_samples_leaf': 3, 'clf__min_samples_split': 5, 'clf__n_estimators': 5, 'kbest__k': 4}\n",
      "0.697 (+/-0.009) for {'clf__max_depth': 6, 'clf__max_leaf_nodes': 14, 'clf__min_samples_leaf': 3, 'clf__min_samples_split': 5, 'clf__n_estimators': 5, 'kbest__k': 5}\n",
      "0.698 (+/-0.010) for {'clf__max_depth': 6, 'clf__max_leaf_nodes': 14, 'clf__min_samples_leaf': 3, 'clf__min_samples_split': 5, 'clf__n_estimators': 5, 'kbest__k': 6}\n",
      "0.714 (+/-0.010) for {'clf__max_depth': 6, 'clf__max_leaf_nodes': 14, 'clf__min_samples_leaf': 3, 'clf__min_samples_split': 5, 'clf__n_estimators': 5, 'kbest__k': 7}\n",
      "0.715 (+/-0.006) for {'clf__max_depth': 6, 'clf__max_leaf_nodes': 14, 'clf__min_samples_leaf': 3, 'clf__min_samples_split': 5, 'clf__n_estimators': 5, 'kbest__k': 8}\n",
      "0.719 (+/-0.010) for {'clf__max_depth': 6, 'clf__max_leaf_nodes': 14, 'clf__min_samples_leaf': 3, 'clf__min_samples_split': 5, 'clf__n_estimators': 5, 'kbest__k': 9}\n",
      "0.720 (+/-0.013) for {'clf__max_depth': 6, 'clf__max_leaf_nodes': 14, 'clf__min_samples_leaf': 3, 'clf__min_samples_split': 5, 'clf__n_estimators': 5, 'kbest__k': 10}\n",
      "0.718 (+/-0.009) for {'clf__max_depth': 6, 'clf__max_leaf_nodes': 14, 'clf__min_samples_leaf': 3, 'clf__min_samples_split': 5, 'clf__n_estimators': 5, 'kbest__k': 11}\n",
      "0.722 (+/-0.013) for {'clf__max_depth': 6, 'clf__max_leaf_nodes': 14, 'clf__min_samples_leaf': 3, 'clf__min_samples_split': 5, 'clf__n_estimators': 5, 'kbest__k': 12}\n",
      "0.714 (+/-0.008) for {'clf__max_depth': 6, 'clf__max_leaf_nodes': 14, 'clf__min_samples_leaf': 3, 'clf__min_samples_split': 5, 'clf__n_estimators': 5, 'kbest__k': 13}\n",
      "0.718 (+/-0.005) for {'clf__max_depth': 6, 'clf__max_leaf_nodes': 14, 'clf__min_samples_leaf': 3, 'clf__min_samples_split': 5, 'clf__n_estimators': 5, 'kbest__k': 14}\n",
      "0.714 (+/-0.007) for {'clf__max_depth': 6, 'clf__max_leaf_nodes': 14, 'clf__min_samples_leaf': 3, 'clf__min_samples_split': 5, 'clf__n_estimators': 5, 'kbest__k': 15}\n",
      "0.717 (+/-0.011) for {'clf__max_depth': 6, 'clf__max_leaf_nodes': 14, 'clf__min_samples_leaf': 3, 'clf__min_samples_split': 5, 'clf__n_estimators': 5, 'kbest__k': 16}\n",
      "0.715 (+/-0.014) for {'clf__max_depth': 6, 'clf__max_leaf_nodes': 14, 'clf__min_samples_leaf': 3, 'clf__min_samples_split': 5, 'clf__n_estimators': 5, 'kbest__k': 17}\n",
      "0.719 (+/-0.018) for {'clf__max_depth': 6, 'clf__max_leaf_nodes': 14, 'clf__min_samples_leaf': 3, 'clf__min_samples_split': 5, 'clf__n_estimators': 5, 'kbest__k': 18}\n",
      "0.717 (+/-0.011) for {'clf__max_depth': 6, 'clf__max_leaf_nodes': 14, 'clf__min_samples_leaf': 3, 'clf__min_samples_split': 5, 'clf__n_estimators': 5, 'kbest__k': 19}\n",
      "0.727 (+/-0.020) for {'clf__max_depth': 6, 'clf__max_leaf_nodes': 14, 'clf__min_samples_leaf': 3, 'clf__min_samples_split': 5, 'clf__n_estimators': 5, 'kbest__k': 20}\n",
      "0.690 (+/-0.018) for {'clf__max_depth': 6, 'clf__max_leaf_nodes': 14, 'clf__min_samples_leaf': 3, 'clf__min_samples_split': 5, 'clf__n_estimators': 40, 'kbest__k': 1}\n",
      "0.692 (+/-0.009) for {'clf__max_depth': 6, 'clf__max_leaf_nodes': 14, 'clf__min_samples_leaf': 3, 'clf__min_samples_split': 5, 'clf__n_estimators': 40, 'kbest__k': 2}\n",
      "0.693 (+/-0.005) for {'clf__max_depth': 6, 'clf__max_leaf_nodes': 14, 'clf__min_samples_leaf': 3, 'clf__min_samples_split': 5, 'clf__n_estimators': 40, 'kbest__k': 3}\n",
      "0.698 (+/-0.011) for {'clf__max_depth': 6, 'clf__max_leaf_nodes': 14, 'clf__min_samples_leaf': 3, 'clf__min_samples_split': 5, 'clf__n_estimators': 40, 'kbest__k': 4}\n",
      "0.699 (+/-0.010) for {'clf__max_depth': 6, 'clf__max_leaf_nodes': 14, 'clf__min_samples_leaf': 3, 'clf__min_samples_split': 5, 'clf__n_estimators': 40, 'kbest__k': 5}\n",
      "0.704 (+/-0.013) for {'clf__max_depth': 6, 'clf__max_leaf_nodes': 14, 'clf__min_samples_leaf': 3, 'clf__min_samples_split': 5, 'clf__n_estimators': 40, 'kbest__k': 6}\n",
      "0.719 (+/-0.007) for {'clf__max_depth': 6, 'clf__max_leaf_nodes': 14, 'clf__min_samples_leaf': 3, 'clf__min_samples_split': 5, 'clf__n_estimators': 40, 'kbest__k': 7}\n",
      "0.723 (+/-0.014) for {'clf__max_depth': 6, 'clf__max_leaf_nodes': 14, 'clf__min_samples_leaf': 3, 'clf__min_samples_split': 5, 'clf__n_estimators': 40, 'kbest__k': 8}\n",
      "0.726 (+/-0.010) for {'clf__max_depth': 6, 'clf__max_leaf_nodes': 14, 'clf__min_samples_leaf': 3, 'clf__min_samples_split': 5, 'clf__n_estimators': 40, 'kbest__k': 9}\n",
      "0.728 (+/-0.008) for {'clf__max_depth': 6, 'clf__max_leaf_nodes': 14, 'clf__min_samples_leaf': 3, 'clf__min_samples_split': 5, 'clf__n_estimators': 40, 'kbest__k': 10}\n",
      "0.726 (+/-0.008) for {'clf__max_depth': 6, 'clf__max_leaf_nodes': 14, 'clf__min_samples_leaf': 3, 'clf__min_samples_split': 5, 'clf__n_estimators': 40, 'kbest__k': 11}\n",
      "0.725 (+/-0.006) for {'clf__max_depth': 6, 'clf__max_leaf_nodes': 14, 'clf__min_samples_leaf': 3, 'clf__min_samples_split': 5, 'clf__n_estimators': 40, 'kbest__k': 12}\n"
     ]
    },
    {
     "name": "stdout",
     "output_type": "stream",
     "text": [
      "0.726 (+/-0.007) for {'clf__max_depth': 6, 'clf__max_leaf_nodes': 14, 'clf__min_samples_leaf': 3, 'clf__min_samples_split': 5, 'clf__n_estimators': 40, 'kbest__k': 13}\n",
      "0.726 (+/-0.007) for {'clf__max_depth': 6, 'clf__max_leaf_nodes': 14, 'clf__min_samples_leaf': 3, 'clf__min_samples_split': 5, 'clf__n_estimators': 40, 'kbest__k': 14}\n",
      "0.725 (+/-0.007) for {'clf__max_depth': 6, 'clf__max_leaf_nodes': 14, 'clf__min_samples_leaf': 3, 'clf__min_samples_split': 5, 'clf__n_estimators': 40, 'kbest__k': 15}\n",
      "0.726 (+/-0.012) for {'clf__max_depth': 6, 'clf__max_leaf_nodes': 14, 'clf__min_samples_leaf': 3, 'clf__min_samples_split': 5, 'clf__n_estimators': 40, 'kbest__k': 16}\n",
      "0.726 (+/-0.005) for {'clf__max_depth': 6, 'clf__max_leaf_nodes': 14, 'clf__min_samples_leaf': 3, 'clf__min_samples_split': 5, 'clf__n_estimators': 40, 'kbest__k': 17}\n",
      "0.725 (+/-0.010) for {'clf__max_depth': 6, 'clf__max_leaf_nodes': 14, 'clf__min_samples_leaf': 3, 'clf__min_samples_split': 5, 'clf__n_estimators': 40, 'kbest__k': 18}\n",
      "0.729 (+/-0.012) for {'clf__max_depth': 6, 'clf__max_leaf_nodes': 14, 'clf__min_samples_leaf': 3, 'clf__min_samples_split': 5, 'clf__n_estimators': 40, 'kbest__k': 19}\n",
      "0.732 (+/-0.013) for {'clf__max_depth': 6, 'clf__max_leaf_nodes': 14, 'clf__min_samples_leaf': 3, 'clf__min_samples_split': 5, 'clf__n_estimators': 40, 'kbest__k': 20}\n",
      "0.690 (+/-0.016) for {'clf__max_depth': 6, 'clf__max_leaf_nodes': 14, 'clf__min_samples_leaf': 3, 'clf__min_samples_split': 5, 'clf__n_estimators': 42, 'kbest__k': 1}\n",
      "0.692 (+/-0.009) for {'clf__max_depth': 6, 'clf__max_leaf_nodes': 14, 'clf__min_samples_leaf': 3, 'clf__min_samples_split': 5, 'clf__n_estimators': 42, 'kbest__k': 2}\n",
      "0.693 (+/-0.007) for {'clf__max_depth': 6, 'clf__max_leaf_nodes': 14, 'clf__min_samples_leaf': 3, 'clf__min_samples_split': 5, 'clf__n_estimators': 42, 'kbest__k': 3}\n",
      "0.697 (+/-0.013) for {'clf__max_depth': 6, 'clf__max_leaf_nodes': 14, 'clf__min_samples_leaf': 3, 'clf__min_samples_split': 5, 'clf__n_estimators': 42, 'kbest__k': 4}\n",
      "0.702 (+/-0.018) for {'clf__max_depth': 6, 'clf__max_leaf_nodes': 14, 'clf__min_samples_leaf': 3, 'clf__min_samples_split': 5, 'clf__n_estimators': 42, 'kbest__k': 5}\n",
      "0.704 (+/-0.011) for {'clf__max_depth': 6, 'clf__max_leaf_nodes': 14, 'clf__min_samples_leaf': 3, 'clf__min_samples_split': 5, 'clf__n_estimators': 42, 'kbest__k': 6}\n",
      "0.724 (+/-0.009) for {'clf__max_depth': 6, 'clf__max_leaf_nodes': 14, 'clf__min_samples_leaf': 3, 'clf__min_samples_split': 5, 'clf__n_estimators': 42, 'kbest__k': 7}\n",
      "0.726 (+/-0.010) for {'clf__max_depth': 6, 'clf__max_leaf_nodes': 14, 'clf__min_samples_leaf': 3, 'clf__min_samples_split': 5, 'clf__n_estimators': 42, 'kbest__k': 8}\n",
      "0.729 (+/-0.006) for {'clf__max_depth': 6, 'clf__max_leaf_nodes': 14, 'clf__min_samples_leaf': 3, 'clf__min_samples_split': 5, 'clf__n_estimators': 42, 'kbest__k': 9}\n",
      "0.727 (+/-0.007) for {'clf__max_depth': 6, 'clf__max_leaf_nodes': 14, 'clf__min_samples_leaf': 3, 'clf__min_samples_split': 5, 'clf__n_estimators': 42, 'kbest__k': 10}\n",
      "0.726 (+/-0.006) for {'clf__max_depth': 6, 'clf__max_leaf_nodes': 14, 'clf__min_samples_leaf': 3, 'clf__min_samples_split': 5, 'clf__n_estimators': 42, 'kbest__k': 11}\n",
      "0.728 (+/-0.010) for {'clf__max_depth': 6, 'clf__max_leaf_nodes': 14, 'clf__min_samples_leaf': 3, 'clf__min_samples_split': 5, 'clf__n_estimators': 42, 'kbest__k': 12}\n",
      "0.723 (+/-0.009) for {'clf__max_depth': 6, 'clf__max_leaf_nodes': 14, 'clf__min_samples_leaf': 3, 'clf__min_samples_split': 5, 'clf__n_estimators': 42, 'kbest__k': 13}\n",
      "0.727 (+/-0.011) for {'clf__max_depth': 6, 'clf__max_leaf_nodes': 14, 'clf__min_samples_leaf': 3, 'clf__min_samples_split': 5, 'clf__n_estimators': 42, 'kbest__k': 14}\n",
      "0.724 (+/-0.008) for {'clf__max_depth': 6, 'clf__max_leaf_nodes': 14, 'clf__min_samples_leaf': 3, 'clf__min_samples_split': 5, 'clf__n_estimators': 42, 'kbest__k': 15}\n",
      "0.726 (+/-0.007) for {'clf__max_depth': 6, 'clf__max_leaf_nodes': 14, 'clf__min_samples_leaf': 3, 'clf__min_samples_split': 5, 'clf__n_estimators': 42, 'kbest__k': 16}\n",
      "0.727 (+/-0.012) for {'clf__max_depth': 6, 'clf__max_leaf_nodes': 14, 'clf__min_samples_leaf': 3, 'clf__min_samples_split': 5, 'clf__n_estimators': 42, 'kbest__k': 17}\n",
      "0.726 (+/-0.007) for {'clf__max_depth': 6, 'clf__max_leaf_nodes': 14, 'clf__min_samples_leaf': 3, 'clf__min_samples_split': 5, 'clf__n_estimators': 42, 'kbest__k': 18}\n",
      "0.730 (+/-0.005) for {'clf__max_depth': 6, 'clf__max_leaf_nodes': 14, 'clf__min_samples_leaf': 3, 'clf__min_samples_split': 5, 'clf__n_estimators': 42, 'kbest__k': 19}\n",
      "0.732 (+/-0.012) for {'clf__max_depth': 6, 'clf__max_leaf_nodes': 14, 'clf__min_samples_leaf': 3, 'clf__min_samples_split': 5, 'clf__n_estimators': 42, 'kbest__k': 20}\n",
      "0.690 (+/-0.016) for {'clf__max_depth': 6, 'clf__max_leaf_nodes': 14, 'clf__min_samples_leaf': 3, 'clf__min_samples_split': 5, 'clf__n_estimators': 100, 'kbest__k': 1}\n",
      "0.697 (+/-0.007) for {'clf__max_depth': 6, 'clf__max_leaf_nodes': 14, 'clf__min_samples_leaf': 3, 'clf__min_samples_split': 5, 'clf__n_estimators': 100, 'kbest__k': 2}\n",
      "0.695 (+/-0.007) for {'clf__max_depth': 6, 'clf__max_leaf_nodes': 14, 'clf__min_samples_leaf': 3, 'clf__min_samples_split': 5, 'clf__n_estimators': 100, 'kbest__k': 3}\n",
      "0.698 (+/-0.010) for {'clf__max_depth': 6, 'clf__max_leaf_nodes': 14, 'clf__min_samples_leaf': 3, 'clf__min_samples_split': 5, 'clf__n_estimators': 100, 'kbest__k': 4}\n",
      "0.701 (+/-0.010) for {'clf__max_depth': 6, 'clf__max_leaf_nodes': 14, 'clf__min_samples_leaf': 3, 'clf__min_samples_split': 5, 'clf__n_estimators': 100, 'kbest__k': 5}\n",
      "0.702 (+/-0.011) for {'clf__max_depth': 6, 'clf__max_leaf_nodes': 14, 'clf__min_samples_leaf': 3, 'clf__min_samples_split': 5, 'clf__n_estimators': 100, 'kbest__k': 6}\n",
      "0.721 (+/-0.008) for {'clf__max_depth': 6, 'clf__max_leaf_nodes': 14, 'clf__min_samples_leaf': 3, 'clf__min_samples_split': 5, 'clf__n_estimators': 100, 'kbest__k': 7}\n",
      "0.723 (+/-0.008) for {'clf__max_depth': 6, 'clf__max_leaf_nodes': 14, 'clf__min_samples_leaf': 3, 'clf__min_samples_split': 5, 'clf__n_estimators': 100, 'kbest__k': 8}\n",
      "0.729 (+/-0.009) for {'clf__max_depth': 6, 'clf__max_leaf_nodes': 14, 'clf__min_samples_leaf': 3, 'clf__min_samples_split': 5, 'clf__n_estimators': 100, 'kbest__k': 9}\n",
      "0.727 (+/-0.004) for {'clf__max_depth': 6, 'clf__max_leaf_nodes': 14, 'clf__min_samples_leaf': 3, 'clf__min_samples_split': 5, 'clf__n_estimators': 100, 'kbest__k': 10}\n",
      "0.727 (+/-0.006) for {'clf__max_depth': 6, 'clf__max_leaf_nodes': 14, 'clf__min_samples_leaf': 3, 'clf__min_samples_split': 5, 'clf__n_estimators': 100, 'kbest__k': 11}\n",
      "0.726 (+/-0.004) for {'clf__max_depth': 6, 'clf__max_leaf_nodes': 14, 'clf__min_samples_leaf': 3, 'clf__min_samples_split': 5, 'clf__n_estimators': 100, 'kbest__k': 12}\n",
      "0.725 (+/-0.010) for {'clf__max_depth': 6, 'clf__max_leaf_nodes': 14, 'clf__min_samples_leaf': 3, 'clf__min_samples_split': 5, 'clf__n_estimators': 100, 'kbest__k': 13}\n",
      "0.726 (+/-0.011) for {'clf__max_depth': 6, 'clf__max_leaf_nodes': 14, 'clf__min_samples_leaf': 3, 'clf__min_samples_split': 5, 'clf__n_estimators': 100, 'kbest__k': 14}\n",
      "0.724 (+/-0.006) for {'clf__max_depth': 6, 'clf__max_leaf_nodes': 14, 'clf__min_samples_leaf': 3, 'clf__min_samples_split': 5, 'clf__n_estimators': 100, 'kbest__k': 15}\n",
      "0.728 (+/-0.008) for {'clf__max_depth': 6, 'clf__max_leaf_nodes': 14, 'clf__min_samples_leaf': 3, 'clf__min_samples_split': 5, 'clf__n_estimators': 100, 'kbest__k': 16}\n",
      "0.728 (+/-0.011) for {'clf__max_depth': 6, 'clf__max_leaf_nodes': 14, 'clf__min_samples_leaf': 3, 'clf__min_samples_split': 5, 'clf__n_estimators': 100, 'kbest__k': 17}\n",
      "0.729 (+/-0.011) for {'clf__max_depth': 6, 'clf__max_leaf_nodes': 14, 'clf__min_samples_leaf': 3, 'clf__min_samples_split': 5, 'clf__n_estimators': 100, 'kbest__k': 18}\n",
      "0.730 (+/-0.007) for {'clf__max_depth': 6, 'clf__max_leaf_nodes': 14, 'clf__min_samples_leaf': 3, 'clf__min_samples_split': 5, 'clf__n_estimators': 100, 'kbest__k': 19}\n",
      "0.732 (+/-0.010) for {'clf__max_depth': 6, 'clf__max_leaf_nodes': 14, 'clf__min_samples_leaf': 3, 'clf__min_samples_split': 5, 'clf__n_estimators': 100, 'kbest__k': 20}\n"
     ]
    },
    {
     "name": "stdout",
     "output_type": "stream",
     "text": [
      "0.691 (+/-0.019) for {'clf__max_depth': 6, 'clf__max_leaf_nodes': 14, 'clf__min_samples_leaf': 3, 'clf__min_samples_split': 10, 'clf__n_estimators': 5, 'kbest__k': 1}\n",
      "0.693 (+/-0.008) for {'clf__max_depth': 6, 'clf__max_leaf_nodes': 14, 'clf__min_samples_leaf': 3, 'clf__min_samples_split': 10, 'clf__n_estimators': 5, 'kbest__k': 2}\n",
      "0.690 (+/-0.010) for {'clf__max_depth': 6, 'clf__max_leaf_nodes': 14, 'clf__min_samples_leaf': 3, 'clf__min_samples_split': 10, 'clf__n_estimators': 5, 'kbest__k': 3}\n",
      "0.697 (+/-0.014) for {'clf__max_depth': 6, 'clf__max_leaf_nodes': 14, 'clf__min_samples_leaf': 3, 'clf__min_samples_split': 10, 'clf__n_estimators': 5, 'kbest__k': 4}\n",
      "0.696 (+/-0.012) for {'clf__max_depth': 6, 'clf__max_leaf_nodes': 14, 'clf__min_samples_leaf': 3, 'clf__min_samples_split': 10, 'clf__n_estimators': 5, 'kbest__k': 5}\n",
      "0.699 (+/-0.013) for {'clf__max_depth': 6, 'clf__max_leaf_nodes': 14, 'clf__min_samples_leaf': 3, 'clf__min_samples_split': 10, 'clf__n_estimators': 5, 'kbest__k': 6}\n",
      "0.711 (+/-0.013) for {'clf__max_depth': 6, 'clf__max_leaf_nodes': 14, 'clf__min_samples_leaf': 3, 'clf__min_samples_split': 10, 'clf__n_estimators': 5, 'kbest__k': 7}\n",
      "0.712 (+/-0.009) for {'clf__max_depth': 6, 'clf__max_leaf_nodes': 14, 'clf__min_samples_leaf': 3, 'clf__min_samples_split': 10, 'clf__n_estimators': 5, 'kbest__k': 8}\n",
      "0.719 (+/-0.016) for {'clf__max_depth': 6, 'clf__max_leaf_nodes': 14, 'clf__min_samples_leaf': 3, 'clf__min_samples_split': 10, 'clf__n_estimators': 5, 'kbest__k': 9}\n",
      "0.719 (+/-0.012) for {'clf__max_depth': 6, 'clf__max_leaf_nodes': 14, 'clf__min_samples_leaf': 3, 'clf__min_samples_split': 10, 'clf__n_estimators': 5, 'kbest__k': 10}\n",
      "0.717 (+/-0.013) for {'clf__max_depth': 6, 'clf__max_leaf_nodes': 14, 'clf__min_samples_leaf': 3, 'clf__min_samples_split': 10, 'clf__n_estimators': 5, 'kbest__k': 11}\n",
      "0.717 (+/-0.006) for {'clf__max_depth': 6, 'clf__max_leaf_nodes': 14, 'clf__min_samples_leaf': 3, 'clf__min_samples_split': 10, 'clf__n_estimators': 5, 'kbest__k': 12}\n",
      "0.717 (+/-0.015) for {'clf__max_depth': 6, 'clf__max_leaf_nodes': 14, 'clf__min_samples_leaf': 3, 'clf__min_samples_split': 10, 'clf__n_estimators': 5, 'kbest__k': 13}\n",
      "0.715 (+/-0.016) for {'clf__max_depth': 6, 'clf__max_leaf_nodes': 14, 'clf__min_samples_leaf': 3, 'clf__min_samples_split': 10, 'clf__n_estimators': 5, 'kbest__k': 14}\n",
      "0.719 (+/-0.017) for {'clf__max_depth': 6, 'clf__max_leaf_nodes': 14, 'clf__min_samples_leaf': 3, 'clf__min_samples_split': 10, 'clf__n_estimators': 5, 'kbest__k': 15}\n",
      "0.719 (+/-0.005) for {'clf__max_depth': 6, 'clf__max_leaf_nodes': 14, 'clf__min_samples_leaf': 3, 'clf__min_samples_split': 10, 'clf__n_estimators': 5, 'kbest__k': 16}\n",
      "0.717 (+/-0.013) for {'clf__max_depth': 6, 'clf__max_leaf_nodes': 14, 'clf__min_samples_leaf': 3, 'clf__min_samples_split': 10, 'clf__n_estimators': 5, 'kbest__k': 17}\n",
      "0.718 (+/-0.013) for {'clf__max_depth': 6, 'clf__max_leaf_nodes': 14, 'clf__min_samples_leaf': 3, 'clf__min_samples_split': 10, 'clf__n_estimators': 5, 'kbest__k': 18}\n",
      "0.712 (+/-0.014) for {'clf__max_depth': 6, 'clf__max_leaf_nodes': 14, 'clf__min_samples_leaf': 3, 'clf__min_samples_split': 10, 'clf__n_estimators': 5, 'kbest__k': 19}\n",
      "0.721 (+/-0.018) for {'clf__max_depth': 6, 'clf__max_leaf_nodes': 14, 'clf__min_samples_leaf': 3, 'clf__min_samples_split': 10, 'clf__n_estimators': 5, 'kbest__k': 20}\n",
      "0.690 (+/-0.016) for {'clf__max_depth': 6, 'clf__max_leaf_nodes': 14, 'clf__min_samples_leaf': 3, 'clf__min_samples_split': 10, 'clf__n_estimators': 40, 'kbest__k': 1}\n",
      "0.695 (+/-0.005) for {'clf__max_depth': 6, 'clf__max_leaf_nodes': 14, 'clf__min_samples_leaf': 3, 'clf__min_samples_split': 10, 'clf__n_estimators': 40, 'kbest__k': 2}\n",
      "0.693 (+/-0.007) for {'clf__max_depth': 6, 'clf__max_leaf_nodes': 14, 'clf__min_samples_leaf': 3, 'clf__min_samples_split': 10, 'clf__n_estimators': 40, 'kbest__k': 3}\n",
      "0.700 (+/-0.015) for {'clf__max_depth': 6, 'clf__max_leaf_nodes': 14, 'clf__min_samples_leaf': 3, 'clf__min_samples_split': 10, 'clf__n_estimators': 40, 'kbest__k': 4}\n",
      "0.700 (+/-0.006) for {'clf__max_depth': 6, 'clf__max_leaf_nodes': 14, 'clf__min_samples_leaf': 3, 'clf__min_samples_split': 10, 'clf__n_estimators': 40, 'kbest__k': 5}\n",
      "0.703 (+/-0.009) for {'clf__max_depth': 6, 'clf__max_leaf_nodes': 14, 'clf__min_samples_leaf': 3, 'clf__min_samples_split': 10, 'clf__n_estimators': 40, 'kbest__k': 6}\n",
      "0.719 (+/-0.008) for {'clf__max_depth': 6, 'clf__max_leaf_nodes': 14, 'clf__min_samples_leaf': 3, 'clf__min_samples_split': 10, 'clf__n_estimators': 40, 'kbest__k': 7}\n",
      "0.721 (+/-0.006) for {'clf__max_depth': 6, 'clf__max_leaf_nodes': 14, 'clf__min_samples_leaf': 3, 'clf__min_samples_split': 10, 'clf__n_estimators': 40, 'kbest__k': 8}\n",
      "0.723 (+/-0.008) for {'clf__max_depth': 6, 'clf__max_leaf_nodes': 14, 'clf__min_samples_leaf': 3, 'clf__min_samples_split': 10, 'clf__n_estimators': 40, 'kbest__k': 9}\n",
      "0.726 (+/-0.010) for {'clf__max_depth': 6, 'clf__max_leaf_nodes': 14, 'clf__min_samples_leaf': 3, 'clf__min_samples_split': 10, 'clf__n_estimators': 40, 'kbest__k': 10}\n",
      "0.723 (+/-0.007) for {'clf__max_depth': 6, 'clf__max_leaf_nodes': 14, 'clf__min_samples_leaf': 3, 'clf__min_samples_split': 10, 'clf__n_estimators': 40, 'kbest__k': 11}\n",
      "0.725 (+/-0.006) for {'clf__max_depth': 6, 'clf__max_leaf_nodes': 14, 'clf__min_samples_leaf': 3, 'clf__min_samples_split': 10, 'clf__n_estimators': 40, 'kbest__k': 12}\n",
      "0.724 (+/-0.009) for {'clf__max_depth': 6, 'clf__max_leaf_nodes': 14, 'clf__min_samples_leaf': 3, 'clf__min_samples_split': 10, 'clf__n_estimators': 40, 'kbest__k': 13}\n",
      "0.726 (+/-0.007) for {'clf__max_depth': 6, 'clf__max_leaf_nodes': 14, 'clf__min_samples_leaf': 3, 'clf__min_samples_split': 10, 'clf__n_estimators': 40, 'kbest__k': 14}\n",
      "0.725 (+/-0.008) for {'clf__max_depth': 6, 'clf__max_leaf_nodes': 14, 'clf__min_samples_leaf': 3, 'clf__min_samples_split': 10, 'clf__n_estimators': 40, 'kbest__k': 15}\n",
      "0.730 (+/-0.013) for {'clf__max_depth': 6, 'clf__max_leaf_nodes': 14, 'clf__min_samples_leaf': 3, 'clf__min_samples_split': 10, 'clf__n_estimators': 40, 'kbest__k': 16}\n",
      "0.727 (+/-0.009) for {'clf__max_depth': 6, 'clf__max_leaf_nodes': 14, 'clf__min_samples_leaf': 3, 'clf__min_samples_split': 10, 'clf__n_estimators': 40, 'kbest__k': 17}\n",
      "0.724 (+/-0.008) for {'clf__max_depth': 6, 'clf__max_leaf_nodes': 14, 'clf__min_samples_leaf': 3, 'clf__min_samples_split': 10, 'clf__n_estimators': 40, 'kbest__k': 18}\n",
      "0.725 (+/-0.005) for {'clf__max_depth': 6, 'clf__max_leaf_nodes': 14, 'clf__min_samples_leaf': 3, 'clf__min_samples_split': 10, 'clf__n_estimators': 40, 'kbest__k': 19}\n",
      "0.730 (+/-0.010) for {'clf__max_depth': 6, 'clf__max_leaf_nodes': 14, 'clf__min_samples_leaf': 3, 'clf__min_samples_split': 10, 'clf__n_estimators': 40, 'kbest__k': 20}\n",
      "0.691 (+/-0.019) for {'clf__max_depth': 6, 'clf__max_leaf_nodes': 14, 'clf__min_samples_leaf': 3, 'clf__min_samples_split': 10, 'clf__n_estimators': 42, 'kbest__k': 1}\n",
      "0.694 (+/-0.004) for {'clf__max_depth': 6, 'clf__max_leaf_nodes': 14, 'clf__min_samples_leaf': 3, 'clf__min_samples_split': 10, 'clf__n_estimators': 42, 'kbest__k': 2}\n",
      "0.694 (+/-0.008) for {'clf__max_depth': 6, 'clf__max_leaf_nodes': 14, 'clf__min_samples_leaf': 3, 'clf__min_samples_split': 10, 'clf__n_estimators': 42, 'kbest__k': 3}\n",
      "0.698 (+/-0.009) for {'clf__max_depth': 6, 'clf__max_leaf_nodes': 14, 'clf__min_samples_leaf': 3, 'clf__min_samples_split': 10, 'clf__n_estimators': 42, 'kbest__k': 4}\n",
      "0.699 (+/-0.015) for {'clf__max_depth': 6, 'clf__max_leaf_nodes': 14, 'clf__min_samples_leaf': 3, 'clf__min_samples_split': 10, 'clf__n_estimators': 42, 'kbest__k': 5}\n",
      "0.699 (+/-0.007) for {'clf__max_depth': 6, 'clf__max_leaf_nodes': 14, 'clf__min_samples_leaf': 3, 'clf__min_samples_split': 10, 'clf__n_estimators': 42, 'kbest__k': 6}\n",
      "0.719 (+/-0.008) for {'clf__max_depth': 6, 'clf__max_leaf_nodes': 14, 'clf__min_samples_leaf': 3, 'clf__min_samples_split': 10, 'clf__n_estimators': 42, 'kbest__k': 7}\n",
      "0.724 (+/-0.007) for {'clf__max_depth': 6, 'clf__max_leaf_nodes': 14, 'clf__min_samples_leaf': 3, 'clf__min_samples_split': 10, 'clf__n_estimators': 42, 'kbest__k': 8}\n"
     ]
    },
    {
     "name": "stdout",
     "output_type": "stream",
     "text": [
      "0.727 (+/-0.010) for {'clf__max_depth': 6, 'clf__max_leaf_nodes': 14, 'clf__min_samples_leaf': 3, 'clf__min_samples_split': 10, 'clf__n_estimators': 42, 'kbest__k': 9}\n",
      "0.728 (+/-0.009) for {'clf__max_depth': 6, 'clf__max_leaf_nodes': 14, 'clf__min_samples_leaf': 3, 'clf__min_samples_split': 10, 'clf__n_estimators': 42, 'kbest__k': 10}\n",
      "0.725 (+/-0.006) for {'clf__max_depth': 6, 'clf__max_leaf_nodes': 14, 'clf__min_samples_leaf': 3, 'clf__min_samples_split': 10, 'clf__n_estimators': 42, 'kbest__k': 11}\n",
      "0.727 (+/-0.006) for {'clf__max_depth': 6, 'clf__max_leaf_nodes': 14, 'clf__min_samples_leaf': 3, 'clf__min_samples_split': 10, 'clf__n_estimators': 42, 'kbest__k': 12}\n",
      "0.727 (+/-0.009) for {'clf__max_depth': 6, 'clf__max_leaf_nodes': 14, 'clf__min_samples_leaf': 3, 'clf__min_samples_split': 10, 'clf__n_estimators': 42, 'kbest__k': 13}\n",
      "0.726 (+/-0.011) for {'clf__max_depth': 6, 'clf__max_leaf_nodes': 14, 'clf__min_samples_leaf': 3, 'clf__min_samples_split': 10, 'clf__n_estimators': 42, 'kbest__k': 14}\n",
      "0.727 (+/-0.004) for {'clf__max_depth': 6, 'clf__max_leaf_nodes': 14, 'clf__min_samples_leaf': 3, 'clf__min_samples_split': 10, 'clf__n_estimators': 42, 'kbest__k': 15}\n",
      "0.726 (+/-0.007) for {'clf__max_depth': 6, 'clf__max_leaf_nodes': 14, 'clf__min_samples_leaf': 3, 'clf__min_samples_split': 10, 'clf__n_estimators': 42, 'kbest__k': 16}\n",
      "0.728 (+/-0.008) for {'clf__max_depth': 6, 'clf__max_leaf_nodes': 14, 'clf__min_samples_leaf': 3, 'clf__min_samples_split': 10, 'clf__n_estimators': 42, 'kbest__k': 17}\n",
      "0.729 (+/-0.008) for {'clf__max_depth': 6, 'clf__max_leaf_nodes': 14, 'clf__min_samples_leaf': 3, 'clf__min_samples_split': 10, 'clf__n_estimators': 42, 'kbest__k': 18}\n",
      "0.729 (+/-0.009) for {'clf__max_depth': 6, 'clf__max_leaf_nodes': 14, 'clf__min_samples_leaf': 3, 'clf__min_samples_split': 10, 'clf__n_estimators': 42, 'kbest__k': 19}\n",
      "0.729 (+/-0.014) for {'clf__max_depth': 6, 'clf__max_leaf_nodes': 14, 'clf__min_samples_leaf': 3, 'clf__min_samples_split': 10, 'clf__n_estimators': 42, 'kbest__k': 20}\n",
      "0.691 (+/-0.019) for {'clf__max_depth': 6, 'clf__max_leaf_nodes': 14, 'clf__min_samples_leaf': 3, 'clf__min_samples_split': 10, 'clf__n_estimators': 100, 'kbest__k': 1}\n",
      "0.695 (+/-0.011) for {'clf__max_depth': 6, 'clf__max_leaf_nodes': 14, 'clf__min_samples_leaf': 3, 'clf__min_samples_split': 10, 'clf__n_estimators': 100, 'kbest__k': 2}\n",
      "0.695 (+/-0.009) for {'clf__max_depth': 6, 'clf__max_leaf_nodes': 14, 'clf__min_samples_leaf': 3, 'clf__min_samples_split': 10, 'clf__n_estimators': 100, 'kbest__k': 3}\n",
      "0.699 (+/-0.015) for {'clf__max_depth': 6, 'clf__max_leaf_nodes': 14, 'clf__min_samples_leaf': 3, 'clf__min_samples_split': 10, 'clf__n_estimators': 100, 'kbest__k': 4}\n",
      "0.701 (+/-0.011) for {'clf__max_depth': 6, 'clf__max_leaf_nodes': 14, 'clf__min_samples_leaf': 3, 'clf__min_samples_split': 10, 'clf__n_estimators': 100, 'kbest__k': 5}\n",
      "0.703 (+/-0.013) for {'clf__max_depth': 6, 'clf__max_leaf_nodes': 14, 'clf__min_samples_leaf': 3, 'clf__min_samples_split': 10, 'clf__n_estimators': 100, 'kbest__k': 6}\n",
      "0.722 (+/-0.009) for {'clf__max_depth': 6, 'clf__max_leaf_nodes': 14, 'clf__min_samples_leaf': 3, 'clf__min_samples_split': 10, 'clf__n_estimators': 100, 'kbest__k': 7}\n",
      "0.723 (+/-0.005) for {'clf__max_depth': 6, 'clf__max_leaf_nodes': 14, 'clf__min_samples_leaf': 3, 'clf__min_samples_split': 10, 'clf__n_estimators': 100, 'kbest__k': 8}\n",
      "0.728 (+/-0.010) for {'clf__max_depth': 6, 'clf__max_leaf_nodes': 14, 'clf__min_samples_leaf': 3, 'clf__min_samples_split': 10, 'clf__n_estimators': 100, 'kbest__k': 9}\n",
      "0.728 (+/-0.011) for {'clf__max_depth': 6, 'clf__max_leaf_nodes': 14, 'clf__min_samples_leaf': 3, 'clf__min_samples_split': 10, 'clf__n_estimators': 100, 'kbest__k': 10}\n",
      "0.727 (+/-0.004) for {'clf__max_depth': 6, 'clf__max_leaf_nodes': 14, 'clf__min_samples_leaf': 3, 'clf__min_samples_split': 10, 'clf__n_estimators': 100, 'kbest__k': 11}\n",
      "0.726 (+/-0.007) for {'clf__max_depth': 6, 'clf__max_leaf_nodes': 14, 'clf__min_samples_leaf': 3, 'clf__min_samples_split': 10, 'clf__n_estimators': 100, 'kbest__k': 12}\n",
      "0.726 (+/-0.007) for {'clf__max_depth': 6, 'clf__max_leaf_nodes': 14, 'clf__min_samples_leaf': 3, 'clf__min_samples_split': 10, 'clf__n_estimators': 100, 'kbest__k': 13}\n",
      "0.727 (+/-0.009) for {'clf__max_depth': 6, 'clf__max_leaf_nodes': 14, 'clf__min_samples_leaf': 3, 'clf__min_samples_split': 10, 'clf__n_estimators': 100, 'kbest__k': 14}\n",
      "0.724 (+/-0.008) for {'clf__max_depth': 6, 'clf__max_leaf_nodes': 14, 'clf__min_samples_leaf': 3, 'clf__min_samples_split': 10, 'clf__n_estimators': 100, 'kbest__k': 15}\n",
      "0.727 (+/-0.006) for {'clf__max_depth': 6, 'clf__max_leaf_nodes': 14, 'clf__min_samples_leaf': 3, 'clf__min_samples_split': 10, 'clf__n_estimators': 100, 'kbest__k': 16}\n",
      "0.729 (+/-0.006) for {'clf__max_depth': 6, 'clf__max_leaf_nodes': 14, 'clf__min_samples_leaf': 3, 'clf__min_samples_split': 10, 'clf__n_estimators': 100, 'kbest__k': 17}\n",
      "0.730 (+/-0.010) for {'clf__max_depth': 6, 'clf__max_leaf_nodes': 14, 'clf__min_samples_leaf': 3, 'clf__min_samples_split': 10, 'clf__n_estimators': 100, 'kbest__k': 18}\n",
      "0.730 (+/-0.007) for {'clf__max_depth': 6, 'clf__max_leaf_nodes': 14, 'clf__min_samples_leaf': 3, 'clf__min_samples_split': 10, 'clf__n_estimators': 100, 'kbest__k': 19}\n",
      "0.733 (+/-0.010) for {'clf__max_depth': 6, 'clf__max_leaf_nodes': 14, 'clf__min_samples_leaf': 3, 'clf__min_samples_split': 10, 'clf__n_estimators': 100, 'kbest__k': 20}\n",
      "0.691 (+/-0.019) for {'clf__max_depth': 6, 'clf__max_leaf_nodes': 14, 'clf__min_samples_leaf': 5, 'clf__min_samples_split': 5, 'clf__n_estimators': 5, 'kbest__k': 1}\n",
      "0.693 (+/-0.012) for {'clf__max_depth': 6, 'clf__max_leaf_nodes': 14, 'clf__min_samples_leaf': 5, 'clf__min_samples_split': 5, 'clf__n_estimators': 5, 'kbest__k': 2}\n",
      "0.692 (+/-0.003) for {'clf__max_depth': 6, 'clf__max_leaf_nodes': 14, 'clf__min_samples_leaf': 5, 'clf__min_samples_split': 5, 'clf__n_estimators': 5, 'kbest__k': 3}\n",
      "0.693 (+/-0.008) for {'clf__max_depth': 6, 'clf__max_leaf_nodes': 14, 'clf__min_samples_leaf': 5, 'clf__min_samples_split': 5, 'clf__n_estimators': 5, 'kbest__k': 4}\n",
      "0.696 (+/-0.009) for {'clf__max_depth': 6, 'clf__max_leaf_nodes': 14, 'clf__min_samples_leaf': 5, 'clf__min_samples_split': 5, 'clf__n_estimators': 5, 'kbest__k': 5}\n",
      "0.702 (+/-0.017) for {'clf__max_depth': 6, 'clf__max_leaf_nodes': 14, 'clf__min_samples_leaf': 5, 'clf__min_samples_split': 5, 'clf__n_estimators': 5, 'kbest__k': 6}\n",
      "0.714 (+/-0.015) for {'clf__max_depth': 6, 'clf__max_leaf_nodes': 14, 'clf__min_samples_leaf': 5, 'clf__min_samples_split': 5, 'clf__n_estimators': 5, 'kbest__k': 7}\n",
      "0.714 (+/-0.011) for {'clf__max_depth': 6, 'clf__max_leaf_nodes': 14, 'clf__min_samples_leaf': 5, 'clf__min_samples_split': 5, 'clf__n_estimators': 5, 'kbest__k': 8}\n",
      "0.719 (+/-0.010) for {'clf__max_depth': 6, 'clf__max_leaf_nodes': 14, 'clf__min_samples_leaf': 5, 'clf__min_samples_split': 5, 'clf__n_estimators': 5, 'kbest__k': 9}\n",
      "0.719 (+/-0.015) for {'clf__max_depth': 6, 'clf__max_leaf_nodes': 14, 'clf__min_samples_leaf': 5, 'clf__min_samples_split': 5, 'clf__n_estimators': 5, 'kbest__k': 10}\n",
      "0.717 (+/-0.007) for {'clf__max_depth': 6, 'clf__max_leaf_nodes': 14, 'clf__min_samples_leaf': 5, 'clf__min_samples_split': 5, 'clf__n_estimators': 5, 'kbest__k': 11}\n",
      "0.710 (+/-0.016) for {'clf__max_depth': 6, 'clf__max_leaf_nodes': 14, 'clf__min_samples_leaf': 5, 'clf__min_samples_split': 5, 'clf__n_estimators': 5, 'kbest__k': 12}\n",
      "0.715 (+/-0.009) for {'clf__max_depth': 6, 'clf__max_leaf_nodes': 14, 'clf__min_samples_leaf': 5, 'clf__min_samples_split': 5, 'clf__n_estimators': 5, 'kbest__k': 13}\n",
      "0.718 (+/-0.023) for {'clf__max_depth': 6, 'clf__max_leaf_nodes': 14, 'clf__min_samples_leaf': 5, 'clf__min_samples_split': 5, 'clf__n_estimators': 5, 'kbest__k': 14}\n",
      "0.713 (+/-0.021) for {'clf__max_depth': 6, 'clf__max_leaf_nodes': 14, 'clf__min_samples_leaf': 5, 'clf__min_samples_split': 5, 'clf__n_estimators': 5, 'kbest__k': 15}\n",
      "0.715 (+/-0.008) for {'clf__max_depth': 6, 'clf__max_leaf_nodes': 14, 'clf__min_samples_leaf': 5, 'clf__min_samples_split': 5, 'clf__n_estimators': 5, 'kbest__k': 16}\n"
     ]
    },
    {
     "name": "stdout",
     "output_type": "stream",
     "text": [
      "0.724 (+/-0.010) for {'clf__max_depth': 6, 'clf__max_leaf_nodes': 14, 'clf__min_samples_leaf': 5, 'clf__min_samples_split': 5, 'clf__n_estimators': 5, 'kbest__k': 17}\n",
      "0.717 (+/-0.023) for {'clf__max_depth': 6, 'clf__max_leaf_nodes': 14, 'clf__min_samples_leaf': 5, 'clf__min_samples_split': 5, 'clf__n_estimators': 5, 'kbest__k': 18}\n",
      "0.723 (+/-0.012) for {'clf__max_depth': 6, 'clf__max_leaf_nodes': 14, 'clf__min_samples_leaf': 5, 'clf__min_samples_split': 5, 'clf__n_estimators': 5, 'kbest__k': 19}\n",
      "0.721 (+/-0.022) for {'clf__max_depth': 6, 'clf__max_leaf_nodes': 14, 'clf__min_samples_leaf': 5, 'clf__min_samples_split': 5, 'clf__n_estimators': 5, 'kbest__k': 20}\n",
      "0.691 (+/-0.019) for {'clf__max_depth': 6, 'clf__max_leaf_nodes': 14, 'clf__min_samples_leaf': 5, 'clf__min_samples_split': 5, 'clf__n_estimators': 40, 'kbest__k': 1}\n",
      "0.696 (+/-0.006) for {'clf__max_depth': 6, 'clf__max_leaf_nodes': 14, 'clf__min_samples_leaf': 5, 'clf__min_samples_split': 5, 'clf__n_estimators': 40, 'kbest__k': 2}\n",
      "0.695 (+/-0.009) for {'clf__max_depth': 6, 'clf__max_leaf_nodes': 14, 'clf__min_samples_leaf': 5, 'clf__min_samples_split': 5, 'clf__n_estimators': 40, 'kbest__k': 3}\n",
      "0.697 (+/-0.011) for {'clf__max_depth': 6, 'clf__max_leaf_nodes': 14, 'clf__min_samples_leaf': 5, 'clf__min_samples_split': 5, 'clf__n_estimators': 40, 'kbest__k': 4}\n",
      "0.700 (+/-0.013) for {'clf__max_depth': 6, 'clf__max_leaf_nodes': 14, 'clf__min_samples_leaf': 5, 'clf__min_samples_split': 5, 'clf__n_estimators': 40, 'kbest__k': 5}\n",
      "0.704 (+/-0.011) for {'clf__max_depth': 6, 'clf__max_leaf_nodes': 14, 'clf__min_samples_leaf': 5, 'clf__min_samples_split': 5, 'clf__n_estimators': 40, 'kbest__k': 6}\n",
      "0.721 (+/-0.013) for {'clf__max_depth': 6, 'clf__max_leaf_nodes': 14, 'clf__min_samples_leaf': 5, 'clf__min_samples_split': 5, 'clf__n_estimators': 40, 'kbest__k': 7}\n",
      "0.722 (+/-0.006) for {'clf__max_depth': 6, 'clf__max_leaf_nodes': 14, 'clf__min_samples_leaf': 5, 'clf__min_samples_split': 5, 'clf__n_estimators': 40, 'kbest__k': 8}\n",
      "0.728 (+/-0.003) for {'clf__max_depth': 6, 'clf__max_leaf_nodes': 14, 'clf__min_samples_leaf': 5, 'clf__min_samples_split': 5, 'clf__n_estimators': 40, 'kbest__k': 9}\n",
      "0.729 (+/-0.010) for {'clf__max_depth': 6, 'clf__max_leaf_nodes': 14, 'clf__min_samples_leaf': 5, 'clf__min_samples_split': 5, 'clf__n_estimators': 40, 'kbest__k': 10}\n",
      "0.727 (+/-0.009) for {'clf__max_depth': 6, 'clf__max_leaf_nodes': 14, 'clf__min_samples_leaf': 5, 'clf__min_samples_split': 5, 'clf__n_estimators': 40, 'kbest__k': 11}\n",
      "0.727 (+/-0.006) for {'clf__max_depth': 6, 'clf__max_leaf_nodes': 14, 'clf__min_samples_leaf': 5, 'clf__min_samples_split': 5, 'clf__n_estimators': 40, 'kbest__k': 12}\n",
      "0.723 (+/-0.011) for {'clf__max_depth': 6, 'clf__max_leaf_nodes': 14, 'clf__min_samples_leaf': 5, 'clf__min_samples_split': 5, 'clf__n_estimators': 40, 'kbest__k': 13}\n",
      "0.725 (+/-0.005) for {'clf__max_depth': 6, 'clf__max_leaf_nodes': 14, 'clf__min_samples_leaf': 5, 'clf__min_samples_split': 5, 'clf__n_estimators': 40, 'kbest__k': 14}\n",
      "0.725 (+/-0.005) for {'clf__max_depth': 6, 'clf__max_leaf_nodes': 14, 'clf__min_samples_leaf': 5, 'clf__min_samples_split': 5, 'clf__n_estimators': 40, 'kbest__k': 15}\n",
      "0.727 (+/-0.008) for {'clf__max_depth': 6, 'clf__max_leaf_nodes': 14, 'clf__min_samples_leaf': 5, 'clf__min_samples_split': 5, 'clf__n_estimators': 40, 'kbest__k': 16}\n",
      "0.727 (+/-0.008) for {'clf__max_depth': 6, 'clf__max_leaf_nodes': 14, 'clf__min_samples_leaf': 5, 'clf__min_samples_split': 5, 'clf__n_estimators': 40, 'kbest__k': 17}\n",
      "0.726 (+/-0.008) for {'clf__max_depth': 6, 'clf__max_leaf_nodes': 14, 'clf__min_samples_leaf': 5, 'clf__min_samples_split': 5, 'clf__n_estimators': 40, 'kbest__k': 18}\n",
      "0.726 (+/-0.006) for {'clf__max_depth': 6, 'clf__max_leaf_nodes': 14, 'clf__min_samples_leaf': 5, 'clf__min_samples_split': 5, 'clf__n_estimators': 40, 'kbest__k': 19}\n",
      "0.730 (+/-0.009) for {'clf__max_depth': 6, 'clf__max_leaf_nodes': 14, 'clf__min_samples_leaf': 5, 'clf__min_samples_split': 5, 'clf__n_estimators': 40, 'kbest__k': 20}\n",
      "0.691 (+/-0.019) for {'clf__max_depth': 6, 'clf__max_leaf_nodes': 14, 'clf__min_samples_leaf': 5, 'clf__min_samples_split': 5, 'clf__n_estimators': 42, 'kbest__k': 1}\n",
      "0.695 (+/-0.017) for {'clf__max_depth': 6, 'clf__max_leaf_nodes': 14, 'clf__min_samples_leaf': 5, 'clf__min_samples_split': 5, 'clf__n_estimators': 42, 'kbest__k': 2}\n",
      "0.693 (+/-0.014) for {'clf__max_depth': 6, 'clf__max_leaf_nodes': 14, 'clf__min_samples_leaf': 5, 'clf__min_samples_split': 5, 'clf__n_estimators': 42, 'kbest__k': 3}\n",
      "0.698 (+/-0.011) for {'clf__max_depth': 6, 'clf__max_leaf_nodes': 14, 'clf__min_samples_leaf': 5, 'clf__min_samples_split': 5, 'clf__n_estimators': 42, 'kbest__k': 4}\n",
      "0.701 (+/-0.011) for {'clf__max_depth': 6, 'clf__max_leaf_nodes': 14, 'clf__min_samples_leaf': 5, 'clf__min_samples_split': 5, 'clf__n_estimators': 42, 'kbest__k': 5}\n",
      "0.702 (+/-0.013) for {'clf__max_depth': 6, 'clf__max_leaf_nodes': 14, 'clf__min_samples_leaf': 5, 'clf__min_samples_split': 5, 'clf__n_estimators': 42, 'kbest__k': 6}\n",
      "0.720 (+/-0.008) for {'clf__max_depth': 6, 'clf__max_leaf_nodes': 14, 'clf__min_samples_leaf': 5, 'clf__min_samples_split': 5, 'clf__n_estimators': 42, 'kbest__k': 7}\n",
      "0.720 (+/-0.004) for {'clf__max_depth': 6, 'clf__max_leaf_nodes': 14, 'clf__min_samples_leaf': 5, 'clf__min_samples_split': 5, 'clf__n_estimators': 42, 'kbest__k': 8}\n",
      "0.727 (+/-0.009) for {'clf__max_depth': 6, 'clf__max_leaf_nodes': 14, 'clf__min_samples_leaf': 5, 'clf__min_samples_split': 5, 'clf__n_estimators': 42, 'kbest__k': 9}\n",
      "0.729 (+/-0.002) for {'clf__max_depth': 6, 'clf__max_leaf_nodes': 14, 'clf__min_samples_leaf': 5, 'clf__min_samples_split': 5, 'clf__n_estimators': 42, 'kbest__k': 10}\n",
      "0.727 (+/-0.005) for {'clf__max_depth': 6, 'clf__max_leaf_nodes': 14, 'clf__min_samples_leaf': 5, 'clf__min_samples_split': 5, 'clf__n_estimators': 42, 'kbest__k': 11}\n",
      "0.727 (+/-0.014) for {'clf__max_depth': 6, 'clf__max_leaf_nodes': 14, 'clf__min_samples_leaf': 5, 'clf__min_samples_split': 5, 'clf__n_estimators': 42, 'kbest__k': 12}\n",
      "0.726 (+/-0.010) for {'clf__max_depth': 6, 'clf__max_leaf_nodes': 14, 'clf__min_samples_leaf': 5, 'clf__min_samples_split': 5, 'clf__n_estimators': 42, 'kbest__k': 13}\n",
      "0.725 (+/-0.009) for {'clf__max_depth': 6, 'clf__max_leaf_nodes': 14, 'clf__min_samples_leaf': 5, 'clf__min_samples_split': 5, 'clf__n_estimators': 42, 'kbest__k': 14}\n",
      "0.729 (+/-0.004) for {'clf__max_depth': 6, 'clf__max_leaf_nodes': 14, 'clf__min_samples_leaf': 5, 'clf__min_samples_split': 5, 'clf__n_estimators': 42, 'kbest__k': 15}\n",
      "0.729 (+/-0.007) for {'clf__max_depth': 6, 'clf__max_leaf_nodes': 14, 'clf__min_samples_leaf': 5, 'clf__min_samples_split': 5, 'clf__n_estimators': 42, 'kbest__k': 16}\n",
      "0.725 (+/-0.004) for {'clf__max_depth': 6, 'clf__max_leaf_nodes': 14, 'clf__min_samples_leaf': 5, 'clf__min_samples_split': 5, 'clf__n_estimators': 42, 'kbest__k': 17}\n",
      "0.726 (+/-0.010) for {'clf__max_depth': 6, 'clf__max_leaf_nodes': 14, 'clf__min_samples_leaf': 5, 'clf__min_samples_split': 5, 'clf__n_estimators': 42, 'kbest__k': 18}\n",
      "0.730 (+/-0.012) for {'clf__max_depth': 6, 'clf__max_leaf_nodes': 14, 'clf__min_samples_leaf': 5, 'clf__min_samples_split': 5, 'clf__n_estimators': 42, 'kbest__k': 19}\n",
      "0.731 (+/-0.009) for {'clf__max_depth': 6, 'clf__max_leaf_nodes': 14, 'clf__min_samples_leaf': 5, 'clf__min_samples_split': 5, 'clf__n_estimators': 42, 'kbest__k': 20}\n",
      "0.688 (+/-0.014) for {'clf__max_depth': 6, 'clf__max_leaf_nodes': 14, 'clf__min_samples_leaf': 5, 'clf__min_samples_split': 5, 'clf__n_estimators': 100, 'kbest__k': 1}\n",
      "0.695 (+/-0.007) for {'clf__max_depth': 6, 'clf__max_leaf_nodes': 14, 'clf__min_samples_leaf': 5, 'clf__min_samples_split': 5, 'clf__n_estimators': 100, 'kbest__k': 2}\n",
      "0.693 (+/-0.008) for {'clf__max_depth': 6, 'clf__max_leaf_nodes': 14, 'clf__min_samples_leaf': 5, 'clf__min_samples_split': 5, 'clf__n_estimators': 100, 'kbest__k': 3}\n",
      "0.697 (+/-0.012) for {'clf__max_depth': 6, 'clf__max_leaf_nodes': 14, 'clf__min_samples_leaf': 5, 'clf__min_samples_split': 5, 'clf__n_estimators': 100, 'kbest__k': 4}\n"
     ]
    },
    {
     "name": "stdout",
     "output_type": "stream",
     "text": [
      "0.702 (+/-0.014) for {'clf__max_depth': 6, 'clf__max_leaf_nodes': 14, 'clf__min_samples_leaf': 5, 'clf__min_samples_split': 5, 'clf__n_estimators': 100, 'kbest__k': 5}\n",
      "0.703 (+/-0.010) for {'clf__max_depth': 6, 'clf__max_leaf_nodes': 14, 'clf__min_samples_leaf': 5, 'clf__min_samples_split': 5, 'clf__n_estimators': 100, 'kbest__k': 6}\n",
      "0.721 (+/-0.011) for {'clf__max_depth': 6, 'clf__max_leaf_nodes': 14, 'clf__min_samples_leaf': 5, 'clf__min_samples_split': 5, 'clf__n_estimators': 100, 'kbest__k': 7}\n",
      "0.725 (+/-0.006) for {'clf__max_depth': 6, 'clf__max_leaf_nodes': 14, 'clf__min_samples_leaf': 5, 'clf__min_samples_split': 5, 'clf__n_estimators': 100, 'kbest__k': 8}\n",
      "0.727 (+/-0.002) for {'clf__max_depth': 6, 'clf__max_leaf_nodes': 14, 'clf__min_samples_leaf': 5, 'clf__min_samples_split': 5, 'clf__n_estimators': 100, 'kbest__k': 9}\n",
      "0.728 (+/-0.005) for {'clf__max_depth': 6, 'clf__max_leaf_nodes': 14, 'clf__min_samples_leaf': 5, 'clf__min_samples_split': 5, 'clf__n_estimators': 100, 'kbest__k': 10}\n",
      "0.726 (+/-0.007) for {'clf__max_depth': 6, 'clf__max_leaf_nodes': 14, 'clf__min_samples_leaf': 5, 'clf__min_samples_split': 5, 'clf__n_estimators': 100, 'kbest__k': 11}\n",
      "0.726 (+/-0.008) for {'clf__max_depth': 6, 'clf__max_leaf_nodes': 14, 'clf__min_samples_leaf': 5, 'clf__min_samples_split': 5, 'clf__n_estimators': 100, 'kbest__k': 12}\n",
      "0.725 (+/-0.008) for {'clf__max_depth': 6, 'clf__max_leaf_nodes': 14, 'clf__min_samples_leaf': 5, 'clf__min_samples_split': 5, 'clf__n_estimators': 100, 'kbest__k': 13}\n",
      "0.727 (+/-0.007) for {'clf__max_depth': 6, 'clf__max_leaf_nodes': 14, 'clf__min_samples_leaf': 5, 'clf__min_samples_split': 5, 'clf__n_estimators': 100, 'kbest__k': 14}\n",
      "0.727 (+/-0.006) for {'clf__max_depth': 6, 'clf__max_leaf_nodes': 14, 'clf__min_samples_leaf': 5, 'clf__min_samples_split': 5, 'clf__n_estimators': 100, 'kbest__k': 15}\n",
      "0.729 (+/-0.009) for {'clf__max_depth': 6, 'clf__max_leaf_nodes': 14, 'clf__min_samples_leaf': 5, 'clf__min_samples_split': 5, 'clf__n_estimators': 100, 'kbest__k': 16}\n",
      "0.728 (+/-0.008) for {'clf__max_depth': 6, 'clf__max_leaf_nodes': 14, 'clf__min_samples_leaf': 5, 'clf__min_samples_split': 5, 'clf__n_estimators': 100, 'kbest__k': 17}\n",
      "0.728 (+/-0.007) for {'clf__max_depth': 6, 'clf__max_leaf_nodes': 14, 'clf__min_samples_leaf': 5, 'clf__min_samples_split': 5, 'clf__n_estimators': 100, 'kbest__k': 18}\n",
      "0.730 (+/-0.009) for {'clf__max_depth': 6, 'clf__max_leaf_nodes': 14, 'clf__min_samples_leaf': 5, 'clf__min_samples_split': 5, 'clf__n_estimators': 100, 'kbest__k': 19}\n",
      "0.731 (+/-0.010) for {'clf__max_depth': 6, 'clf__max_leaf_nodes': 14, 'clf__min_samples_leaf': 5, 'clf__min_samples_split': 5, 'clf__n_estimators': 100, 'kbest__k': 20}\n",
      "0.691 (+/-0.019) for {'clf__max_depth': 6, 'clf__max_leaf_nodes': 14, 'clf__min_samples_leaf': 5, 'clf__min_samples_split': 10, 'clf__n_estimators': 5, 'kbest__k': 1}\n",
      "0.696 (+/-0.020) for {'clf__max_depth': 6, 'clf__max_leaf_nodes': 14, 'clf__min_samples_leaf': 5, 'clf__min_samples_split': 10, 'clf__n_estimators': 5, 'kbest__k': 2}\n",
      "0.690 (+/-0.012) for {'clf__max_depth': 6, 'clf__max_leaf_nodes': 14, 'clf__min_samples_leaf': 5, 'clf__min_samples_split': 10, 'clf__n_estimators': 5, 'kbest__k': 3}\n",
      "0.696 (+/-0.013) for {'clf__max_depth': 6, 'clf__max_leaf_nodes': 14, 'clf__min_samples_leaf': 5, 'clf__min_samples_split': 10, 'clf__n_estimators': 5, 'kbest__k': 4}\n",
      "0.698 (+/-0.012) for {'clf__max_depth': 6, 'clf__max_leaf_nodes': 14, 'clf__min_samples_leaf': 5, 'clf__min_samples_split': 10, 'clf__n_estimators': 5, 'kbest__k': 5}\n",
      "0.699 (+/-0.017) for {'clf__max_depth': 6, 'clf__max_leaf_nodes': 14, 'clf__min_samples_leaf': 5, 'clf__min_samples_split': 10, 'clf__n_estimators': 5, 'kbest__k': 6}\n",
      "0.713 (+/-0.012) for {'clf__max_depth': 6, 'clf__max_leaf_nodes': 14, 'clf__min_samples_leaf': 5, 'clf__min_samples_split': 10, 'clf__n_estimators': 5, 'kbest__k': 7}\n",
      "0.722 (+/-0.011) for {'clf__max_depth': 6, 'clf__max_leaf_nodes': 14, 'clf__min_samples_leaf': 5, 'clf__min_samples_split': 10, 'clf__n_estimators': 5, 'kbest__k': 8}\n",
      "0.717 (+/-0.014) for {'clf__max_depth': 6, 'clf__max_leaf_nodes': 14, 'clf__min_samples_leaf': 5, 'clf__min_samples_split': 10, 'clf__n_estimators': 5, 'kbest__k': 9}\n",
      "0.720 (+/-0.023) for {'clf__max_depth': 6, 'clf__max_leaf_nodes': 14, 'clf__min_samples_leaf': 5, 'clf__min_samples_split': 10, 'clf__n_estimators': 5, 'kbest__k': 10}\n",
      "0.721 (+/-0.015) for {'clf__max_depth': 6, 'clf__max_leaf_nodes': 14, 'clf__min_samples_leaf': 5, 'clf__min_samples_split': 10, 'clf__n_estimators': 5, 'kbest__k': 11}\n",
      "0.719 (+/-0.010) for {'clf__max_depth': 6, 'clf__max_leaf_nodes': 14, 'clf__min_samples_leaf': 5, 'clf__min_samples_split': 10, 'clf__n_estimators': 5, 'kbest__k': 12}\n",
      "0.716 (+/-0.013) for {'clf__max_depth': 6, 'clf__max_leaf_nodes': 14, 'clf__min_samples_leaf': 5, 'clf__min_samples_split': 10, 'clf__n_estimators': 5, 'kbest__k': 13}\n",
      "0.716 (+/-0.006) for {'clf__max_depth': 6, 'clf__max_leaf_nodes': 14, 'clf__min_samples_leaf': 5, 'clf__min_samples_split': 10, 'clf__n_estimators': 5, 'kbest__k': 14}\n",
      "0.713 (+/-0.022) for {'clf__max_depth': 6, 'clf__max_leaf_nodes': 14, 'clf__min_samples_leaf': 5, 'clf__min_samples_split': 10, 'clf__n_estimators': 5, 'kbest__k': 15}\n",
      "0.723 (+/-0.017) for {'clf__max_depth': 6, 'clf__max_leaf_nodes': 14, 'clf__min_samples_leaf': 5, 'clf__min_samples_split': 10, 'clf__n_estimators': 5, 'kbest__k': 16}\n",
      "0.718 (+/-0.010) for {'clf__max_depth': 6, 'clf__max_leaf_nodes': 14, 'clf__min_samples_leaf': 5, 'clf__min_samples_split': 10, 'clf__n_estimators': 5, 'kbest__k': 17}\n",
      "0.709 (+/-0.009) for {'clf__max_depth': 6, 'clf__max_leaf_nodes': 14, 'clf__min_samples_leaf': 5, 'clf__min_samples_split': 10, 'clf__n_estimators': 5, 'kbest__k': 18}\n",
      "0.719 (+/-0.016) for {'clf__max_depth': 6, 'clf__max_leaf_nodes': 14, 'clf__min_samples_leaf': 5, 'clf__min_samples_split': 10, 'clf__n_estimators': 5, 'kbest__k': 19}\n",
      "0.720 (+/-0.014) for {'clf__max_depth': 6, 'clf__max_leaf_nodes': 14, 'clf__min_samples_leaf': 5, 'clf__min_samples_split': 10, 'clf__n_estimators': 5, 'kbest__k': 20}\n",
      "0.693 (+/-0.021) for {'clf__max_depth': 6, 'clf__max_leaf_nodes': 14, 'clf__min_samples_leaf': 5, 'clf__min_samples_split': 10, 'clf__n_estimators': 40, 'kbest__k': 1}\n",
      "0.693 (+/-0.006) for {'clf__max_depth': 6, 'clf__max_leaf_nodes': 14, 'clf__min_samples_leaf': 5, 'clf__min_samples_split': 10, 'clf__n_estimators': 40, 'kbest__k': 2}\n",
      "0.695 (+/-0.011) for {'clf__max_depth': 6, 'clf__max_leaf_nodes': 14, 'clf__min_samples_leaf': 5, 'clf__min_samples_split': 10, 'clf__n_estimators': 40, 'kbest__k': 3}\n",
      "0.697 (+/-0.012) for {'clf__max_depth': 6, 'clf__max_leaf_nodes': 14, 'clf__min_samples_leaf': 5, 'clf__min_samples_split': 10, 'clf__n_estimators': 40, 'kbest__k': 4}\n",
      "0.702 (+/-0.012) for {'clf__max_depth': 6, 'clf__max_leaf_nodes': 14, 'clf__min_samples_leaf': 5, 'clf__min_samples_split': 10, 'clf__n_estimators': 40, 'kbest__k': 5}\n",
      "0.703 (+/-0.014) for {'clf__max_depth': 6, 'clf__max_leaf_nodes': 14, 'clf__min_samples_leaf': 5, 'clf__min_samples_split': 10, 'clf__n_estimators': 40, 'kbest__k': 6}\n",
      "0.723 (+/-0.007) for {'clf__max_depth': 6, 'clf__max_leaf_nodes': 14, 'clf__min_samples_leaf': 5, 'clf__min_samples_split': 10, 'clf__n_estimators': 40, 'kbest__k': 7}\n",
      "0.724 (+/-0.003) for {'clf__max_depth': 6, 'clf__max_leaf_nodes': 14, 'clf__min_samples_leaf': 5, 'clf__min_samples_split': 10, 'clf__n_estimators': 40, 'kbest__k': 8}\n",
      "0.730 (+/-0.005) for {'clf__max_depth': 6, 'clf__max_leaf_nodes': 14, 'clf__min_samples_leaf': 5, 'clf__min_samples_split': 10, 'clf__n_estimators': 40, 'kbest__k': 9}\n",
      "0.727 (+/-0.005) for {'clf__max_depth': 6, 'clf__max_leaf_nodes': 14, 'clf__min_samples_leaf': 5, 'clf__min_samples_split': 10, 'clf__n_estimators': 40, 'kbest__k': 10}\n",
      "0.728 (+/-0.012) for {'clf__max_depth': 6, 'clf__max_leaf_nodes': 14, 'clf__min_samples_leaf': 5, 'clf__min_samples_split': 10, 'clf__n_estimators': 40, 'kbest__k': 11}\n",
      "0.727 (+/-0.012) for {'clf__max_depth': 6, 'clf__max_leaf_nodes': 14, 'clf__min_samples_leaf': 5, 'clf__min_samples_split': 10, 'clf__n_estimators': 40, 'kbest__k': 12}\n"
     ]
    },
    {
     "name": "stdout",
     "output_type": "stream",
     "text": [
      "0.722 (+/-0.010) for {'clf__max_depth': 6, 'clf__max_leaf_nodes': 14, 'clf__min_samples_leaf': 5, 'clf__min_samples_split': 10, 'clf__n_estimators': 40, 'kbest__k': 13}\n",
      "0.726 (+/-0.006) for {'clf__max_depth': 6, 'clf__max_leaf_nodes': 14, 'clf__min_samples_leaf': 5, 'clf__min_samples_split': 10, 'clf__n_estimators': 40, 'kbest__k': 14}\n",
      "0.723 (+/-0.006) for {'clf__max_depth': 6, 'clf__max_leaf_nodes': 14, 'clf__min_samples_leaf': 5, 'clf__min_samples_split': 10, 'clf__n_estimators': 40, 'kbest__k': 15}\n",
      "0.727 (+/-0.007) for {'clf__max_depth': 6, 'clf__max_leaf_nodes': 14, 'clf__min_samples_leaf': 5, 'clf__min_samples_split': 10, 'clf__n_estimators': 40, 'kbest__k': 16}\n",
      "0.726 (+/-0.006) for {'clf__max_depth': 6, 'clf__max_leaf_nodes': 14, 'clf__min_samples_leaf': 5, 'clf__min_samples_split': 10, 'clf__n_estimators': 40, 'kbest__k': 17}\n",
      "0.729 (+/-0.011) for {'clf__max_depth': 6, 'clf__max_leaf_nodes': 14, 'clf__min_samples_leaf': 5, 'clf__min_samples_split': 10, 'clf__n_estimators': 40, 'kbest__k': 18}\n",
      "0.727 (+/-0.007) for {'clf__max_depth': 6, 'clf__max_leaf_nodes': 14, 'clf__min_samples_leaf': 5, 'clf__min_samples_split': 10, 'clf__n_estimators': 40, 'kbest__k': 19}\n",
      "0.730 (+/-0.007) for {'clf__max_depth': 6, 'clf__max_leaf_nodes': 14, 'clf__min_samples_leaf': 5, 'clf__min_samples_split': 10, 'clf__n_estimators': 40, 'kbest__k': 20}\n",
      "0.690 (+/-0.016) for {'clf__max_depth': 6, 'clf__max_leaf_nodes': 14, 'clf__min_samples_leaf': 5, 'clf__min_samples_split': 10, 'clf__n_estimators': 42, 'kbest__k': 1}\n",
      "0.695 (+/-0.006) for {'clf__max_depth': 6, 'clf__max_leaf_nodes': 14, 'clf__min_samples_leaf': 5, 'clf__min_samples_split': 10, 'clf__n_estimators': 42, 'kbest__k': 2}\n",
      "0.692 (+/-0.011) for {'clf__max_depth': 6, 'clf__max_leaf_nodes': 14, 'clf__min_samples_leaf': 5, 'clf__min_samples_split': 10, 'clf__n_estimators': 42, 'kbest__k': 3}\n",
      "0.699 (+/-0.015) for {'clf__max_depth': 6, 'clf__max_leaf_nodes': 14, 'clf__min_samples_leaf': 5, 'clf__min_samples_split': 10, 'clf__n_estimators': 42, 'kbest__k': 4}\n",
      "0.700 (+/-0.011) for {'clf__max_depth': 6, 'clf__max_leaf_nodes': 14, 'clf__min_samples_leaf': 5, 'clf__min_samples_split': 10, 'clf__n_estimators': 42, 'kbest__k': 5}\n",
      "0.703 (+/-0.013) for {'clf__max_depth': 6, 'clf__max_leaf_nodes': 14, 'clf__min_samples_leaf': 5, 'clf__min_samples_split': 10, 'clf__n_estimators': 42, 'kbest__k': 6}\n",
      "0.722 (+/-0.011) for {'clf__max_depth': 6, 'clf__max_leaf_nodes': 14, 'clf__min_samples_leaf': 5, 'clf__min_samples_split': 10, 'clf__n_estimators': 42, 'kbest__k': 7}\n",
      "0.723 (+/-0.011) for {'clf__max_depth': 6, 'clf__max_leaf_nodes': 14, 'clf__min_samples_leaf': 5, 'clf__min_samples_split': 10, 'clf__n_estimators': 42, 'kbest__k': 8}\n",
      "0.726 (+/-0.008) for {'clf__max_depth': 6, 'clf__max_leaf_nodes': 14, 'clf__min_samples_leaf': 5, 'clf__min_samples_split': 10, 'clf__n_estimators': 42, 'kbest__k': 9}\n",
      "0.728 (+/-0.006) for {'clf__max_depth': 6, 'clf__max_leaf_nodes': 14, 'clf__min_samples_leaf': 5, 'clf__min_samples_split': 10, 'clf__n_estimators': 42, 'kbest__k': 10}\n",
      "0.725 (+/-0.006) for {'clf__max_depth': 6, 'clf__max_leaf_nodes': 14, 'clf__min_samples_leaf': 5, 'clf__min_samples_split': 10, 'clf__n_estimators': 42, 'kbest__k': 11}\n",
      "0.724 (+/-0.010) for {'clf__max_depth': 6, 'clf__max_leaf_nodes': 14, 'clf__min_samples_leaf': 5, 'clf__min_samples_split': 10, 'clf__n_estimators': 42, 'kbest__k': 12}\n",
      "0.725 (+/-0.003) for {'clf__max_depth': 6, 'clf__max_leaf_nodes': 14, 'clf__min_samples_leaf': 5, 'clf__min_samples_split': 10, 'clf__n_estimators': 42, 'kbest__k': 13}\n",
      "0.726 (+/-0.012) for {'clf__max_depth': 6, 'clf__max_leaf_nodes': 14, 'clf__min_samples_leaf': 5, 'clf__min_samples_split': 10, 'clf__n_estimators': 42, 'kbest__k': 14}\n",
      "0.728 (+/-0.012) for {'clf__max_depth': 6, 'clf__max_leaf_nodes': 14, 'clf__min_samples_leaf': 5, 'clf__min_samples_split': 10, 'clf__n_estimators': 42, 'kbest__k': 15}\n",
      "0.726 (+/-0.009) for {'clf__max_depth': 6, 'clf__max_leaf_nodes': 14, 'clf__min_samples_leaf': 5, 'clf__min_samples_split': 10, 'clf__n_estimators': 42, 'kbest__k': 16}\n",
      "0.727 (+/-0.003) for {'clf__max_depth': 6, 'clf__max_leaf_nodes': 14, 'clf__min_samples_leaf': 5, 'clf__min_samples_split': 10, 'clf__n_estimators': 42, 'kbest__k': 17}\n",
      "0.728 (+/-0.008) for {'clf__max_depth': 6, 'clf__max_leaf_nodes': 14, 'clf__min_samples_leaf': 5, 'clf__min_samples_split': 10, 'clf__n_estimators': 42, 'kbest__k': 18}\n",
      "0.728 (+/-0.004) for {'clf__max_depth': 6, 'clf__max_leaf_nodes': 14, 'clf__min_samples_leaf': 5, 'clf__min_samples_split': 10, 'clf__n_estimators': 42, 'kbest__k': 19}\n",
      "0.732 (+/-0.010) for {'clf__max_depth': 6, 'clf__max_leaf_nodes': 14, 'clf__min_samples_leaf': 5, 'clf__min_samples_split': 10, 'clf__n_estimators': 42, 'kbest__k': 20}\n",
      "0.693 (+/-0.021) for {'clf__max_depth': 6, 'clf__max_leaf_nodes': 14, 'clf__min_samples_leaf': 5, 'clf__min_samples_split': 10, 'clf__n_estimators': 100, 'kbest__k': 1}\n",
      "0.694 (+/-0.007) for {'clf__max_depth': 6, 'clf__max_leaf_nodes': 14, 'clf__min_samples_leaf': 5, 'clf__min_samples_split': 10, 'clf__n_estimators': 100, 'kbest__k': 2}\n",
      "0.697 (+/-0.009) for {'clf__max_depth': 6, 'clf__max_leaf_nodes': 14, 'clf__min_samples_leaf': 5, 'clf__min_samples_split': 10, 'clf__n_estimators': 100, 'kbest__k': 3}\n",
      "0.698 (+/-0.011) for {'clf__max_depth': 6, 'clf__max_leaf_nodes': 14, 'clf__min_samples_leaf': 5, 'clf__min_samples_split': 10, 'clf__n_estimators': 100, 'kbest__k': 4}\n",
      "0.701 (+/-0.013) for {'clf__max_depth': 6, 'clf__max_leaf_nodes': 14, 'clf__min_samples_leaf': 5, 'clf__min_samples_split': 10, 'clf__n_estimators': 100, 'kbest__k': 5}\n",
      "0.704 (+/-0.009) for {'clf__max_depth': 6, 'clf__max_leaf_nodes': 14, 'clf__min_samples_leaf': 5, 'clf__min_samples_split': 10, 'clf__n_estimators': 100, 'kbest__k': 6}\n",
      "0.721 (+/-0.007) for {'clf__max_depth': 6, 'clf__max_leaf_nodes': 14, 'clf__min_samples_leaf': 5, 'clf__min_samples_split': 10, 'clf__n_estimators': 100, 'kbest__k': 7}\n",
      "0.721 (+/-0.006) for {'clf__max_depth': 6, 'clf__max_leaf_nodes': 14, 'clf__min_samples_leaf': 5, 'clf__min_samples_split': 10, 'clf__n_estimators': 100, 'kbest__k': 8}\n",
      "0.727 (+/-0.008) for {'clf__max_depth': 6, 'clf__max_leaf_nodes': 14, 'clf__min_samples_leaf': 5, 'clf__min_samples_split': 10, 'clf__n_estimators': 100, 'kbest__k': 9}\n",
      "0.728 (+/-0.009) for {'clf__max_depth': 6, 'clf__max_leaf_nodes': 14, 'clf__min_samples_leaf': 5, 'clf__min_samples_split': 10, 'clf__n_estimators': 100, 'kbest__k': 10}\n",
      "0.726 (+/-0.009) for {'clf__max_depth': 6, 'clf__max_leaf_nodes': 14, 'clf__min_samples_leaf': 5, 'clf__min_samples_split': 10, 'clf__n_estimators': 100, 'kbest__k': 11}\n",
      "0.726 (+/-0.008) for {'clf__max_depth': 6, 'clf__max_leaf_nodes': 14, 'clf__min_samples_leaf': 5, 'clf__min_samples_split': 10, 'clf__n_estimators': 100, 'kbest__k': 12}\n",
      "0.726 (+/-0.003) for {'clf__max_depth': 6, 'clf__max_leaf_nodes': 14, 'clf__min_samples_leaf': 5, 'clf__min_samples_split': 10, 'clf__n_estimators': 100, 'kbest__k': 13}\n",
      "0.726 (+/-0.006) for {'clf__max_depth': 6, 'clf__max_leaf_nodes': 14, 'clf__min_samples_leaf': 5, 'clf__min_samples_split': 10, 'clf__n_estimators': 100, 'kbest__k': 14}\n",
      "0.728 (+/-0.004) for {'clf__max_depth': 6, 'clf__max_leaf_nodes': 14, 'clf__min_samples_leaf': 5, 'clf__min_samples_split': 10, 'clf__n_estimators': 100, 'kbest__k': 15}\n",
      "0.729 (+/-0.005) for {'clf__max_depth': 6, 'clf__max_leaf_nodes': 14, 'clf__min_samples_leaf': 5, 'clf__min_samples_split': 10, 'clf__n_estimators': 100, 'kbest__k': 16}\n",
      "0.726 (+/-0.006) for {'clf__max_depth': 6, 'clf__max_leaf_nodes': 14, 'clf__min_samples_leaf': 5, 'clf__min_samples_split': 10, 'clf__n_estimators': 100, 'kbest__k': 17}\n",
      "0.727 (+/-0.004) for {'clf__max_depth': 6, 'clf__max_leaf_nodes': 14, 'clf__min_samples_leaf': 5, 'clf__min_samples_split': 10, 'clf__n_estimators': 100, 'kbest__k': 18}\n",
      "0.728 (+/-0.006) for {'clf__max_depth': 6, 'clf__max_leaf_nodes': 14, 'clf__min_samples_leaf': 5, 'clf__min_samples_split': 10, 'clf__n_estimators': 100, 'kbest__k': 19}\n",
      "0.734 (+/-0.008) for {'clf__max_depth': 6, 'clf__max_leaf_nodes': 14, 'clf__min_samples_leaf': 5, 'clf__min_samples_split': 10, 'clf__n_estimators': 100, 'kbest__k': 20}\n"
     ]
    },
    {
     "name": "stdout",
     "output_type": "stream",
     "text": [
      "0.690 (+/-0.016) for {'clf__max_depth': 6, 'clf__max_leaf_nodes': 15, 'clf__min_samples_leaf': 3, 'clf__min_samples_split': 5, 'clf__n_estimators': 5, 'kbest__k': 1}\n",
      "0.693 (+/-0.012) for {'clf__max_depth': 6, 'clf__max_leaf_nodes': 15, 'clf__min_samples_leaf': 3, 'clf__min_samples_split': 5, 'clf__n_estimators': 5, 'kbest__k': 2}\n",
      "0.693 (+/-0.010) for {'clf__max_depth': 6, 'clf__max_leaf_nodes': 15, 'clf__min_samples_leaf': 3, 'clf__min_samples_split': 5, 'clf__n_estimators': 5, 'kbest__k': 3}\n",
      "0.689 (+/-0.019) for {'clf__max_depth': 6, 'clf__max_leaf_nodes': 15, 'clf__min_samples_leaf': 3, 'clf__min_samples_split': 5, 'clf__n_estimators': 5, 'kbest__k': 4}\n",
      "0.697 (+/-0.014) for {'clf__max_depth': 6, 'clf__max_leaf_nodes': 15, 'clf__min_samples_leaf': 3, 'clf__min_samples_split': 5, 'clf__n_estimators': 5, 'kbest__k': 5}\n",
      "0.696 (+/-0.009) for {'clf__max_depth': 6, 'clf__max_leaf_nodes': 15, 'clf__min_samples_leaf': 3, 'clf__min_samples_split': 5, 'clf__n_estimators': 5, 'kbest__k': 6}\n",
      "0.713 (+/-0.014) for {'clf__max_depth': 6, 'clf__max_leaf_nodes': 15, 'clf__min_samples_leaf': 3, 'clf__min_samples_split': 5, 'clf__n_estimators': 5, 'kbest__k': 7}\n",
      "0.719 (+/-0.011) for {'clf__max_depth': 6, 'clf__max_leaf_nodes': 15, 'clf__min_samples_leaf': 3, 'clf__min_samples_split': 5, 'clf__n_estimators': 5, 'kbest__k': 8}\n",
      "0.718 (+/-0.014) for {'clf__max_depth': 6, 'clf__max_leaf_nodes': 15, 'clf__min_samples_leaf': 3, 'clf__min_samples_split': 5, 'clf__n_estimators': 5, 'kbest__k': 9}\n",
      "0.718 (+/-0.019) for {'clf__max_depth': 6, 'clf__max_leaf_nodes': 15, 'clf__min_samples_leaf': 3, 'clf__min_samples_split': 5, 'clf__n_estimators': 5, 'kbest__k': 10}\n",
      "0.722 (+/-0.010) for {'clf__max_depth': 6, 'clf__max_leaf_nodes': 15, 'clf__min_samples_leaf': 3, 'clf__min_samples_split': 5, 'clf__n_estimators': 5, 'kbest__k': 11}\n",
      "0.718 (+/-0.023) for {'clf__max_depth': 6, 'clf__max_leaf_nodes': 15, 'clf__min_samples_leaf': 3, 'clf__min_samples_split': 5, 'clf__n_estimators': 5, 'kbest__k': 12}\n",
      "0.718 (+/-0.011) for {'clf__max_depth': 6, 'clf__max_leaf_nodes': 15, 'clf__min_samples_leaf': 3, 'clf__min_samples_split': 5, 'clf__n_estimators': 5, 'kbest__k': 13}\n",
      "0.721 (+/-0.012) for {'clf__max_depth': 6, 'clf__max_leaf_nodes': 15, 'clf__min_samples_leaf': 3, 'clf__min_samples_split': 5, 'clf__n_estimators': 5, 'kbest__k': 14}\n",
      "0.719 (+/-0.015) for {'clf__max_depth': 6, 'clf__max_leaf_nodes': 15, 'clf__min_samples_leaf': 3, 'clf__min_samples_split': 5, 'clf__n_estimators': 5, 'kbest__k': 15}\n",
      "0.718 (+/-0.013) for {'clf__max_depth': 6, 'clf__max_leaf_nodes': 15, 'clf__min_samples_leaf': 3, 'clf__min_samples_split': 5, 'clf__n_estimators': 5, 'kbest__k': 16}\n",
      "0.715 (+/-0.010) for {'clf__max_depth': 6, 'clf__max_leaf_nodes': 15, 'clf__min_samples_leaf': 3, 'clf__min_samples_split': 5, 'clf__n_estimators': 5, 'kbest__k': 17}\n",
      "0.723 (+/-0.017) for {'clf__max_depth': 6, 'clf__max_leaf_nodes': 15, 'clf__min_samples_leaf': 3, 'clf__min_samples_split': 5, 'clf__n_estimators': 5, 'kbest__k': 18}\n",
      "0.723 (+/-0.013) for {'clf__max_depth': 6, 'clf__max_leaf_nodes': 15, 'clf__min_samples_leaf': 3, 'clf__min_samples_split': 5, 'clf__n_estimators': 5, 'kbest__k': 19}\n",
      "0.725 (+/-0.015) for {'clf__max_depth': 6, 'clf__max_leaf_nodes': 15, 'clf__min_samples_leaf': 3, 'clf__min_samples_split': 5, 'clf__n_estimators': 5, 'kbest__k': 20}\n",
      "0.691 (+/-0.019) for {'clf__max_depth': 6, 'clf__max_leaf_nodes': 15, 'clf__min_samples_leaf': 3, 'clf__min_samples_split': 5, 'clf__n_estimators': 40, 'kbest__k': 1}\n",
      "0.695 (+/-0.011) for {'clf__max_depth': 6, 'clf__max_leaf_nodes': 15, 'clf__min_samples_leaf': 3, 'clf__min_samples_split': 5, 'clf__n_estimators': 40, 'kbest__k': 2}\n",
      "0.694 (+/-0.007) for {'clf__max_depth': 6, 'clf__max_leaf_nodes': 15, 'clf__min_samples_leaf': 3, 'clf__min_samples_split': 5, 'clf__n_estimators': 40, 'kbest__k': 3}\n",
      "0.696 (+/-0.013) for {'clf__max_depth': 6, 'clf__max_leaf_nodes': 15, 'clf__min_samples_leaf': 3, 'clf__min_samples_split': 5, 'clf__n_estimators': 40, 'kbest__k': 4}\n",
      "0.701 (+/-0.010) for {'clf__max_depth': 6, 'clf__max_leaf_nodes': 15, 'clf__min_samples_leaf': 3, 'clf__min_samples_split': 5, 'clf__n_estimators': 40, 'kbest__k': 5}\n",
      "0.703 (+/-0.014) for {'clf__max_depth': 6, 'clf__max_leaf_nodes': 15, 'clf__min_samples_leaf': 3, 'clf__min_samples_split': 5, 'clf__n_estimators': 40, 'kbest__k': 6}\n",
      "0.721 (+/-0.012) for {'clf__max_depth': 6, 'clf__max_leaf_nodes': 15, 'clf__min_samples_leaf': 3, 'clf__min_samples_split': 5, 'clf__n_estimators': 40, 'kbest__k': 7}\n",
      "0.725 (+/-0.010) for {'clf__max_depth': 6, 'clf__max_leaf_nodes': 15, 'clf__min_samples_leaf': 3, 'clf__min_samples_split': 5, 'clf__n_estimators': 40, 'kbest__k': 8}\n",
      "0.727 (+/-0.012) for {'clf__max_depth': 6, 'clf__max_leaf_nodes': 15, 'clf__min_samples_leaf': 3, 'clf__min_samples_split': 5, 'clf__n_estimators': 40, 'kbest__k': 9}\n",
      "0.730 (+/-0.008) for {'clf__max_depth': 6, 'clf__max_leaf_nodes': 15, 'clf__min_samples_leaf': 3, 'clf__min_samples_split': 5, 'clf__n_estimators': 40, 'kbest__k': 10}\n",
      "0.728 (+/-0.007) for {'clf__max_depth': 6, 'clf__max_leaf_nodes': 15, 'clf__min_samples_leaf': 3, 'clf__min_samples_split': 5, 'clf__n_estimators': 40, 'kbest__k': 11}\n",
      "0.728 (+/-0.007) for {'clf__max_depth': 6, 'clf__max_leaf_nodes': 15, 'clf__min_samples_leaf': 3, 'clf__min_samples_split': 5, 'clf__n_estimators': 40, 'kbest__k': 12}\n",
      "0.727 (+/-0.007) for {'clf__max_depth': 6, 'clf__max_leaf_nodes': 15, 'clf__min_samples_leaf': 3, 'clf__min_samples_split': 5, 'clf__n_estimators': 40, 'kbest__k': 13}\n",
      "0.728 (+/-0.007) for {'clf__max_depth': 6, 'clf__max_leaf_nodes': 15, 'clf__min_samples_leaf': 3, 'clf__min_samples_split': 5, 'clf__n_estimators': 40, 'kbest__k': 14}\n",
      "0.727 (+/-0.007) for {'clf__max_depth': 6, 'clf__max_leaf_nodes': 15, 'clf__min_samples_leaf': 3, 'clf__min_samples_split': 5, 'clf__n_estimators': 40, 'kbest__k': 15}\n",
      "0.728 (+/-0.008) for {'clf__max_depth': 6, 'clf__max_leaf_nodes': 15, 'clf__min_samples_leaf': 3, 'clf__min_samples_split': 5, 'clf__n_estimators': 40, 'kbest__k': 16}\n",
      "0.728 (+/-0.010) for {'clf__max_depth': 6, 'clf__max_leaf_nodes': 15, 'clf__min_samples_leaf': 3, 'clf__min_samples_split': 5, 'clf__n_estimators': 40, 'kbest__k': 17}\n",
      "0.728 (+/-0.009) for {'clf__max_depth': 6, 'clf__max_leaf_nodes': 15, 'clf__min_samples_leaf': 3, 'clf__min_samples_split': 5, 'clf__n_estimators': 40, 'kbest__k': 18}\n",
      "0.731 (+/-0.006) for {'clf__max_depth': 6, 'clf__max_leaf_nodes': 15, 'clf__min_samples_leaf': 3, 'clf__min_samples_split': 5, 'clf__n_estimators': 40, 'kbest__k': 19}\n",
      "0.734 (+/-0.007) for {'clf__max_depth': 6, 'clf__max_leaf_nodes': 15, 'clf__min_samples_leaf': 3, 'clf__min_samples_split': 5, 'clf__n_estimators': 40, 'kbest__k': 20}\n",
      "0.688 (+/-0.014) for {'clf__max_depth': 6, 'clf__max_leaf_nodes': 15, 'clf__min_samples_leaf': 3, 'clf__min_samples_split': 5, 'clf__n_estimators': 42, 'kbest__k': 1}\n",
      "0.695 (+/-0.008) for {'clf__max_depth': 6, 'clf__max_leaf_nodes': 15, 'clf__min_samples_leaf': 3, 'clf__min_samples_split': 5, 'clf__n_estimators': 42, 'kbest__k': 2}\n",
      "0.695 (+/-0.008) for {'clf__max_depth': 6, 'clf__max_leaf_nodes': 15, 'clf__min_samples_leaf': 3, 'clf__min_samples_split': 5, 'clf__n_estimators': 42, 'kbest__k': 3}\n",
      "0.699 (+/-0.011) for {'clf__max_depth': 6, 'clf__max_leaf_nodes': 15, 'clf__min_samples_leaf': 3, 'clf__min_samples_split': 5, 'clf__n_estimators': 42, 'kbest__k': 4}\n",
      "0.702 (+/-0.015) for {'clf__max_depth': 6, 'clf__max_leaf_nodes': 15, 'clf__min_samples_leaf': 3, 'clf__min_samples_split': 5, 'clf__n_estimators': 42, 'kbest__k': 5}\n",
      "0.702 (+/-0.013) for {'clf__max_depth': 6, 'clf__max_leaf_nodes': 15, 'clf__min_samples_leaf': 3, 'clf__min_samples_split': 5, 'clf__n_estimators': 42, 'kbest__k': 6}\n",
      "0.721 (+/-0.005) for {'clf__max_depth': 6, 'clf__max_leaf_nodes': 15, 'clf__min_samples_leaf': 3, 'clf__min_samples_split': 5, 'clf__n_estimators': 42, 'kbest__k': 7}\n",
      "0.726 (+/-0.008) for {'clf__max_depth': 6, 'clf__max_leaf_nodes': 15, 'clf__min_samples_leaf': 3, 'clf__min_samples_split': 5, 'clf__n_estimators': 42, 'kbest__k': 8}\n",
      "0.729 (+/-0.006) for {'clf__max_depth': 6, 'clf__max_leaf_nodes': 15, 'clf__min_samples_leaf': 3, 'clf__min_samples_split': 5, 'clf__n_estimators': 42, 'kbest__k': 9}\n"
     ]
    },
    {
     "name": "stdout",
     "output_type": "stream",
     "text": [
      "0.729 (+/-0.007) for {'clf__max_depth': 6, 'clf__max_leaf_nodes': 15, 'clf__min_samples_leaf': 3, 'clf__min_samples_split': 5, 'clf__n_estimators': 42, 'kbest__k': 10}\n",
      "0.725 (+/-0.008) for {'clf__max_depth': 6, 'clf__max_leaf_nodes': 15, 'clf__min_samples_leaf': 3, 'clf__min_samples_split': 5, 'clf__n_estimators': 42, 'kbest__k': 11}\n",
      "0.727 (+/-0.004) for {'clf__max_depth': 6, 'clf__max_leaf_nodes': 15, 'clf__min_samples_leaf': 3, 'clf__min_samples_split': 5, 'clf__n_estimators': 42, 'kbest__k': 12}\n",
      "0.727 (+/-0.008) for {'clf__max_depth': 6, 'clf__max_leaf_nodes': 15, 'clf__min_samples_leaf': 3, 'clf__min_samples_split': 5, 'clf__n_estimators': 42, 'kbest__k': 13}\n",
      "0.726 (+/-0.008) for {'clf__max_depth': 6, 'clf__max_leaf_nodes': 15, 'clf__min_samples_leaf': 3, 'clf__min_samples_split': 5, 'clf__n_estimators': 42, 'kbest__k': 14}\n",
      "0.727 (+/-0.014) for {'clf__max_depth': 6, 'clf__max_leaf_nodes': 15, 'clf__min_samples_leaf': 3, 'clf__min_samples_split': 5, 'clf__n_estimators': 42, 'kbest__k': 15}\n",
      "0.728 (+/-0.009) for {'clf__max_depth': 6, 'clf__max_leaf_nodes': 15, 'clf__min_samples_leaf': 3, 'clf__min_samples_split': 5, 'clf__n_estimators': 42, 'kbest__k': 16}\n",
      "0.729 (+/-0.006) for {'clf__max_depth': 6, 'clf__max_leaf_nodes': 15, 'clf__min_samples_leaf': 3, 'clf__min_samples_split': 5, 'clf__n_estimators': 42, 'kbest__k': 17}\n",
      "0.728 (+/-0.004) for {'clf__max_depth': 6, 'clf__max_leaf_nodes': 15, 'clf__min_samples_leaf': 3, 'clf__min_samples_split': 5, 'clf__n_estimators': 42, 'kbest__k': 18}\n",
      "0.729 (+/-0.009) for {'clf__max_depth': 6, 'clf__max_leaf_nodes': 15, 'clf__min_samples_leaf': 3, 'clf__min_samples_split': 5, 'clf__n_estimators': 42, 'kbest__k': 19}\n",
      "0.730 (+/-0.009) for {'clf__max_depth': 6, 'clf__max_leaf_nodes': 15, 'clf__min_samples_leaf': 3, 'clf__min_samples_split': 5, 'clf__n_estimators': 42, 'kbest__k': 20}\n",
      "0.691 (+/-0.019) for {'clf__max_depth': 6, 'clf__max_leaf_nodes': 15, 'clf__min_samples_leaf': 3, 'clf__min_samples_split': 5, 'clf__n_estimators': 100, 'kbest__k': 1}\n",
      "0.697 (+/-0.007) for {'clf__max_depth': 6, 'clf__max_leaf_nodes': 15, 'clf__min_samples_leaf': 3, 'clf__min_samples_split': 5, 'clf__n_estimators': 100, 'kbest__k': 2}\n",
      "0.695 (+/-0.011) for {'clf__max_depth': 6, 'clf__max_leaf_nodes': 15, 'clf__min_samples_leaf': 3, 'clf__min_samples_split': 5, 'clf__n_estimators': 100, 'kbest__k': 3}\n",
      "0.697 (+/-0.011) for {'clf__max_depth': 6, 'clf__max_leaf_nodes': 15, 'clf__min_samples_leaf': 3, 'clf__min_samples_split': 5, 'clf__n_estimators': 100, 'kbest__k': 4}\n",
      "0.702 (+/-0.012) for {'clf__max_depth': 6, 'clf__max_leaf_nodes': 15, 'clf__min_samples_leaf': 3, 'clf__min_samples_split': 5, 'clf__n_estimators': 100, 'kbest__k': 5}\n",
      "0.703 (+/-0.006) for {'clf__max_depth': 6, 'clf__max_leaf_nodes': 15, 'clf__min_samples_leaf': 3, 'clf__min_samples_split': 5, 'clf__n_estimators': 100, 'kbest__k': 6}\n",
      "0.723 (+/-0.009) for {'clf__max_depth': 6, 'clf__max_leaf_nodes': 15, 'clf__min_samples_leaf': 3, 'clf__min_samples_split': 5, 'clf__n_estimators': 100, 'kbest__k': 7}\n",
      "0.722 (+/-0.010) for {'clf__max_depth': 6, 'clf__max_leaf_nodes': 15, 'clf__min_samples_leaf': 3, 'clf__min_samples_split': 5, 'clf__n_estimators': 100, 'kbest__k': 8}\n",
      "0.728 (+/-0.008) for {'clf__max_depth': 6, 'clf__max_leaf_nodes': 15, 'clf__min_samples_leaf': 3, 'clf__min_samples_split': 5, 'clf__n_estimators': 100, 'kbest__k': 9}\n",
      "0.729 (+/-0.009) for {'clf__max_depth': 6, 'clf__max_leaf_nodes': 15, 'clf__min_samples_leaf': 3, 'clf__min_samples_split': 5, 'clf__n_estimators': 100, 'kbest__k': 10}\n",
      "0.729 (+/-0.003) for {'clf__max_depth': 6, 'clf__max_leaf_nodes': 15, 'clf__min_samples_leaf': 3, 'clf__min_samples_split': 5, 'clf__n_estimators': 100, 'kbest__k': 11}\n",
      "0.728 (+/-0.003) for {'clf__max_depth': 6, 'clf__max_leaf_nodes': 15, 'clf__min_samples_leaf': 3, 'clf__min_samples_split': 5, 'clf__n_estimators': 100, 'kbest__k': 12}\n",
      "0.729 (+/-0.015) for {'clf__max_depth': 6, 'clf__max_leaf_nodes': 15, 'clf__min_samples_leaf': 3, 'clf__min_samples_split': 5, 'clf__n_estimators': 100, 'kbest__k': 13}\n",
      "0.727 (+/-0.006) for {'clf__max_depth': 6, 'clf__max_leaf_nodes': 15, 'clf__min_samples_leaf': 3, 'clf__min_samples_split': 5, 'clf__n_estimators': 100, 'kbest__k': 14}\n",
      "0.725 (+/-0.004) for {'clf__max_depth': 6, 'clf__max_leaf_nodes': 15, 'clf__min_samples_leaf': 3, 'clf__min_samples_split': 5, 'clf__n_estimators': 100, 'kbest__k': 15}\n",
      "0.728 (+/-0.009) for {'clf__max_depth': 6, 'clf__max_leaf_nodes': 15, 'clf__min_samples_leaf': 3, 'clf__min_samples_split': 5, 'clf__n_estimators': 100, 'kbest__k': 16}\n",
      "0.730 (+/-0.007) for {'clf__max_depth': 6, 'clf__max_leaf_nodes': 15, 'clf__min_samples_leaf': 3, 'clf__min_samples_split': 5, 'clf__n_estimators': 100, 'kbest__k': 17}\n",
      "0.730 (+/-0.003) for {'clf__max_depth': 6, 'clf__max_leaf_nodes': 15, 'clf__min_samples_leaf': 3, 'clf__min_samples_split': 5, 'clf__n_estimators': 100, 'kbest__k': 18}\n",
      "0.728 (+/-0.007) for {'clf__max_depth': 6, 'clf__max_leaf_nodes': 15, 'clf__min_samples_leaf': 3, 'clf__min_samples_split': 5, 'clf__n_estimators': 100, 'kbest__k': 19}\n",
      "0.730 (+/-0.008) for {'clf__max_depth': 6, 'clf__max_leaf_nodes': 15, 'clf__min_samples_leaf': 3, 'clf__min_samples_split': 5, 'clf__n_estimators': 100, 'kbest__k': 20}\n",
      "0.691 (+/-0.019) for {'clf__max_depth': 6, 'clf__max_leaf_nodes': 15, 'clf__min_samples_leaf': 3, 'clf__min_samples_split': 10, 'clf__n_estimators': 5, 'kbest__k': 1}\n",
      "0.693 (+/-0.009) for {'clf__max_depth': 6, 'clf__max_leaf_nodes': 15, 'clf__min_samples_leaf': 3, 'clf__min_samples_split': 10, 'clf__n_estimators': 5, 'kbest__k': 2}\n",
      "0.690 (+/-0.005) for {'clf__max_depth': 6, 'clf__max_leaf_nodes': 15, 'clf__min_samples_leaf': 3, 'clf__min_samples_split': 10, 'clf__n_estimators': 5, 'kbest__k': 3}\n",
      "0.693 (+/-0.015) for {'clf__max_depth': 6, 'clf__max_leaf_nodes': 15, 'clf__min_samples_leaf': 3, 'clf__min_samples_split': 10, 'clf__n_estimators': 5, 'kbest__k': 4}\n",
      "0.693 (+/-0.010) for {'clf__max_depth': 6, 'clf__max_leaf_nodes': 15, 'clf__min_samples_leaf': 3, 'clf__min_samples_split': 10, 'clf__n_estimators': 5, 'kbest__k': 5}\n",
      "0.699 (+/-0.014) for {'clf__max_depth': 6, 'clf__max_leaf_nodes': 15, 'clf__min_samples_leaf': 3, 'clf__min_samples_split': 10, 'clf__n_estimators': 5, 'kbest__k': 6}\n",
      "0.713 (+/-0.013) for {'clf__max_depth': 6, 'clf__max_leaf_nodes': 15, 'clf__min_samples_leaf': 3, 'clf__min_samples_split': 10, 'clf__n_estimators': 5, 'kbest__k': 7}\n",
      "0.711 (+/-0.015) for {'clf__max_depth': 6, 'clf__max_leaf_nodes': 15, 'clf__min_samples_leaf': 3, 'clf__min_samples_split': 10, 'clf__n_estimators': 5, 'kbest__k': 8}\n",
      "0.716 (+/-0.011) for {'clf__max_depth': 6, 'clf__max_leaf_nodes': 15, 'clf__min_samples_leaf': 3, 'clf__min_samples_split': 10, 'clf__n_estimators': 5, 'kbest__k': 9}\n",
      "0.717 (+/-0.012) for {'clf__max_depth': 6, 'clf__max_leaf_nodes': 15, 'clf__min_samples_leaf': 3, 'clf__min_samples_split': 10, 'clf__n_estimators': 5, 'kbest__k': 10}\n",
      "0.716 (+/-0.011) for {'clf__max_depth': 6, 'clf__max_leaf_nodes': 15, 'clf__min_samples_leaf': 3, 'clf__min_samples_split': 10, 'clf__n_estimators': 5, 'kbest__k': 11}\n",
      "0.721 (+/-0.007) for {'clf__max_depth': 6, 'clf__max_leaf_nodes': 15, 'clf__min_samples_leaf': 3, 'clf__min_samples_split': 10, 'clf__n_estimators': 5, 'kbest__k': 12}\n",
      "0.718 (+/-0.010) for {'clf__max_depth': 6, 'clf__max_leaf_nodes': 15, 'clf__min_samples_leaf': 3, 'clf__min_samples_split': 10, 'clf__n_estimators': 5, 'kbest__k': 13}\n",
      "0.720 (+/-0.016) for {'clf__max_depth': 6, 'clf__max_leaf_nodes': 15, 'clf__min_samples_leaf': 3, 'clf__min_samples_split': 10, 'clf__n_estimators': 5, 'kbest__k': 14}\n",
      "0.717 (+/-0.014) for {'clf__max_depth': 6, 'clf__max_leaf_nodes': 15, 'clf__min_samples_leaf': 3, 'clf__min_samples_split': 10, 'clf__n_estimators': 5, 'kbest__k': 15}\n",
      "0.715 (+/-0.007) for {'clf__max_depth': 6, 'clf__max_leaf_nodes': 15, 'clf__min_samples_leaf': 3, 'clf__min_samples_split': 10, 'clf__n_estimators': 5, 'kbest__k': 16}\n",
      "0.716 (+/-0.005) for {'clf__max_depth': 6, 'clf__max_leaf_nodes': 15, 'clf__min_samples_leaf': 3, 'clf__min_samples_split': 10, 'clf__n_estimators': 5, 'kbest__k': 17}\n"
     ]
    },
    {
     "name": "stdout",
     "output_type": "stream",
     "text": [
      "0.720 (+/-0.008) for {'clf__max_depth': 6, 'clf__max_leaf_nodes': 15, 'clf__min_samples_leaf': 3, 'clf__min_samples_split': 10, 'clf__n_estimators': 5, 'kbest__k': 18}\n",
      "0.724 (+/-0.012) for {'clf__max_depth': 6, 'clf__max_leaf_nodes': 15, 'clf__min_samples_leaf': 3, 'clf__min_samples_split': 10, 'clf__n_estimators': 5, 'kbest__k': 19}\n",
      "0.716 (+/-0.019) for {'clf__max_depth': 6, 'clf__max_leaf_nodes': 15, 'clf__min_samples_leaf': 3, 'clf__min_samples_split': 10, 'clf__n_estimators': 5, 'kbest__k': 20}\n",
      "0.691 (+/-0.019) for {'clf__max_depth': 6, 'clf__max_leaf_nodes': 15, 'clf__min_samples_leaf': 3, 'clf__min_samples_split': 10, 'clf__n_estimators': 40, 'kbest__k': 1}\n",
      "0.694 (+/-0.008) for {'clf__max_depth': 6, 'clf__max_leaf_nodes': 15, 'clf__min_samples_leaf': 3, 'clf__min_samples_split': 10, 'clf__n_estimators': 40, 'kbest__k': 2}\n",
      "0.695 (+/-0.007) for {'clf__max_depth': 6, 'clf__max_leaf_nodes': 15, 'clf__min_samples_leaf': 3, 'clf__min_samples_split': 10, 'clf__n_estimators': 40, 'kbest__k': 3}\n",
      "0.699 (+/-0.010) for {'clf__max_depth': 6, 'clf__max_leaf_nodes': 15, 'clf__min_samples_leaf': 3, 'clf__min_samples_split': 10, 'clf__n_estimators': 40, 'kbest__k': 4}\n",
      "0.703 (+/-0.012) for {'clf__max_depth': 6, 'clf__max_leaf_nodes': 15, 'clf__min_samples_leaf': 3, 'clf__min_samples_split': 10, 'clf__n_estimators': 40, 'kbest__k': 5}\n",
      "0.703 (+/-0.015) for {'clf__max_depth': 6, 'clf__max_leaf_nodes': 15, 'clf__min_samples_leaf': 3, 'clf__min_samples_split': 10, 'clf__n_estimators': 40, 'kbest__k': 6}\n",
      "0.720 (+/-0.004) for {'clf__max_depth': 6, 'clf__max_leaf_nodes': 15, 'clf__min_samples_leaf': 3, 'clf__min_samples_split': 10, 'clf__n_estimators': 40, 'kbest__k': 7}\n",
      "0.723 (+/-0.010) for {'clf__max_depth': 6, 'clf__max_leaf_nodes': 15, 'clf__min_samples_leaf': 3, 'clf__min_samples_split': 10, 'clf__n_estimators': 40, 'kbest__k': 8}\n",
      "0.727 (+/-0.007) for {'clf__max_depth': 6, 'clf__max_leaf_nodes': 15, 'clf__min_samples_leaf': 3, 'clf__min_samples_split': 10, 'clf__n_estimators': 40, 'kbest__k': 9}\n",
      "0.728 (+/-0.005) for {'clf__max_depth': 6, 'clf__max_leaf_nodes': 15, 'clf__min_samples_leaf': 3, 'clf__min_samples_split': 10, 'clf__n_estimators': 40, 'kbest__k': 10}\n",
      "0.729 (+/-0.011) for {'clf__max_depth': 6, 'clf__max_leaf_nodes': 15, 'clf__min_samples_leaf': 3, 'clf__min_samples_split': 10, 'clf__n_estimators': 40, 'kbest__k': 11}\n",
      "0.729 (+/-0.011) for {'clf__max_depth': 6, 'clf__max_leaf_nodes': 15, 'clf__min_samples_leaf': 3, 'clf__min_samples_split': 10, 'clf__n_estimators': 40, 'kbest__k': 12}\n",
      "0.726 (+/-0.011) for {'clf__max_depth': 6, 'clf__max_leaf_nodes': 15, 'clf__min_samples_leaf': 3, 'clf__min_samples_split': 10, 'clf__n_estimators': 40, 'kbest__k': 13}\n",
      "0.727 (+/-0.013) for {'clf__max_depth': 6, 'clf__max_leaf_nodes': 15, 'clf__min_samples_leaf': 3, 'clf__min_samples_split': 10, 'clf__n_estimators': 40, 'kbest__k': 14}\n",
      "0.728 (+/-0.010) for {'clf__max_depth': 6, 'clf__max_leaf_nodes': 15, 'clf__min_samples_leaf': 3, 'clf__min_samples_split': 10, 'clf__n_estimators': 40, 'kbest__k': 15}\n",
      "0.731 (+/-0.012) for {'clf__max_depth': 6, 'clf__max_leaf_nodes': 15, 'clf__min_samples_leaf': 3, 'clf__min_samples_split': 10, 'clf__n_estimators': 40, 'kbest__k': 16}\n",
      "0.727 (+/-0.007) for {'clf__max_depth': 6, 'clf__max_leaf_nodes': 15, 'clf__min_samples_leaf': 3, 'clf__min_samples_split': 10, 'clf__n_estimators': 40, 'kbest__k': 17}\n",
      "0.728 (+/-0.010) for {'clf__max_depth': 6, 'clf__max_leaf_nodes': 15, 'clf__min_samples_leaf': 3, 'clf__min_samples_split': 10, 'clf__n_estimators': 40, 'kbest__k': 18}\n",
      "0.728 (+/-0.009) for {'clf__max_depth': 6, 'clf__max_leaf_nodes': 15, 'clf__min_samples_leaf': 3, 'clf__min_samples_split': 10, 'clf__n_estimators': 40, 'kbest__k': 19}\n",
      "0.731 (+/-0.008) for {'clf__max_depth': 6, 'clf__max_leaf_nodes': 15, 'clf__min_samples_leaf': 3, 'clf__min_samples_split': 10, 'clf__n_estimators': 40, 'kbest__k': 20}\n",
      "0.691 (+/-0.019) for {'clf__max_depth': 6, 'clf__max_leaf_nodes': 15, 'clf__min_samples_leaf': 3, 'clf__min_samples_split': 10, 'clf__n_estimators': 42, 'kbest__k': 1}\n",
      "0.694 (+/-0.007) for {'clf__max_depth': 6, 'clf__max_leaf_nodes': 15, 'clf__min_samples_leaf': 3, 'clf__min_samples_split': 10, 'clf__n_estimators': 42, 'kbest__k': 2}\n",
      "0.697 (+/-0.009) for {'clf__max_depth': 6, 'clf__max_leaf_nodes': 15, 'clf__min_samples_leaf': 3, 'clf__min_samples_split': 10, 'clf__n_estimators': 42, 'kbest__k': 3}\n",
      "0.698 (+/-0.011) for {'clf__max_depth': 6, 'clf__max_leaf_nodes': 15, 'clf__min_samples_leaf': 3, 'clf__min_samples_split': 10, 'clf__n_estimators': 42, 'kbest__k': 4}\n",
      "0.700 (+/-0.013) for {'clf__max_depth': 6, 'clf__max_leaf_nodes': 15, 'clf__min_samples_leaf': 3, 'clf__min_samples_split': 10, 'clf__n_estimators': 42, 'kbest__k': 5}\n",
      "0.704 (+/-0.015) for {'clf__max_depth': 6, 'clf__max_leaf_nodes': 15, 'clf__min_samples_leaf': 3, 'clf__min_samples_split': 10, 'clf__n_estimators': 42, 'kbest__k': 6}\n",
      "0.721 (+/-0.005) for {'clf__max_depth': 6, 'clf__max_leaf_nodes': 15, 'clf__min_samples_leaf': 3, 'clf__min_samples_split': 10, 'clf__n_estimators': 42, 'kbest__k': 7}\n",
      "0.725 (+/-0.005) for {'clf__max_depth': 6, 'clf__max_leaf_nodes': 15, 'clf__min_samples_leaf': 3, 'clf__min_samples_split': 10, 'clf__n_estimators': 42, 'kbest__k': 8}\n",
      "0.726 (+/-0.009) for {'clf__max_depth': 6, 'clf__max_leaf_nodes': 15, 'clf__min_samples_leaf': 3, 'clf__min_samples_split': 10, 'clf__n_estimators': 42, 'kbest__k': 9}\n",
      "0.729 (+/-0.011) for {'clf__max_depth': 6, 'clf__max_leaf_nodes': 15, 'clf__min_samples_leaf': 3, 'clf__min_samples_split': 10, 'clf__n_estimators': 42, 'kbest__k': 10}\n",
      "0.725 (+/-0.007) for {'clf__max_depth': 6, 'clf__max_leaf_nodes': 15, 'clf__min_samples_leaf': 3, 'clf__min_samples_split': 10, 'clf__n_estimators': 42, 'kbest__k': 11}\n",
      "0.727 (+/-0.011) for {'clf__max_depth': 6, 'clf__max_leaf_nodes': 15, 'clf__min_samples_leaf': 3, 'clf__min_samples_split': 10, 'clf__n_estimators': 42, 'kbest__k': 12}\n",
      "0.728 (+/-0.005) for {'clf__max_depth': 6, 'clf__max_leaf_nodes': 15, 'clf__min_samples_leaf': 3, 'clf__min_samples_split': 10, 'clf__n_estimators': 42, 'kbest__k': 13}\n",
      "0.726 (+/-0.013) for {'clf__max_depth': 6, 'clf__max_leaf_nodes': 15, 'clf__min_samples_leaf': 3, 'clf__min_samples_split': 10, 'clf__n_estimators': 42, 'kbest__k': 14}\n",
      "0.728 (+/-0.007) for {'clf__max_depth': 6, 'clf__max_leaf_nodes': 15, 'clf__min_samples_leaf': 3, 'clf__min_samples_split': 10, 'clf__n_estimators': 42, 'kbest__k': 15}\n",
      "0.728 (+/-0.005) for {'clf__max_depth': 6, 'clf__max_leaf_nodes': 15, 'clf__min_samples_leaf': 3, 'clf__min_samples_split': 10, 'clf__n_estimators': 42, 'kbest__k': 16}\n",
      "0.728 (+/-0.008) for {'clf__max_depth': 6, 'clf__max_leaf_nodes': 15, 'clf__min_samples_leaf': 3, 'clf__min_samples_split': 10, 'clf__n_estimators': 42, 'kbest__k': 17}\n",
      "0.729 (+/-0.005) for {'clf__max_depth': 6, 'clf__max_leaf_nodes': 15, 'clf__min_samples_leaf': 3, 'clf__min_samples_split': 10, 'clf__n_estimators': 42, 'kbest__k': 18}\n",
      "0.728 (+/-0.014) for {'clf__max_depth': 6, 'clf__max_leaf_nodes': 15, 'clf__min_samples_leaf': 3, 'clf__min_samples_split': 10, 'clf__n_estimators': 42, 'kbest__k': 19}\n",
      "0.732 (+/-0.007) for {'clf__max_depth': 6, 'clf__max_leaf_nodes': 15, 'clf__min_samples_leaf': 3, 'clf__min_samples_split': 10, 'clf__n_estimators': 42, 'kbest__k': 20}\n",
      "0.691 (+/-0.019) for {'clf__max_depth': 6, 'clf__max_leaf_nodes': 15, 'clf__min_samples_leaf': 3, 'clf__min_samples_split': 10, 'clf__n_estimators': 100, 'kbest__k': 1}\n",
      "0.695 (+/-0.008) for {'clf__max_depth': 6, 'clf__max_leaf_nodes': 15, 'clf__min_samples_leaf': 3, 'clf__min_samples_split': 10, 'clf__n_estimators': 100, 'kbest__k': 2}\n",
      "0.693 (+/-0.012) for {'clf__max_depth': 6, 'clf__max_leaf_nodes': 15, 'clf__min_samples_leaf': 3, 'clf__min_samples_split': 10, 'clf__n_estimators': 100, 'kbest__k': 3}\n",
      "0.696 (+/-0.012) for {'clf__max_depth': 6, 'clf__max_leaf_nodes': 15, 'clf__min_samples_leaf': 3, 'clf__min_samples_split': 10, 'clf__n_estimators': 100, 'kbest__k': 4}\n",
      "0.702 (+/-0.018) for {'clf__max_depth': 6, 'clf__max_leaf_nodes': 15, 'clf__min_samples_leaf': 3, 'clf__min_samples_split': 10, 'clf__n_estimators': 100, 'kbest__k': 5}\n"
     ]
    },
    {
     "name": "stdout",
     "output_type": "stream",
     "text": [
      "0.705 (+/-0.009) for {'clf__max_depth': 6, 'clf__max_leaf_nodes': 15, 'clf__min_samples_leaf': 3, 'clf__min_samples_split': 10, 'clf__n_estimators': 100, 'kbest__k': 6}\n",
      "0.726 (+/-0.006) for {'clf__max_depth': 6, 'clf__max_leaf_nodes': 15, 'clf__min_samples_leaf': 3, 'clf__min_samples_split': 10, 'clf__n_estimators': 100, 'kbest__k': 7}\n",
      "0.723 (+/-0.006) for {'clf__max_depth': 6, 'clf__max_leaf_nodes': 15, 'clf__min_samples_leaf': 3, 'clf__min_samples_split': 10, 'clf__n_estimators': 100, 'kbest__k': 8}\n",
      "0.727 (+/-0.008) for {'clf__max_depth': 6, 'clf__max_leaf_nodes': 15, 'clf__min_samples_leaf': 3, 'clf__min_samples_split': 10, 'clf__n_estimators': 100, 'kbest__k': 9}\n",
      "0.729 (+/-0.009) for {'clf__max_depth': 6, 'clf__max_leaf_nodes': 15, 'clf__min_samples_leaf': 3, 'clf__min_samples_split': 10, 'clf__n_estimators': 100, 'kbest__k': 10}\n",
      "0.730 (+/-0.008) for {'clf__max_depth': 6, 'clf__max_leaf_nodes': 15, 'clf__min_samples_leaf': 3, 'clf__min_samples_split': 10, 'clf__n_estimators': 100, 'kbest__k': 11}\n",
      "0.729 (+/-0.008) for {'clf__max_depth': 6, 'clf__max_leaf_nodes': 15, 'clf__min_samples_leaf': 3, 'clf__min_samples_split': 10, 'clf__n_estimators': 100, 'kbest__k': 12}\n",
      "0.727 (+/-0.007) for {'clf__max_depth': 6, 'clf__max_leaf_nodes': 15, 'clf__min_samples_leaf': 3, 'clf__min_samples_split': 10, 'clf__n_estimators': 100, 'kbest__k': 13}\n",
      "0.728 (+/-0.008) for {'clf__max_depth': 6, 'clf__max_leaf_nodes': 15, 'clf__min_samples_leaf': 3, 'clf__min_samples_split': 10, 'clf__n_estimators': 100, 'kbest__k': 14}\n",
      "0.725 (+/-0.006) for {'clf__max_depth': 6, 'clf__max_leaf_nodes': 15, 'clf__min_samples_leaf': 3, 'clf__min_samples_split': 10, 'clf__n_estimators': 100, 'kbest__k': 15}\n",
      "0.730 (+/-0.003) for {'clf__max_depth': 6, 'clf__max_leaf_nodes': 15, 'clf__min_samples_leaf': 3, 'clf__min_samples_split': 10, 'clf__n_estimators': 100, 'kbest__k': 16}\n",
      "0.730 (+/-0.006) for {'clf__max_depth': 6, 'clf__max_leaf_nodes': 15, 'clf__min_samples_leaf': 3, 'clf__min_samples_split': 10, 'clf__n_estimators': 100, 'kbest__k': 17}\n",
      "0.730 (+/-0.008) for {'clf__max_depth': 6, 'clf__max_leaf_nodes': 15, 'clf__min_samples_leaf': 3, 'clf__min_samples_split': 10, 'clf__n_estimators': 100, 'kbest__k': 18}\n",
      "0.730 (+/-0.008) for {'clf__max_depth': 6, 'clf__max_leaf_nodes': 15, 'clf__min_samples_leaf': 3, 'clf__min_samples_split': 10, 'clf__n_estimators': 100, 'kbest__k': 19}\n",
      "0.732 (+/-0.007) for {'clf__max_depth': 6, 'clf__max_leaf_nodes': 15, 'clf__min_samples_leaf': 3, 'clf__min_samples_split': 10, 'clf__n_estimators': 100, 'kbest__k': 20}\n",
      "0.693 (+/-0.021) for {'clf__max_depth': 6, 'clf__max_leaf_nodes': 15, 'clf__min_samples_leaf': 5, 'clf__min_samples_split': 5, 'clf__n_estimators': 5, 'kbest__k': 1}\n",
      "0.691 (+/-0.018) for {'clf__max_depth': 6, 'clf__max_leaf_nodes': 15, 'clf__min_samples_leaf': 5, 'clf__min_samples_split': 5, 'clf__n_estimators': 5, 'kbest__k': 2}\n",
      "0.693 (+/-0.010) for {'clf__max_depth': 6, 'clf__max_leaf_nodes': 15, 'clf__min_samples_leaf': 5, 'clf__min_samples_split': 5, 'clf__n_estimators': 5, 'kbest__k': 3}\n",
      "0.692 (+/-0.013) for {'clf__max_depth': 6, 'clf__max_leaf_nodes': 15, 'clf__min_samples_leaf': 5, 'clf__min_samples_split': 5, 'clf__n_estimators': 5, 'kbest__k': 4}\n",
      "0.698 (+/-0.010) for {'clf__max_depth': 6, 'clf__max_leaf_nodes': 15, 'clf__min_samples_leaf': 5, 'clf__min_samples_split': 5, 'clf__n_estimators': 5, 'kbest__k': 5}\n",
      "0.701 (+/-0.009) for {'clf__max_depth': 6, 'clf__max_leaf_nodes': 15, 'clf__min_samples_leaf': 5, 'clf__min_samples_split': 5, 'clf__n_estimators': 5, 'kbest__k': 6}\n",
      "0.710 (+/-0.014) for {'clf__max_depth': 6, 'clf__max_leaf_nodes': 15, 'clf__min_samples_leaf': 5, 'clf__min_samples_split': 5, 'clf__n_estimators': 5, 'kbest__k': 7}\n",
      "0.716 (+/-0.010) for {'clf__max_depth': 6, 'clf__max_leaf_nodes': 15, 'clf__min_samples_leaf': 5, 'clf__min_samples_split': 5, 'clf__n_estimators': 5, 'kbest__k': 8}\n",
      "0.721 (+/-0.009) for {'clf__max_depth': 6, 'clf__max_leaf_nodes': 15, 'clf__min_samples_leaf': 5, 'clf__min_samples_split': 5, 'clf__n_estimators': 5, 'kbest__k': 9}\n",
      "0.718 (+/-0.007) for {'clf__max_depth': 6, 'clf__max_leaf_nodes': 15, 'clf__min_samples_leaf': 5, 'clf__min_samples_split': 5, 'clf__n_estimators': 5, 'kbest__k': 10}\n",
      "0.724 (+/-0.010) for {'clf__max_depth': 6, 'clf__max_leaf_nodes': 15, 'clf__min_samples_leaf': 5, 'clf__min_samples_split': 5, 'clf__n_estimators': 5, 'kbest__k': 11}\n",
      "0.718 (+/-0.007) for {'clf__max_depth': 6, 'clf__max_leaf_nodes': 15, 'clf__min_samples_leaf': 5, 'clf__min_samples_split': 5, 'clf__n_estimators': 5, 'kbest__k': 12}\n",
      "0.721 (+/-0.005) for {'clf__max_depth': 6, 'clf__max_leaf_nodes': 15, 'clf__min_samples_leaf': 5, 'clf__min_samples_split': 5, 'clf__n_estimators': 5, 'kbest__k': 13}\n",
      "0.717 (+/-0.011) for {'clf__max_depth': 6, 'clf__max_leaf_nodes': 15, 'clf__min_samples_leaf': 5, 'clf__min_samples_split': 5, 'clf__n_estimators': 5, 'kbest__k': 14}\n",
      "0.716 (+/-0.011) for {'clf__max_depth': 6, 'clf__max_leaf_nodes': 15, 'clf__min_samples_leaf': 5, 'clf__min_samples_split': 5, 'clf__n_estimators': 5, 'kbest__k': 15}\n",
      "0.717 (+/-0.009) for {'clf__max_depth': 6, 'clf__max_leaf_nodes': 15, 'clf__min_samples_leaf': 5, 'clf__min_samples_split': 5, 'clf__n_estimators': 5, 'kbest__k': 16}\n",
      "0.722 (+/-0.020) for {'clf__max_depth': 6, 'clf__max_leaf_nodes': 15, 'clf__min_samples_leaf': 5, 'clf__min_samples_split': 5, 'clf__n_estimators': 5, 'kbest__k': 17}\n",
      "0.715 (+/-0.011) for {'clf__max_depth': 6, 'clf__max_leaf_nodes': 15, 'clf__min_samples_leaf': 5, 'clf__min_samples_split': 5, 'clf__n_estimators': 5, 'kbest__k': 18}\n",
      "0.720 (+/-0.013) for {'clf__max_depth': 6, 'clf__max_leaf_nodes': 15, 'clf__min_samples_leaf': 5, 'clf__min_samples_split': 5, 'clf__n_estimators': 5, 'kbest__k': 19}\n",
      "0.726 (+/-0.013) for {'clf__max_depth': 6, 'clf__max_leaf_nodes': 15, 'clf__min_samples_leaf': 5, 'clf__min_samples_split': 5, 'clf__n_estimators': 5, 'kbest__k': 20}\n",
      "0.691 (+/-0.019) for {'clf__max_depth': 6, 'clf__max_leaf_nodes': 15, 'clf__min_samples_leaf': 5, 'clf__min_samples_split': 5, 'clf__n_estimators': 40, 'kbest__k': 1}\n",
      "0.695 (+/-0.005) for {'clf__max_depth': 6, 'clf__max_leaf_nodes': 15, 'clf__min_samples_leaf': 5, 'clf__min_samples_split': 5, 'clf__n_estimators': 40, 'kbest__k': 2}\n",
      "0.693 (+/-0.006) for {'clf__max_depth': 6, 'clf__max_leaf_nodes': 15, 'clf__min_samples_leaf': 5, 'clf__min_samples_split': 5, 'clf__n_estimators': 40, 'kbest__k': 3}\n",
      "0.698 (+/-0.010) for {'clf__max_depth': 6, 'clf__max_leaf_nodes': 15, 'clf__min_samples_leaf': 5, 'clf__min_samples_split': 5, 'clf__n_estimators': 40, 'kbest__k': 4}\n",
      "0.700 (+/-0.014) for {'clf__max_depth': 6, 'clf__max_leaf_nodes': 15, 'clf__min_samples_leaf': 5, 'clf__min_samples_split': 5, 'clf__n_estimators': 40, 'kbest__k': 5}\n",
      "0.702 (+/-0.009) for {'clf__max_depth': 6, 'clf__max_leaf_nodes': 15, 'clf__min_samples_leaf': 5, 'clf__min_samples_split': 5, 'clf__n_estimators': 40, 'kbest__k': 6}\n",
      "0.723 (+/-0.004) for {'clf__max_depth': 6, 'clf__max_leaf_nodes': 15, 'clf__min_samples_leaf': 5, 'clf__min_samples_split': 5, 'clf__n_estimators': 40, 'kbest__k': 7}\n",
      "0.721 (+/-0.007) for {'clf__max_depth': 6, 'clf__max_leaf_nodes': 15, 'clf__min_samples_leaf': 5, 'clf__min_samples_split': 5, 'clf__n_estimators': 40, 'kbest__k': 8}\n",
      "0.725 (+/-0.012) for {'clf__max_depth': 6, 'clf__max_leaf_nodes': 15, 'clf__min_samples_leaf': 5, 'clf__min_samples_split': 5, 'clf__n_estimators': 40, 'kbest__k': 9}\n",
      "0.726 (+/-0.007) for {'clf__max_depth': 6, 'clf__max_leaf_nodes': 15, 'clf__min_samples_leaf': 5, 'clf__min_samples_split': 5, 'clf__n_estimators': 40, 'kbest__k': 10}\n",
      "0.726 (+/-0.007) for {'clf__max_depth': 6, 'clf__max_leaf_nodes': 15, 'clf__min_samples_leaf': 5, 'clf__min_samples_split': 5, 'clf__n_estimators': 40, 'kbest__k': 11}\n",
      "0.728 (+/-0.012) for {'clf__max_depth': 6, 'clf__max_leaf_nodes': 15, 'clf__min_samples_leaf': 5, 'clf__min_samples_split': 5, 'clf__n_estimators': 40, 'kbest__k': 12}\n",
      "0.726 (+/-0.006) for {'clf__max_depth': 6, 'clf__max_leaf_nodes': 15, 'clf__min_samples_leaf': 5, 'clf__min_samples_split': 5, 'clf__n_estimators': 40, 'kbest__k': 13}\n"
     ]
    },
    {
     "name": "stdout",
     "output_type": "stream",
     "text": [
      "0.726 (+/-0.005) for {'clf__max_depth': 6, 'clf__max_leaf_nodes': 15, 'clf__min_samples_leaf': 5, 'clf__min_samples_split': 5, 'clf__n_estimators': 40, 'kbest__k': 14}\n",
      "0.727 (+/-0.008) for {'clf__max_depth': 6, 'clf__max_leaf_nodes': 15, 'clf__min_samples_leaf': 5, 'clf__min_samples_split': 5, 'clf__n_estimators': 40, 'kbest__k': 15}\n",
      "0.730 (+/-0.007) for {'clf__max_depth': 6, 'clf__max_leaf_nodes': 15, 'clf__min_samples_leaf': 5, 'clf__min_samples_split': 5, 'clf__n_estimators': 40, 'kbest__k': 16}\n",
      "0.727 (+/-0.008) for {'clf__max_depth': 6, 'clf__max_leaf_nodes': 15, 'clf__min_samples_leaf': 5, 'clf__min_samples_split': 5, 'clf__n_estimators': 40, 'kbest__k': 17}\n",
      "0.731 (+/-0.008) for {'clf__max_depth': 6, 'clf__max_leaf_nodes': 15, 'clf__min_samples_leaf': 5, 'clf__min_samples_split': 5, 'clf__n_estimators': 40, 'kbest__k': 18}\n",
      "0.732 (+/-0.008) for {'clf__max_depth': 6, 'clf__max_leaf_nodes': 15, 'clf__min_samples_leaf': 5, 'clf__min_samples_split': 5, 'clf__n_estimators': 40, 'kbest__k': 19}\n",
      "0.731 (+/-0.009) for {'clf__max_depth': 6, 'clf__max_leaf_nodes': 15, 'clf__min_samples_leaf': 5, 'clf__min_samples_split': 5, 'clf__n_estimators': 40, 'kbest__k': 20}\n",
      "0.692 (+/-0.021) for {'clf__max_depth': 6, 'clf__max_leaf_nodes': 15, 'clf__min_samples_leaf': 5, 'clf__min_samples_split': 5, 'clf__n_estimators': 42, 'kbest__k': 1}\n",
      "0.695 (+/-0.008) for {'clf__max_depth': 6, 'clf__max_leaf_nodes': 15, 'clf__min_samples_leaf': 5, 'clf__min_samples_split': 5, 'clf__n_estimators': 42, 'kbest__k': 2}\n",
      "0.695 (+/-0.009) for {'clf__max_depth': 6, 'clf__max_leaf_nodes': 15, 'clf__min_samples_leaf': 5, 'clf__min_samples_split': 5, 'clf__n_estimators': 42, 'kbest__k': 3}\n",
      "0.699 (+/-0.010) for {'clf__max_depth': 6, 'clf__max_leaf_nodes': 15, 'clf__min_samples_leaf': 5, 'clf__min_samples_split': 5, 'clf__n_estimators': 42, 'kbest__k': 4}\n",
      "0.701 (+/-0.015) for {'clf__max_depth': 6, 'clf__max_leaf_nodes': 15, 'clf__min_samples_leaf': 5, 'clf__min_samples_split': 5, 'clf__n_estimators': 42, 'kbest__k': 5}\n",
      "0.703 (+/-0.009) for {'clf__max_depth': 6, 'clf__max_leaf_nodes': 15, 'clf__min_samples_leaf': 5, 'clf__min_samples_split': 5, 'clf__n_estimators': 42, 'kbest__k': 6}\n",
      "0.720 (+/-0.012) for {'clf__max_depth': 6, 'clf__max_leaf_nodes': 15, 'clf__min_samples_leaf': 5, 'clf__min_samples_split': 5, 'clf__n_estimators': 42, 'kbest__k': 7}\n",
      "0.722 (+/-0.005) for {'clf__max_depth': 6, 'clf__max_leaf_nodes': 15, 'clf__min_samples_leaf': 5, 'clf__min_samples_split': 5, 'clf__n_estimators': 42, 'kbest__k': 8}\n",
      "0.727 (+/-0.009) for {'clf__max_depth': 6, 'clf__max_leaf_nodes': 15, 'clf__min_samples_leaf': 5, 'clf__min_samples_split': 5, 'clf__n_estimators': 42, 'kbest__k': 9}\n",
      "0.725 (+/-0.004) for {'clf__max_depth': 6, 'clf__max_leaf_nodes': 15, 'clf__min_samples_leaf': 5, 'clf__min_samples_split': 5, 'clf__n_estimators': 42, 'kbest__k': 10}\n",
      "0.727 (+/-0.005) for {'clf__max_depth': 6, 'clf__max_leaf_nodes': 15, 'clf__min_samples_leaf': 5, 'clf__min_samples_split': 5, 'clf__n_estimators': 42, 'kbest__k': 11}\n",
      "0.727 (+/-0.006) for {'clf__max_depth': 6, 'clf__max_leaf_nodes': 15, 'clf__min_samples_leaf': 5, 'clf__min_samples_split': 5, 'clf__n_estimators': 42, 'kbest__k': 12}\n",
      "0.723 (+/-0.009) for {'clf__max_depth': 6, 'clf__max_leaf_nodes': 15, 'clf__min_samples_leaf': 5, 'clf__min_samples_split': 5, 'clf__n_estimators': 42, 'kbest__k': 13}\n",
      "0.728 (+/-0.010) for {'clf__max_depth': 6, 'clf__max_leaf_nodes': 15, 'clf__min_samples_leaf': 5, 'clf__min_samples_split': 5, 'clf__n_estimators': 42, 'kbest__k': 14}\n",
      "0.729 (+/-0.009) for {'clf__max_depth': 6, 'clf__max_leaf_nodes': 15, 'clf__min_samples_leaf': 5, 'clf__min_samples_split': 5, 'clf__n_estimators': 42, 'kbest__k': 15}\n",
      "0.727 (+/-0.009) for {'clf__max_depth': 6, 'clf__max_leaf_nodes': 15, 'clf__min_samples_leaf': 5, 'clf__min_samples_split': 5, 'clf__n_estimators': 42, 'kbest__k': 16}\n",
      "0.725 (+/-0.004) for {'clf__max_depth': 6, 'clf__max_leaf_nodes': 15, 'clf__min_samples_leaf': 5, 'clf__min_samples_split': 5, 'clf__n_estimators': 42, 'kbest__k': 17}\n",
      "0.727 (+/-0.009) for {'clf__max_depth': 6, 'clf__max_leaf_nodes': 15, 'clf__min_samples_leaf': 5, 'clf__min_samples_split': 5, 'clf__n_estimators': 42, 'kbest__k': 18}\n",
      "0.729 (+/-0.007) for {'clf__max_depth': 6, 'clf__max_leaf_nodes': 15, 'clf__min_samples_leaf': 5, 'clf__min_samples_split': 5, 'clf__n_estimators': 42, 'kbest__k': 19}\n",
      "0.731 (+/-0.016) for {'clf__max_depth': 6, 'clf__max_leaf_nodes': 15, 'clf__min_samples_leaf': 5, 'clf__min_samples_split': 5, 'clf__n_estimators': 42, 'kbest__k': 20}\n",
      "0.691 (+/-0.019) for {'clf__max_depth': 6, 'clf__max_leaf_nodes': 15, 'clf__min_samples_leaf': 5, 'clf__min_samples_split': 5, 'clf__n_estimators': 100, 'kbest__k': 1}\n",
      "0.694 (+/-0.003) for {'clf__max_depth': 6, 'clf__max_leaf_nodes': 15, 'clf__min_samples_leaf': 5, 'clf__min_samples_split': 5, 'clf__n_estimators': 100, 'kbest__k': 2}\n",
      "0.695 (+/-0.007) for {'clf__max_depth': 6, 'clf__max_leaf_nodes': 15, 'clf__min_samples_leaf': 5, 'clf__min_samples_split': 5, 'clf__n_estimators': 100, 'kbest__k': 3}\n",
      "0.699 (+/-0.013) for {'clf__max_depth': 6, 'clf__max_leaf_nodes': 15, 'clf__min_samples_leaf': 5, 'clf__min_samples_split': 5, 'clf__n_estimators': 100, 'kbest__k': 4}\n",
      "0.701 (+/-0.011) for {'clf__max_depth': 6, 'clf__max_leaf_nodes': 15, 'clf__min_samples_leaf': 5, 'clf__min_samples_split': 5, 'clf__n_estimators': 100, 'kbest__k': 5}\n",
      "0.703 (+/-0.013) for {'clf__max_depth': 6, 'clf__max_leaf_nodes': 15, 'clf__min_samples_leaf': 5, 'clf__min_samples_split': 5, 'clf__n_estimators': 100, 'kbest__k': 6}\n",
      "0.722 (+/-0.011) for {'clf__max_depth': 6, 'clf__max_leaf_nodes': 15, 'clf__min_samples_leaf': 5, 'clf__min_samples_split': 5, 'clf__n_estimators': 100, 'kbest__k': 7}\n",
      "0.726 (+/-0.006) for {'clf__max_depth': 6, 'clf__max_leaf_nodes': 15, 'clf__min_samples_leaf': 5, 'clf__min_samples_split': 5, 'clf__n_estimators': 100, 'kbest__k': 8}\n",
      "0.729 (+/-0.005) for {'clf__max_depth': 6, 'clf__max_leaf_nodes': 15, 'clf__min_samples_leaf': 5, 'clf__min_samples_split': 5, 'clf__n_estimators': 100, 'kbest__k': 9}\n",
      "0.729 (+/-0.009) for {'clf__max_depth': 6, 'clf__max_leaf_nodes': 15, 'clf__min_samples_leaf': 5, 'clf__min_samples_split': 5, 'clf__n_estimators': 100, 'kbest__k': 10}\n",
      "0.728 (+/-0.006) for {'clf__max_depth': 6, 'clf__max_leaf_nodes': 15, 'clf__min_samples_leaf': 5, 'clf__min_samples_split': 5, 'clf__n_estimators': 100, 'kbest__k': 11}\n",
      "0.728 (+/-0.003) for {'clf__max_depth': 6, 'clf__max_leaf_nodes': 15, 'clf__min_samples_leaf': 5, 'clf__min_samples_split': 5, 'clf__n_estimators': 100, 'kbest__k': 12}\n",
      "0.726 (+/-0.010) for {'clf__max_depth': 6, 'clf__max_leaf_nodes': 15, 'clf__min_samples_leaf': 5, 'clf__min_samples_split': 5, 'clf__n_estimators': 100, 'kbest__k': 13}\n",
      "0.725 (+/-0.008) for {'clf__max_depth': 6, 'clf__max_leaf_nodes': 15, 'clf__min_samples_leaf': 5, 'clf__min_samples_split': 5, 'clf__n_estimators': 100, 'kbest__k': 14}\n",
      "0.727 (+/-0.007) for {'clf__max_depth': 6, 'clf__max_leaf_nodes': 15, 'clf__min_samples_leaf': 5, 'clf__min_samples_split': 5, 'clf__n_estimators': 100, 'kbest__k': 15}\n",
      "0.728 (+/-0.008) for {'clf__max_depth': 6, 'clf__max_leaf_nodes': 15, 'clf__min_samples_leaf': 5, 'clf__min_samples_split': 5, 'clf__n_estimators': 100, 'kbest__k': 16}\n",
      "0.729 (+/-0.011) for {'clf__max_depth': 6, 'clf__max_leaf_nodes': 15, 'clf__min_samples_leaf': 5, 'clf__min_samples_split': 5, 'clf__n_estimators': 100, 'kbest__k': 17}\n",
      "0.729 (+/-0.004) for {'clf__max_depth': 6, 'clf__max_leaf_nodes': 15, 'clf__min_samples_leaf': 5, 'clf__min_samples_split': 5, 'clf__n_estimators': 100, 'kbest__k': 18}\n",
      "0.728 (+/-0.005) for {'clf__max_depth': 6, 'clf__max_leaf_nodes': 15, 'clf__min_samples_leaf': 5, 'clf__min_samples_split': 5, 'clf__n_estimators': 100, 'kbest__k': 19}\n",
      "0.733 (+/-0.006) for {'clf__max_depth': 6, 'clf__max_leaf_nodes': 15, 'clf__min_samples_leaf': 5, 'clf__min_samples_split': 5, 'clf__n_estimators': 100, 'kbest__k': 20}\n",
      "0.692 (+/-0.021) for {'clf__max_depth': 6, 'clf__max_leaf_nodes': 15, 'clf__min_samples_leaf': 5, 'clf__min_samples_split': 10, 'clf__n_estimators': 5, 'kbest__k': 1}\n"
     ]
    },
    {
     "name": "stdout",
     "output_type": "stream",
     "text": [
      "0.696 (+/-0.007) for {'clf__max_depth': 6, 'clf__max_leaf_nodes': 15, 'clf__min_samples_leaf': 5, 'clf__min_samples_split': 10, 'clf__n_estimators': 5, 'kbest__k': 2}\n",
      "0.689 (+/-0.011) for {'clf__max_depth': 6, 'clf__max_leaf_nodes': 15, 'clf__min_samples_leaf': 5, 'clf__min_samples_split': 10, 'clf__n_estimators': 5, 'kbest__k': 3}\n",
      "0.696 (+/-0.012) for {'clf__max_depth': 6, 'clf__max_leaf_nodes': 15, 'clf__min_samples_leaf': 5, 'clf__min_samples_split': 10, 'clf__n_estimators': 5, 'kbest__k': 4}\n",
      "0.699 (+/-0.005) for {'clf__max_depth': 6, 'clf__max_leaf_nodes': 15, 'clf__min_samples_leaf': 5, 'clf__min_samples_split': 10, 'clf__n_estimators': 5, 'kbest__k': 5}\n",
      "0.700 (+/-0.008) for {'clf__max_depth': 6, 'clf__max_leaf_nodes': 15, 'clf__min_samples_leaf': 5, 'clf__min_samples_split': 10, 'clf__n_estimators': 5, 'kbest__k': 6}\n",
      "0.715 (+/-0.006) for {'clf__max_depth': 6, 'clf__max_leaf_nodes': 15, 'clf__min_samples_leaf': 5, 'clf__min_samples_split': 10, 'clf__n_estimators': 5, 'kbest__k': 7}\n",
      "0.711 (+/-0.016) for {'clf__max_depth': 6, 'clf__max_leaf_nodes': 15, 'clf__min_samples_leaf': 5, 'clf__min_samples_split': 10, 'clf__n_estimators': 5, 'kbest__k': 8}\n",
      "0.718 (+/-0.013) for {'clf__max_depth': 6, 'clf__max_leaf_nodes': 15, 'clf__min_samples_leaf': 5, 'clf__min_samples_split': 10, 'clf__n_estimators': 5, 'kbest__k': 9}\n",
      "0.717 (+/-0.015) for {'clf__max_depth': 6, 'clf__max_leaf_nodes': 15, 'clf__min_samples_leaf': 5, 'clf__min_samples_split': 10, 'clf__n_estimators': 5, 'kbest__k': 10}\n",
      "0.721 (+/-0.016) for {'clf__max_depth': 6, 'clf__max_leaf_nodes': 15, 'clf__min_samples_leaf': 5, 'clf__min_samples_split': 10, 'clf__n_estimators': 5, 'kbest__k': 11}\n",
      "0.717 (+/-0.017) for {'clf__max_depth': 6, 'clf__max_leaf_nodes': 15, 'clf__min_samples_leaf': 5, 'clf__min_samples_split': 10, 'clf__n_estimators': 5, 'kbest__k': 12}\n",
      "0.718 (+/-0.010) for {'clf__max_depth': 6, 'clf__max_leaf_nodes': 15, 'clf__min_samples_leaf': 5, 'clf__min_samples_split': 10, 'clf__n_estimators': 5, 'kbest__k': 13}\n",
      "0.719 (+/-0.010) for {'clf__max_depth': 6, 'clf__max_leaf_nodes': 15, 'clf__min_samples_leaf': 5, 'clf__min_samples_split': 10, 'clf__n_estimators': 5, 'kbest__k': 14}\n",
      "0.718 (+/-0.011) for {'clf__max_depth': 6, 'clf__max_leaf_nodes': 15, 'clf__min_samples_leaf': 5, 'clf__min_samples_split': 10, 'clf__n_estimators': 5, 'kbest__k': 15}\n",
      "0.723 (+/-0.017) for {'clf__max_depth': 6, 'clf__max_leaf_nodes': 15, 'clf__min_samples_leaf': 5, 'clf__min_samples_split': 10, 'clf__n_estimators': 5, 'kbest__k': 16}\n",
      "0.721 (+/-0.011) for {'clf__max_depth': 6, 'clf__max_leaf_nodes': 15, 'clf__min_samples_leaf': 5, 'clf__min_samples_split': 10, 'clf__n_estimators': 5, 'kbest__k': 17}\n",
      "0.716 (+/-0.015) for {'clf__max_depth': 6, 'clf__max_leaf_nodes': 15, 'clf__min_samples_leaf': 5, 'clf__min_samples_split': 10, 'clf__n_estimators': 5, 'kbest__k': 18}\n",
      "0.719 (+/-0.006) for {'clf__max_depth': 6, 'clf__max_leaf_nodes': 15, 'clf__min_samples_leaf': 5, 'clf__min_samples_split': 10, 'clf__n_estimators': 5, 'kbest__k': 19}\n",
      "0.726 (+/-0.020) for {'clf__max_depth': 6, 'clf__max_leaf_nodes': 15, 'clf__min_samples_leaf': 5, 'clf__min_samples_split': 10, 'clf__n_estimators': 5, 'kbest__k': 20}\n",
      "0.693 (+/-0.021) for {'clf__max_depth': 6, 'clf__max_leaf_nodes': 15, 'clf__min_samples_leaf': 5, 'clf__min_samples_split': 10, 'clf__n_estimators': 40, 'kbest__k': 1}\n",
      "0.697 (+/-0.009) for {'clf__max_depth': 6, 'clf__max_leaf_nodes': 15, 'clf__min_samples_leaf': 5, 'clf__min_samples_split': 10, 'clf__n_estimators': 40, 'kbest__k': 2}\n",
      "0.694 (+/-0.011) for {'clf__max_depth': 6, 'clf__max_leaf_nodes': 15, 'clf__min_samples_leaf': 5, 'clf__min_samples_split': 10, 'clf__n_estimators': 40, 'kbest__k': 3}\n",
      "0.698 (+/-0.007) for {'clf__max_depth': 6, 'clf__max_leaf_nodes': 15, 'clf__min_samples_leaf': 5, 'clf__min_samples_split': 10, 'clf__n_estimators': 40, 'kbest__k': 4}\n",
      "0.703 (+/-0.014) for {'clf__max_depth': 6, 'clf__max_leaf_nodes': 15, 'clf__min_samples_leaf': 5, 'clf__min_samples_split': 10, 'clf__n_estimators': 40, 'kbest__k': 5}\n",
      "0.705 (+/-0.020) for {'clf__max_depth': 6, 'clf__max_leaf_nodes': 15, 'clf__min_samples_leaf': 5, 'clf__min_samples_split': 10, 'clf__n_estimators': 40, 'kbest__k': 6}\n",
      "0.724 (+/-0.007) for {'clf__max_depth': 6, 'clf__max_leaf_nodes': 15, 'clf__min_samples_leaf': 5, 'clf__min_samples_split': 10, 'clf__n_estimators': 40, 'kbest__k': 7}\n",
      "0.728 (+/-0.006) for {'clf__max_depth': 6, 'clf__max_leaf_nodes': 15, 'clf__min_samples_leaf': 5, 'clf__min_samples_split': 10, 'clf__n_estimators': 40, 'kbest__k': 8}\n",
      "0.726 (+/-0.012) for {'clf__max_depth': 6, 'clf__max_leaf_nodes': 15, 'clf__min_samples_leaf': 5, 'clf__min_samples_split': 10, 'clf__n_estimators': 40, 'kbest__k': 9}\n",
      "0.728 (+/-0.010) for {'clf__max_depth': 6, 'clf__max_leaf_nodes': 15, 'clf__min_samples_leaf': 5, 'clf__min_samples_split': 10, 'clf__n_estimators': 40, 'kbest__k': 10}\n",
      "0.725 (+/-0.012) for {'clf__max_depth': 6, 'clf__max_leaf_nodes': 15, 'clf__min_samples_leaf': 5, 'clf__min_samples_split': 10, 'clf__n_estimators': 40, 'kbest__k': 11}\n",
      "0.728 (+/-0.006) for {'clf__max_depth': 6, 'clf__max_leaf_nodes': 15, 'clf__min_samples_leaf': 5, 'clf__min_samples_split': 10, 'clf__n_estimators': 40, 'kbest__k': 12}\n",
      "0.728 (+/-0.010) for {'clf__max_depth': 6, 'clf__max_leaf_nodes': 15, 'clf__min_samples_leaf': 5, 'clf__min_samples_split': 10, 'clf__n_estimators': 40, 'kbest__k': 13}\n",
      "0.729 (+/-0.007) for {'clf__max_depth': 6, 'clf__max_leaf_nodes': 15, 'clf__min_samples_leaf': 5, 'clf__min_samples_split': 10, 'clf__n_estimators': 40, 'kbest__k': 14}\n",
      "0.730 (+/-0.009) for {'clf__max_depth': 6, 'clf__max_leaf_nodes': 15, 'clf__min_samples_leaf': 5, 'clf__min_samples_split': 10, 'clf__n_estimators': 40, 'kbest__k': 15}\n",
      "0.729 (+/-0.007) for {'clf__max_depth': 6, 'clf__max_leaf_nodes': 15, 'clf__min_samples_leaf': 5, 'clf__min_samples_split': 10, 'clf__n_estimators': 40, 'kbest__k': 16}\n",
      "0.727 (+/-0.008) for {'clf__max_depth': 6, 'clf__max_leaf_nodes': 15, 'clf__min_samples_leaf': 5, 'clf__min_samples_split': 10, 'clf__n_estimators': 40, 'kbest__k': 17}\n",
      "0.726 (+/-0.003) for {'clf__max_depth': 6, 'clf__max_leaf_nodes': 15, 'clf__min_samples_leaf': 5, 'clf__min_samples_split': 10, 'clf__n_estimators': 40, 'kbest__k': 18}\n",
      "0.730 (+/-0.008) for {'clf__max_depth': 6, 'clf__max_leaf_nodes': 15, 'clf__min_samples_leaf': 5, 'clf__min_samples_split': 10, 'clf__n_estimators': 40, 'kbest__k': 19}\n",
      "0.735 (+/-0.007) for {'clf__max_depth': 6, 'clf__max_leaf_nodes': 15, 'clf__min_samples_leaf': 5, 'clf__min_samples_split': 10, 'clf__n_estimators': 40, 'kbest__k': 20}\n",
      "0.691 (+/-0.019) for {'clf__max_depth': 6, 'clf__max_leaf_nodes': 15, 'clf__min_samples_leaf': 5, 'clf__min_samples_split': 10, 'clf__n_estimators': 42, 'kbest__k': 1}\n",
      "0.695 (+/-0.010) for {'clf__max_depth': 6, 'clf__max_leaf_nodes': 15, 'clf__min_samples_leaf': 5, 'clf__min_samples_split': 10, 'clf__n_estimators': 42, 'kbest__k': 2}\n",
      "0.694 (+/-0.008) for {'clf__max_depth': 6, 'clf__max_leaf_nodes': 15, 'clf__min_samples_leaf': 5, 'clf__min_samples_split': 10, 'clf__n_estimators': 42, 'kbest__k': 3}\n",
      "0.699 (+/-0.013) for {'clf__max_depth': 6, 'clf__max_leaf_nodes': 15, 'clf__min_samples_leaf': 5, 'clf__min_samples_split': 10, 'clf__n_estimators': 42, 'kbest__k': 4}\n",
      "0.702 (+/-0.012) for {'clf__max_depth': 6, 'clf__max_leaf_nodes': 15, 'clf__min_samples_leaf': 5, 'clf__min_samples_split': 10, 'clf__n_estimators': 42, 'kbest__k': 5}\n",
      "0.701 (+/-0.016) for {'clf__max_depth': 6, 'clf__max_leaf_nodes': 15, 'clf__min_samples_leaf': 5, 'clf__min_samples_split': 10, 'clf__n_estimators': 42, 'kbest__k': 6}\n",
      "0.723 (+/-0.006) for {'clf__max_depth': 6, 'clf__max_leaf_nodes': 15, 'clf__min_samples_leaf': 5, 'clf__min_samples_split': 10, 'clf__n_estimators': 42, 'kbest__k': 7}\n",
      "0.723 (+/-0.007) for {'clf__max_depth': 6, 'clf__max_leaf_nodes': 15, 'clf__min_samples_leaf': 5, 'clf__min_samples_split': 10, 'clf__n_estimators': 42, 'kbest__k': 8}\n",
      "0.729 (+/-0.005) for {'clf__max_depth': 6, 'clf__max_leaf_nodes': 15, 'clf__min_samples_leaf': 5, 'clf__min_samples_split': 10, 'clf__n_estimators': 42, 'kbest__k': 9}\n"
     ]
    },
    {
     "name": "stdout",
     "output_type": "stream",
     "text": [
      "0.728 (+/-0.008) for {'clf__max_depth': 6, 'clf__max_leaf_nodes': 15, 'clf__min_samples_leaf': 5, 'clf__min_samples_split': 10, 'clf__n_estimators': 42, 'kbest__k': 10}\n",
      "0.726 (+/-0.009) for {'clf__max_depth': 6, 'clf__max_leaf_nodes': 15, 'clf__min_samples_leaf': 5, 'clf__min_samples_split': 10, 'clf__n_estimators': 42, 'kbest__k': 11}\n",
      "0.729 (+/-0.009) for {'clf__max_depth': 6, 'clf__max_leaf_nodes': 15, 'clf__min_samples_leaf': 5, 'clf__min_samples_split': 10, 'clf__n_estimators': 42, 'kbest__k': 12}\n",
      "0.725 (+/-0.008) for {'clf__max_depth': 6, 'clf__max_leaf_nodes': 15, 'clf__min_samples_leaf': 5, 'clf__min_samples_split': 10, 'clf__n_estimators': 42, 'kbest__k': 13}\n",
      "0.727 (+/-0.007) for {'clf__max_depth': 6, 'clf__max_leaf_nodes': 15, 'clf__min_samples_leaf': 5, 'clf__min_samples_split': 10, 'clf__n_estimators': 42, 'kbest__k': 14}\n",
      "0.729 (+/-0.006) for {'clf__max_depth': 6, 'clf__max_leaf_nodes': 15, 'clf__min_samples_leaf': 5, 'clf__min_samples_split': 10, 'clf__n_estimators': 42, 'kbest__k': 15}\n",
      "0.728 (+/-0.011) for {'clf__max_depth': 6, 'clf__max_leaf_nodes': 15, 'clf__min_samples_leaf': 5, 'clf__min_samples_split': 10, 'clf__n_estimators': 42, 'kbest__k': 16}\n",
      "0.730 (+/-0.010) for {'clf__max_depth': 6, 'clf__max_leaf_nodes': 15, 'clf__min_samples_leaf': 5, 'clf__min_samples_split': 10, 'clf__n_estimators': 42, 'kbest__k': 17}\n",
      "0.726 (+/-0.008) for {'clf__max_depth': 6, 'clf__max_leaf_nodes': 15, 'clf__min_samples_leaf': 5, 'clf__min_samples_split': 10, 'clf__n_estimators': 42, 'kbest__k': 18}\n",
      "0.731 (+/-0.009) for {'clf__max_depth': 6, 'clf__max_leaf_nodes': 15, 'clf__min_samples_leaf': 5, 'clf__min_samples_split': 10, 'clf__n_estimators': 42, 'kbest__k': 19}\n",
      "0.730 (+/-0.007) for {'clf__max_depth': 6, 'clf__max_leaf_nodes': 15, 'clf__min_samples_leaf': 5, 'clf__min_samples_split': 10, 'clf__n_estimators': 42, 'kbest__k': 20}\n",
      "0.693 (+/-0.021) for {'clf__max_depth': 6, 'clf__max_leaf_nodes': 15, 'clf__min_samples_leaf': 5, 'clf__min_samples_split': 10, 'clf__n_estimators': 100, 'kbest__k': 1}\n",
      "0.696 (+/-0.007) for {'clf__max_depth': 6, 'clf__max_leaf_nodes': 15, 'clf__min_samples_leaf': 5, 'clf__min_samples_split': 10, 'clf__n_estimators': 100, 'kbest__k': 2}\n",
      "0.695 (+/-0.009) for {'clf__max_depth': 6, 'clf__max_leaf_nodes': 15, 'clf__min_samples_leaf': 5, 'clf__min_samples_split': 10, 'clf__n_estimators': 100, 'kbest__k': 3}\n",
      "0.698 (+/-0.011) for {'clf__max_depth': 6, 'clf__max_leaf_nodes': 15, 'clf__min_samples_leaf': 5, 'clf__min_samples_split': 10, 'clf__n_estimators': 100, 'kbest__k': 4}\n",
      "0.702 (+/-0.012) for {'clf__max_depth': 6, 'clf__max_leaf_nodes': 15, 'clf__min_samples_leaf': 5, 'clf__min_samples_split': 10, 'clf__n_estimators': 100, 'kbest__k': 5}\n",
      "0.705 (+/-0.011) for {'clf__max_depth': 6, 'clf__max_leaf_nodes': 15, 'clf__min_samples_leaf': 5, 'clf__min_samples_split': 10, 'clf__n_estimators': 100, 'kbest__k': 6}\n",
      "0.722 (+/-0.013) for {'clf__max_depth': 6, 'clf__max_leaf_nodes': 15, 'clf__min_samples_leaf': 5, 'clf__min_samples_split': 10, 'clf__n_estimators': 100, 'kbest__k': 7}\n",
      "0.722 (+/-0.008) for {'clf__max_depth': 6, 'clf__max_leaf_nodes': 15, 'clf__min_samples_leaf': 5, 'clf__min_samples_split': 10, 'clf__n_estimators': 100, 'kbest__k': 8}\n",
      "0.726 (+/-0.010) for {'clf__max_depth': 6, 'clf__max_leaf_nodes': 15, 'clf__min_samples_leaf': 5, 'clf__min_samples_split': 10, 'clf__n_estimators': 100, 'kbest__k': 9}\n",
      "0.730 (+/-0.010) for {'clf__max_depth': 6, 'clf__max_leaf_nodes': 15, 'clf__min_samples_leaf': 5, 'clf__min_samples_split': 10, 'clf__n_estimators': 100, 'kbest__k': 10}\n",
      "0.729 (+/-0.008) for {'clf__max_depth': 6, 'clf__max_leaf_nodes': 15, 'clf__min_samples_leaf': 5, 'clf__min_samples_split': 10, 'clf__n_estimators': 100, 'kbest__k': 11}\n",
      "0.728 (+/-0.006) for {'clf__max_depth': 6, 'clf__max_leaf_nodes': 15, 'clf__min_samples_leaf': 5, 'clf__min_samples_split': 10, 'clf__n_estimators': 100, 'kbest__k': 12}\n",
      "0.727 (+/-0.009) for {'clf__max_depth': 6, 'clf__max_leaf_nodes': 15, 'clf__min_samples_leaf': 5, 'clf__min_samples_split': 10, 'clf__n_estimators': 100, 'kbest__k': 13}\n",
      "0.728 (+/-0.006) for {'clf__max_depth': 6, 'clf__max_leaf_nodes': 15, 'clf__min_samples_leaf': 5, 'clf__min_samples_split': 10, 'clf__n_estimators': 100, 'kbest__k': 14}\n",
      "0.730 (+/-0.010) for {'clf__max_depth': 6, 'clf__max_leaf_nodes': 15, 'clf__min_samples_leaf': 5, 'clf__min_samples_split': 10, 'clf__n_estimators': 100, 'kbest__k': 15}\n",
      "0.731 (+/-0.009) for {'clf__max_depth': 6, 'clf__max_leaf_nodes': 15, 'clf__min_samples_leaf': 5, 'clf__min_samples_split': 10, 'clf__n_estimators': 100, 'kbest__k': 16}\n",
      "0.727 (+/-0.002) for {'clf__max_depth': 6, 'clf__max_leaf_nodes': 15, 'clf__min_samples_leaf': 5, 'clf__min_samples_split': 10, 'clf__n_estimators': 100, 'kbest__k': 17}\n",
      "0.730 (+/-0.005) for {'clf__max_depth': 6, 'clf__max_leaf_nodes': 15, 'clf__min_samples_leaf': 5, 'clf__min_samples_split': 10, 'clf__n_estimators': 100, 'kbest__k': 18}\n",
      "0.731 (+/-0.013) for {'clf__max_depth': 6, 'clf__max_leaf_nodes': 15, 'clf__min_samples_leaf': 5, 'clf__min_samples_split': 10, 'clf__n_estimators': 100, 'kbest__k': 19}\n",
      "0.733 (+/-0.014) for {'clf__max_depth': 6, 'clf__max_leaf_nodes': 15, 'clf__min_samples_leaf': 5, 'clf__min_samples_split': 10, 'clf__n_estimators': 100, 'kbest__k': 20}\n",
      "\n",
      "Detailed classification report:\n",
      "\n",
      "The model is trained on the full development set.\n",
      "The scores are computed on the full evaluation set.\n",
      "\n",
      "             precision    recall  f1-score   support\n",
      "\n",
      "          0       0.76      0.63      0.69       867\n",
      "          1       0.72      0.83      0.77      1004\n",
      "\n",
      "avg / total       0.74      0.73      0.73      1871\n",
      "\n",
      "\n"
     ]
    }
   ],
   "source": [
    "print(\"Best parameters set found on development set:\")\n",
    "print()\n",
    "print(grid_search.best_params_)\n",
    "print()\n",
    "print(\"Grid scores on development set:\")\n",
    "print()\n",
    "means = grid_search.cv_results_['mean_test_score']\n",
    "stds = grid_search.cv_results_['std_test_score']\n",
    "for mean, std, params in zip(means, stds, grid_search.cv_results_['params']):\n",
    "    print(\"%0.3f (+/-%0.03f) for %r\"% (mean, std * 2, params))\n",
    "print()\n",
    "\n",
    "print(\"Detailed classification report:\")\n",
    "print()\n",
    "print(\"The model is trained on the full development set.\")\n",
    "print(\"The scores are computed on the full evaluation set.\")\n",
    "print()\n",
    "y_true, y_pred = y_test, grid_search.predict(X_test)\n",
    "print(classification_report(y_true, y_pred))\n",
    "print()"
   ]
  },
  {
   "cell_type": "code",
   "execution_count": 68,
   "metadata": {},
   "outputs": [
    {
     "data": {
      "text/plain": [
       "GridSearchCV(cv=5, error_score='raise',\n",
       "       estimator=Pipeline(memory=None,\n",
       "     steps=[('kbest', SelectKBest(k=10, score_func=<function f_classif at 0x0000016AA1A898C8>)), ('stdScaler', StandardScaler(copy=True, with_mean=True, with_std=True)), ('clf', SVC(C=1.0, cache_size=200, class_weight=None, coef0=0.0,\n",
       "  decision_function_shape='ovr', degree=3, gamma='auto', kernel='linear',\n",
       "  max_iter=-1, probability=False, random_state=None, shrinking=True,\n",
       "  tol=0.001, verbose=False))]),\n",
       "       fit_params=None, iid=True, n_jobs=1,\n",
       "       param_grid={'kbest__k': [1, 2, 3, 4, 5, 6, 7, 8, 9, 10, 11, 12, 13, 14, 15, 16, 17, 18, 19, 20], 'clf__C': [0.001, 0.01, 0.1, 1, 10], 'clf__gamma': [0.001, 0.01, 0.1, 1]},\n",
       "       pre_dispatch='2*n_jobs', refit=True, return_train_score='warn',\n",
       "       scoring=None, verbose=0)"
      ]
     },
     "execution_count": 68,
     "metadata": {},
     "output_type": "execute_result"
    }
   ],
   "source": [
    "kbest = SelectKBest(f_classif)\n",
    "stdScaler = StandardScaler()\n",
    "pipeline = Pipeline([('kbest', kbest), ('stdScaler', stdScaler), ('clf', svm.SVC(kernel='linear'))])\n",
    "grid_search = GridSearchCV(pipeline, {'kbest__k': [1,2,3,4,5, 6,7,8, 9, 10, 11, 12, 13, 14, 15, 16, 17, 18, 19, 20], 'clf__C': [0.001, 0.01, 0.1, 1, 10], \"clf__gamma\": [0.001, 0.01, 0.1, 1]}, cv=5)\n",
    "grid_search.fit(X_train, y_train)"
   ]
  },
  {
   "cell_type": "code",
   "execution_count": 69,
   "metadata": {},
   "outputs": [
    {
     "name": "stdout",
     "output_type": "stream",
     "text": [
      "Best parameters set found on development set:\n",
      "\n",
      "{'clf__C': 10, 'clf__gamma': 0.001, 'kbest__k': 20}\n",
      "\n",
      "Grid scores on development set:\n",
      "\n",
      "0.691 (+/-0.013) for {'clf__C': 0.001, 'clf__gamma': 0.001, 'kbest__k': 1}\n",
      "0.693 (+/-0.004) for {'clf__C': 0.001, 'clf__gamma': 0.001, 'kbest__k': 2}\n",
      "0.693 (+/-0.003) for {'clf__C': 0.001, 'clf__gamma': 0.001, 'kbest__k': 3}\n",
      "0.699 (+/-0.008) for {'clf__C': 0.001, 'clf__gamma': 0.001, 'kbest__k': 4}\n",
      "0.700 (+/-0.011) for {'clf__C': 0.001, 'clf__gamma': 0.001, 'kbest__k': 5}\n",
      "0.700 (+/-0.009) for {'clf__C': 0.001, 'clf__gamma': 0.001, 'kbest__k': 6}\n",
      "0.716 (+/-0.006) for {'clf__C': 0.001, 'clf__gamma': 0.001, 'kbest__k': 7}\n",
      "0.716 (+/-0.010) for {'clf__C': 0.001, 'clf__gamma': 0.001, 'kbest__k': 8}\n",
      "0.716 (+/-0.008) for {'clf__C': 0.001, 'clf__gamma': 0.001, 'kbest__k': 9}\n",
      "0.718 (+/-0.009) for {'clf__C': 0.001, 'clf__gamma': 0.001, 'kbest__k': 10}\n",
      "0.719 (+/-0.012) for {'clf__C': 0.001, 'clf__gamma': 0.001, 'kbest__k': 11}\n",
      "0.722 (+/-0.012) for {'clf__C': 0.001, 'clf__gamma': 0.001, 'kbest__k': 12}\n",
      "0.722 (+/-0.012) for {'clf__C': 0.001, 'clf__gamma': 0.001, 'kbest__k': 13}\n",
      "0.722 (+/-0.009) for {'clf__C': 0.001, 'clf__gamma': 0.001, 'kbest__k': 14}\n",
      "0.723 (+/-0.008) for {'clf__C': 0.001, 'clf__gamma': 0.001, 'kbest__k': 15}\n",
      "0.723 (+/-0.008) for {'clf__C': 0.001, 'clf__gamma': 0.001, 'kbest__k': 16}\n",
      "0.722 (+/-0.009) for {'clf__C': 0.001, 'clf__gamma': 0.001, 'kbest__k': 17}\n",
      "0.721 (+/-0.009) for {'clf__C': 0.001, 'clf__gamma': 0.001, 'kbest__k': 18}\n",
      "0.730 (+/-0.016) for {'clf__C': 0.001, 'clf__gamma': 0.001, 'kbest__k': 19}\n",
      "0.739 (+/-0.007) for {'clf__C': 0.001, 'clf__gamma': 0.001, 'kbest__k': 20}\n",
      "0.691 (+/-0.013) for {'clf__C': 0.001, 'clf__gamma': 0.01, 'kbest__k': 1}\n",
      "0.693 (+/-0.004) for {'clf__C': 0.001, 'clf__gamma': 0.01, 'kbest__k': 2}\n",
      "0.693 (+/-0.003) for {'clf__C': 0.001, 'clf__gamma': 0.01, 'kbest__k': 3}\n",
      "0.699 (+/-0.008) for {'clf__C': 0.001, 'clf__gamma': 0.01, 'kbest__k': 4}\n",
      "0.700 (+/-0.011) for {'clf__C': 0.001, 'clf__gamma': 0.01, 'kbest__k': 5}\n",
      "0.700 (+/-0.009) for {'clf__C': 0.001, 'clf__gamma': 0.01, 'kbest__k': 6}\n",
      "0.716 (+/-0.006) for {'clf__C': 0.001, 'clf__gamma': 0.01, 'kbest__k': 7}\n",
      "0.716 (+/-0.010) for {'clf__C': 0.001, 'clf__gamma': 0.01, 'kbest__k': 8}\n",
      "0.716 (+/-0.008) for {'clf__C': 0.001, 'clf__gamma': 0.01, 'kbest__k': 9}\n",
      "0.718 (+/-0.009) for {'clf__C': 0.001, 'clf__gamma': 0.01, 'kbest__k': 10}\n",
      "0.719 (+/-0.012) for {'clf__C': 0.001, 'clf__gamma': 0.01, 'kbest__k': 11}\n",
      "0.722 (+/-0.012) for {'clf__C': 0.001, 'clf__gamma': 0.01, 'kbest__k': 12}\n",
      "0.722 (+/-0.012) for {'clf__C': 0.001, 'clf__gamma': 0.01, 'kbest__k': 13}\n",
      "0.722 (+/-0.009) for {'clf__C': 0.001, 'clf__gamma': 0.01, 'kbest__k': 14}\n",
      "0.723 (+/-0.008) for {'clf__C': 0.001, 'clf__gamma': 0.01, 'kbest__k': 15}\n",
      "0.723 (+/-0.008) for {'clf__C': 0.001, 'clf__gamma': 0.01, 'kbest__k': 16}\n",
      "0.722 (+/-0.009) for {'clf__C': 0.001, 'clf__gamma': 0.01, 'kbest__k': 17}\n",
      "0.721 (+/-0.009) for {'clf__C': 0.001, 'clf__gamma': 0.01, 'kbest__k': 18}\n",
      "0.730 (+/-0.016) for {'clf__C': 0.001, 'clf__gamma': 0.01, 'kbest__k': 19}\n",
      "0.739 (+/-0.007) for {'clf__C': 0.001, 'clf__gamma': 0.01, 'kbest__k': 20}\n",
      "0.691 (+/-0.013) for {'clf__C': 0.001, 'clf__gamma': 0.1, 'kbest__k': 1}\n",
      "0.693 (+/-0.004) for {'clf__C': 0.001, 'clf__gamma': 0.1, 'kbest__k': 2}\n",
      "0.693 (+/-0.003) for {'clf__C': 0.001, 'clf__gamma': 0.1, 'kbest__k': 3}\n",
      "0.699 (+/-0.008) for {'clf__C': 0.001, 'clf__gamma': 0.1, 'kbest__k': 4}\n",
      "0.700 (+/-0.011) for {'clf__C': 0.001, 'clf__gamma': 0.1, 'kbest__k': 5}\n",
      "0.700 (+/-0.009) for {'clf__C': 0.001, 'clf__gamma': 0.1, 'kbest__k': 6}\n",
      "0.716 (+/-0.006) for {'clf__C': 0.001, 'clf__gamma': 0.1, 'kbest__k': 7}\n",
      "0.716 (+/-0.010) for {'clf__C': 0.001, 'clf__gamma': 0.1, 'kbest__k': 8}\n",
      "0.716 (+/-0.008) for {'clf__C': 0.001, 'clf__gamma': 0.1, 'kbest__k': 9}\n",
      "0.718 (+/-0.009) for {'clf__C': 0.001, 'clf__gamma': 0.1, 'kbest__k': 10}\n",
      "0.719 (+/-0.012) for {'clf__C': 0.001, 'clf__gamma': 0.1, 'kbest__k': 11}\n",
      "0.722 (+/-0.012) for {'clf__C': 0.001, 'clf__gamma': 0.1, 'kbest__k': 12}\n",
      "0.722 (+/-0.012) for {'clf__C': 0.001, 'clf__gamma': 0.1, 'kbest__k': 13}\n",
      "0.722 (+/-0.009) for {'clf__C': 0.001, 'clf__gamma': 0.1, 'kbest__k': 14}\n",
      "0.723 (+/-0.008) for {'clf__C': 0.001, 'clf__gamma': 0.1, 'kbest__k': 15}\n",
      "0.723 (+/-0.008) for {'clf__C': 0.001, 'clf__gamma': 0.1, 'kbest__k': 16}\n",
      "0.722 (+/-0.009) for {'clf__C': 0.001, 'clf__gamma': 0.1, 'kbest__k': 17}\n",
      "0.721 (+/-0.009) for {'clf__C': 0.001, 'clf__gamma': 0.1, 'kbest__k': 18}\n",
      "0.730 (+/-0.016) for {'clf__C': 0.001, 'clf__gamma': 0.1, 'kbest__k': 19}\n",
      "0.739 (+/-0.007) for {'clf__C': 0.001, 'clf__gamma': 0.1, 'kbest__k': 20}\n",
      "0.691 (+/-0.013) for {'clf__C': 0.001, 'clf__gamma': 1, 'kbest__k': 1}\n",
      "0.693 (+/-0.004) for {'clf__C': 0.001, 'clf__gamma': 1, 'kbest__k': 2}\n",
      "0.693 (+/-0.003) for {'clf__C': 0.001, 'clf__gamma': 1, 'kbest__k': 3}\n",
      "0.699 (+/-0.008) for {'clf__C': 0.001, 'clf__gamma': 1, 'kbest__k': 4}\n",
      "0.700 (+/-0.011) for {'clf__C': 0.001, 'clf__gamma': 1, 'kbest__k': 5}\n",
      "0.700 (+/-0.009) for {'clf__C': 0.001, 'clf__gamma': 1, 'kbest__k': 6}\n",
      "0.716 (+/-0.006) for {'clf__C': 0.001, 'clf__gamma': 1, 'kbest__k': 7}\n",
      "0.716 (+/-0.010) for {'clf__C': 0.001, 'clf__gamma': 1, 'kbest__k': 8}\n",
      "0.716 (+/-0.008) for {'clf__C': 0.001, 'clf__gamma': 1, 'kbest__k': 9}\n",
      "0.718 (+/-0.009) for {'clf__C': 0.001, 'clf__gamma': 1, 'kbest__k': 10}\n",
      "0.719 (+/-0.012) for {'clf__C': 0.001, 'clf__gamma': 1, 'kbest__k': 11}\n",
      "0.722 (+/-0.012) for {'clf__C': 0.001, 'clf__gamma': 1, 'kbest__k': 12}\n",
      "0.722 (+/-0.012) for {'clf__C': 0.001, 'clf__gamma': 1, 'kbest__k': 13}\n",
      "0.722 (+/-0.009) for {'clf__C': 0.001, 'clf__gamma': 1, 'kbest__k': 14}\n",
      "0.723 (+/-0.008) for {'clf__C': 0.001, 'clf__gamma': 1, 'kbest__k': 15}\n",
      "0.723 (+/-0.008) for {'clf__C': 0.001, 'clf__gamma': 1, 'kbest__k': 16}\n",
      "0.722 (+/-0.009) for {'clf__C': 0.001, 'clf__gamma': 1, 'kbest__k': 17}\n",
      "0.721 (+/-0.009) for {'clf__C': 0.001, 'clf__gamma': 1, 'kbest__k': 18}\n",
      "0.730 (+/-0.016) for {'clf__C': 0.001, 'clf__gamma': 1, 'kbest__k': 19}\n",
      "0.739 (+/-0.007) for {'clf__C': 0.001, 'clf__gamma': 1, 'kbest__k': 20}\n",
      "0.691 (+/-0.019) for {'clf__C': 0.01, 'clf__gamma': 0.001, 'kbest__k': 1}\n",
      "0.696 (+/-0.004) for {'clf__C': 0.01, 'clf__gamma': 0.001, 'kbest__k': 2}\n",
      "0.699 (+/-0.004) for {'clf__C': 0.01, 'clf__gamma': 0.001, 'kbest__k': 3}\n",
      "0.701 (+/-0.011) for {'clf__C': 0.01, 'clf__gamma': 0.001, 'kbest__k': 4}\n",
      "0.703 (+/-0.006) for {'clf__C': 0.01, 'clf__gamma': 0.001, 'kbest__k': 5}\n",
      "0.710 (+/-0.006) for {'clf__C': 0.01, 'clf__gamma': 0.001, 'kbest__k': 6}\n",
      "0.722 (+/-0.010) for {'clf__C': 0.01, 'clf__gamma': 0.001, 'kbest__k': 7}\n",
      "0.721 (+/-0.011) for {'clf__C': 0.01, 'clf__gamma': 0.001, 'kbest__k': 8}\n",
      "0.720 (+/-0.014) for {'clf__C': 0.01, 'clf__gamma': 0.001, 'kbest__k': 9}\n",
      "0.724 (+/-0.012) for {'clf__C': 0.01, 'clf__gamma': 0.001, 'kbest__k': 10}\n",
      "0.726 (+/-0.010) for {'clf__C': 0.01, 'clf__gamma': 0.001, 'kbest__k': 11}\n",
      "0.727 (+/-0.010) for {'clf__C': 0.01, 'clf__gamma': 0.001, 'kbest__k': 12}\n",
      "0.730 (+/-0.010) for {'clf__C': 0.01, 'clf__gamma': 0.001, 'kbest__k': 13}\n",
      "0.729 (+/-0.007) for {'clf__C': 0.01, 'clf__gamma': 0.001, 'kbest__k': 14}\n",
      "0.728 (+/-0.013) for {'clf__C': 0.01, 'clf__gamma': 0.001, 'kbest__k': 15}\n",
      "0.727 (+/-0.010) for {'clf__C': 0.01, 'clf__gamma': 0.001, 'kbest__k': 16}\n",
      "0.727 (+/-0.010) for {'clf__C': 0.01, 'clf__gamma': 0.001, 'kbest__k': 17}\n",
      "0.726 (+/-0.011) for {'clf__C': 0.01, 'clf__gamma': 0.001, 'kbest__k': 18}\n",
      "0.742 (+/-0.022) for {'clf__C': 0.01, 'clf__gamma': 0.001, 'kbest__k': 19}\n",
      "0.746 (+/-0.008) for {'clf__C': 0.01, 'clf__gamma': 0.001, 'kbest__k': 20}\n",
      "0.691 (+/-0.019) for {'clf__C': 0.01, 'clf__gamma': 0.01, 'kbest__k': 1}\n",
      "0.696 (+/-0.004) for {'clf__C': 0.01, 'clf__gamma': 0.01, 'kbest__k': 2}\n",
      "0.699 (+/-0.004) for {'clf__C': 0.01, 'clf__gamma': 0.01, 'kbest__k': 3}\n",
      "0.701 (+/-0.011) for {'clf__C': 0.01, 'clf__gamma': 0.01, 'kbest__k': 4}\n",
      "0.703 (+/-0.006) for {'clf__C': 0.01, 'clf__gamma': 0.01, 'kbest__k': 5}\n",
      "0.710 (+/-0.006) for {'clf__C': 0.01, 'clf__gamma': 0.01, 'kbest__k': 6}\n",
      "0.722 (+/-0.010) for {'clf__C': 0.01, 'clf__gamma': 0.01, 'kbest__k': 7}\n",
      "0.721 (+/-0.011) for {'clf__C': 0.01, 'clf__gamma': 0.01, 'kbest__k': 8}\n",
      "0.720 (+/-0.014) for {'clf__C': 0.01, 'clf__gamma': 0.01, 'kbest__k': 9}\n"
     ]
    },
    {
     "name": "stdout",
     "output_type": "stream",
     "text": [
      "0.724 (+/-0.012) for {'clf__C': 0.01, 'clf__gamma': 0.01, 'kbest__k': 10}\n",
      "0.726 (+/-0.010) for {'clf__C': 0.01, 'clf__gamma': 0.01, 'kbest__k': 11}\n",
      "0.727 (+/-0.010) for {'clf__C': 0.01, 'clf__gamma': 0.01, 'kbest__k': 12}\n",
      "0.730 (+/-0.010) for {'clf__C': 0.01, 'clf__gamma': 0.01, 'kbest__k': 13}\n",
      "0.729 (+/-0.007) for {'clf__C': 0.01, 'clf__gamma': 0.01, 'kbest__k': 14}\n",
      "0.728 (+/-0.013) for {'clf__C': 0.01, 'clf__gamma': 0.01, 'kbest__k': 15}\n",
      "0.727 (+/-0.010) for {'clf__C': 0.01, 'clf__gamma': 0.01, 'kbest__k': 16}\n",
      "0.727 (+/-0.010) for {'clf__C': 0.01, 'clf__gamma': 0.01, 'kbest__k': 17}\n",
      "0.726 (+/-0.011) for {'clf__C': 0.01, 'clf__gamma': 0.01, 'kbest__k': 18}\n",
      "0.742 (+/-0.022) for {'clf__C': 0.01, 'clf__gamma': 0.01, 'kbest__k': 19}\n",
      "0.746 (+/-0.008) for {'clf__C': 0.01, 'clf__gamma': 0.01, 'kbest__k': 20}\n",
      "0.691 (+/-0.019) for {'clf__C': 0.01, 'clf__gamma': 0.1, 'kbest__k': 1}\n",
      "0.696 (+/-0.004) for {'clf__C': 0.01, 'clf__gamma': 0.1, 'kbest__k': 2}\n",
      "0.699 (+/-0.004) for {'clf__C': 0.01, 'clf__gamma': 0.1, 'kbest__k': 3}\n",
      "0.701 (+/-0.011) for {'clf__C': 0.01, 'clf__gamma': 0.1, 'kbest__k': 4}\n",
      "0.703 (+/-0.006) for {'clf__C': 0.01, 'clf__gamma': 0.1, 'kbest__k': 5}\n",
      "0.710 (+/-0.006) for {'clf__C': 0.01, 'clf__gamma': 0.1, 'kbest__k': 6}\n",
      "0.722 (+/-0.010) for {'clf__C': 0.01, 'clf__gamma': 0.1, 'kbest__k': 7}\n",
      "0.721 (+/-0.011) for {'clf__C': 0.01, 'clf__gamma': 0.1, 'kbest__k': 8}\n",
      "0.720 (+/-0.014) for {'clf__C': 0.01, 'clf__gamma': 0.1, 'kbest__k': 9}\n",
      "0.724 (+/-0.012) for {'clf__C': 0.01, 'clf__gamma': 0.1, 'kbest__k': 10}\n",
      "0.726 (+/-0.010) for {'clf__C': 0.01, 'clf__gamma': 0.1, 'kbest__k': 11}\n",
      "0.727 (+/-0.010) for {'clf__C': 0.01, 'clf__gamma': 0.1, 'kbest__k': 12}\n",
      "0.730 (+/-0.010) for {'clf__C': 0.01, 'clf__gamma': 0.1, 'kbest__k': 13}\n",
      "0.729 (+/-0.007) for {'clf__C': 0.01, 'clf__gamma': 0.1, 'kbest__k': 14}\n",
      "0.728 (+/-0.013) for {'clf__C': 0.01, 'clf__gamma': 0.1, 'kbest__k': 15}\n",
      "0.727 (+/-0.010) for {'clf__C': 0.01, 'clf__gamma': 0.1, 'kbest__k': 16}\n",
      "0.727 (+/-0.010) for {'clf__C': 0.01, 'clf__gamma': 0.1, 'kbest__k': 17}\n",
      "0.726 (+/-0.011) for {'clf__C': 0.01, 'clf__gamma': 0.1, 'kbest__k': 18}\n",
      "0.742 (+/-0.022) for {'clf__C': 0.01, 'clf__gamma': 0.1, 'kbest__k': 19}\n",
      "0.746 (+/-0.008) for {'clf__C': 0.01, 'clf__gamma': 0.1, 'kbest__k': 20}\n",
      "0.691 (+/-0.019) for {'clf__C': 0.01, 'clf__gamma': 1, 'kbest__k': 1}\n",
      "0.696 (+/-0.004) for {'clf__C': 0.01, 'clf__gamma': 1, 'kbest__k': 2}\n",
      "0.699 (+/-0.004) for {'clf__C': 0.01, 'clf__gamma': 1, 'kbest__k': 3}\n",
      "0.701 (+/-0.011) for {'clf__C': 0.01, 'clf__gamma': 1, 'kbest__k': 4}\n",
      "0.703 (+/-0.006) for {'clf__C': 0.01, 'clf__gamma': 1, 'kbest__k': 5}\n",
      "0.710 (+/-0.006) for {'clf__C': 0.01, 'clf__gamma': 1, 'kbest__k': 6}\n",
      "0.722 (+/-0.010) for {'clf__C': 0.01, 'clf__gamma': 1, 'kbest__k': 7}\n",
      "0.721 (+/-0.011) for {'clf__C': 0.01, 'clf__gamma': 1, 'kbest__k': 8}\n",
      "0.720 (+/-0.014) for {'clf__C': 0.01, 'clf__gamma': 1, 'kbest__k': 9}\n",
      "0.724 (+/-0.012) for {'clf__C': 0.01, 'clf__gamma': 1, 'kbest__k': 10}\n",
      "0.726 (+/-0.010) for {'clf__C': 0.01, 'clf__gamma': 1, 'kbest__k': 11}\n",
      "0.727 (+/-0.010) for {'clf__C': 0.01, 'clf__gamma': 1, 'kbest__k': 12}\n",
      "0.730 (+/-0.010) for {'clf__C': 0.01, 'clf__gamma': 1, 'kbest__k': 13}\n",
      "0.729 (+/-0.007) for {'clf__C': 0.01, 'clf__gamma': 1, 'kbest__k': 14}\n",
      "0.728 (+/-0.013) for {'clf__C': 0.01, 'clf__gamma': 1, 'kbest__k': 15}\n",
      "0.727 (+/-0.010) for {'clf__C': 0.01, 'clf__gamma': 1, 'kbest__k': 16}\n",
      "0.727 (+/-0.010) for {'clf__C': 0.01, 'clf__gamma': 1, 'kbest__k': 17}\n",
      "0.726 (+/-0.011) for {'clf__C': 0.01, 'clf__gamma': 1, 'kbest__k': 18}\n",
      "0.742 (+/-0.022) for {'clf__C': 0.01, 'clf__gamma': 1, 'kbest__k': 19}\n",
      "0.746 (+/-0.008) for {'clf__C': 0.01, 'clf__gamma': 1, 'kbest__k': 20}\n",
      "0.691 (+/-0.019) for {'clf__C': 0.1, 'clf__gamma': 0.001, 'kbest__k': 1}\n",
      "0.697 (+/-0.014) for {'clf__C': 0.1, 'clf__gamma': 0.001, 'kbest__k': 2}\n",
      "0.700 (+/-0.003) for {'clf__C': 0.1, 'clf__gamma': 0.001, 'kbest__k': 3}\n",
      "0.702 (+/-0.009) for {'clf__C': 0.1, 'clf__gamma': 0.001, 'kbest__k': 4}\n",
      "0.703 (+/-0.009) for {'clf__C': 0.1, 'clf__gamma': 0.001, 'kbest__k': 5}\n",
      "0.712 (+/-0.006) for {'clf__C': 0.1, 'clf__gamma': 0.001, 'kbest__k': 6}\n",
      "0.722 (+/-0.012) for {'clf__C': 0.1, 'clf__gamma': 0.001, 'kbest__k': 7}\n",
      "0.721 (+/-0.010) for {'clf__C': 0.1, 'clf__gamma': 0.001, 'kbest__k': 8}\n",
      "0.722 (+/-0.014) for {'clf__C': 0.1, 'clf__gamma': 0.001, 'kbest__k': 9}\n",
      "0.725 (+/-0.016) for {'clf__C': 0.1, 'clf__gamma': 0.001, 'kbest__k': 10}\n",
      "0.726 (+/-0.015) for {'clf__C': 0.1, 'clf__gamma': 0.001, 'kbest__k': 11}\n",
      "0.728 (+/-0.010) for {'clf__C': 0.1, 'clf__gamma': 0.001, 'kbest__k': 12}\n",
      "0.729 (+/-0.012) for {'clf__C': 0.1, 'clf__gamma': 0.001, 'kbest__k': 13}\n",
      "0.728 (+/-0.011) for {'clf__C': 0.1, 'clf__gamma': 0.001, 'kbest__k': 14}\n",
      "0.728 (+/-0.011) for {'clf__C': 0.1, 'clf__gamma': 0.001, 'kbest__k': 15}\n",
      "0.729 (+/-0.012) for {'clf__C': 0.1, 'clf__gamma': 0.001, 'kbest__k': 16}\n",
      "0.729 (+/-0.012) for {'clf__C': 0.1, 'clf__gamma': 0.001, 'kbest__k': 17}\n",
      "0.728 (+/-0.013) for {'clf__C': 0.1, 'clf__gamma': 0.001, 'kbest__k': 18}\n",
      "0.742 (+/-0.026) for {'clf__C': 0.1, 'clf__gamma': 0.001, 'kbest__k': 19}\n",
      "0.750 (+/-0.015) for {'clf__C': 0.1, 'clf__gamma': 0.001, 'kbest__k': 20}\n",
      "0.691 (+/-0.019) for {'clf__C': 0.1, 'clf__gamma': 0.01, 'kbest__k': 1}\n",
      "0.697 (+/-0.014) for {'clf__C': 0.1, 'clf__gamma': 0.01, 'kbest__k': 2}\n",
      "0.700 (+/-0.003) for {'clf__C': 0.1, 'clf__gamma': 0.01, 'kbest__k': 3}\n",
      "0.702 (+/-0.009) for {'clf__C': 0.1, 'clf__gamma': 0.01, 'kbest__k': 4}\n",
      "0.703 (+/-0.009) for {'clf__C': 0.1, 'clf__gamma': 0.01, 'kbest__k': 5}\n",
      "0.712 (+/-0.006) for {'clf__C': 0.1, 'clf__gamma': 0.01, 'kbest__k': 6}\n",
      "0.722 (+/-0.012) for {'clf__C': 0.1, 'clf__gamma': 0.01, 'kbest__k': 7}\n",
      "0.721 (+/-0.010) for {'clf__C': 0.1, 'clf__gamma': 0.01, 'kbest__k': 8}\n",
      "0.722 (+/-0.014) for {'clf__C': 0.1, 'clf__gamma': 0.01, 'kbest__k': 9}\n",
      "0.725 (+/-0.016) for {'clf__C': 0.1, 'clf__gamma': 0.01, 'kbest__k': 10}\n",
      "0.726 (+/-0.015) for {'clf__C': 0.1, 'clf__gamma': 0.01, 'kbest__k': 11}\n",
      "0.728 (+/-0.010) for {'clf__C': 0.1, 'clf__gamma': 0.01, 'kbest__k': 12}\n",
      "0.729 (+/-0.012) for {'clf__C': 0.1, 'clf__gamma': 0.01, 'kbest__k': 13}\n",
      "0.728 (+/-0.011) for {'clf__C': 0.1, 'clf__gamma': 0.01, 'kbest__k': 14}\n",
      "0.728 (+/-0.011) for {'clf__C': 0.1, 'clf__gamma': 0.01, 'kbest__k': 15}\n",
      "0.729 (+/-0.012) for {'clf__C': 0.1, 'clf__gamma': 0.01, 'kbest__k': 16}\n",
      "0.729 (+/-0.012) for {'clf__C': 0.1, 'clf__gamma': 0.01, 'kbest__k': 17}\n",
      "0.728 (+/-0.013) for {'clf__C': 0.1, 'clf__gamma': 0.01, 'kbest__k': 18}\n",
      "0.742 (+/-0.026) for {'clf__C': 0.1, 'clf__gamma': 0.01, 'kbest__k': 19}\n",
      "0.750 (+/-0.015) for {'clf__C': 0.1, 'clf__gamma': 0.01, 'kbest__k': 20}\n",
      "0.691 (+/-0.019) for {'clf__C': 0.1, 'clf__gamma': 0.1, 'kbest__k': 1}\n",
      "0.697 (+/-0.014) for {'clf__C': 0.1, 'clf__gamma': 0.1, 'kbest__k': 2}\n",
      "0.700 (+/-0.003) for {'clf__C': 0.1, 'clf__gamma': 0.1, 'kbest__k': 3}\n",
      "0.702 (+/-0.009) for {'clf__C': 0.1, 'clf__gamma': 0.1, 'kbest__k': 4}\n",
      "0.703 (+/-0.009) for {'clf__C': 0.1, 'clf__gamma': 0.1, 'kbest__k': 5}\n",
      "0.712 (+/-0.006) for {'clf__C': 0.1, 'clf__gamma': 0.1, 'kbest__k': 6}\n",
      "0.722 (+/-0.012) for {'clf__C': 0.1, 'clf__gamma': 0.1, 'kbest__k': 7}\n",
      "0.721 (+/-0.010) for {'clf__C': 0.1, 'clf__gamma': 0.1, 'kbest__k': 8}\n",
      "0.722 (+/-0.014) for {'clf__C': 0.1, 'clf__gamma': 0.1, 'kbest__k': 9}\n",
      "0.725 (+/-0.016) for {'clf__C': 0.1, 'clf__gamma': 0.1, 'kbest__k': 10}\n",
      "0.726 (+/-0.015) for {'clf__C': 0.1, 'clf__gamma': 0.1, 'kbest__k': 11}\n",
      "0.728 (+/-0.010) for {'clf__C': 0.1, 'clf__gamma': 0.1, 'kbest__k': 12}\n",
      "0.729 (+/-0.012) for {'clf__C': 0.1, 'clf__gamma': 0.1, 'kbest__k': 13}\n",
      "0.728 (+/-0.011) for {'clf__C': 0.1, 'clf__gamma': 0.1, 'kbest__k': 14}\n",
      "0.728 (+/-0.011) for {'clf__C': 0.1, 'clf__gamma': 0.1, 'kbest__k': 15}\n",
      "0.729 (+/-0.012) for {'clf__C': 0.1, 'clf__gamma': 0.1, 'kbest__k': 16}\n",
      "0.729 (+/-0.012) for {'clf__C': 0.1, 'clf__gamma': 0.1, 'kbest__k': 17}\n",
      "0.728 (+/-0.013) for {'clf__C': 0.1, 'clf__gamma': 0.1, 'kbest__k': 18}\n",
      "0.742 (+/-0.026) for {'clf__C': 0.1, 'clf__gamma': 0.1, 'kbest__k': 19}\n",
      "0.750 (+/-0.015) for {'clf__C': 0.1, 'clf__gamma': 0.1, 'kbest__k': 20}\n",
      "0.691 (+/-0.019) for {'clf__C': 0.1, 'clf__gamma': 1, 'kbest__k': 1}\n",
      "0.697 (+/-0.014) for {'clf__C': 0.1, 'clf__gamma': 1, 'kbest__k': 2}\n"
     ]
    },
    {
     "name": "stdout",
     "output_type": "stream",
     "text": [
      "0.700 (+/-0.003) for {'clf__C': 0.1, 'clf__gamma': 1, 'kbest__k': 3}\n",
      "0.702 (+/-0.009) for {'clf__C': 0.1, 'clf__gamma': 1, 'kbest__k': 4}\n",
      "0.703 (+/-0.009) for {'clf__C': 0.1, 'clf__gamma': 1, 'kbest__k': 5}\n",
      "0.712 (+/-0.006) for {'clf__C': 0.1, 'clf__gamma': 1, 'kbest__k': 6}\n",
      "0.722 (+/-0.012) for {'clf__C': 0.1, 'clf__gamma': 1, 'kbest__k': 7}\n",
      "0.721 (+/-0.010) for {'clf__C': 0.1, 'clf__gamma': 1, 'kbest__k': 8}\n",
      "0.722 (+/-0.014) for {'clf__C': 0.1, 'clf__gamma': 1, 'kbest__k': 9}\n",
      "0.725 (+/-0.016) for {'clf__C': 0.1, 'clf__gamma': 1, 'kbest__k': 10}\n",
      "0.726 (+/-0.015) for {'clf__C': 0.1, 'clf__gamma': 1, 'kbest__k': 11}\n",
      "0.728 (+/-0.010) for {'clf__C': 0.1, 'clf__gamma': 1, 'kbest__k': 12}\n",
      "0.729 (+/-0.012) for {'clf__C': 0.1, 'clf__gamma': 1, 'kbest__k': 13}\n",
      "0.728 (+/-0.011) for {'clf__C': 0.1, 'clf__gamma': 1, 'kbest__k': 14}\n",
      "0.728 (+/-0.011) for {'clf__C': 0.1, 'clf__gamma': 1, 'kbest__k': 15}\n",
      "0.729 (+/-0.012) for {'clf__C': 0.1, 'clf__gamma': 1, 'kbest__k': 16}\n",
      "0.729 (+/-0.012) for {'clf__C': 0.1, 'clf__gamma': 1, 'kbest__k': 17}\n",
      "0.728 (+/-0.013) for {'clf__C': 0.1, 'clf__gamma': 1, 'kbest__k': 18}\n",
      "0.742 (+/-0.026) for {'clf__C': 0.1, 'clf__gamma': 1, 'kbest__k': 19}\n",
      "0.750 (+/-0.015) for {'clf__C': 0.1, 'clf__gamma': 1, 'kbest__k': 20}\n",
      "0.691 (+/-0.019) for {'clf__C': 1, 'clf__gamma': 0.001, 'kbest__k': 1}\n",
      "0.697 (+/-0.007) for {'clf__C': 1, 'clf__gamma': 0.001, 'kbest__k': 2}\n",
      "0.699 (+/-0.004) for {'clf__C': 1, 'clf__gamma': 0.001, 'kbest__k': 3}\n",
      "0.702 (+/-0.010) for {'clf__C': 1, 'clf__gamma': 0.001, 'kbest__k': 4}\n",
      "0.703 (+/-0.011) for {'clf__C': 1, 'clf__gamma': 0.001, 'kbest__k': 5}\n",
      "0.713 (+/-0.009) for {'clf__C': 1, 'clf__gamma': 0.001, 'kbest__k': 6}\n",
      "0.722 (+/-0.010) for {'clf__C': 1, 'clf__gamma': 0.001, 'kbest__k': 7}\n",
      "0.720 (+/-0.013) for {'clf__C': 1, 'clf__gamma': 0.001, 'kbest__k': 8}\n",
      "0.721 (+/-0.014) for {'clf__C': 1, 'clf__gamma': 0.001, 'kbest__k': 9}\n",
      "0.725 (+/-0.016) for {'clf__C': 1, 'clf__gamma': 0.001, 'kbest__k': 10}\n",
      "0.725 (+/-0.015) for {'clf__C': 1, 'clf__gamma': 0.001, 'kbest__k': 11}\n",
      "0.727 (+/-0.012) for {'clf__C': 1, 'clf__gamma': 0.001, 'kbest__k': 12}\n",
      "0.728 (+/-0.016) for {'clf__C': 1, 'clf__gamma': 0.001, 'kbest__k': 13}\n",
      "0.730 (+/-0.014) for {'clf__C': 1, 'clf__gamma': 0.001, 'kbest__k': 14}\n",
      "0.730 (+/-0.018) for {'clf__C': 1, 'clf__gamma': 0.001, 'kbest__k': 15}\n",
      "0.729 (+/-0.014) for {'clf__C': 1, 'clf__gamma': 0.001, 'kbest__k': 16}\n",
      "0.729 (+/-0.014) for {'clf__C': 1, 'clf__gamma': 0.001, 'kbest__k': 17}\n",
      "0.728 (+/-0.016) for {'clf__C': 1, 'clf__gamma': 0.001, 'kbest__k': 18}\n",
      "0.743 (+/-0.026) for {'clf__C': 1, 'clf__gamma': 0.001, 'kbest__k': 19}\n",
      "0.749 (+/-0.012) for {'clf__C': 1, 'clf__gamma': 0.001, 'kbest__k': 20}\n",
      "0.691 (+/-0.019) for {'clf__C': 1, 'clf__gamma': 0.01, 'kbest__k': 1}\n",
      "0.697 (+/-0.007) for {'clf__C': 1, 'clf__gamma': 0.01, 'kbest__k': 2}\n",
      "0.699 (+/-0.004) for {'clf__C': 1, 'clf__gamma': 0.01, 'kbest__k': 3}\n",
      "0.702 (+/-0.010) for {'clf__C': 1, 'clf__gamma': 0.01, 'kbest__k': 4}\n",
      "0.703 (+/-0.011) for {'clf__C': 1, 'clf__gamma': 0.01, 'kbest__k': 5}\n",
      "0.713 (+/-0.009) for {'clf__C': 1, 'clf__gamma': 0.01, 'kbest__k': 6}\n",
      "0.722 (+/-0.010) for {'clf__C': 1, 'clf__gamma': 0.01, 'kbest__k': 7}\n",
      "0.720 (+/-0.013) for {'clf__C': 1, 'clf__gamma': 0.01, 'kbest__k': 8}\n",
      "0.721 (+/-0.014) for {'clf__C': 1, 'clf__gamma': 0.01, 'kbest__k': 9}\n",
      "0.725 (+/-0.016) for {'clf__C': 1, 'clf__gamma': 0.01, 'kbest__k': 10}\n",
      "0.725 (+/-0.015) for {'clf__C': 1, 'clf__gamma': 0.01, 'kbest__k': 11}\n",
      "0.727 (+/-0.012) for {'clf__C': 1, 'clf__gamma': 0.01, 'kbest__k': 12}\n",
      "0.728 (+/-0.016) for {'clf__C': 1, 'clf__gamma': 0.01, 'kbest__k': 13}\n",
      "0.730 (+/-0.014) for {'clf__C': 1, 'clf__gamma': 0.01, 'kbest__k': 14}\n",
      "0.730 (+/-0.018) for {'clf__C': 1, 'clf__gamma': 0.01, 'kbest__k': 15}\n",
      "0.729 (+/-0.014) for {'clf__C': 1, 'clf__gamma': 0.01, 'kbest__k': 16}\n",
      "0.729 (+/-0.014) for {'clf__C': 1, 'clf__gamma': 0.01, 'kbest__k': 17}\n",
      "0.728 (+/-0.016) for {'clf__C': 1, 'clf__gamma': 0.01, 'kbest__k': 18}\n",
      "0.743 (+/-0.026) for {'clf__C': 1, 'clf__gamma': 0.01, 'kbest__k': 19}\n",
      "0.749 (+/-0.012) for {'clf__C': 1, 'clf__gamma': 0.01, 'kbest__k': 20}\n",
      "0.691 (+/-0.019) for {'clf__C': 1, 'clf__gamma': 0.1, 'kbest__k': 1}\n",
      "0.697 (+/-0.007) for {'clf__C': 1, 'clf__gamma': 0.1, 'kbest__k': 2}\n",
      "0.699 (+/-0.004) for {'clf__C': 1, 'clf__gamma': 0.1, 'kbest__k': 3}\n",
      "0.702 (+/-0.010) for {'clf__C': 1, 'clf__gamma': 0.1, 'kbest__k': 4}\n",
      "0.703 (+/-0.011) for {'clf__C': 1, 'clf__gamma': 0.1, 'kbest__k': 5}\n",
      "0.713 (+/-0.009) for {'clf__C': 1, 'clf__gamma': 0.1, 'kbest__k': 6}\n",
      "0.722 (+/-0.010) for {'clf__C': 1, 'clf__gamma': 0.1, 'kbest__k': 7}\n",
      "0.720 (+/-0.013) for {'clf__C': 1, 'clf__gamma': 0.1, 'kbest__k': 8}\n",
      "0.721 (+/-0.014) for {'clf__C': 1, 'clf__gamma': 0.1, 'kbest__k': 9}\n",
      "0.725 (+/-0.016) for {'clf__C': 1, 'clf__gamma': 0.1, 'kbest__k': 10}\n",
      "0.725 (+/-0.015) for {'clf__C': 1, 'clf__gamma': 0.1, 'kbest__k': 11}\n",
      "0.727 (+/-0.012) for {'clf__C': 1, 'clf__gamma': 0.1, 'kbest__k': 12}\n",
      "0.728 (+/-0.016) for {'clf__C': 1, 'clf__gamma': 0.1, 'kbest__k': 13}\n",
      "0.730 (+/-0.014) for {'clf__C': 1, 'clf__gamma': 0.1, 'kbest__k': 14}\n",
      "0.730 (+/-0.018) for {'clf__C': 1, 'clf__gamma': 0.1, 'kbest__k': 15}\n",
      "0.729 (+/-0.014) for {'clf__C': 1, 'clf__gamma': 0.1, 'kbest__k': 16}\n",
      "0.729 (+/-0.014) for {'clf__C': 1, 'clf__gamma': 0.1, 'kbest__k': 17}\n",
      "0.728 (+/-0.016) for {'clf__C': 1, 'clf__gamma': 0.1, 'kbest__k': 18}\n",
      "0.743 (+/-0.026) for {'clf__C': 1, 'clf__gamma': 0.1, 'kbest__k': 19}\n",
      "0.749 (+/-0.012) for {'clf__C': 1, 'clf__gamma': 0.1, 'kbest__k': 20}\n",
      "0.691 (+/-0.019) for {'clf__C': 1, 'clf__gamma': 1, 'kbest__k': 1}\n",
      "0.697 (+/-0.007) for {'clf__C': 1, 'clf__gamma': 1, 'kbest__k': 2}\n",
      "0.699 (+/-0.004) for {'clf__C': 1, 'clf__gamma': 1, 'kbest__k': 3}\n",
      "0.702 (+/-0.010) for {'clf__C': 1, 'clf__gamma': 1, 'kbest__k': 4}\n",
      "0.703 (+/-0.011) for {'clf__C': 1, 'clf__gamma': 1, 'kbest__k': 5}\n",
      "0.713 (+/-0.009) for {'clf__C': 1, 'clf__gamma': 1, 'kbest__k': 6}\n",
      "0.722 (+/-0.010) for {'clf__C': 1, 'clf__gamma': 1, 'kbest__k': 7}\n",
      "0.720 (+/-0.013) for {'clf__C': 1, 'clf__gamma': 1, 'kbest__k': 8}\n",
      "0.721 (+/-0.014) for {'clf__C': 1, 'clf__gamma': 1, 'kbest__k': 9}\n",
      "0.725 (+/-0.016) for {'clf__C': 1, 'clf__gamma': 1, 'kbest__k': 10}\n",
      "0.725 (+/-0.015) for {'clf__C': 1, 'clf__gamma': 1, 'kbest__k': 11}\n",
      "0.727 (+/-0.012) for {'clf__C': 1, 'clf__gamma': 1, 'kbest__k': 12}\n",
      "0.728 (+/-0.016) for {'clf__C': 1, 'clf__gamma': 1, 'kbest__k': 13}\n",
      "0.730 (+/-0.014) for {'clf__C': 1, 'clf__gamma': 1, 'kbest__k': 14}\n",
      "0.730 (+/-0.018) for {'clf__C': 1, 'clf__gamma': 1, 'kbest__k': 15}\n",
      "0.729 (+/-0.014) for {'clf__C': 1, 'clf__gamma': 1, 'kbest__k': 16}\n",
      "0.729 (+/-0.014) for {'clf__C': 1, 'clf__gamma': 1, 'kbest__k': 17}\n",
      "0.728 (+/-0.016) for {'clf__C': 1, 'clf__gamma': 1, 'kbest__k': 18}\n",
      "0.743 (+/-0.026) for {'clf__C': 1, 'clf__gamma': 1, 'kbest__k': 19}\n",
      "0.749 (+/-0.012) for {'clf__C': 1, 'clf__gamma': 1, 'kbest__k': 20}\n",
      "0.691 (+/-0.019) for {'clf__C': 10, 'clf__gamma': 0.001, 'kbest__k': 1}\n",
      "0.696 (+/-0.005) for {'clf__C': 10, 'clf__gamma': 0.001, 'kbest__k': 2}\n",
      "0.700 (+/-0.005) for {'clf__C': 10, 'clf__gamma': 0.001, 'kbest__k': 3}\n",
      "0.702 (+/-0.010) for {'clf__C': 10, 'clf__gamma': 0.001, 'kbest__k': 4}\n",
      "0.703 (+/-0.011) for {'clf__C': 10, 'clf__gamma': 0.001, 'kbest__k': 5}\n",
      "0.713 (+/-0.010) for {'clf__C': 10, 'clf__gamma': 0.001, 'kbest__k': 6}\n",
      "0.723 (+/-0.011) for {'clf__C': 10, 'clf__gamma': 0.001, 'kbest__k': 7}\n",
      "0.719 (+/-0.014) for {'clf__C': 10, 'clf__gamma': 0.001, 'kbest__k': 8}\n",
      "0.719 (+/-0.014) for {'clf__C': 10, 'clf__gamma': 0.001, 'kbest__k': 9}\n",
      "0.725 (+/-0.017) for {'clf__C': 10, 'clf__gamma': 0.001, 'kbest__k': 10}\n",
      "0.725 (+/-0.016) for {'clf__C': 10, 'clf__gamma': 0.001, 'kbest__k': 11}\n",
      "0.727 (+/-0.011) for {'clf__C': 10, 'clf__gamma': 0.001, 'kbest__k': 12}\n",
      "0.728 (+/-0.015) for {'clf__C': 10, 'clf__gamma': 0.001, 'kbest__k': 13}\n",
      "0.729 (+/-0.017) for {'clf__C': 10, 'clf__gamma': 0.001, 'kbest__k': 14}\n",
      "0.728 (+/-0.016) for {'clf__C': 10, 'clf__gamma': 0.001, 'kbest__k': 15}\n",
      "0.729 (+/-0.016) for {'clf__C': 10, 'clf__gamma': 0.001, 'kbest__k': 16}\n",
      "0.729 (+/-0.015) for {'clf__C': 10, 'clf__gamma': 0.001, 'kbest__k': 17}\n",
      "0.728 (+/-0.015) for {'clf__C': 10, 'clf__gamma': 0.001, 'kbest__k': 18}\n"
     ]
    },
    {
     "name": "stdout",
     "output_type": "stream",
     "text": [
      "0.743 (+/-0.027) for {'clf__C': 10, 'clf__gamma': 0.001, 'kbest__k': 19}\n",
      "0.750 (+/-0.011) for {'clf__C': 10, 'clf__gamma': 0.001, 'kbest__k': 20}\n",
      "0.691 (+/-0.019) for {'clf__C': 10, 'clf__gamma': 0.01, 'kbest__k': 1}\n",
      "0.696 (+/-0.005) for {'clf__C': 10, 'clf__gamma': 0.01, 'kbest__k': 2}\n",
      "0.700 (+/-0.005) for {'clf__C': 10, 'clf__gamma': 0.01, 'kbest__k': 3}\n",
      "0.702 (+/-0.010) for {'clf__C': 10, 'clf__gamma': 0.01, 'kbest__k': 4}\n",
      "0.703 (+/-0.011) for {'clf__C': 10, 'clf__gamma': 0.01, 'kbest__k': 5}\n",
      "0.713 (+/-0.010) for {'clf__C': 10, 'clf__gamma': 0.01, 'kbest__k': 6}\n",
      "0.723 (+/-0.011) for {'clf__C': 10, 'clf__gamma': 0.01, 'kbest__k': 7}\n",
      "0.719 (+/-0.014) for {'clf__C': 10, 'clf__gamma': 0.01, 'kbest__k': 8}\n",
      "0.719 (+/-0.014) for {'clf__C': 10, 'clf__gamma': 0.01, 'kbest__k': 9}\n",
      "0.725 (+/-0.017) for {'clf__C': 10, 'clf__gamma': 0.01, 'kbest__k': 10}\n",
      "0.725 (+/-0.016) for {'clf__C': 10, 'clf__gamma': 0.01, 'kbest__k': 11}\n",
      "0.727 (+/-0.011) for {'clf__C': 10, 'clf__gamma': 0.01, 'kbest__k': 12}\n",
      "0.728 (+/-0.015) for {'clf__C': 10, 'clf__gamma': 0.01, 'kbest__k': 13}\n",
      "0.729 (+/-0.017) for {'clf__C': 10, 'clf__gamma': 0.01, 'kbest__k': 14}\n",
      "0.728 (+/-0.016) for {'clf__C': 10, 'clf__gamma': 0.01, 'kbest__k': 15}\n",
      "0.729 (+/-0.016) for {'clf__C': 10, 'clf__gamma': 0.01, 'kbest__k': 16}\n",
      "0.729 (+/-0.015) for {'clf__C': 10, 'clf__gamma': 0.01, 'kbest__k': 17}\n",
      "0.728 (+/-0.015) for {'clf__C': 10, 'clf__gamma': 0.01, 'kbest__k': 18}\n",
      "0.743 (+/-0.027) for {'clf__C': 10, 'clf__gamma': 0.01, 'kbest__k': 19}\n",
      "0.750 (+/-0.011) for {'clf__C': 10, 'clf__gamma': 0.01, 'kbest__k': 20}\n",
      "0.691 (+/-0.019) for {'clf__C': 10, 'clf__gamma': 0.1, 'kbest__k': 1}\n",
      "0.696 (+/-0.005) for {'clf__C': 10, 'clf__gamma': 0.1, 'kbest__k': 2}\n",
      "0.700 (+/-0.005) for {'clf__C': 10, 'clf__gamma': 0.1, 'kbest__k': 3}\n",
      "0.702 (+/-0.010) for {'clf__C': 10, 'clf__gamma': 0.1, 'kbest__k': 4}\n",
      "0.703 (+/-0.011) for {'clf__C': 10, 'clf__gamma': 0.1, 'kbest__k': 5}\n",
      "0.713 (+/-0.010) for {'clf__C': 10, 'clf__gamma': 0.1, 'kbest__k': 6}\n",
      "0.723 (+/-0.011) for {'clf__C': 10, 'clf__gamma': 0.1, 'kbest__k': 7}\n",
      "0.719 (+/-0.014) for {'clf__C': 10, 'clf__gamma': 0.1, 'kbest__k': 8}\n",
      "0.719 (+/-0.014) for {'clf__C': 10, 'clf__gamma': 0.1, 'kbest__k': 9}\n",
      "0.725 (+/-0.017) for {'clf__C': 10, 'clf__gamma': 0.1, 'kbest__k': 10}\n",
      "0.725 (+/-0.016) for {'clf__C': 10, 'clf__gamma': 0.1, 'kbest__k': 11}\n",
      "0.727 (+/-0.011) for {'clf__C': 10, 'clf__gamma': 0.1, 'kbest__k': 12}\n",
      "0.728 (+/-0.015) for {'clf__C': 10, 'clf__gamma': 0.1, 'kbest__k': 13}\n",
      "0.729 (+/-0.017) for {'clf__C': 10, 'clf__gamma': 0.1, 'kbest__k': 14}\n",
      "0.728 (+/-0.016) for {'clf__C': 10, 'clf__gamma': 0.1, 'kbest__k': 15}\n",
      "0.729 (+/-0.016) for {'clf__C': 10, 'clf__gamma': 0.1, 'kbest__k': 16}\n",
      "0.729 (+/-0.015) for {'clf__C': 10, 'clf__gamma': 0.1, 'kbest__k': 17}\n",
      "0.728 (+/-0.015) for {'clf__C': 10, 'clf__gamma': 0.1, 'kbest__k': 18}\n",
      "0.743 (+/-0.027) for {'clf__C': 10, 'clf__gamma': 0.1, 'kbest__k': 19}\n",
      "0.750 (+/-0.011) for {'clf__C': 10, 'clf__gamma': 0.1, 'kbest__k': 20}\n",
      "0.691 (+/-0.019) for {'clf__C': 10, 'clf__gamma': 1, 'kbest__k': 1}\n",
      "0.696 (+/-0.005) for {'clf__C': 10, 'clf__gamma': 1, 'kbest__k': 2}\n",
      "0.700 (+/-0.005) for {'clf__C': 10, 'clf__gamma': 1, 'kbest__k': 3}\n",
      "0.702 (+/-0.010) for {'clf__C': 10, 'clf__gamma': 1, 'kbest__k': 4}\n",
      "0.703 (+/-0.011) for {'clf__C': 10, 'clf__gamma': 1, 'kbest__k': 5}\n",
      "0.713 (+/-0.010) for {'clf__C': 10, 'clf__gamma': 1, 'kbest__k': 6}\n",
      "0.723 (+/-0.011) for {'clf__C': 10, 'clf__gamma': 1, 'kbest__k': 7}\n",
      "0.719 (+/-0.014) for {'clf__C': 10, 'clf__gamma': 1, 'kbest__k': 8}\n",
      "0.719 (+/-0.014) for {'clf__C': 10, 'clf__gamma': 1, 'kbest__k': 9}\n",
      "0.725 (+/-0.017) for {'clf__C': 10, 'clf__gamma': 1, 'kbest__k': 10}\n",
      "0.725 (+/-0.016) for {'clf__C': 10, 'clf__gamma': 1, 'kbest__k': 11}\n",
      "0.727 (+/-0.011) for {'clf__C': 10, 'clf__gamma': 1, 'kbest__k': 12}\n",
      "0.728 (+/-0.015) for {'clf__C': 10, 'clf__gamma': 1, 'kbest__k': 13}\n",
      "0.729 (+/-0.017) for {'clf__C': 10, 'clf__gamma': 1, 'kbest__k': 14}\n",
      "0.728 (+/-0.016) for {'clf__C': 10, 'clf__gamma': 1, 'kbest__k': 15}\n",
      "0.729 (+/-0.016) for {'clf__C': 10, 'clf__gamma': 1, 'kbest__k': 16}\n",
      "0.729 (+/-0.015) for {'clf__C': 10, 'clf__gamma': 1, 'kbest__k': 17}\n",
      "0.728 (+/-0.015) for {'clf__C': 10, 'clf__gamma': 1, 'kbest__k': 18}\n",
      "0.743 (+/-0.027) for {'clf__C': 10, 'clf__gamma': 1, 'kbest__k': 19}\n",
      "0.750 (+/-0.011) for {'clf__C': 10, 'clf__gamma': 1, 'kbest__k': 20}\n",
      "\n",
      "Detailed classification report:\n",
      "\n",
      "The model is trained on the full development set.\n",
      "The scores are computed on the full evaluation set.\n",
      "\n",
      "             precision    recall  f1-score   support\n",
      "\n",
      "          0       0.77      0.66      0.71       867\n",
      "          1       0.74      0.83      0.78      1004\n",
      "\n",
      "avg / total       0.75      0.75      0.75      1871\n",
      "\n",
      "\n"
     ]
    }
   ],
   "source": [
    "print(\"Best parameters set found on development set:\")\n",
    "print()\n",
    "print(grid_search.best_params_)\n",
    "print()\n",
    "print(\"Grid scores on development set:\")\n",
    "print()\n",
    "means = grid_search.cv_results_['mean_test_score']\n",
    "stds = grid_search.cv_results_['std_test_score']\n",
    "for mean, std, params in zip(means, stds, grid_search.cv_results_['params']):\n",
    "    print(\"%0.3f (+/-%0.03f) for %r\"% (mean, std * 2, params))\n",
    "print()\n",
    "\n",
    "print(\"Detailed classification report:\")\n",
    "print()\n",
    "print(\"The model is trained on the full development set.\")\n",
    "print(\"The scores are computed on the full evaluation set.\")\n",
    "print()\n",
    "y_true, y_pred = y_test, grid_search.predict(X_test)\n",
    "print(classification_report(y_true, y_pred))\n",
    "print()"
   ]
  },
  {
   "cell_type": "markdown",
   "metadata": {},
   "source": [
    "## Testing the parameter selection for the Logistic Regression model with the test set"
   ]
  },
  {
   "cell_type": "code",
   "execution_count": 70,
   "metadata": {},
   "outputs": [
    {
     "data": {
      "text/plain": [
       "Pipeline(memory=None,\n",
       "     steps=[('kbest', SelectKBest(k=20, score_func=<function f_classif at 0x0000016AA1A898C8>)), ('stdScaler', StandardScaler(copy=True, with_mean=True, with_std=True)), ('clf', SVC(C=10, cache_size=200, class_weight=None, coef0=0.0,\n",
       "  decision_function_shape='ovr', degree=3, gamma=0.001, kernel='linear',\n",
       "  max_iter=-1, probability=False, random_state=None, shrinking=True,\n",
       "  tol=0.001, verbose=False))])"
      ]
     },
     "execution_count": 70,
     "metadata": {},
     "output_type": "execute_result"
    }
   ],
   "source": [
    "# there is no particular reason in the choice of algorithms, just curiosity of performance\n",
    "kbest = SelectKBest(f_classif, k=20)\n",
    "stdScaler = StandardScaler()\n",
    "pipeline = Pipeline([('kbest', kbest), ('stdScaler', stdScaler), ('clf', svm.SVC(kernel='linear', C = 10, gamma = 0.001))])\n",
    "pipeline.fit(X_train, y_train)"
   ]
  },
  {
   "cell_type": "code",
   "execution_count": 71,
   "metadata": {
    "collapsed": true
   },
   "outputs": [],
   "source": [
    "logreg_prediction = pipeline.predict(X_test)"
   ]
  },
  {
   "cell_type": "code",
   "execution_count": 72,
   "metadata": {},
   "outputs": [
    {
     "name": "stdout",
     "output_type": "stream",
     "text": [
      "Logistic regression accuracy 0.7525387493319081\n",
      "Logistic regression confusion matrix\n",
      " [[574 293]\n",
      " [170 834]]\n",
      "(row=expected, col=predicted)\n"
     ]
    }
   ],
   "source": [
    "print('Logistic regression accuracy', accuracy_score(y_test, logreg_prediction))\n",
    "print ('Logistic regression confusion matrix\\n', confusion_matrix(y_test, logreg_prediction))\n",
    "print ('(row=expected, col=predicted)')"
   ]
  },
  {
   "cell_type": "code",
   "execution_count": 73,
   "metadata": {},
   "outputs": [
    {
     "data": {
      "text/html": [
       "<div>\n",
       "<style>\n",
       "    .dataframe thead tr:only-child th {\n",
       "        text-align: right;\n",
       "    }\n",
       "\n",
       "    .dataframe thead th {\n",
       "        text-align: left;\n",
       "    }\n",
       "\n",
       "    .dataframe tbody tr th {\n",
       "        vertical-align: top;\n",
       "    }\n",
       "</style>\n",
       "<table border=\"1\" class=\"dataframe\">\n",
       "  <thead>\n",
       "    <tr style=\"text-align: right;\">\n",
       "      <th></th>\n",
       "      <th>Predicted 0</th>\n",
       "      <th>Predicted 1</th>\n",
       "    </tr>\n",
       "  </thead>\n",
       "  <tbody>\n",
       "    <tr>\n",
       "      <th>Actual 0</th>\n",
       "      <td>574</td>\n",
       "      <td>293</td>\n",
       "    </tr>\n",
       "    <tr>\n",
       "      <th>Actual 1</th>\n",
       "      <td>170</td>\n",
       "      <td>834</td>\n",
       "    </tr>\n",
       "  </tbody>\n",
       "</table>\n",
       "</div>"
      ],
      "text/plain": [
       "          Predicted 0  Predicted 1\n",
       "Actual 0          574          293\n",
       "Actual 1          170          834"
      ]
     },
     "execution_count": 73,
     "metadata": {},
     "output_type": "execute_result"
    }
   ],
   "source": [
    "list1 = [\"Actual 0\", \"Actual 1\"]\n",
    "list2 = [\"Predicted 0\", \"Predicted 1\"]\n",
    "pd.DataFrame(confusion_matrix(y_test, logreg_prediction), list1,list2)"
   ]
  },
  {
   "cell_type": "code",
   "execution_count": 74,
   "metadata": {},
   "outputs": [
    {
     "name": "stdout",
     "output_type": "stream",
     "text": [
      "             precision    recall  f1-score   support\n",
      "\n",
      "          0       0.77      0.66      0.71       867\n",
      "          1       0.74      0.83      0.78      1004\n",
      "\n",
      "avg / total       0.75      0.75      0.75      1871\n",
      "\n"
     ]
    }
   ],
   "source": [
    "print(classification_report(y_test, logreg_prediction))"
   ]
  },
  {
   "cell_type": "markdown",
   "metadata": {},
   "source": [
    "# Testing the model with beer reviews"
   ]
  },
  {
   "cell_type": "code",
   "execution_count": 96,
   "metadata": {
    "collapsed": true
   },
   "outputs": [],
   "source": [
    "beer = pd.read_json('data/raw/beers.json')\n",
    "beer = beer.copy()"
   ]
  },
  {
   "cell_type": "code",
   "execution_count": 97,
   "metadata": {
    "collapsed": true
   },
   "outputs": [],
   "source": [
    "processed_reviews = []\n",
    "reviews = beer['description']\n",
    "for review in reviews:\n",
    "    processed_reviews.append(remove_stopwords(normalize(review)))"
   ]
  },
  {
   "cell_type": "code",
   "execution_count": 98,
   "metadata": {
    "collapsed": true
   },
   "outputs": [],
   "source": [
    "tfidf_vectorizer = TfidfVectorizer(stop_words='english', min_df=5, max_df = 0.95, ngram_range=(1,2))\n",
    "tfidf_matrix = tfidf_vectorizer.fit_transform(processed_reviews)"
   ]
  },
  {
   "cell_type": "code",
   "execution_count": 99,
   "metadata": {
    "collapsed": true
   },
   "outputs": [],
   "source": [
    "# features holds a list of all the words in the tfidf's vocabulary in the same order as the column in the matrix\n",
    "features = tfidf_vectorizer.get_feature_names()"
   ]
  },
  {
   "cell_type": "code",
   "execution_count": 100,
   "metadata": {
    "collapsed": true
   },
   "outputs": [],
   "source": [
    "weights = np.asarray(tfidf_matrix.mean(axis=0)).ravel().tolist()\n",
    "weights_df = pd.DataFrame({'term':features, 'weights':weights})\n",
    "weights_df = weights_df.sort_values(by='weights', ascending=False)"
   ]
  },
  {
   "cell_type": "code",
   "execution_count": 101,
   "metadata": {
    "collapsed": true
   },
   "outputs": [],
   "source": [
    "important_terms = weights_df['term'][:20].tolist()"
   ]
  },
  {
   "cell_type": "code",
   "execution_count": 102,
   "metadata": {
    "collapsed": true
   },
   "outputs": [],
   "source": [
    "def count_of_important_words(review):\n",
    "    count = 0\n",
    "    for word in normalize(review).split():\n",
    "        if word in important_terms:\n",
    "            count+=1\n",
    "    return count"
   ]
  },
  {
   "cell_type": "code",
   "execution_count": 103,
   "metadata": {
    "collapsed": true
   },
   "outputs": [],
   "source": [
    "beer['count_of_important_words'] = beer['description'].map(count_of_important_words)"
   ]
  },
  {
   "cell_type": "code",
   "execution_count": 104,
   "metadata": {
    "collapsed": true
   },
   "outputs": [],
   "source": [
    "beer['count_of_adverbs'] = beer['description'].map(adv_getter)"
   ]
  },
  {
   "cell_type": "code",
   "execution_count": 105,
   "metadata": {
    "collapsed": true
   },
   "outputs": [],
   "source": [
    "beer['count_of_important_words'] = beer['description'].map(count_of_important_words)"
   ]
  },
  {
   "cell_type": "code",
   "execution_count": 106,
   "metadata": {
    "collapsed": true
   },
   "outputs": [],
   "source": [
    "beer['description_length'] = beer['description'].apply(lambda text: len(str(text).split()))\n",
    "\n",
    "beer['count_of_characters'] = beer['description'].apply(lambda text: len(text))\n",
    "\n",
    "beer['average_length_of_words'] = beer['count_of_characters'] / beer['description_length']\n",
    "\n",
    "beer['number_of_punctuation'] = beer['description'].map(punctuation_counter)\n",
    "\n",
    "beer['number_of_nouns'] = beer['description'].map(noun_getter)\n",
    "\n",
    "beer['number_of_noun_phrases'] = beer['description'].map(noun_chunks_getter)\n",
    "\n",
    "beer['number_of_verbs'] = beer['description'].map(verb_getter)\n",
    "\n",
    "beer['number_of_adj'] = beer['description'].map(adj_getter)\n",
    "\n",
    "beer['count_of_sentences'] = beer['description'].map(count_sentences)\n",
    "\n",
    "max_length_list = []\n",
    "min_length_list = []\n",
    "nouns_list = []\n",
    "verb_list = []\n",
    "adj_list = []\n",
    "\n",
    "for review in beer['description']:\n",
    "    d = find_sentence_length_with_pos_tags(review)\n",
    "    max_length = ((max(k for k, v in d.items())))\n",
    "    min_length_list.append((min(k for k, v in d.items())))\n",
    "    noun_count, verb_count, adj_count = d[max_length]\n",
    "    \n",
    "    max_length_list.append(max_length)\n",
    "    nouns_list.append(noun_count)\n",
    "    verb_list.append(verb_count)\n",
    "    adj_list.append(adj_count)\n",
    "\n",
    "beer['number_of_characters_in_largest_sentence'] = max_length_list\n",
    "beer['number_of_characters_in_smallest_sentence'] = min_length_list\n",
    "beer['number_of_nouns_in_largest_sentence'] = nouns_list\n",
    "beer['number_of_verbs_in_largest_sentence'] = verb_list\n",
    "beer['number_of_adjectives_in_largest_sentence'] = adj_list\n",
    "\n",
    "stop_words = set(stopwords.words('english'))\n",
    "beer['count_of_stopwords'] = beer['description'].apply(lambda x: len([w for w in str(x).lower().split() if w in stop_words]) )\n",
    "\n",
    "beer['count_of_upper_case_words'] = beer['description'].apply(lambda x: len([w for w in str(x).replace('I','i').replace('A','a').split() if w.isupper() == True]) )\n",
    "\n",
    "beer['count_title_case_words'] = beer['description'].apply(lambda x: len([w for w in str(x).replace('I','i').replace('A','a').split() if w.istitle() == True]) )"
   ]
  },
  {
   "cell_type": "code",
   "execution_count": 107,
   "metadata": {
    "collapsed": true
   },
   "outputs": [],
   "source": [
    "beer['lexical_density'] = beer.apply(lambda x: lexical_density(x['number_of_nouns'], x['number_of_verbs'], x['number_of_adj'], x['count_of_adverbs'], x['description_length']), axis = 1)"
   ]
  },
  {
   "cell_type": "code",
   "execution_count": 108,
   "metadata": {},
   "outputs": [],
   "source": [
    "beer['automated_readability_index'] = beer.apply(lambda x: automated_readability_index(x['count_of_characters'], x['description_length'], x['count_of_sentences']), axis = 1)"
   ]
  },
  {
   "cell_type": "code",
   "execution_count": 109,
   "metadata": {},
   "outputs": [],
   "source": [
    "beer.drop(['description', 'count_of_upper_case_words'], axis = 1, inplace = True)"
   ]
  },
  {
   "cell_type": "code",
   "execution_count": 110,
   "metadata": {
    "collapsed": true
   },
   "outputs": [],
   "source": [
    "beer.drop(['country', 'designation', 'points', 'price', 'province', 'region_1', 'region_2', 'taster_twitter_handle', 'title', 'variety', 'winery'], axis = 1, inplace=True)"
   ]
  },
  {
   "cell_type": "code",
   "execution_count": 111,
   "metadata": {
    "collapsed": true
   },
   "outputs": [],
   "source": [
    "beer.drop('taster_name', axis =1, inplace=True)"
   ]
  },
  {
   "cell_type": "code",
   "execution_count": 112,
   "metadata": {},
   "outputs": [],
   "source": [
    "predictions = pipeline.predict(beer)"
   ]
  },
  {
   "cell_type": "code",
   "execution_count": 113,
   "metadata": {
    "collapsed": true
   },
   "outputs": [],
   "source": [
    "y = np.bincount(predictions)\n",
    "ii = np.nonzero(y)[0]"
   ]
  },
  {
   "cell_type": "code",
   "execution_count": 114,
   "metadata": {},
   "outputs": [
    {
     "data": {
      "text/plain": [
       "[(1, 866)]"
      ]
     },
     "execution_count": 114,
     "metadata": {},
     "output_type": "execute_result"
    }
   ],
   "source": [
    "list(zip(ii,y[ii]))"
   ]
  }
 ],
 "metadata": {
  "kernelspec": {
   "display_name": "Python 3",
   "language": "python",
   "name": "python3"
  },
  "language_info": {
   "codemirror_mode": {
    "name": "ipython",
    "version": 3
   },
   "file_extension": ".py",
   "mimetype": "text/x-python",
   "name": "python",
   "nbconvert_exporter": "python",
   "pygments_lexer": "ipython3",
   "version": "3.6.3"
  }
 },
 "nbformat": 4,
 "nbformat_minor": 2
}
